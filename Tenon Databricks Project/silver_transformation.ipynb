{
 "cells": [
  {
   "cell_type": "code",
   "execution_count": 0,
   "metadata": {
    "application/vnd.databricks.v1+cell": {
     "cellMetadata": {
      "byteLimit": 2048000,
      "rowLimit": 10000
     },
     "inputWidgets": {},
     "nuid": "67bd3a9e-671f-4d19-8edd-56f4e401299a",
     "showTitle": false,
     "tableResultSettingsMap": {},
     "title": ""
    }
   },
   "outputs": [],
   "source": [
    "%run \"/Workspace/Shared/tenon/connectors\""
   ]
  },
  {
   "cell_type": "code",
   "execution_count": 0,
   "metadata": {
    "application/vnd.databricks.v1+cell": {
     "cellMetadata": {
      "byteLimit": 2048000,
      "rowLimit": 10000
     },
     "inputWidgets": {},
     "nuid": "032dd034-d0cf-463c-9369-dbd5f0de3743",
     "showTitle": false,
     "tableResultSettingsMap": {},
     "title": ""
    }
   },
   "outputs": [],
   "source": [
    "%run \"/Workspace/Shared/tenon/datacleaning\" "
   ]
  },
  {
   "cell_type": "code",
   "execution_count": 0,
   "metadata": {
    "application/vnd.databricks.v1+cell": {
     "cellMetadata": {
      "byteLimit": 2048000,
      "rowLimit": 10000
     },
     "inputWidgets": {},
     "nuid": "6a803e2b-7ef9-494d-aafc-bb4fc11da07e",
     "showTitle": false,
     "tableResultSettingsMap": {},
     "title": ""
    }
   },
   "outputs": [],
   "source": [
    "adlsconnector\n",
    "pati_df  = readsilverdata('Patient_S.csv')\n",
    "hospi_df = readsilverdata('Hospital_S.csv')\n",
    "claims_df = readsilverdata('Claims_S.csv')\n",
    "subscrib_df = readsilverdata('Subscriber_S.csv')\n",
    "subgroup_df = readsilverdata('SubGroup_S.csv')\n",
    "groups_df = readsilverdata('Group_S.csv')\n",
    "dises_df = readsilverdata('Disease_S.csv')\n",
    "hospi_df = hospi_df.withColumnRenamed('city','hospital_city') #renaming the city column to match the hospital_city column\n",
    "pati_df = pati_df.withColumnRenamed('city','patient_city') #renaming the city column to match the patient_city column\n",
    "pati_hospi_df = pati_df.join(hospi_df, pati_df.hospital_id == hospi_df.Hospital_id, 'inner') #joining the two dataframes\n",
    "pati_hospi_df = pati_hospi_df.withColumnRenamed('disease_name','disease_name_new')#renaming disese columns\n",
    "pati_hospi_df = pati_hospi_df.drop('Hospital_id') #reomoving the hospital_id column\n",
    "claims_df = claims_df.drop('patient_id') #removing extra patient_id column\n",
    "pati_hospi_claim_df= pati_hospi_df.join(claims_df, pati_hospi_df.Patient_id == claims_df.patinet_id, 'inner') #joining the claims data with the patient-hospital data \n",
    "pati_hospi_claim_subscriber_df= pati_hospi_claim_df.join(subscrib_df, pati_hospi_claim_df['sub_id'] == subscrib_df['sub_id'], 'inner') #join the subscriber data with the claims-patient-hospital data\n",
    "pati_hospi_claim_subscriber_df = pati_hospi_claim_subscriber_df.drop('patient_id','sub_id', 'first_name', 'last_name',  'Gender', 'Country', 'City', ) #dropping duplicate columns\n",
    "subgroup_df = subgroup_df.withColumnRenamed('subgrp_id','grp_id')#renaming the column subgrp_id to grp_id\n",
    "pati_hospi_claim_subscriber_subgrp_df= pati_hospi_claim_subscriber_df.join(subgroup_df, pati_hospi_claim_subscriber_df['Subgrp_id'] == subgroup_df['subgrp_sk'], 'inner') # join the subgroup data with the claims-patient-hospital-subscriber data\n",
    "pati_hospi_claim_subscriber_subgrp_df = pati_hospi_claim_subscriber_subgrp_df.drop('disease_name') #dropping disesname\n",
    "pati_hospi_claim_subscriber_subgrp_disese_df = pati_hospi_claim_subscriber_subgrp_df.join(dises_df, pati_hospi_claim_subscriber_subgrp_df['subgrp_sk'] == dises_df['subgrp_id'], 'inner')  #join the disease data with the claims-patient-hospital-subscriber-subgroup data\n",
    "pati_hospi_claim_subscriber_subgrp_disese_df = pati_hospi_claim_subscriber_subgrp_disese_df.drop('subgrp_id')\n",
    "pati_hospi_claim_subscriber_subgrp_disese_group_df = pati_hospi_claim_subscriber_subgrp_disese_df.join(groups_df, pati_hospi_claim_subscriber_subgrp_disese_df['grp_id'] == groups_df['grp_id'], 'inner') #join the group data with the claims-patient-hospital-subscriber-subgroup-disease data\n",
    "pati_hospi_claim_subscriber_subgrp_disese_group_df = pati_hospi_claim_subscriber_subgrp_disese_group_df.drop('grp_id','city','country','Zip Code','Street','age') #reomving the duplicate columns\n"
   ]
  },
  {
   "cell_type": "code",
   "execution_count": 0,
   "metadata": {
    "application/vnd.databricks.v1+cell": {
     "cellMetadata": {
      "byteLimit": 2048000,
      "rowLimit": 10000
     },
     "inputWidgets": {},
     "nuid": "de98e5f4-2898-47c8-8529-d37857c0b764",
     "showTitle": false,
     "tableResultSettingsMap": {},
     "title": ""
    }
   },
   "outputs": [
    {
     "output_type": "stream",
     "name": "stdout",
     "output_type": "stream",
     "text": [
      "CSV file wrtitten to abfss://tenon@tenonadls.dfs.core.windows.net/gold//tenon_final_data.csv\n"
     ]
    },
    {
     "output_type": "execute_result",
     "data": {
      "text/plain": [
       "'abfss://tenon@tenonadls.dfs.core.windows.net/gold//tenon_final_data.csv'"
      ]
     },
     "execution_count": 80,
     "metadata": {},
     "output_type": "execute_result"
    }
   ],
   "source": [
    "write2gold(pati_hospi_claim_subscriber_subgrp_disese_group_df, 'tenon_final_data.csv')  #writing to final gold layer"
   ]
  },
  {
   "cell_type": "code",
   "execution_count": 0,
   "metadata": {
    "application/vnd.databricks.v1+cell": {
     "cellMetadata": {},
     "inputWidgets": {},
     "nuid": "ed68ace0-563c-481d-bd5a-b5116a017022",
     "showTitle": false,
     "tableResultSettingsMap": {},
     "title": ""
    }
   },
   "outputs": [],
   "source": [
    "pati_hospi_claim_subscriber_subgrp_disese_group_df.write.format(\"delta\").option(\"mergeSchema\", \"true\").saveAsTable(\"tenon_final_data1\")"
   ]
  }
 ],
 "metadata": {
  "application/vnd.databricks.v1+notebook": {
   "computePreferences": null,
   "dashboards": [],
   "environmentMetadata": {
    "base_environment": "",
    "environment_version": "2"
   },
   "inputWidgetPreferences": null,
   "language": "python",
   "notebookMetadata": {
    "pythonIndentUnit": 4
   },
   "notebookName": "silver_transformation",
   "widgets": {}
  },
  "language_info": {
   "name": "python"
  }
 },
 "nbformat": 4,
 "nbformat_minor": 0
}