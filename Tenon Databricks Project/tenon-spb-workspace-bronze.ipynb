{
 "cells": [
  {
   "cell_type": "code",
   "execution_count": 0,
   "metadata": {
    "application/vnd.databricks.v1+cell": {
     "cellMetadata": {
      "byteLimit": 2048000,
      "rowLimit": 10000
     },
     "inputWidgets": {},
     "nuid": "0828766e-3c4d-43e9-97bb-1d2db96d60a6",
     "showTitle": false,
     "tableResultSettingsMap": {},
     "title": ""
    }
   },
   "outputs": [
    {
     "output_type": "display_data",
     "data": {
      "text/html": [
       "<div class = \"ansiout\">\n",
       "This module provides various utilities for users to interact with the rest of Databricks.\n",
       "  <h3></h3><b>credentials: DatabricksCredentialUtils</b> -> Utilities for interacting with credentials within notebooks<br /><b>data: DataUtils</b> -> Utilities for understanding and interacting with datasets (EXPERIMENTAL)<br /><b>fs: DbfsUtils</b> -> Manipulates the Databricks filesystem (DBFS) from the console<br /><b>jobs: JobsUtils</b> -> Utilities for leveraging jobs features<br /><b>library: LibraryUtils</b> -> Utilities for session isolated libraries<br /><b>meta: MetaUtils</b> -> Methods to hook into the compiler (EXPERIMENTAL)<br /><b>notebook: NotebookUtils</b> -> Utilities for the control flow of a notebook (EXPERIMENTAL)<br /><b>preview: Preview</b> -> Utilities under preview category<br /><b>secrets: SecretUtils</b> -> Provides utilities for leveraging secrets within notebooks<br /><b>widgets: WidgetsUtils</b> -> Methods to create and get bound value of input widgets inside notebooks<br /><br /></div>"
      ]
     },
     "metadata": {},
     "output_type": "display_data"
    }
   ],
   "source": [
    "dbutils.help() #ruuning dbutils command"
   ]
  },
  {
   "cell_type": "code",
   "execution_count": 0,
   "metadata": {
    "application/vnd.databricks.v1+cell": {
     "cellMetadata": {
      "byteLimit": 2048000,
      "rowLimit": 10000
     },
     "inputWidgets": {},
     "nuid": "8bbb073f-82ac-4010-afc2-9f6559bae750",
     "showTitle": false,
     "tableResultSettingsMap": {},
     "title": ""
    }
   },
   "outputs": [
    {
     "output_type": "display_data",
     "data": {
      "text/html": [
       "<div class = \"ansiout\">\n",
       "Provides utilities for leveraging secrets within notebooks.\n",
       "Databricks documentation for more info.\n",
       "    <h3></h3><b>get(scope: String, key: String): String</b> -> Gets the string representation of a secret value with scope and key<br /><b>getBytes(scope: String, key: String): byte[]</b> -> Gets the bytes representation of a secret value with scope and key<br /><b>list(scope: String): Seq</b> -> Lists secret metadata for secrets within a scope<br /><b>listScopes: Seq</b> -> Lists secret scopes<br /><br /></div>"
      ]
     },
     "metadata": {},
     "output_type": "display_data"
    }
   ],
   "source": [
    "dbutils.secrets.help() #running sceretes"
   ]
  },
  {
   "cell_type": "code",
   "execution_count": 0,
   "metadata": {
    "application/vnd.databricks.v1+cell": {
     "cellMetadata": {
      "byteLimit": 2048000,
      "rowLimit": 10000
     },
     "inputWidgets": {},
     "nuid": "f73c6c00-c3e8-4fdf-aaaf-b182ef63055f",
     "showTitle": false,
     "tableResultSettingsMap": {},
     "title": ""
    }
   },
   "outputs": [
    {
     "output_type": "display_data",
     "data": {
      "text/html": [
       "<style scoped>\n",
       "  .table-result-container {\n",
       "    max-height: 300px;\n",
       "    overflow: auto;\n",
       "  }\n",
       "  table, th, td {\n",
       "    border: 1px solid black;\n",
       "    border-collapse: collapse;\n",
       "  }\n",
       "  th, td {\n",
       "    padding: 5px;\n",
       "  }\n",
       "  th {\n",
       "    text-align: left;\n",
       "  }\n",
       "</style><div class='table-result-container'><table class='table-result'><thead style='background-color: white'><tr><th>name</th></tr></thead><tbody><tr><td>tenonscope</td></tr></tbody></table></div>"
      ]
     },
     "metadata": {
      "application/vnd.databricks.v1+output": {
       "addedWidgets": {},
       "aggData": [],
       "aggError": "",
       "aggOverflow": false,
       "aggSchema": [],
       "aggSeriesLimitReached": false,
       "aggType": "",
       "arguments": {},
       "columnCustomDisplayInfos": {},
       "data": [
        [
         "tenonscope"
        ]
       ],
       "datasetInfos": [],
       "dbfsResultPath": null,
       "isJsonSchema": true,
       "metadata": {},
       "overflow": false,
       "plotOptions": {
        "customPlotOptions": {},
        "displayType": "table",
        "pivotAggregation": null,
        "pivotColumns": null,
        "xColumns": null,
        "yColumns": null
       },
       "removedWidgets": [],
       "schema": [
        {
         "metadata": "{}",
         "name": "name",
         "type": "\"string\""
        }
       ],
       "type": "table"
      }
     },
     "output_type": "display_data"
    }
   ],
   "source": [
    "display(dbutils.secrets.listScopes()) #showing all scopes"
   ]
  },
  {
   "cell_type": "code",
   "execution_count": 0,
   "metadata": {
    "application/vnd.databricks.v1+cell": {
     "cellMetadata": {
      "byteLimit": 2048000,
      "rowLimit": 10000
     },
     "inputWidgets": {},
     "nuid": "d2e91ef0-7730-4e7c-a2f7-85b3d00799b6",
     "showTitle": false,
     "tableResultSettingsMap": {},
     "title": ""
    }
   },
   "outputs": [
    {
     "output_type": "display_data",
     "data": {
      "text/html": [
       "<style scoped>\n",
       "  .table-result-container {\n",
       "    max-height: 300px;\n",
       "    overflow: auto;\n",
       "  }\n",
       "  table, th, td {\n",
       "    border: 1px solid black;\n",
       "    border-collapse: collapse;\n",
       "  }\n",
       "  th, td {\n",
       "    padding: 5px;\n",
       "  }\n",
       "  th {\n",
       "    text-align: left;\n",
       "  }\n",
       "</style><div class='table-result-container'><table class='table-result'><thead style='background-color: white'><tr><th>key</th></tr></thead><tbody><tr><td>adlsconnectionstring</td></tr><tr><td>adlskey</td></tr><tr><td>blobconnectionstring</td></tr><tr><td>blobkey</td></tr><tr><td>dbpassword</td></tr><tr><td>dbuser1</td></tr></tbody></table></div>"
      ]
     },
     "metadata": {
      "application/vnd.databricks.v1+output": {
       "addedWidgets": {},
       "aggData": [],
       "aggError": "",
       "aggOverflow": false,
       "aggSchema": [],
       "aggSeriesLimitReached": false,
       "aggType": "",
       "arguments": {},
       "columnCustomDisplayInfos": {},
       "data": [
        [
         "adlsconnectionstring"
        ],
        [
         "adlskey"
        ],
        [
         "blobconnectionstring"
        ],
        [
         "blobkey"
        ],
        [
         "dbpassword"
        ],
        [
         "dbuser1"
        ]
       ],
       "datasetInfos": [],
       "dbfsResultPath": null,
       "isJsonSchema": true,
       "metadata": {},
       "overflow": false,
       "plotOptions": {
        "customPlotOptions": {},
        "displayType": "table",
        "pivotAggregation": null,
        "pivotColumns": null,
        "xColumns": null,
        "yColumns": null
       },
       "removedWidgets": [],
       "schema": [
        {
         "metadata": "{}",
         "name": "key",
         "type": "\"string\""
        }
       ],
       "type": "table"
      }
     },
     "output_type": "display_data"
    }
   ],
   "source": [
    "keys = dbutils.secrets.list(\"tenonscope\")  #showing keys presented in keyvault\n",
    "display(keys)"
   ]
  },
  {
   "cell_type": "code",
   "execution_count": 0,
   "metadata": {
    "application/vnd.databricks.v1+cell": {
     "cellMetadata": {
      "byteLimit": 2048000,
      "rowLimit": 10000
     },
     "inputWidgets": {},
     "nuid": "13061c9b-c9d2-4e20-9cb9-8e6d1e9dcab4",
     "showTitle": false,
     "tableResultSettingsMap": {},
     "title": ""
    }
   },
   "outputs": [],
   "source": [
    "spark.conf.set(\n",
    "    \"fs.azure.account.key.tenonblobstorage.dfs.core.windows.net\",\n",
    "    dbutils.secrets.get(scope=\"tenonscope\", key=\"blobkey\")) #configuring the blob stoarge"
   ]
  },
  {
   "cell_type": "code",
   "execution_count": 0,
   "metadata": {
    "application/vnd.databricks.v1+cell": {
     "cellMetadata": {
      "byteLimit": 2048000,
      "rowLimit": 10000
     },
     "inputWidgets": {},
     "nuid": "3f9914ba-67c9-4a95-a099-b3d8e3b3721c",
     "showTitle": false,
     "tableResultSettingsMap": {},
     "title": ""
    }
   },
   "outputs": [
    {
     "output_type": "execute_result",
     "data": {
      "text/plain": [
       "[FileInfo(path='abfss://tenonraw@tenonblobstorage.dfs.core.windows.net/Patient_records.csv', name='Patient_records.csv', size=5110, modificationTime=1743090613000),\n",
       " FileInfo(path='abfss://tenonraw@tenonblobstorage.dfs.core.windows.net/claims.json', name='claims.json', size=16385, modificationTime=1743162271000),\n",
       " FileInfo(path='abfss://tenonraw@tenonblobstorage.dfs.core.windows.net/disease.csv', name='disease.csv', size=1489, modificationTime=1743090613000),\n",
       " FileInfo(path='abfss://tenonraw@tenonblobstorage.dfs.core.windows.net/group.csv', name='group.csv', size=4390, modificationTime=1743090613000),\n",
       " FileInfo(path='abfss://tenonraw@tenonblobstorage.dfs.core.windows.net/hospital.csv', name='hospital.csv', size=1328, modificationTime=1743144693000),\n",
       " FileInfo(path='abfss://tenonraw@tenonblobstorage.dfs.core.windows.net/subgroup.csv', name='subgroup.csv', size=561, modificationTime=1743090613000),\n",
       " FileInfo(path='abfss://tenonraw@tenonblobstorage.dfs.core.windows.net/subscriber.csv', name='subscriber.csv', size=12061, modificationTime=1743090613000)]"
      ]
     },
     "execution_count": 10,
     "metadata": {},
     "output_type": "execute_result"
    }
   ],
   "source": [
    "dbutils.fs.ls(\"abfss://tenonraw@tenonblobstorage.dfs.core.windows.net/\") #displaying the all the files in blob stoarge"
   ]
  },
  {
   "cell_type": "code",
   "execution_count": 0,
   "metadata": {
    "application/vnd.databricks.v1+cell": {
     "cellMetadata": {
      "byteLimit": 2048000,
      "rowLimit": 10000
     },
     "inputWidgets": {},
     "nuid": "159631bc-58e9-4277-b4c2-63e991dada00",
     "showTitle": false,
     "tableResultSettingsMap": {},
     "title": ""
    }
   },
   "outputs": [
    {
     "output_type": "display_data",
     "data": {
      "text/html": [
       "<style scoped>\n",
       "  .table-result-container {\n",
       "    max-height: 300px;\n",
       "    overflow: auto;\n",
       "  }\n",
       "  table, th, td {\n",
       "    border: 1px solid black;\n",
       "    border-collapse: collapse;\n",
       "  }\n",
       "  th, td {\n",
       "    padding: 5px;\n",
       "  }\n",
       "  th {\n",
       "    text-align: left;\n",
       "  }\n",
       "</style><div class='table-result-container'><table class='table-result'><thead style='background-color: white'><tr><th>path</th><th>name</th><th>size</th><th>modificationTime</th></tr></thead><tbody><tr><td>abfss://tenonraw@tenonblobstorage.dfs.core.windows.net/Patient_records.csv</td><td>Patient_records.csv</td><td>5110</td><td>1743090613000</td></tr><tr><td>abfss://tenonraw@tenonblobstorage.dfs.core.windows.net/claims.json</td><td>claims.json</td><td>16385</td><td>1743162271000</td></tr><tr><td>abfss://tenonraw@tenonblobstorage.dfs.core.windows.net/disease.csv</td><td>disease.csv</td><td>1489</td><td>1743090613000</td></tr><tr><td>abfss://tenonraw@tenonblobstorage.dfs.core.windows.net/group.csv</td><td>group.csv</td><td>4390</td><td>1743090613000</td></tr><tr><td>abfss://tenonraw@tenonblobstorage.dfs.core.windows.net/hospital.csv</td><td>hospital.csv</td><td>1328</td><td>1743144693000</td></tr><tr><td>abfss://tenonraw@tenonblobstorage.dfs.core.windows.net/subgroup.csv</td><td>subgroup.csv</td><td>561</td><td>1743090613000</td></tr><tr><td>abfss://tenonraw@tenonblobstorage.dfs.core.windows.net/subscriber.csv</td><td>subscriber.csv</td><td>12061</td><td>1743090613000</td></tr></tbody></table></div>"
      ]
     },
     "metadata": {
      "application/vnd.databricks.v1+output": {
       "addedWidgets": {},
       "aggData": [],
       "aggError": "",
       "aggOverflow": false,
       "aggSchema": [],
       "aggSeriesLimitReached": false,
       "aggType": "",
       "arguments": {},
       "columnCustomDisplayInfos": {},
       "data": [
        [
         "abfss://tenonraw@tenonblobstorage.dfs.core.windows.net/Patient_records.csv",
         "Patient_records.csv",
         5110,
         1743090613000
        ],
        [
         "abfss://tenonraw@tenonblobstorage.dfs.core.windows.net/claims.json",
         "claims.json",
         16385,
         1743162271000
        ],
        [
         "abfss://tenonraw@tenonblobstorage.dfs.core.windows.net/disease.csv",
         "disease.csv",
         1489,
         1743090613000
        ],
        [
         "abfss://tenonraw@tenonblobstorage.dfs.core.windows.net/group.csv",
         "group.csv",
         4390,
         1743090613000
        ],
        [
         "abfss://tenonraw@tenonblobstorage.dfs.core.windows.net/hospital.csv",
         "hospital.csv",
         1328,
         1743144693000
        ],
        [
         "abfss://tenonraw@tenonblobstorage.dfs.core.windows.net/subgroup.csv",
         "subgroup.csv",
         561,
         1743090613000
        ],
        [
         "abfss://tenonraw@tenonblobstorage.dfs.core.windows.net/subscriber.csv",
         "subscriber.csv",
         12061,
         1743090613000
        ]
       ],
       "datasetInfos": [],
       "dbfsResultPath": null,
       "isJsonSchema": true,
       "metadata": {},
       "overflow": false,
       "plotOptions": {
        "customPlotOptions": {},
        "displayType": "table",
        "pivotAggregation": null,
        "pivotColumns": null,
        "xColumns": null,
        "yColumns": null
       },
       "removedWidgets": [],
       "schema": [
        {
         "metadata": "{}",
         "name": "path",
         "type": "\"string\""
        },
        {
         "metadata": "{}",
         "name": "name",
         "type": "\"string\""
        },
        {
         "metadata": "{}",
         "name": "size",
         "type": "\"long\""
        },
        {
         "metadata": "{}",
         "name": "modificationTime",
         "type": "\"long\""
        }
       ],
       "type": "table"
      }
     },
     "output_type": "display_data"
    }
   ],
   "source": [
    "display(dbutils.fs.ls(\"abfss://tenonraw@tenonblobstorage.dfs.core.windows.net/\"))"
   ]
  },
  {
   "cell_type": "code",
   "execution_count": 0,
   "metadata": {
    "application/vnd.databricks.v1+cell": {
     "cellMetadata": {
      "byteLimit": 2048000,
      "rowLimit": 10000
     },
     "inputWidgets": {},
     "nuid": "ab103ee1-79a2-43fa-ba4b-83c27f8f039b",
     "showTitle": false,
     "tableResultSettingsMap": {},
     "title": ""
    }
   },
   "outputs": [],
   "source": [
    "spark.conf.set(\n",
    "    \"fs.azure.account.key.tenonadls.dfs.core.windows.net\",\n",
    "    dbutils.secrets.get(scope=\"tenonscope\", key=\"adlskey\")) #configuring the adls bronze stoarge"
   ]
  },
  {
   "cell_type": "code",
   "execution_count": 0,
   "metadata": {
    "application/vnd.databricks.v1+cell": {
     "cellMetadata": {
      "byteLimit": 2048000,
      "rowLimit": 10000
     },
     "inputWidgets": {},
     "nuid": "270ed9d4-ad92-4228-b3b7-c9976d144eed",
     "showTitle": false,
     "tableResultSettingsMap": {},
     "title": ""
    }
   },
   "outputs": [
    {
     "output_type": "execute_result",
     "data": {
      "text/plain": [
       "[FileInfo(path='abfss://tenon@tenonadls.dfs.core.windows.net/bronze/Patient_records.csv', name='Patient_records.csv', size=5110, modificationTime=1743162300000),\n",
       " FileInfo(path='abfss://tenon@tenonadls.dfs.core.windows.net/bronze/claims.json', name='claims.json', size=16385, modificationTime=1743162300000),\n",
       " FileInfo(path='abfss://tenon@tenonadls.dfs.core.windows.net/bronze/disease.csv', name='disease.csv', size=1489, modificationTime=1743162300000),\n",
       " FileInfo(path='abfss://tenon@tenonadls.dfs.core.windows.net/bronze/group.csv', name='group.csv', size=4390, modificationTime=1743162300000),\n",
       " FileInfo(path='abfss://tenon@tenonadls.dfs.core.windows.net/bronze/hospital.csv', name='hospital.csv', size=1328, modificationTime=1743162300000),\n",
       " FileInfo(path='abfss://tenon@tenonadls.dfs.core.windows.net/bronze/subgroup.csv', name='subgroup.csv', size=561, modificationTime=1743162300000),\n",
       " FileInfo(path='abfss://tenon@tenonadls.dfs.core.windows.net/bronze/subscriber.csv', name='subscriber.csv', size=12061, modificationTime=1743162300000)]"
      ]
     },
     "execution_count": 13,
     "metadata": {},
     "output_type": "execute_result"
    }
   ],
   "source": [
    "dbutils.fs.ls(\"abfss://tenon@tenonadls.dfs.core.windows.net/bronze\") #lsiting all files in bronze layer"
   ]
  },
  {
   "cell_type": "code",
   "execution_count": 0,
   "metadata": {
    "application/vnd.databricks.v1+cell": {
     "cellMetadata": {
      "byteLimit": 2048000,
      "rowLimit": 10000
     },
     "inputWidgets": {},
     "nuid": "e009bcc5-8297-4c9e-8bb8-099ae5baa3b9",
     "showTitle": false,
     "tableResultSettingsMap": {},
     "title": ""
    }
   },
   "outputs": [
    {
     "output_type": "display_data",
     "data": {
      "text/html": [
       "<style scoped>\n",
       "  .table-result-container {\n",
       "    max-height: 300px;\n",
       "    overflow: auto;\n",
       "  }\n",
       "  table, th, td {\n",
       "    border: 1px solid black;\n",
       "    border-collapse: collapse;\n",
       "  }\n",
       "  th, td {\n",
       "    padding: 5px;\n",
       "  }\n",
       "  th {\n",
       "    text-align: left;\n",
       "  }\n",
       "</style><div class='table-result-container'><table class='table-result'><thead style='background-color: white'><tr><th>path</th><th>name</th><th>size</th><th>modificationTime</th></tr></thead><tbody><tr><td>abfss://tenon@tenonadls.dfs.core.windows.net/bronze/Patient_records.csv</td><td>Patient_records.csv</td><td>5110</td><td>1743162300000</td></tr><tr><td>abfss://tenon@tenonadls.dfs.core.windows.net/bronze/claims.json</td><td>claims.json</td><td>16385</td><td>1743162300000</td></tr><tr><td>abfss://tenon@tenonadls.dfs.core.windows.net/bronze/disease.csv</td><td>disease.csv</td><td>1489</td><td>1743162300000</td></tr><tr><td>abfss://tenon@tenonadls.dfs.core.windows.net/bronze/group.csv</td><td>group.csv</td><td>4390</td><td>1743162300000</td></tr><tr><td>abfss://tenon@tenonadls.dfs.core.windows.net/bronze/hospital.csv</td><td>hospital.csv</td><td>1328</td><td>1743162300000</td></tr><tr><td>abfss://tenon@tenonadls.dfs.core.windows.net/bronze/subgroup.csv</td><td>subgroup.csv</td><td>561</td><td>1743162300000</td></tr><tr><td>abfss://tenon@tenonadls.dfs.core.windows.net/bronze/subscriber.csv</td><td>subscriber.csv</td><td>12061</td><td>1743162300000</td></tr></tbody></table></div>"
      ]
     },
     "metadata": {
      "application/vnd.databricks.v1+output": {
       "addedWidgets": {},
       "aggData": [],
       "aggError": "",
       "aggOverflow": false,
       "aggSchema": [],
       "aggSeriesLimitReached": false,
       "aggType": "",
       "arguments": {},
       "columnCustomDisplayInfos": {},
       "data": [
        [
         "abfss://tenon@tenonadls.dfs.core.windows.net/bronze/Patient_records.csv",
         "Patient_records.csv",
         5110,
         1743162300000
        ],
        [
         "abfss://tenon@tenonadls.dfs.core.windows.net/bronze/claims.json",
         "claims.json",
         16385,
         1743162300000
        ],
        [
         "abfss://tenon@tenonadls.dfs.core.windows.net/bronze/disease.csv",
         "disease.csv",
         1489,
         1743162300000
        ],
        [
         "abfss://tenon@tenonadls.dfs.core.windows.net/bronze/group.csv",
         "group.csv",
         4390,
         1743162300000
        ],
        [
         "abfss://tenon@tenonadls.dfs.core.windows.net/bronze/hospital.csv",
         "hospital.csv",
         1328,
         1743162300000
        ],
        [
         "abfss://tenon@tenonadls.dfs.core.windows.net/bronze/subgroup.csv",
         "subgroup.csv",
         561,
         1743162300000
        ],
        [
         "abfss://tenon@tenonadls.dfs.core.windows.net/bronze/subscriber.csv",
         "subscriber.csv",
         12061,
         1743162300000
        ]
       ],
       "datasetInfos": [],
       "dbfsResultPath": null,
       "isJsonSchema": true,
       "metadata": {},
       "overflow": false,
       "plotOptions": {
        "customPlotOptions": {},
        "displayType": "table",
        "pivotAggregation": null,
        "pivotColumns": null,
        "xColumns": null,
        "yColumns": null
       },
       "removedWidgets": [],
       "schema": [
        {
         "metadata": "{}",
         "name": "path",
         "type": "\"string\""
        },
        {
         "metadata": "{}",
         "name": "name",
         "type": "\"string\""
        },
        {
         "metadata": "{}",
         "name": "size",
         "type": "\"long\""
        },
        {
         "metadata": "{}",
         "name": "modificationTime",
         "type": "\"long\""
        }
       ],
       "type": "table"
      }
     },
     "output_type": "display_data"
    }
   ],
   "source": [
    "bronze_files = dbutils.fs.ls(\"abfss://tenon@tenonadls.dfs.core.windows.net/bronze\") #displaying all files in bronze layer\n",
    "display(bronze_files)"
   ]
  },
  {
   "cell_type": "code",
   "execution_count": 0,
   "metadata": {
    "application/vnd.databricks.v1+cell": {
     "cellMetadata": {
      "byteLimit": 2048000,
      "rowLimit": 10000
     },
     "inputWidgets": {},
     "nuid": "fb7f0071-d018-499c-96a2-bf54d10966e7",
     "showTitle": false,
     "tableResultSettingsMap": {},
     "title": ""
    }
   },
   "outputs": [],
   "source": [
    "hospital_df = spark.read.format(\"csv\").option(\"header\", \"true\").option(\"inferSchema\", \"true\").load(\"abfss://tenon@tenonadls.dfs.core.windows.net/bronze/hospital.csv\")"
   ]
  },
  {
   "cell_type": "code",
   "execution_count": 0,
   "metadata": {
    "application/vnd.databricks.v1+cell": {
     "cellMetadata": {
      "byteLimit": 2048000,
      "rowLimit": 10000
     },
     "inputWidgets": {},
     "nuid": "745af787-5096-481b-9c7b-f5660b6ac783",
     "showTitle": false,
     "tableResultSettingsMap": {},
     "title": ""
    }
   },
   "outputs": [
    {
     "output_type": "display_data",
     "data": {
      "text/html": [
       "<style scoped>\n",
       "  .table-result-container {\n",
       "    max-height: 300px;\n",
       "    overflow: auto;\n",
       "  }\n",
       "  table, th, td {\n",
       "    border: 1px solid black;\n",
       "    border-collapse: collapse;\n",
       "  }\n",
       "  th, td {\n",
       "    padding: 5px;\n",
       "  }\n",
       "  th {\n",
       "    text-align: left;\n",
       "  }\n",
       "</style><div class='table-result-container'><table class='table-result'><thead style='background-color: white'><tr><th>Hospital_id</th><th>Hospital_name</th><th>city</th><th>state</th><th>country</th></tr></thead><tbody><tr><td>H1000</td><td>All India Institute of Medical Sciences</td><td>New Delhi</td><td>NaN</td><td>India</td></tr><tr><td>H1001</td><td>Medanta The Medicity</td><td>Gurgaon</td><td>Haryana</td><td>India</td></tr><tr><td>H1002</td><td>The Christian Medical College</td><td>Vellore</td><td>Tamil Nadu</td><td>India</td></tr><tr><td>H1003</td><td>PGIMER - Postgraduate Institute of Medical Education and Research</td><td>Chandigarh</td><td>Haryana</td><td>India</td></tr><tr><td>H1004</td><td>Apollo Hospital - Chennai</td><td>Chennai</td><td>Tamil Nadu</td><td>India</td></tr></tbody></table></div>"
      ]
     },
     "metadata": {
      "application/vnd.databricks.v1+output": {
       "addedWidgets": {},
       "aggData": [],
       "aggError": "",
       "aggOverflow": false,
       "aggSchema": [],
       "aggSeriesLimitReached": false,
       "aggType": "",
       "arguments": {},
       "columnCustomDisplayInfos": {},
       "data": [
        [
         "H1000",
         "All India Institute of Medical Sciences",
         "New Delhi",
         "NaN",
         "India"
        ],
        [
         "H1001",
         "Medanta The Medicity",
         "Gurgaon",
         "Haryana",
         "India"
        ],
        [
         "H1002",
         "The Christian Medical College",
         "Vellore",
         "Tamil Nadu",
         "India"
        ],
        [
         "H1003",
         "PGIMER - Postgraduate Institute of Medical Education and Research",
         "Chandigarh",
         "Haryana",
         "India"
        ],
        [
         "H1004",
         "Apollo Hospital - Chennai",
         "Chennai",
         "Tamil Nadu",
         "India"
        ]
       ],
       "datasetInfos": [],
       "dbfsResultPath": null,
       "isJsonSchema": true,
       "metadata": {},
       "overflow": false,
       "plotOptions": {
        "customPlotOptions": {},
        "displayType": "table",
        "pivotAggregation": null,
        "pivotColumns": null,
        "xColumns": null,
        "yColumns": null
       },
       "removedWidgets": [],
       "schema": [
        {
         "metadata": "{}",
         "name": "Hospital_id",
         "type": "\"string\""
        },
        {
         "metadata": "{}",
         "name": "Hospital_name",
         "type": "\"string\""
        },
        {
         "metadata": "{}",
         "name": "city",
         "type": "\"string\""
        },
        {
         "metadata": "{}",
         "name": "state",
         "type": "\"string\""
        },
        {
         "metadata": "{}",
         "name": "country",
         "type": "\"string\""
        }
       ],
       "type": "table"
      }
     },
     "output_type": "display_data"
    }
   ],
   "source": [
    "display(hospital_df.head(5))"
   ]
  },
  {
   "cell_type": "code",
   "execution_count": 0,
   "metadata": {
    "application/vnd.databricks.v1+cell": {
     "cellMetadata": {
      "byteLimit": 2048000,
      "rowLimit": 10000
     },
     "inputWidgets": {},
     "nuid": "1af75277-9877-4773-8dd0-a543f1fb511d",
     "showTitle": false,
     "tableResultSettingsMap": {},
     "title": ""
    }
   },
   "outputs": [],
   "source": [
    "def blobconnector(in_df):\n",
    "    spark.conf.set(\"fs.azure.account.key.tenonblobstorage.dfs.core.windows.net\",dbutils.secrets.get(scope=\"tenonscope\", key=\"blobkey\"))\n",
    "    print(\"connection sucessful\") #setting up the blob conenctor\n"
   ]
  },
  {
   "cell_type": "code",
   "execution_count": 0,
   "metadata": {
    "application/vnd.databricks.v1+cell": {
     "cellMetadata": {
      "byteLimit": 2048000,
      "rowLimit": 10000
     },
     "inputWidgets": {},
     "nuid": "bf185ca4-a9c0-40d9-b59c-51e9d362f276",
     "showTitle": false,
     "tableResultSettingsMap": {},
     "title": ""
    }
   },
   "outputs": [],
   "source": [
    "def readbronzedata(fn):\n",
    "    spark.conf.set(\"fs.azure.account.key.tenonblobstorage.dfs.core.windows.net\",dbutils.secrets.get(scope=\"tenonscope\", key=\"blobkey\"))\n",
    "    df = spark.read.format(\"csv\").option(\"header\", \"true\").option(\"inferSchema\", \"true\").load(\"abfss://tenonraw@tenonblobstorage.dfs.core.windows.net/\"+fn)\n",
    "    print(df)\n",
    "    return df #setting up the read bronze data"
   ]
  },
  {
   "cell_type": "code",
   "execution_count": 0,
   "metadata": {
    "application/vnd.databricks.v1+cell": {
     "cellMetadata": {
      "byteLimit": 2048000,
      "rowLimit": 10000
     },
     "inputWidgets": {},
     "nuid": "e0258073-8513-47e3-8c1e-e2f3ea6a1bd9",
     "showTitle": false,
     "tableResultSettingsMap": {},
     "title": ""
    }
   },
   "outputs": [
    {
     "output_type": "stream",
     "name": "stdout",
     "output_type": "stream",
     "text": [
      "DataFrame[Hospital_id: string, Hospital_name: string, city: string, state: string, country: string]\n"
     ]
    },
    {
     "output_type": "execute_result",
     "data": {
      "text/plain": [
       "DataFrame[Hospital_id: string, Hospital_name: string, city: string, state: string, country: string]"
      ]
     },
     "execution_count": 70,
     "metadata": {},
     "output_type": "execute_result"
    }
   ],
   "source": [
    "readbronzedata(\"hospital.csv\")"
   ]
  },
  {
   "cell_type": "code",
   "execution_count": 0,
   "metadata": {
    "application/vnd.databricks.v1+cell": {
     "cellMetadata": {
      "byteLimit": 2048000,
      "rowLimit": 10000
     },
     "inputWidgets": {},
     "nuid": "b5384098-04da-46d0-a6a2-e223287f9df2",
     "showTitle": false,
     "tableResultSettingsMap": {},
     "title": ""
    }
   },
   "outputs": [],
   "source": [
    "def adlsconnector(in_df):\n",
    "    spark.conf.set(\"fs.azure.account.key.tenonadls.dfs.core.windows.net\",dbutils.secrets.get(scope=\"tenonscope\", key=\"adlskey\"))\n",
    "    print(\"adls connection sucessful\") #setting up the adls conenctor\n"
   ]
  },
  {
   "cell_type": "code",
   "execution_count": 0,
   "metadata": {
    "application/vnd.databricks.v1+cell": {
     "cellMetadata": {
      "byteLimit": 2048000,
      "rowLimit": 10000
     },
     "inputWidgets": {},
     "nuid": "97aa360a-8989-41c3-a770-6967d8a20270",
     "showTitle": false,
     "tableResultSettingsMap": {},
     "title": ""
    }
   },
   "outputs": [],
   "source": [
    "def readbronzedata(fn):\n",
    "    spark.conf.set(\"fs.azure.account.key.tenonadls.dfs.core.windows.net\",dbutils.secrets.get(scope=\"tenonscope\", key=\"adlskey\"))\n",
    "    df = spark.read.format(\"csv\").option(\"header\", \"true\").option(\"inferSchema\", \"true\").load(\"abfss://tenon@tenonadls.dfs.core.windows.net/bronze/\"+fn)\n",
    "    return df\n",
    "    #setting up the read bronze data"
   ]
  },
  {
   "cell_type": "code",
   "execution_count": 0,
   "metadata": {
    "application/vnd.databricks.v1+cell": {
     "cellMetadata": {
      "byteLimit": 2048000,
      "rowLimit": 10000
     },
     "inputWidgets": {},
     "nuid": "0e48439a-a601-4a1a-b3bb-eaea3da76bb0",
     "showTitle": false,
     "tableResultSettingsMap": {},
     "title": ""
    }
   },
   "outputs": [
    {
     "output_type": "execute_result",
     "data": {
      "text/plain": [
       "DataFrame[Hospital_id: string, Hospital_name: string, city: string, state: string, country: string]"
      ]
     },
     "execution_count": 73,
     "metadata": {},
     "output_type": "execute_result"
    }
   ],
   "source": [
    "readbronzedata(\"hospital.csv\")"
   ]
  },
  {
   "cell_type": "code",
   "execution_count": 0,
   "metadata": {
    "application/vnd.databricks.v1+cell": {
     "cellMetadata": {
      "byteLimit": 2048000,
      "rowLimit": 10000
     },
     "inputWidgets": {},
     "nuid": "1037974a-8ae7-4287-a11b-af2e8b06fc6d",
     "showTitle": false,
     "tableResultSettingsMap": {},
     "title": ""
    }
   },
   "outputs": [
    {
     "output_type": "display_data",
     "data": {
      "text/html": [
       "<style scoped>\n",
       "  .table-result-container {\n",
       "    max-height: 300px;\n",
       "    overflow: auto;\n",
       "  }\n",
       "  table, th, td {\n",
       "    border: 1px solid black;\n",
       "    border-collapse: collapse;\n",
       "  }\n",
       "  th, td {\n",
       "    padding: 5px;\n",
       "  }\n",
       "  th {\n",
       "    text-align: left;\n",
       "  }\n",
       "</style><div class='table-result-container'><table class='table-result'><thead style='background-color: white'><tr><th>Hospital_id</th><th>Hospital_name</th><th>city</th><th>state</th><th>country</th></tr></thead><tbody><tr><td>H1000</td><td>All India Institute of Medical Sciences</td><td>New Delhi</td><td>NaN</td><td>India</td></tr><tr><td>H1001</td><td>Medanta The Medicity</td><td>Gurgaon</td><td>Haryana</td><td>India</td></tr><tr><td>H1002</td><td>The Christian Medical College</td><td>Vellore</td><td>Tamil Nadu</td><td>India</td></tr><tr><td>H1003</td><td>PGIMER - Postgraduate Institute of Medical Education and Research</td><td>Chandigarh</td><td>Haryana</td><td>India</td></tr><tr><td>H1004</td><td>Apollo Hospital - Chennai</td><td>Chennai</td><td>Tamil Nadu</td><td>India</td></tr><tr><td>H1005</td><td>P. D. Hinduja National Hospital & Medical Research Centre</td><td>Mumbai</td><td>Maharashtra</td><td>India</td></tr><tr><td>H1006</td><td>Breach Candy Hospital</td><td>Mumbai</td><td>Maharashtra</td><td>India</td></tr><tr><td>H1007</td><td>Fortis Flt. Lt. Rajan Dhall Hospital</td><td>New Delhi</td><td>NaN</td><td>India</td></tr><tr><td>H1008</td><td>King Edward Memorial Hospital</td><td>Mumbai</td><td>Maharashtra</td><td>India</td></tr><tr><td>H1009</td><td>Indraprastha Apollo Hospital</td><td>Delhi</td><td>NaN</td><td>India</td></tr><tr><td>H1010</td><td>Lilavati Hospital And Research Centre</td><td>Mumbai</td><td>Maharashtra</td><td>India</td></tr><tr><td>H1011</td><td>Sir Ganga Ram Hospital</td><td>Delhi</td><td>NaN</td><td>India</td></tr><tr><td>H1012</td><td>Bombay Hospital & Medical Research Centre</td><td>Mumbai</td><td>Maharashtra</td><td>India</td></tr><tr><td>H1013</td><td>Apollo Health City - Jubilee Hills</td><td>Hyderabad</td><td>Telangana</td><td>India</td></tr><tr><td>H1014</td><td>Fortis Hiranandani Hospital</td><td>Mumbai</td><td>Maharashtra</td><td>India</td></tr><tr><td>H1015</td><td>Fortis Hospital Mulund</td><td>Mumbai</td><td>Maharashtra</td><td>India</td></tr><tr><td>H1016</td><td>Jaslok Hospital and Research Centre</td><td>Mumbai</td><td>Maharashtra</td><td>India</td></tr><tr><td>H1017</td><td>Manipal Hospitals</td><td>Bengaluru</td><td>Karnataka</td><td>India</td></tr><tr><td>H1018</td><td>Yashoda Hospital Secunderabad</td><td>Hyderabad</td><td>Telangana</td><td>India</td></tr><tr><td>H1019</td><td>Apollo Hospitals - Bannerghatta Road</td><td>Bengaluru</td><td>Karnataka</td><td>India</td></tr></tbody></table></div>"
      ]
     },
     "metadata": {
      "application/vnd.databricks.v1+output": {
       "addedWidgets": {},
       "aggData": [],
       "aggError": "",
       "aggOverflow": false,
       "aggSchema": [],
       "aggSeriesLimitReached": false,
       "aggType": "",
       "arguments": {},
       "columnCustomDisplayInfos": {},
       "data": [
        [
         "H1000",
         "All India Institute of Medical Sciences",
         "New Delhi",
         "NaN",
         "India"
        ],
        [
         "H1001",
         "Medanta The Medicity",
         "Gurgaon",
         "Haryana",
         "India"
        ],
        [
         "H1002",
         "The Christian Medical College",
         "Vellore",
         "Tamil Nadu",
         "India"
        ],
        [
         "H1003",
         "PGIMER - Postgraduate Institute of Medical Education and Research",
         "Chandigarh",
         "Haryana",
         "India"
        ],
        [
         "H1004",
         "Apollo Hospital - Chennai",
         "Chennai",
         "Tamil Nadu",
         "India"
        ],
        [
         "H1005",
         "P. D. Hinduja National Hospital & Medical Research Centre",
         "Mumbai",
         "Maharashtra",
         "India"
        ],
        [
         "H1006",
         "Breach Candy Hospital",
         "Mumbai",
         "Maharashtra",
         "India"
        ],
        [
         "H1007",
         "Fortis Flt. Lt. Rajan Dhall Hospital",
         "New Delhi",
         "NaN",
         "India"
        ],
        [
         "H1008",
         "King Edward Memorial Hospital",
         "Mumbai",
         "Maharashtra",
         "India"
        ],
        [
         "H1009",
         "Indraprastha Apollo Hospital",
         "Delhi",
         "NaN",
         "India"
        ],
        [
         "H1010",
         "Lilavati Hospital And Research Centre",
         "Mumbai",
         "Maharashtra",
         "India"
        ],
        [
         "H1011",
         "Sir Ganga Ram Hospital",
         "Delhi",
         "NaN",
         "India"
        ],
        [
         "H1012",
         "Bombay Hospital & Medical Research Centre",
         "Mumbai",
         "Maharashtra",
         "India"
        ],
        [
         "H1013",
         "Apollo Health City - Jubilee Hills",
         "Hyderabad",
         "Telangana",
         "India"
        ],
        [
         "H1014",
         "Fortis Hiranandani Hospital",
         "Mumbai",
         "Maharashtra",
         "India"
        ],
        [
         "H1015",
         "Fortis Hospital Mulund",
         "Mumbai",
         "Maharashtra",
         "India"
        ],
        [
         "H1016",
         "Jaslok Hospital and Research Centre",
         "Mumbai",
         "Maharashtra",
         "India"
        ],
        [
         "H1017",
         "Manipal Hospitals",
         "Bengaluru",
         "Karnataka",
         "India"
        ],
        [
         "H1018",
         "Yashoda Hospital Secunderabad",
         "Hyderabad",
         "Telangana",
         "India"
        ],
        [
         "H1019",
         "Apollo Hospitals - Bannerghatta Road",
         "Bengaluru",
         "Karnataka",
         "India"
        ]
       ],
       "datasetInfos": [],
       "dbfsResultPath": null,
       "isJsonSchema": true,
       "metadata": {},
       "overflow": false,
       "plotOptions": {
        "customPlotOptions": {},
        "displayType": "table",
        "pivotAggregation": null,
        "pivotColumns": null,
        "xColumns": null,
        "yColumns": null
       },
       "removedWidgets": [],
       "schema": [
        {
         "metadata": "{}",
         "name": "Hospital_id",
         "type": "\"string\""
        },
        {
         "metadata": "{}",
         "name": "Hospital_name",
         "type": "\"string\""
        },
        {
         "metadata": "{}",
         "name": "city",
         "type": "\"string\""
        },
        {
         "metadata": "{}",
         "name": "state",
         "type": "\"string\""
        },
        {
         "metadata": "{}",
         "name": "country",
         "type": "\"string\""
        }
       ],
       "type": "table"
      }
     },
     "output_type": "display_data"
    }
   ],
   "source": [
    "df = readbronzedata(\"hospital.csv\")\n",
    "df.display()"
   ]
  },
  {
   "cell_type": "code",
   "execution_count": 0,
   "metadata": {
    "application/vnd.databricks.v1+cell": {
     "cellMetadata": {
      "byteLimit": 2048000,
      "rowLimit": 10000
     },
     "inputWidgets": {},
     "nuid": "8e594c2a-53a1-458c-b223-79156b970be1",
     "showTitle": false,
     "tableResultSettingsMap": {},
     "title": ""
    }
   },
   "outputs": [
    {
     "output_type": "display_data",
     "data": {
      "text/html": [
       "<style scoped>\n",
       "  .table-result-container {\n",
       "    max-height: 300px;\n",
       "    overflow: auto;\n",
       "  }\n",
       "  table, th, td {\n",
       "    border: 1px solid black;\n",
       "    border-collapse: collapse;\n",
       "  }\n",
       "  th, td {\n",
       "    padding: 5px;\n",
       "  }\n",
       "  th {\n",
       "    text-align: left;\n",
       "  }\n",
       "</style><div class='table-result-container'><table class='table-result'><thead style='background-color: white'><tr><th>Patient_id</th><th>Patient_name</th><th>patient_gender</th><th>patient_birth_date</th><th>patient_phone</th><th>disease_name</th><th>city</th><th>hospital_id</th></tr></thead><tbody><tr><td>187158</td><td>Harbir</td><td>Female</td><td>1924-06-30</td><td>+91 0112009318</td><td>Galactosemia</td><td>Rourkela</td><td>H1001</td></tr><tr><td>112766</td><td>Brahmdev</td><td>Female</td><td>1948-12-20</td><td>+91 1727749552</td><td>Bladder cancer</td><td>Tiruvottiyur</td><td>H1016</td></tr><tr><td>199252</td><td>Ujjawal</td><td>Male</td><td>1980-04-16</td><td>+91 8547451606</td><td>Kidney cancer</td><td>Berhampur</td><td>H1009</td></tr><tr><td>133424</td><td>Ballari</td><td>Female</td><td>1969-09-25</td><td>+91 0106026841</td><td>Suicide</td><td>Bihar Sharif</td><td>H1017</td></tr><tr><td>172579</td><td>Devnath</td><td>Female</td><td>1946-05-01</td><td>+91 1868774631</td><td>Food allergy</td><td>Bidhannagar</td><td>H1019</td></tr><tr><td>171320</td><td>Atasi</td><td>Male</td><td>1967-10-02</td><td>+91 9747336855</td><td>Whiplash</td><td>Amravati</td><td>H1013</td></tr><tr><td>107794</td><td>Manish</td><td>Male</td><td>1967-06-06</td><td>+91 4354294043</td><td>Sunbathing</td><td>Panvel</td><td>H1004</td></tr><tr><td>130339</td><td>Aakar</td><td>Female</td><td>1925-03-05</td><td>+91 2777633911</td><td>Drug consumption</td><td>Bihar Sharif</td><td>H1000</td></tr><tr><td>110377</td><td>Gurudas</td><td>Male</td><td>1945-05-06</td><td>+91 1232859381</td><td>Dengue</td><td>Kamarhati</td><td>H1001</td></tr><tr><td>149367</td><td>null</td><td>Male</td><td>1925-06-12</td><td>+91 1780763280</td><td>Head banging</td><td>Bangalore</td><td>H1013</td></tr><tr><td>156168</td><td>null</td><td>Male</td><td>1976-02-03</td><td>+91 5586075345</td><td>Fanconi anaemia</td><td>Rajkot</td><td>H1004</td></tr><tr><td>114241</td><td>null</td><td>Female</td><td>1955-01-22</td><td>+91 4146391938</td><td>Breast cancer</td><td>Ghaziabad</td><td>H1015</td></tr><tr><td>146382</td><td>Dharmadaas</td><td>Male</td><td>1964-04-29</td><td>+91 6345482027</td><td>Anthrax</td><td>Bhalswa Jahangir Pur</td><td>H1019</td></tr><tr><td>132748</td><td>Brahmvir</td><td>Male</td><td>1991-11-11</td><td>+91 7316972612</td><td>Cystic fibrosis</td><td>Ambala</td><td>H1018</td></tr><tr><td>167340</td><td>null</td><td>Female</td><td>1981-01-25</td><td>+91 2960004518</td><td>Galactosemia</td><td>Surendranagar Dudhrej</td><td>H1003</td></tr><tr><td>135184</td><td>Bhagvan</td><td>Female</td><td>1966-07-24</td><td>+91 0297693485</td><td>Dengue</td><td>Bhimavaram</td><td>H1018</td></tr><tr><td>179662</td><td>Amritkala</td><td>Female</td><td>1933-11-20</td><td>+91 0537157280</td><td>Smallpox</td><td>Meerut</td><td>H1018</td></tr><tr><td>184479</td><td>Bandhu</td><td>Male</td><td>1996-10-15</td><td>+91 0695289163</td><td>Pollen allergy</td><td>Chinsurah</td><td>H1010</td></tr><tr><td>156988</td><td>Bhagavaana</td><td>Female</td><td>1935-09-16</td><td>+91 6071745855</td><td>Breast cancer</td><td>Shahjahanpur</td><td>H1012</td></tr><tr><td>132870</td><td>null</td><td>Female</td><td>1924-11-09</td><td>+91 8906694405</td><td>Glaucoma</td><td>Jabalpur</td><td>H1017</td></tr><tr><td>148137</td><td>Umang</td><td>Female</td><td>1963-07-14</td><td>+91 9485838770</td><td>Pet allergy</td><td>Haridwar</td><td>H1002</td></tr><tr><td>113280</td><td>Darsana</td><td>Male</td><td>1932-05-29</td><td>+91 7676311811</td><td>Rett Syndrome</td><td>Dibrugarh</td><td>H1019</td></tr><tr><td>134184</td><td>Prakash</td><td>Female</td><td>1923-09-15</td><td>+91 9268324471</td><td>Flu</td><td>Kottayam</td><td>H1001</td></tr><tr><td>122592</td><td>Vaijayanti</td><td>Male</td><td>1920-11-13</td><td>+91 9358851649</td><td>Cholera</td><td>Mira-Bhayandar</td><td>H1009</td></tr><tr><td>154439</td><td>Menakshi</td><td>Male</td><td>1987-03-06</td><td>+91 0531676556</td><td>Scurvy</td><td>Kamarhati</td><td>H1016</td></tr><tr><td>117945</td><td>null</td><td>Male</td><td>1955-12-24</td><td>+91 2416747182</td><td>Glaucoma</td><td>Karimnagar</td><td>H1009</td></tr><tr><td>189996</td><td>Ekant</td><td>Male</td><td>1943-08-13</td><td>+91 7686951174</td><td>Measles</td><td>Berhampore</td><td>H1003</td></tr><tr><td>146540</td><td>Chancharik</td><td>Male</td><td>1983-09-05</td><td>+91 5309364825</td><td>Scurvy</td><td>Chapra</td><td>H1012</td></tr><tr><td>156434</td><td>Pushti</td><td>Female</td><td>1935-10-15</td><td>+91 7093722203</td><td>Flu</td><td>Morbi</td><td>H1019</td></tr><tr><td>197352</td><td>Swati</td><td>Female</td><td>1987-12-11</td><td>+91 1028477510</td><td>Pet allergy</td><td>Amravati</td><td>H1019</td></tr><tr><td>138778</td><td>Upasana</td><td>Male</td><td>1956-06-01</td><td>+91 0548234943</td><td>Lymphedema</td><td>Hyderabad</td><td>H1005</td></tr><tr><td>162665</td><td>Kanhaiya</td><td>Female</td><td>1954-10-19</td><td>+91 0788738026</td><td>Alcohol consumption</td><td>Mysore</td><td>H1009</td></tr><tr><td>197503</td><td>null</td><td>Female</td><td>1968-07-02</td><td>+91 2599794460</td><td>Stroke</td><td>Gwalior</td><td>H1009</td></tr><tr><td>113476</td><td>Gensho</td><td>Male</td><td>1992-06-06</td><td>+91 4834040556</td><td>Galactosemia</td><td>Ludhiana</td><td>H1016</td></tr><tr><td>195876</td><td>Gopal</td><td>Male</td><td>1986-05-14</td><td>+91 1181471524</td><td>Vertigo</td><td>Raebareli</td><td>H1017</td></tr><tr><td>150189</td><td>Dheeman</td><td>Male</td><td>1945-05-04</td><td>+91 8239321466</td><td>Measles</td><td>Mysore</td><td>H1017</td></tr><tr><td>138861</td><td>Upasana</td><td>Female</td><td>1927-10-03</td><td>null</td><td>Heart Attack</td><td>Ratlam</td><td>H1004</td></tr><tr><td>146555</td><td>null</td><td>Male</td><td>1948-11-10</td><td>+91 8390195092</td><td>Phenylketonuria</td><td>Vadodara</td><td>H1007</td></tr><tr><td>199114</td><td>null</td><td>Female</td><td>1955-04-07</td><td>+91 7434031446</td><td>Phenylketonuria</td><td>Vijayawada</td><td>H1017</td></tr><tr><td>105758</td><td>Madhubala</td><td>Male</td><td>1937-01-11</td><td>+91 8498685882</td><td>Head banging</td><td>Jaunpur</td><td>H1003</td></tr><tr><td>109251</td><td>Anjushree</td><td>Male</td><td>1976-07-04</td><td>+91 5322869455</td><td>Choking</td><td>Ghaziabad</td><td>H1001</td></tr><tr><td>156223</td><td>null</td><td>Female</td><td>1930-11-25</td><td>null</td><td>Fanconi anaemia</td><td>Agartala</td><td>H1012</td></tr><tr><td>108576</td><td>Chakrika</td><td>Male</td><td>1964-08-05</td><td>+91 8185162879</td><td>Stroke</td><td>Ranchi</td><td>H1003</td></tr><tr><td>132947</td><td>Saroj</td><td>Female</td><td>1942-08-26</td><td>+91 5690408243</td><td>Anaemia</td><td>Muzaffarpur</td><td>H1016</td></tr><tr><td>148674</td><td>Ayushmati</td><td>Male</td><td>1932-09-20</td><td>+91 3683223970</td><td>Diabetes</td><td>Satna</td><td>H1016</td></tr><tr><td>133107</td><td>Drashti</td><td>Male</td><td>1926-07-03</td><td>+91 9447269993</td><td>Lymphedema</td><td>Saharsa</td><td>H1019</td></tr><tr><td>193137</td><td>Aayushmaan</td><td>Female</td><td>1983-11-14</td><td>+91 4464709769</td><td>Phenylketonuria</td><td>Mehsana</td><td>H1014</td></tr><tr><td>196369</td><td>null</td><td>Male</td><td>1931-02-04</td><td>+91 2973105946</td><td>Choking</td><td>Shivpuri</td><td>H1017</td></tr><tr><td>109342</td><td>Chitranjan</td><td>Female</td><td>1925-09-09</td><td>+91 5176024720</td><td>Asthma</td><td>Morbi</td><td>H1011</td></tr><tr><td>121783</td><td>Paridhi</td><td>Female</td><td>1959-03-27</td><td>+91 2139280879</td><td>Bladder cancer</td><td>Jabalpur</td><td>H1013</td></tr><tr><td>197441</td><td>Deependu</td><td>Female</td><td>1952-02-13</td><td>+91 5674176644</td><td>Lung cancer</td><td>Bareilly</td><td>H1001</td></tr><tr><td>194166</td><td>null</td><td>Male</td><td>1946-10-17</td><td>+91 9887324437</td><td>Colorectal cancer</td><td>Baranagar</td><td>H1015</td></tr><tr><td>110690</td><td>Laksman</td><td>Female</td><td>1939-05-26</td><td>+91 4504120828</td><td>Food Poisoning</td><td>Ahmednagar</td><td>H1001</td></tr><tr><td>180709</td><td>null</td><td>Male</td><td>1988-06-27</td><td>+91 6877897646</td><td>Anthrax</td><td>Pali</td><td>H1017</td></tr><tr><td>119268</td><td>Shivakari</td><td>Female</td><td>1944-11-02</td><td>+91 3740484063</td><td>Mold allergy</td><td>Hapur</td><td>H1008</td></tr><tr><td>163148</td><td>Madhu</td><td>Male</td><td>1984-10-23</td><td>+91 8367885507</td><td>Beriberi</td><td>Udaipur</td><td>H1008</td></tr><tr><td>118913</td><td>Chanak</td><td>Male</td><td>1954-08-27</td><td>+91 5093121123</td><td>Malaria</td><td>Jalandhar</td><td>H1004</td></tr><tr><td>167423</td><td>Chittesh</td><td>Male</td><td>1949-10-17</td><td>+91 1378163498</td><td>Asthma</td><td>Thoothukudi</td><td>H1019</td></tr><tr><td>141703</td><td>Nawal</td><td>Male</td><td>1940-01-22</td><td>+91 1885105576</td><td>Fractures</td><td>Bhopal</td><td>H1006</td></tr><tr><td>173518</td><td>Gajabahu</td><td>Male</td><td>1959-03-15</td><td>+91 1207869436</td><td>Malaria</td><td>Udupi</td><td>H1015</td></tr><tr><td>140394</td><td>Jitesh</td><td>Male</td><td>1983-02-03</td><td>+91 6515468035</td><td>Anthrax</td><td>Karimnagar</td><td>H1010</td></tr><tr><td>164524</td><td>null</td><td>Female</td><td>1966-09-25</td><td>+91 6477918745</td><td>Mold allergy</td><td>Kharagpur</td><td>H1015</td></tr><tr><td>198182</td><td>Lalit</td><td>Female</td><td>1924-02-15</td><td>+91 4647833992</td><td>Head banging</td><td>Tinsukia</td><td>H1017</td></tr><tr><td>115143</td><td>Anshuk</td><td>Male</td><td>1991-06-17</td><td>+91 9764690642</td><td>Drug consumption</td><td>Uluberia</td><td>H1001</td></tr><tr><td>156364</td><td>null</td><td>Male</td><td>1994-01-13</td><td>+91 8444537013</td><td>Cholera</td><td>Panihati</td><td>H1019</td></tr><tr><td>191132</td><td>Dipesh</td><td>Female</td><td>1949-04-01</td><td>+91 5851958964</td><td>Glaucoma</td><td>Kochi</td><td>H1016</td></tr><tr><td>105686</td><td>null</td><td>Male</td><td>1930-09-01</td><td>+91 7061843400</td><td>Hepatitis</td><td>Kolhapur</td><td>H1008</td></tr><tr><td>160140</td><td>Kishan</td><td>Male</td><td>1923-05-12</td><td>+91 9067652693</td><td>Rett Syndrome</td><td>Srikakulam</td><td>H1002</td></tr><tr><td>114252</td><td>null</td><td>Female</td><td>1927-02-26</td><td>+91 4984346995</td><td>Diabetes</td><td>Ambarnath</td><td>H1014</td></tr><tr><td>188365</td><td>Bhageeratha</td><td>Male</td><td>1973-03-21</td><td>+91 0590662722</td><td>Pet allergy</td><td>Sonipat</td><td>H1017</td></tr></tbody></table></div>"
      ]
     },
     "metadata": {
      "application/vnd.databricks.v1+output": {
       "addedWidgets": {},
       "aggData": [],
       "aggError": "",
       "aggOverflow": false,
       "aggSchema": [],
       "aggSeriesLimitReached": false,
       "aggType": "",
       "arguments": {},
       "columnCustomDisplayInfos": {},
       "data": [
        [
         187158,
         "Harbir",
         "Female",
         "1924-06-30",
         "+91 0112009318",
         "Galactosemia",
         "Rourkela",
         "H1001"
        ],
        [
         112766,
         "Brahmdev",
         "Female",
         "1948-12-20",
         "+91 1727749552",
         "Bladder cancer",
         "Tiruvottiyur",
         "H1016"
        ],
        [
         199252,
         "Ujjawal",
         "Male",
         "1980-04-16",
         "+91 8547451606",
         "Kidney cancer",
         "Berhampur",
         "H1009"
        ],
        [
         133424,
         "Ballari",
         "Female",
         "1969-09-25",
         "+91 0106026841",
         "Suicide",
         "Bihar Sharif",
         "H1017"
        ],
        [
         172579,
         "Devnath",
         "Female",
         "1946-05-01",
         "+91 1868774631",
         "Food allergy",
         "Bidhannagar",
         "H1019"
        ],
        [
         171320,
         "Atasi",
         "Male",
         "1967-10-02",
         "+91 9747336855",
         "Whiplash",
         "Amravati",
         "H1013"
        ],
        [
         107794,
         "Manish",
         "Male",
         "1967-06-06",
         "+91 4354294043",
         "Sunbathing",
         "Panvel",
         "H1004"
        ],
        [
         130339,
         "Aakar",
         "Female",
         "1925-03-05",
         "+91 2777633911",
         "Drug consumption",
         "Bihar Sharif",
         "H1000"
        ],
        [
         110377,
         "Gurudas",
         "Male",
         "1945-05-06",
         "+91 1232859381",
         "Dengue",
         "Kamarhati",
         "H1001"
        ],
        [
         149367,
         null,
         "Male",
         "1925-06-12",
         "+91 1780763280",
         "Head banging",
         "Bangalore",
         "H1013"
        ],
        [
         156168,
         null,
         "Male",
         "1976-02-03",
         "+91 5586075345",
         "Fanconi anaemia",
         "Rajkot",
         "H1004"
        ],
        [
         114241,
         null,
         "Female",
         "1955-01-22",
         "+91 4146391938",
         "Breast cancer",
         "Ghaziabad",
         "H1015"
        ],
        [
         146382,
         "Dharmadaas",
         "Male",
         "1964-04-29",
         "+91 6345482027",
         "Anthrax",
         "Bhalswa Jahangir Pur",
         "H1019"
        ],
        [
         132748,
         "Brahmvir",
         "Male",
         "1991-11-11",
         "+91 7316972612",
         "Cystic fibrosis",
         "Ambala",
         "H1018"
        ],
        [
         167340,
         null,
         "Female",
         "1981-01-25",
         "+91 2960004518",
         "Galactosemia",
         "Surendranagar Dudhrej",
         "H1003"
        ],
        [
         135184,
         "Bhagvan",
         "Female",
         "1966-07-24",
         "+91 0297693485",
         "Dengue",
         "Bhimavaram",
         "H1018"
        ],
        [
         179662,
         "Amritkala",
         "Female",
         "1933-11-20",
         "+91 0537157280",
         "Smallpox",
         "Meerut",
         "H1018"
        ],
        [
         184479,
         "Bandhu",
         "Male",
         "1996-10-15",
         "+91 0695289163",
         "Pollen allergy",
         "Chinsurah",
         "H1010"
        ],
        [
         156988,
         "Bhagavaana",
         "Female",
         "1935-09-16",
         "+91 6071745855",
         "Breast cancer",
         "Shahjahanpur",
         "H1012"
        ],
        [
         132870,
         null,
         "Female",
         "1924-11-09",
         "+91 8906694405",
         "Glaucoma",
         "Jabalpur",
         "H1017"
        ],
        [
         148137,
         "Umang",
         "Female",
         "1963-07-14",
         "+91 9485838770",
         "Pet allergy",
         "Haridwar",
         "H1002"
        ],
        [
         113280,
         "Darsana",
         "Male",
         "1932-05-29",
         "+91 7676311811",
         "Rett Syndrome",
         "Dibrugarh",
         "H1019"
        ],
        [
         134184,
         "Prakash",
         "Female",
         "1923-09-15",
         "+91 9268324471",
         "Flu",
         "Kottayam",
         "H1001"
        ],
        [
         122592,
         "Vaijayanti",
         "Male",
         "1920-11-13",
         "+91 9358851649",
         "Cholera",
         "Mira-Bhayandar",
         "H1009"
        ],
        [
         154439,
         "Menakshi",
         "Male",
         "1987-03-06",
         "+91 0531676556",
         "Scurvy",
         "Kamarhati",
         "H1016"
        ],
        [
         117945,
         null,
         "Male",
         "1955-12-24",
         "+91 2416747182",
         "Glaucoma",
         "Karimnagar",
         "H1009"
        ],
        [
         189996,
         "Ekant",
         "Male",
         "1943-08-13",
         "+91 7686951174",
         "Measles",
         "Berhampore",
         "H1003"
        ],
        [
         146540,
         "Chancharik",
         "Male",
         "1983-09-05",
         "+91 5309364825",
         "Scurvy",
         "Chapra",
         "H1012"
        ],
        [
         156434,
         "Pushti",
         "Female",
         "1935-10-15",
         "+91 7093722203",
         "Flu",
         "Morbi",
         "H1019"
        ],
        [
         197352,
         "Swati",
         "Female",
         "1987-12-11",
         "+91 1028477510",
         "Pet allergy",
         "Amravati",
         "H1019"
        ],
        [
         138778,
         "Upasana",
         "Male",
         "1956-06-01",
         "+91 0548234943",
         "Lymphedema",
         "Hyderabad",
         "H1005"
        ],
        [
         162665,
         "Kanhaiya",
         "Female",
         "1954-10-19",
         "+91 0788738026",
         "Alcohol consumption",
         "Mysore",
         "H1009"
        ],
        [
         197503,
         null,
         "Female",
         "1968-07-02",
         "+91 2599794460",
         "Stroke",
         "Gwalior",
         "H1009"
        ],
        [
         113476,
         "Gensho",
         "Male",
         "1992-06-06",
         "+91 4834040556",
         "Galactosemia",
         "Ludhiana",
         "H1016"
        ],
        [
         195876,
         "Gopal",
         "Male",
         "1986-05-14",
         "+91 1181471524",
         "Vertigo",
         "Raebareli",
         "H1017"
        ],
        [
         150189,
         "Dheeman",
         "Male",
         "1945-05-04",
         "+91 8239321466",
         "Measles",
         "Mysore",
         "H1017"
        ],
        [
         138861,
         "Upasana",
         "Female",
         "1927-10-03",
         null,
         "Heart Attack",
         "Ratlam",
         "H1004"
        ],
        [
         146555,
         null,
         "Male",
         "1948-11-10",
         "+91 8390195092",
         "Phenylketonuria",
         "Vadodara",
         "H1007"
        ],
        [
         199114,
         null,
         "Female",
         "1955-04-07",
         "+91 7434031446",
         "Phenylketonuria",
         "Vijayawada",
         "H1017"
        ],
        [
         105758,
         "Madhubala",
         "Male",
         "1937-01-11",
         "+91 8498685882",
         "Head banging",
         "Jaunpur",
         "H1003"
        ],
        [
         109251,
         "Anjushree",
         "Male",
         "1976-07-04",
         "+91 5322869455",
         "Choking",
         "Ghaziabad",
         "H1001"
        ],
        [
         156223,
         null,
         "Female",
         "1930-11-25",
         null,
         "Fanconi anaemia",
         "Agartala",
         "H1012"
        ],
        [
         108576,
         "Chakrika",
         "Male",
         "1964-08-05",
         "+91 8185162879",
         "Stroke",
         "Ranchi",
         "H1003"
        ],
        [
         132947,
         "Saroj",
         "Female",
         "1942-08-26",
         "+91 5690408243",
         "Anaemia",
         "Muzaffarpur",
         "H1016"
        ],
        [
         148674,
         "Ayushmati",
         "Male",
         "1932-09-20",
         "+91 3683223970",
         "Diabetes",
         "Satna",
         "H1016"
        ],
        [
         133107,
         "Drashti",
         "Male",
         "1926-07-03",
         "+91 9447269993",
         "Lymphedema",
         "Saharsa",
         "H1019"
        ],
        [
         193137,
         "Aayushmaan",
         "Female",
         "1983-11-14",
         "+91 4464709769",
         "Phenylketonuria",
         "Mehsana",
         "H1014"
        ],
        [
         196369,
         null,
         "Male",
         "1931-02-04",
         "+91 2973105946",
         "Choking",
         "Shivpuri",
         "H1017"
        ],
        [
         109342,
         "Chitranjan",
         "Female",
         "1925-09-09",
         "+91 5176024720",
         "Asthma",
         "Morbi",
         "H1011"
        ],
        [
         121783,
         "Paridhi",
         "Female",
         "1959-03-27",
         "+91 2139280879",
         "Bladder cancer",
         "Jabalpur",
         "H1013"
        ],
        [
         197441,
         "Deependu",
         "Female",
         "1952-02-13",
         "+91 5674176644",
         "Lung cancer",
         "Bareilly",
         "H1001"
        ],
        [
         194166,
         null,
         "Male",
         "1946-10-17",
         "+91 9887324437",
         "Colorectal cancer",
         "Baranagar",
         "H1015"
        ],
        [
         110690,
         "Laksman",
         "Female",
         "1939-05-26",
         "+91 4504120828",
         "Food Poisoning",
         "Ahmednagar",
         "H1001"
        ],
        [
         180709,
         null,
         "Male",
         "1988-06-27",
         "+91 6877897646",
         "Anthrax",
         "Pali",
         "H1017"
        ],
        [
         119268,
         "Shivakari",
         "Female",
         "1944-11-02",
         "+91 3740484063",
         "Mold allergy",
         "Hapur",
         "H1008"
        ],
        [
         163148,
         "Madhu",
         "Male",
         "1984-10-23",
         "+91 8367885507",
         "Beriberi",
         "Udaipur",
         "H1008"
        ],
        [
         118913,
         "Chanak",
         "Male",
         "1954-08-27",
         "+91 5093121123",
         "Malaria",
         "Jalandhar",
         "H1004"
        ],
        [
         167423,
         "Chittesh",
         "Male",
         "1949-10-17",
         "+91 1378163498",
         "Asthma",
         "Thoothukudi",
         "H1019"
        ],
        [
         141703,
         "Nawal",
         "Male",
         "1940-01-22",
         "+91 1885105576",
         "Fractures",
         "Bhopal",
         "H1006"
        ],
        [
         173518,
         "Gajabahu",
         "Male",
         "1959-03-15",
         "+91 1207869436",
         "Malaria",
         "Udupi",
         "H1015"
        ],
        [
         140394,
         "Jitesh",
         "Male",
         "1983-02-03",
         "+91 6515468035",
         "Anthrax",
         "Karimnagar",
         "H1010"
        ],
        [
         164524,
         null,
         "Female",
         "1966-09-25",
         "+91 6477918745",
         "Mold allergy",
         "Kharagpur",
         "H1015"
        ],
        [
         198182,
         "Lalit",
         "Female",
         "1924-02-15",
         "+91 4647833992",
         "Head banging",
         "Tinsukia",
         "H1017"
        ],
        [
         115143,
         "Anshuk",
         "Male",
         "1991-06-17",
         "+91 9764690642",
         "Drug consumption",
         "Uluberia",
         "H1001"
        ],
        [
         156364,
         null,
         "Male",
         "1994-01-13",
         "+91 8444537013",
         "Cholera",
         "Panihati",
         "H1019"
        ],
        [
         191132,
         "Dipesh",
         "Female",
         "1949-04-01",
         "+91 5851958964",
         "Glaucoma",
         "Kochi",
         "H1016"
        ],
        [
         105686,
         null,
         "Male",
         "1930-09-01",
         "+91 7061843400",
         "Hepatitis",
         "Kolhapur",
         "H1008"
        ],
        [
         160140,
         "Kishan",
         "Male",
         "1923-05-12",
         "+91 9067652693",
         "Rett Syndrome",
         "Srikakulam",
         "H1002"
        ],
        [
         114252,
         null,
         "Female",
         "1927-02-26",
         "+91 4984346995",
         "Diabetes",
         "Ambarnath",
         "H1014"
        ],
        [
         188365,
         "Bhageeratha",
         "Male",
         "1973-03-21",
         "+91 0590662722",
         "Pet allergy",
         "Sonipat",
         "H1017"
        ]
       ],
       "datasetInfos": [],
       "dbfsResultPath": null,
       "isJsonSchema": true,
       "metadata": {},
       "overflow": false,
       "plotOptions": {
        "customPlotOptions": {},
        "displayType": "table",
        "pivotAggregation": null,
        "pivotColumns": null,
        "xColumns": null,
        "yColumns": null
       },
       "removedWidgets": [],
       "schema": [
        {
         "metadata": "{}",
         "name": "Patient_id",
         "type": "\"integer\""
        },
        {
         "metadata": "{}",
         "name": "Patient_name",
         "type": "\"string\""
        },
        {
         "metadata": "{}",
         "name": "patient_gender",
         "type": "\"string\""
        },
        {
         "metadata": "{\"__detected_date_formats\":\"yyyy-M-d\"}",
         "name": "patient_birth_date",
         "type": "\"date\""
        },
        {
         "metadata": "{}",
         "name": "patient_phone",
         "type": "\"string\""
        },
        {
         "metadata": "{}",
         "name": "disease_name",
         "type": "\"string\""
        },
        {
         "metadata": "{}",
         "name": "city",
         "type": "\"string\""
        },
        {
         "metadata": "{}",
         "name": "hospital_id",
         "type": "\"string\""
        }
       ],
       "type": "table"
      }
     },
     "output_type": "display_data"
    }
   ],
   "source": [
    "df = readbronzedata(\"Patient_records.csv\")\n",
    "df.display()"
   ]
  },
  {
   "cell_type": "code",
   "execution_count": 0,
   "metadata": {
    "application/vnd.databricks.v1+cell": {
     "cellMetadata": {
      "byteLimit": 2048000,
      "rowLimit": 10000
     },
     "inputWidgets": {},
     "nuid": "366f3e7c-ccf7-4948-a576-ffad503af387",
     "showTitle": false,
     "tableResultSettingsMap": {},
     "title": ""
    }
   },
   "outputs": [],
   "source": [
    "##def write2silver(df,filename):\n",
    "    ##output_container_path = \"abfss://tenon@tenonadls.dfs.core.windows.net/silver/\"\n",
    "    ##df.coalesce(1).write.mode(\"append\").option(\"header\",\"true\").format(\"com.databricks.spark.csv\").save##(output_container_path)\n",
    "    ##files = dbutils.fs.ls(output_container_path)\n",
    "    ##output_file = [x for x in files if x.name.startswith(\"part-\")]\n",
    "    ##dbutils.fs.mv(output_file[0].path, \"%s/+filename.csv\" % output_container_path)\n",
    "    ##print(\"File sucessfully written to silver\")\\\\##\n"
   ]
  },
  {
   "cell_type": "code",
   "execution_count": 0,
   "metadata": {
    "application/vnd.databricks.v1+cell": {
     "cellMetadata": {
      "byteLimit": 2048000,
      "rowLimit": 10000
     },
     "inputWidgets": {},
     "nuid": "a4f3c05c-78c2-4ca5-b90d-dedfbe2eb819",
     "showTitle": false,
     "tableResultSettingsMap": {},
     "title": ""
    }
   },
   "outputs": [],
   "source": [
    "%run \"/Workspace/Shared/tenon/connectors\""
   ]
  },
  {
   "cell_type": "code",
   "execution_count": 0,
   "metadata": {
    "application/vnd.databricks.v1+cell": {
     "cellMetadata": {
      "byteLimit": 2048000,
      "rowLimit": 10000
     },
     "inputWidgets": {},
     "nuid": "4a494210-d97e-42a1-bc9b-e90dde09814c",
     "showTitle": false,
     "tableResultSettingsMap": {},
     "title": ""
    }
   },
   "outputs": [],
   "source": [
    "%run \"/Workspace/Shared/tenon/datacleaning\" "
   ]
  },
  {
   "cell_type": "code",
   "execution_count": 0,
   "metadata": {
    "application/vnd.databricks.v1+cell": {
     "cellMetadata": {
      "byteLimit": 2048000,
      "rowLimit": 10000
     },
     "inputWidgets": {},
     "nuid": "00d2f374-19ac-441a-82a2-73883130a26c",
     "showTitle": false,
     "tableResultSettingsMap": {},
     "title": ""
    }
   },
   "outputs": [],
   "source": [
    "adlsconnector\n",
    "hosp_df = readbronzedata(\"hospital.csv\")"
   ]
  },
  {
   "cell_type": "code",
   "execution_count": 0,
   "metadata": {
    "application/vnd.databricks.v1+cell": {
     "cellMetadata": {
      "byteLimit": 2048000,
      "rowLimit": 10000
     },
     "inputWidgets": {},
     "nuid": "5f3715a0-d1e2-433e-83ed-04692a0685e6",
     "showTitle": false,
     "tableResultSettingsMap": {},
     "title": ""
    }
   },
   "outputs": [
    {
     "output_type": "stream",
     "name": "stdout",
     "output_type": "stream",
     "text": [
      "+-----------+-----------------------------------------------------------------+----------+----------+-------+\n|Hospital_id|Hospital_name                                                    |city      |state     |country|\n+-----------+-----------------------------------------------------------------+----------+----------+-------+\n|H1000      |All India Institute of Medical Sciences                          |New Delhi |NaN       |India  |\n|H1001      |Medanta The Medicity                                             |Gurgaon   |Haryana   |India  |\n|H1002      |The Christian Medical College                                    |Vellore   |Tamil Nadu|India  |\n|H1003      |PGIMER - Postgraduate Institute of Medical Education and Research|Chandigarh|Haryana   |India  |\n|H1004      |Apollo Hospital - Chennai                                        |Chennai   |Tamil Nadu|India  |\n+-----------+-----------------------------------------------------------------+----------+----------+-------+\nonly showing top 5 rows\n"
     ]
    }
   ],
   "source": [
    "hosp_df.show(5,False)"
   ]
  },
  {
   "cell_type": "code",
   "execution_count": 0,
   "metadata": {
    "application/vnd.databricks.v1+cell": {
     "cellMetadata": {
      "byteLimit": 2048000,
      "rowLimit": 10000
     },
     "inputWidgets": {},
     "nuid": "382eca01-73ca-4b23-8457-82beff4f88bc",
     "showTitle": false,
     "tableResultSettingsMap": {},
     "title": ""
    }
   },
   "outputs": [
    {
     "output_type": "display_data",
     "data": {
      "text/html": [
       "<style scoped>\n",
       "  .table-result-container {\n",
       "    max-height: 300px;\n",
       "    overflow: auto;\n",
       "  }\n",
       "  table, th, td {\n",
       "    border: 1px solid black;\n",
       "    border-collapse: collapse;\n",
       "  }\n",
       "  th, td {\n",
       "    padding: 5px;\n",
       "  }\n",
       "  th {\n",
       "    text-align: left;\n",
       "  }\n",
       "</style><div class='table-result-container'><table class='table-result'><thead style='background-color: white'><tr><th>Hospital_id</th><th>Hospital_name</th><th>city</th><th>state</th><th>country</th></tr></thead><tbody><tr><td>H1000</td><td>All India Institute of Medical Sciences</td><td>New Delhi</td><td>NaN</td><td>India</td></tr><tr><td>H1001</td><td>Medanta The Medicity</td><td>Gurgaon</td><td>Haryana</td><td>India</td></tr><tr><td>H1002</td><td>The Christian Medical College</td><td>Vellore</td><td>Tamil Nadu</td><td>India</td></tr><tr><td>H1003</td><td>PGIMER - Postgraduate Institute of Medical Education and Research</td><td>Chandigarh</td><td>Haryana</td><td>India</td></tr><tr><td>H1004</td><td>Apollo Hospital - Chennai</td><td>Chennai</td><td>Tamil Nadu</td><td>India</td></tr><tr><td>H1005</td><td>P. D. Hinduja National Hospital & Medical Research Centre</td><td>Mumbai</td><td>Maharashtra</td><td>India</td></tr><tr><td>H1006</td><td>Breach Candy Hospital</td><td>Mumbai</td><td>Maharashtra</td><td>India</td></tr><tr><td>H1007</td><td>Fortis Flt. Lt. Rajan Dhall Hospital</td><td>New Delhi</td><td>NaN</td><td>India</td></tr><tr><td>H1008</td><td>King Edward Memorial Hospital</td><td>Mumbai</td><td>Maharashtra</td><td>India</td></tr><tr><td>H1009</td><td>Indraprastha Apollo Hospital</td><td>Delhi</td><td>NaN</td><td>India</td></tr><tr><td>H1010</td><td>Lilavati Hospital And Research Centre</td><td>Mumbai</td><td>Maharashtra</td><td>India</td></tr><tr><td>H1011</td><td>Sir Ganga Ram Hospital</td><td>Delhi</td><td>NaN</td><td>India</td></tr><tr><td>H1012</td><td>Bombay Hospital & Medical Research Centre</td><td>Mumbai</td><td>Maharashtra</td><td>India</td></tr><tr><td>H1013</td><td>Apollo Health City - Jubilee Hills</td><td>Hyderabad</td><td>Telangana</td><td>India</td></tr><tr><td>H1014</td><td>Fortis Hiranandani Hospital</td><td>Mumbai</td><td>Maharashtra</td><td>India</td></tr><tr><td>H1015</td><td>Fortis Hospital Mulund</td><td>Mumbai</td><td>Maharashtra</td><td>India</td></tr><tr><td>H1016</td><td>Jaslok Hospital and Research Centre</td><td>Mumbai</td><td>Maharashtra</td><td>India</td></tr><tr><td>H1017</td><td>Manipal Hospitals</td><td>Bengaluru</td><td>Karnataka</td><td>India</td></tr><tr><td>H1018</td><td>Yashoda Hospital Secunderabad</td><td>Hyderabad</td><td>Telangana</td><td>India</td></tr><tr><td>H1019</td><td>Apollo Hospitals - Bannerghatta Road</td><td>Bengaluru</td><td>Karnataka</td><td>India</td></tr></tbody></table></div>"
      ]
     },
     "metadata": {
      "application/vnd.databricks.v1+output": {
       "addedWidgets": {},
       "aggData": [],
       "aggError": "",
       "aggOverflow": false,
       "aggSchema": [],
       "aggSeriesLimitReached": false,
       "aggType": "",
       "arguments": {},
       "columnCustomDisplayInfos": {},
       "data": [
        [
         "H1000",
         "All India Institute of Medical Sciences",
         "New Delhi",
         "NaN",
         "India"
        ],
        [
         "H1001",
         "Medanta The Medicity",
         "Gurgaon",
         "Haryana",
         "India"
        ],
        [
         "H1002",
         "The Christian Medical College",
         "Vellore",
         "Tamil Nadu",
         "India"
        ],
        [
         "H1003",
         "PGIMER - Postgraduate Institute of Medical Education and Research",
         "Chandigarh",
         "Haryana",
         "India"
        ],
        [
         "H1004",
         "Apollo Hospital - Chennai",
         "Chennai",
         "Tamil Nadu",
         "India"
        ],
        [
         "H1005",
         "P. D. Hinduja National Hospital & Medical Research Centre",
         "Mumbai",
         "Maharashtra",
         "India"
        ],
        [
         "H1006",
         "Breach Candy Hospital",
         "Mumbai",
         "Maharashtra",
         "India"
        ],
        [
         "H1007",
         "Fortis Flt. Lt. Rajan Dhall Hospital",
         "New Delhi",
         "NaN",
         "India"
        ],
        [
         "H1008",
         "King Edward Memorial Hospital",
         "Mumbai",
         "Maharashtra",
         "India"
        ],
        [
         "H1009",
         "Indraprastha Apollo Hospital",
         "Delhi",
         "NaN",
         "India"
        ],
        [
         "H1010",
         "Lilavati Hospital And Research Centre",
         "Mumbai",
         "Maharashtra",
         "India"
        ],
        [
         "H1011",
         "Sir Ganga Ram Hospital",
         "Delhi",
         "NaN",
         "India"
        ],
        [
         "H1012",
         "Bombay Hospital & Medical Research Centre",
         "Mumbai",
         "Maharashtra",
         "India"
        ],
        [
         "H1013",
         "Apollo Health City - Jubilee Hills",
         "Hyderabad",
         "Telangana",
         "India"
        ],
        [
         "H1014",
         "Fortis Hiranandani Hospital",
         "Mumbai",
         "Maharashtra",
         "India"
        ],
        [
         "H1015",
         "Fortis Hospital Mulund",
         "Mumbai",
         "Maharashtra",
         "India"
        ],
        [
         "H1016",
         "Jaslok Hospital and Research Centre",
         "Mumbai",
         "Maharashtra",
         "India"
        ],
        [
         "H1017",
         "Manipal Hospitals",
         "Bengaluru",
         "Karnataka",
         "India"
        ],
        [
         "H1018",
         "Yashoda Hospital Secunderabad",
         "Hyderabad",
         "Telangana",
         "India"
        ],
        [
         "H1019",
         "Apollo Hospitals - Bannerghatta Road",
         "Bengaluru",
         "Karnataka",
         "India"
        ]
       ],
       "datasetInfos": [],
       "dbfsResultPath": null,
       "isJsonSchema": true,
       "metadata": {},
       "overflow": false,
       "plotOptions": {
        "customPlotOptions": {},
        "displayType": "table",
        "pivotAggregation": null,
        "pivotColumns": null,
        "xColumns": null,
        "yColumns": null
       },
       "removedWidgets": [],
       "schema": [
        {
         "metadata": "{}",
         "name": "Hospital_id",
         "type": "\"string\""
        },
        {
         "metadata": "{}",
         "name": "Hospital_name",
         "type": "\"string\""
        },
        {
         "metadata": "{}",
         "name": "city",
         "type": "\"string\""
        },
        {
         "metadata": "{}",
         "name": "state",
         "type": "\"string\""
        },
        {
         "metadata": "{}",
         "name": "country",
         "type": "\"string\""
        }
       ],
       "type": "table"
      }
     },
     "output_type": "display_data"
    }
   ],
   "source": [
    "display(hosp_df)"
   ]
  },
  {
   "cell_type": "code",
   "execution_count": 0,
   "metadata": {
    "application/vnd.databricks.v1+cell": {
     "cellMetadata": {
      "byteLimit": 2048000,
      "rowLimit": 10000
     },
     "inputWidgets": {},
     "nuid": "2a46d711-0909-4526-b4d9-52ca6d3b1baf",
     "showTitle": false,
     "tableResultSettingsMap": {},
     "title": ""
    }
   },
   "outputs": [
    {
     "output_type": "stream",
     "name": "stdout",
     "output_type": "stream",
     "text": [
      "+-----------+-------------+----+-----+-------+\n|Hospital_id|Hospital_name|city|state|country|\n+-----------+-------------+----+-----+-------+\n|          0|            0|   0|    0|      0|\n+-----------+-------------+----+-----+-------+\n\n"
     ]
    }
   ],
   "source": [
    "missingvaluescheck(hosp_df)"
   ]
  },
  {
   "cell_type": "code",
   "execution_count": 0,
   "metadata": {
    "application/vnd.databricks.v1+cell": {
     "cellMetadata": {
      "byteLimit": 2048000,
      "rowLimit": 10000
     },
     "inputWidgets": {},
     "nuid": "8987b4aa-611f-4a57-9a25-9215cddb2280",
     "showTitle": false,
     "tableResultSettingsMap": {},
     "title": ""
    }
   },
   "outputs": [
    {
     "output_type": "display_data",
     "data": {
      "text/html": [
       "<style scoped>\n",
       "  .table-result-container {\n",
       "    max-height: 300px;\n",
       "    overflow: auto;\n",
       "  }\n",
       "  table, th, td {\n",
       "    border: 1px solid black;\n",
       "    border-collapse: collapse;\n",
       "  }\n",
       "  th, td {\n",
       "    padding: 5px;\n",
       "  }\n",
       "  th {\n",
       "    text-align: left;\n",
       "  }\n",
       "</style><div class='table-result-container'><table class='table-result'><thead style='background-color: white'><tr><th>Hospital_id</th><th>Hospital_name</th><th>city</th><th>state</th><th>country</th></tr></thead><tbody><tr><td>H1000</td><td>All India Institute of Medical Sciences</td><td>New Delhi</td><td>NaN</td><td>India</td></tr><tr><td>H1001</td><td>Medanta The Medicity</td><td>Gurgaon</td><td>Haryana</td><td>India</td></tr><tr><td>H1002</td><td>The Christian Medical College</td><td>Vellore</td><td>Tamil Nadu</td><td>India</td></tr><tr><td>H1003</td><td>PGIMER - Postgraduate Institute of Medical Education and Research</td><td>Chandigarh</td><td>Haryana</td><td>India</td></tr><tr><td>H1004</td><td>Apollo Hospital - Chennai</td><td>Chennai</td><td>Tamil Nadu</td><td>India</td></tr><tr><td>H1005</td><td>P. D. Hinduja National Hospital & Medical Research Centre</td><td>Mumbai</td><td>Maharashtra</td><td>India</td></tr><tr><td>H1006</td><td>Breach Candy Hospital</td><td>Mumbai</td><td>Maharashtra</td><td>India</td></tr><tr><td>H1007</td><td>Fortis Flt. Lt. Rajan Dhall Hospital</td><td>New Delhi</td><td>NaN</td><td>India</td></tr><tr><td>H1008</td><td>King Edward Memorial Hospital</td><td>Mumbai</td><td>Maharashtra</td><td>India</td></tr><tr><td>H1009</td><td>Indraprastha Apollo Hospital</td><td>Delhi</td><td>NaN</td><td>India</td></tr><tr><td>H1010</td><td>Lilavati Hospital And Research Centre</td><td>Mumbai</td><td>Maharashtra</td><td>India</td></tr><tr><td>H1011</td><td>Sir Ganga Ram Hospital</td><td>Delhi</td><td>NaN</td><td>India</td></tr><tr><td>H1012</td><td>Bombay Hospital & Medical Research Centre</td><td>Mumbai</td><td>Maharashtra</td><td>India</td></tr><tr><td>H1013</td><td>Apollo Health City - Jubilee Hills</td><td>Hyderabad</td><td>Telangana</td><td>India</td></tr><tr><td>H1014</td><td>Fortis Hiranandani Hospital</td><td>Mumbai</td><td>Maharashtra</td><td>India</td></tr><tr><td>H1015</td><td>Fortis Hospital Mulund</td><td>Mumbai</td><td>Maharashtra</td><td>India</td></tr><tr><td>H1016</td><td>Jaslok Hospital and Research Centre</td><td>Mumbai</td><td>Maharashtra</td><td>India</td></tr><tr><td>H1017</td><td>Manipal Hospitals</td><td>Bengaluru</td><td>Karnataka</td><td>India</td></tr><tr><td>H1018</td><td>Yashoda Hospital Secunderabad</td><td>Hyderabad</td><td>Telangana</td><td>India</td></tr><tr><td>H1019</td><td>Apollo Hospitals - Bannerghatta Road</td><td>Bengaluru</td><td>Karnataka</td><td>India</td></tr></tbody></table></div>"
      ]
     },
     "metadata": {
      "application/vnd.databricks.v1+output": {
       "addedWidgets": {},
       "aggData": [],
       "aggError": "",
       "aggOverflow": false,
       "aggSchema": [],
       "aggSeriesLimitReached": false,
       "aggType": "",
       "arguments": {},
       "columnCustomDisplayInfos": {},
       "data": [
        [
         "H1000",
         "All India Institute of Medical Sciences",
         "New Delhi",
         "NaN",
         "India"
        ],
        [
         "H1001",
         "Medanta The Medicity",
         "Gurgaon",
         "Haryana",
         "India"
        ],
        [
         "H1002",
         "The Christian Medical College",
         "Vellore",
         "Tamil Nadu",
         "India"
        ],
        [
         "H1003",
         "PGIMER - Postgraduate Institute of Medical Education and Research",
         "Chandigarh",
         "Haryana",
         "India"
        ],
        [
         "H1004",
         "Apollo Hospital - Chennai",
         "Chennai",
         "Tamil Nadu",
         "India"
        ],
        [
         "H1005",
         "P. D. Hinduja National Hospital & Medical Research Centre",
         "Mumbai",
         "Maharashtra",
         "India"
        ],
        [
         "H1006",
         "Breach Candy Hospital",
         "Mumbai",
         "Maharashtra",
         "India"
        ],
        [
         "H1007",
         "Fortis Flt. Lt. Rajan Dhall Hospital",
         "New Delhi",
         "NaN",
         "India"
        ],
        [
         "H1008",
         "King Edward Memorial Hospital",
         "Mumbai",
         "Maharashtra",
         "India"
        ],
        [
         "H1009",
         "Indraprastha Apollo Hospital",
         "Delhi",
         "NaN",
         "India"
        ],
        [
         "H1010",
         "Lilavati Hospital And Research Centre",
         "Mumbai",
         "Maharashtra",
         "India"
        ],
        [
         "H1011",
         "Sir Ganga Ram Hospital",
         "Delhi",
         "NaN",
         "India"
        ],
        [
         "H1012",
         "Bombay Hospital & Medical Research Centre",
         "Mumbai",
         "Maharashtra",
         "India"
        ],
        [
         "H1013",
         "Apollo Health City - Jubilee Hills",
         "Hyderabad",
         "Telangana",
         "India"
        ],
        [
         "H1014",
         "Fortis Hiranandani Hospital",
         "Mumbai",
         "Maharashtra",
         "India"
        ],
        [
         "H1015",
         "Fortis Hospital Mulund",
         "Mumbai",
         "Maharashtra",
         "India"
        ],
        [
         "H1016",
         "Jaslok Hospital and Research Centre",
         "Mumbai",
         "Maharashtra",
         "India"
        ],
        [
         "H1017",
         "Manipal Hospitals",
         "Bengaluru",
         "Karnataka",
         "India"
        ],
        [
         "H1018",
         "Yashoda Hospital Secunderabad",
         "Hyderabad",
         "Telangana",
         "India"
        ],
        [
         "H1019",
         "Apollo Hospitals - Bannerghatta Road",
         "Bengaluru",
         "Karnataka",
         "India"
        ]
       ],
       "datasetInfos": [],
       "dbfsResultPath": null,
       "isJsonSchema": true,
       "metadata": {},
       "overflow": false,
       "plotOptions": {
        "customPlotOptions": {},
        "displayType": "table",
        "pivotAggregation": null,
        "pivotColumns": null,
        "xColumns": null,
        "yColumns": null
       },
       "removedWidgets": [],
       "schema": [
        {
         "metadata": "{}",
         "name": "Hospital_id",
         "type": "\"string\""
        },
        {
         "metadata": "{}",
         "name": "Hospital_name",
         "type": "\"string\""
        },
        {
         "metadata": "{}",
         "name": "city",
         "type": "\"string\""
        },
        {
         "metadata": "{}",
         "name": "state",
         "type": "\"string\""
        },
        {
         "metadata": "{}",
         "name": "country",
         "type": "\"string\""
        }
       ],
       "type": "table"
      }
     },
     "output_type": "display_data"
    }
   ],
   "source": [
    "display(hosp_df)"
   ]
  },
  {
   "cell_type": "code",
   "execution_count": 0,
   "metadata": {
    "application/vnd.databricks.v1+cell": {
     "cellMetadata": {
      "byteLimit": 2048000,
      "rowLimit": 10000
     },
     "inputWidgets": {},
     "nuid": "20e7b5dd-4067-48f2-a12c-544f922ff1ee",
     "showTitle": false,
     "tableResultSettingsMap": {},
     "title": ""
    }
   },
   "outputs": [],
   "source": [
    "hosp_df  = hosp_df.replace(\"NaN\", None) # replacing Nan with null"
   ]
  },
  {
   "cell_type": "code",
   "execution_count": 0,
   "metadata": {
    "application/vnd.databricks.v1+cell": {
     "cellMetadata": {
      "byteLimit": 2048000,
      "rowLimit": 10000
     },
     "inputWidgets": {},
     "nuid": "978fe5c9-7a67-4643-a055-ddae8ddcd699",
     "showTitle": false,
     "tableResultSettingsMap": {},
     "title": ""
    }
   },
   "outputs": [],
   "source": [
    "hosp_df = hosp_df.fillna('UT', subset=['state']) #filling the null values with UT"
   ]
  },
  {
   "cell_type": "code",
   "execution_count": 0,
   "metadata": {
    "application/vnd.databricks.v1+cell": {
     "cellMetadata": {
      "byteLimit": 2048000,
      "rowLimit": 10000
     },
     "inputWidgets": {},
     "nuid": "9c866e85-8082-47eb-af19-e330fa2721df",
     "showTitle": false,
     "tableResultSettingsMap": {},
     "title": ""
    }
   },
   "outputs": [
    {
     "output_type": "display_data",
     "data": {
      "text/html": [
       "<style scoped>\n",
       "  .table-result-container {\n",
       "    max-height: 300px;\n",
       "    overflow: auto;\n",
       "  }\n",
       "  table, th, td {\n",
       "    border: 1px solid black;\n",
       "    border-collapse: collapse;\n",
       "  }\n",
       "  th, td {\n",
       "    padding: 5px;\n",
       "  }\n",
       "  th {\n",
       "    text-align: left;\n",
       "  }\n",
       "</style><div class='table-result-container'><table class='table-result'><thead style='background-color: white'><tr><th>Hospital_id</th><th>Hospital_name</th><th>city</th><th>state</th><th>country</th></tr></thead><tbody><tr><td>H1000</td><td>All India Institute of Medical Sciences</td><td>New Delhi</td><td>UT</td><td>India</td></tr><tr><td>H1001</td><td>Medanta The Medicity</td><td>Gurgaon</td><td>Haryana</td><td>India</td></tr><tr><td>H1002</td><td>The Christian Medical College</td><td>Vellore</td><td>Tamil Nadu</td><td>India</td></tr><tr><td>H1003</td><td>PGIMER - Postgraduate Institute of Medical Education and Research</td><td>Chandigarh</td><td>Haryana</td><td>India</td></tr><tr><td>H1004</td><td>Apollo Hospital - Chennai</td><td>Chennai</td><td>Tamil Nadu</td><td>India</td></tr><tr><td>H1005</td><td>P. D. Hinduja National Hospital & Medical Research Centre</td><td>Mumbai</td><td>Maharashtra</td><td>India</td></tr><tr><td>H1006</td><td>Breach Candy Hospital</td><td>Mumbai</td><td>Maharashtra</td><td>India</td></tr><tr><td>H1007</td><td>Fortis Flt. Lt. Rajan Dhall Hospital</td><td>New Delhi</td><td>UT</td><td>India</td></tr><tr><td>H1008</td><td>King Edward Memorial Hospital</td><td>Mumbai</td><td>Maharashtra</td><td>India</td></tr><tr><td>H1009</td><td>Indraprastha Apollo Hospital</td><td>Delhi</td><td>UT</td><td>India</td></tr><tr><td>H1010</td><td>Lilavati Hospital And Research Centre</td><td>Mumbai</td><td>Maharashtra</td><td>India</td></tr><tr><td>H1011</td><td>Sir Ganga Ram Hospital</td><td>Delhi</td><td>UT</td><td>India</td></tr><tr><td>H1012</td><td>Bombay Hospital & Medical Research Centre</td><td>Mumbai</td><td>Maharashtra</td><td>India</td></tr><tr><td>H1013</td><td>Apollo Health City - Jubilee Hills</td><td>Hyderabad</td><td>Telangana</td><td>India</td></tr><tr><td>H1014</td><td>Fortis Hiranandani Hospital</td><td>Mumbai</td><td>Maharashtra</td><td>India</td></tr><tr><td>H1015</td><td>Fortis Hospital Mulund</td><td>Mumbai</td><td>Maharashtra</td><td>India</td></tr><tr><td>H1016</td><td>Jaslok Hospital and Research Centre</td><td>Mumbai</td><td>Maharashtra</td><td>India</td></tr><tr><td>H1017</td><td>Manipal Hospitals</td><td>Bengaluru</td><td>Karnataka</td><td>India</td></tr><tr><td>H1018</td><td>Yashoda Hospital Secunderabad</td><td>Hyderabad</td><td>Telangana</td><td>India</td></tr><tr><td>H1019</td><td>Apollo Hospitals - Bannerghatta Road</td><td>Bengaluru</td><td>Karnataka</td><td>India</td></tr></tbody></table></div>"
      ]
     },
     "metadata": {
      "application/vnd.databricks.v1+output": {
       "addedWidgets": {},
       "aggData": [],
       "aggError": "",
       "aggOverflow": false,
       "aggSchema": [],
       "aggSeriesLimitReached": false,
       "aggType": "",
       "arguments": {},
       "columnCustomDisplayInfos": {},
       "data": [
        [
         "H1000",
         "All India Institute of Medical Sciences",
         "New Delhi",
         "UT",
         "India"
        ],
        [
         "H1001",
         "Medanta The Medicity",
         "Gurgaon",
         "Haryana",
         "India"
        ],
        [
         "H1002",
         "The Christian Medical College",
         "Vellore",
         "Tamil Nadu",
         "India"
        ],
        [
         "H1003",
         "PGIMER - Postgraduate Institute of Medical Education and Research",
         "Chandigarh",
         "Haryana",
         "India"
        ],
        [
         "H1004",
         "Apollo Hospital - Chennai",
         "Chennai",
         "Tamil Nadu",
         "India"
        ],
        [
         "H1005",
         "P. D. Hinduja National Hospital & Medical Research Centre",
         "Mumbai",
         "Maharashtra",
         "India"
        ],
        [
         "H1006",
         "Breach Candy Hospital",
         "Mumbai",
         "Maharashtra",
         "India"
        ],
        [
         "H1007",
         "Fortis Flt. Lt. Rajan Dhall Hospital",
         "New Delhi",
         "UT",
         "India"
        ],
        [
         "H1008",
         "King Edward Memorial Hospital",
         "Mumbai",
         "Maharashtra",
         "India"
        ],
        [
         "H1009",
         "Indraprastha Apollo Hospital",
         "Delhi",
         "UT",
         "India"
        ],
        [
         "H1010",
         "Lilavati Hospital And Research Centre",
         "Mumbai",
         "Maharashtra",
         "India"
        ],
        [
         "H1011",
         "Sir Ganga Ram Hospital",
         "Delhi",
         "UT",
         "India"
        ],
        [
         "H1012",
         "Bombay Hospital & Medical Research Centre",
         "Mumbai",
         "Maharashtra",
         "India"
        ],
        [
         "H1013",
         "Apollo Health City - Jubilee Hills",
         "Hyderabad",
         "Telangana",
         "India"
        ],
        [
         "H1014",
         "Fortis Hiranandani Hospital",
         "Mumbai",
         "Maharashtra",
         "India"
        ],
        [
         "H1015",
         "Fortis Hospital Mulund",
         "Mumbai",
         "Maharashtra",
         "India"
        ],
        [
         "H1016",
         "Jaslok Hospital and Research Centre",
         "Mumbai",
         "Maharashtra",
         "India"
        ],
        [
         "H1017",
         "Manipal Hospitals",
         "Bengaluru",
         "Karnataka",
         "India"
        ],
        [
         "H1018",
         "Yashoda Hospital Secunderabad",
         "Hyderabad",
         "Telangana",
         "India"
        ],
        [
         "H1019",
         "Apollo Hospitals - Bannerghatta Road",
         "Bengaluru",
         "Karnataka",
         "India"
        ]
       ],
       "datasetInfos": [],
       "dbfsResultPath": null,
       "isJsonSchema": true,
       "metadata": {},
       "overflow": false,
       "plotOptions": {
        "customPlotOptions": {},
        "displayType": "table",
        "pivotAggregation": null,
        "pivotColumns": null,
        "xColumns": null,
        "yColumns": null
       },
       "removedWidgets": [],
       "schema": [
        {
         "metadata": "{}",
         "name": "Hospital_id",
         "type": "\"string\""
        },
        {
         "metadata": "{}",
         "name": "Hospital_name",
         "type": "\"string\""
        },
        {
         "metadata": "{}",
         "name": "city",
         "type": "\"string\""
        },
        {
         "metadata": "{}",
         "name": "state",
         "type": "\"string\""
        },
        {
         "metadata": "{}",
         "name": "country",
         "type": "\"string\""
        }
       ],
       "type": "table"
      }
     },
     "output_type": "display_data"
    }
   ],
   "source": [
    "display(hosp_df)"
   ]
  },
  {
   "cell_type": "code",
   "execution_count": 0,
   "metadata": {
    "application/vnd.databricks.v1+cell": {
     "cellMetadata": {
      "byteLimit": 2048000,
      "rowLimit": 10000
     },
     "inputWidgets": {},
     "nuid": "06316df8-a75e-45c6-aa06-4642def08198",
     "showTitle": false,
     "tableResultSettingsMap": {},
     "title": ""
    }
   },
   "outputs": [
    {
     "output_type": "stream",
     "name": "stdout",
     "output_type": "stream",
     "text": [
      "+----------+------------------+\n|      city|count(Hospital_id)|\n+----------+------------------+\n|   Vellore|                 1|\n| New Delhi|                 2|\n|    Mumbai|                 8|\n| Hyderabad|                 2|\n|   Gurgaon|                 1|\n|     Delhi|                 2|\n|   Chennai|                 1|\n|Chandigarh|                 1|\n| Bengaluru|                 2|\n+----------+------------------+\n\n"
     ]
    }
   ],
   "source": [
    "hosp_df.groupBy(\"city\").agg({'Hospital_id':'count'}).orderBy(desc('city')).show() \n",
    "#here if we see there are new delhi and delhi are there"
   ]
  },
  {
   "cell_type": "code",
   "execution_count": 0,
   "metadata": {
    "application/vnd.databricks.v1+cell": {
     "cellMetadata": {
      "byteLimit": 2048000,
      "rowLimit": 10000
     },
     "inputWidgets": {},
     "nuid": "90102c49-80b8-4ec9-b628-90c6e488d0f4",
     "showTitle": false,
     "tableResultSettingsMap": {},
     "title": ""
    }
   },
   "outputs": [
    {
     "output_type": "display_data",
     "data": {
      "text/html": [
       "<style scoped>\n",
       "  .table-result-container {\n",
       "    max-height: 300px;\n",
       "    overflow: auto;\n",
       "  }\n",
       "  table, th, td {\n",
       "    border: 1px solid black;\n",
       "    border-collapse: collapse;\n",
       "  }\n",
       "  th, td {\n",
       "    padding: 5px;\n",
       "  }\n",
       "  th {\n",
       "    text-align: left;\n",
       "  }\n",
       "</style><div class='table-result-container'><table class='table-result'><thead style='background-color: white'><tr><th>Hospital_id</th><th>Hospital_name</th><th>city</th><th>state</th><th>country</th></tr></thead><tbody><tr><td>H1000</td><td>All India Institute of Medical Sciences</td><td>New Delhi</td><td>UT</td><td>India</td></tr><tr><td>H1001</td><td>Medanta The Medicity</td><td>Gurgaon</td><td>Haryana</td><td>India</td></tr><tr><td>H1002</td><td>The Christian Medical College</td><td>Vellore</td><td>Tamil Nadu</td><td>India</td></tr><tr><td>H1003</td><td>PGIMER - Postgraduate Institute of Medical Education and Research</td><td>Chandigarh</td><td>Haryana</td><td>India</td></tr><tr><td>H1004</td><td>Apollo Hospital - Chennai</td><td>Chennai</td><td>Tamil Nadu</td><td>India</td></tr><tr><td>H1005</td><td>P. D. Hinduja National Hospital & Medical Research Centre</td><td>Mumbai</td><td>Maharashtra</td><td>India</td></tr><tr><td>H1006</td><td>Breach Candy Hospital</td><td>Mumbai</td><td>Maharashtra</td><td>India</td></tr><tr><td>H1007</td><td>Fortis Flt. Lt. Rajan Dhall Hospital</td><td>New Delhi</td><td>UT</td><td>India</td></tr><tr><td>H1008</td><td>King Edward Memorial Hospital</td><td>Mumbai</td><td>Maharashtra</td><td>India</td></tr><tr><td>H1009</td><td>Indraprastha Apollo Hospital</td><td>Delhi</td><td>UT</td><td>India</td></tr><tr><td>H1010</td><td>Lilavati Hospital And Research Centre</td><td>Mumbai</td><td>Maharashtra</td><td>India</td></tr><tr><td>H1011</td><td>Sir Ganga Ram Hospital</td><td>Delhi</td><td>UT</td><td>India</td></tr><tr><td>H1012</td><td>Bombay Hospital & Medical Research Centre</td><td>Mumbai</td><td>Maharashtra</td><td>India</td></tr><tr><td>H1013</td><td>Apollo Health City - Jubilee Hills</td><td>Hyderabad</td><td>Telangana</td><td>India</td></tr><tr><td>H1014</td><td>Fortis Hiranandani Hospital</td><td>Mumbai</td><td>Maharashtra</td><td>India</td></tr><tr><td>H1015</td><td>Fortis Hospital Mulund</td><td>Mumbai</td><td>Maharashtra</td><td>India</td></tr><tr><td>H1016</td><td>Jaslok Hospital and Research Centre</td><td>Mumbai</td><td>Maharashtra</td><td>India</td></tr><tr><td>H1017</td><td>Manipal Hospitals</td><td>Bengaluru</td><td>Karnataka</td><td>India</td></tr><tr><td>H1018</td><td>Yashoda Hospital Secunderabad</td><td>Hyderabad</td><td>Telangana</td><td>India</td></tr><tr><td>H1019</td><td>Apollo Hospitals - Bannerghatta Road</td><td>Bengaluru</td><td>Karnataka</td><td>India</td></tr></tbody></table></div>"
      ]
     },
     "metadata": {
      "application/vnd.databricks.v1+output": {
       "addedWidgets": {},
       "aggData": [],
       "aggError": "",
       "aggOverflow": false,
       "aggSchema": [],
       "aggSeriesLimitReached": false,
       "aggType": "",
       "arguments": {},
       "columnCustomDisplayInfos": {},
       "data": [
        [
         "H1000",
         "All India Institute of Medical Sciences",
         "New Delhi",
         "UT",
         "India"
        ],
        [
         "H1001",
         "Medanta The Medicity",
         "Gurgaon",
         "Haryana",
         "India"
        ],
        [
         "H1002",
         "The Christian Medical College",
         "Vellore",
         "Tamil Nadu",
         "India"
        ],
        [
         "H1003",
         "PGIMER - Postgraduate Institute of Medical Education and Research",
         "Chandigarh",
         "Haryana",
         "India"
        ],
        [
         "H1004",
         "Apollo Hospital - Chennai",
         "Chennai",
         "Tamil Nadu",
         "India"
        ],
        [
         "H1005",
         "P. D. Hinduja National Hospital & Medical Research Centre",
         "Mumbai",
         "Maharashtra",
         "India"
        ],
        [
         "H1006",
         "Breach Candy Hospital",
         "Mumbai",
         "Maharashtra",
         "India"
        ],
        [
         "H1007",
         "Fortis Flt. Lt. Rajan Dhall Hospital",
         "New Delhi",
         "UT",
         "India"
        ],
        [
         "H1008",
         "King Edward Memorial Hospital",
         "Mumbai",
         "Maharashtra",
         "India"
        ],
        [
         "H1009",
         "Indraprastha Apollo Hospital",
         "Delhi",
         "UT",
         "India"
        ],
        [
         "H1010",
         "Lilavati Hospital And Research Centre",
         "Mumbai",
         "Maharashtra",
         "India"
        ],
        [
         "H1011",
         "Sir Ganga Ram Hospital",
         "Delhi",
         "UT",
         "India"
        ],
        [
         "H1012",
         "Bombay Hospital & Medical Research Centre",
         "Mumbai",
         "Maharashtra",
         "India"
        ],
        [
         "H1013",
         "Apollo Health City - Jubilee Hills",
         "Hyderabad",
         "Telangana",
         "India"
        ],
        [
         "H1014",
         "Fortis Hiranandani Hospital",
         "Mumbai",
         "Maharashtra",
         "India"
        ],
        [
         "H1015",
         "Fortis Hospital Mulund",
         "Mumbai",
         "Maharashtra",
         "India"
        ],
        [
         "H1016",
         "Jaslok Hospital and Research Centre",
         "Mumbai",
         "Maharashtra",
         "India"
        ],
        [
         "H1017",
         "Manipal Hospitals",
         "Bengaluru",
         "Karnataka",
         "India"
        ],
        [
         "H1018",
         "Yashoda Hospital Secunderabad",
         "Hyderabad",
         "Telangana",
         "India"
        ],
        [
         "H1019",
         "Apollo Hospitals - Bannerghatta Road",
         "Bengaluru",
         "Karnataka",
         "India"
        ]
       ],
       "datasetInfos": [],
       "dbfsResultPath": null,
       "isJsonSchema": true,
       "metadata": {},
       "overflow": false,
       "plotOptions": {
        "customPlotOptions": {},
        "displayType": "table",
        "pivotAggregation": null,
        "pivotColumns": null,
        "xColumns": null,
        "yColumns": null
       },
       "removedWidgets": [],
       "schema": [
        {
         "metadata": "{}",
         "name": "Hospital_id",
         "type": "\"string\""
        },
        {
         "metadata": "{}",
         "name": "Hospital_name",
         "type": "\"string\""
        },
        {
         "metadata": "{}",
         "name": "city",
         "type": "\"string\""
        },
        {
         "metadata": "{}",
         "name": "state",
         "type": "\"string\""
        },
        {
         "metadata": "{}",
         "name": "country",
         "type": "\"string\""
        }
       ],
       "type": "table"
      }
     },
     "output_type": "display_data"
    }
   ],
   "source": [
    "display(hosp_df)"
   ]
  },
  {
   "cell_type": "code",
   "execution_count": 0,
   "metadata": {
    "application/vnd.databricks.v1+cell": {
     "cellMetadata": {
      "byteLimit": 2048000,
      "rowLimit": 10000
     },
     "inputWidgets": {},
     "nuid": "d893f04a-0695-4c9d-92da-1c4850c3a073",
     "showTitle": false,
     "tableResultSettingsMap": {},
     "title": ""
    }
   },
   "outputs": [],
   "source": [
    "hosp_df  = hosp_df.replace(\"NaN\", None) # replacing Nan with null\n"
   ]
  },
  {
   "cell_type": "code",
   "execution_count": 0,
   "metadata": {
    "application/vnd.databricks.v1+cell": {
     "cellMetadata": {
      "byteLimit": 2048000,
      "rowLimit": 10000
     },
     "inputWidgets": {},
     "nuid": "599e4b88-550c-4787-9efe-747638385310",
     "showTitle": false,
     "tableResultSettingsMap": {},
     "title": ""
    }
   },
   "outputs": [],
   "source": [
    "hosp_df = hosp_df.fillna('UT', subset=['state']) #filling the null values with UT\n"
   ]
  },
  {
   "cell_type": "code",
   "execution_count": 0,
   "metadata": {
    "application/vnd.databricks.v1+cell": {
     "cellMetadata": {
      "byteLimit": 2048000,
      "rowLimit": 10000
     },
     "inputWidgets": {},
     "nuid": "8e77f0f4-680f-4eec-a0e3-5eee86054fc0",
     "showTitle": false,
     "tableResultSettingsMap": {},
     "title": ""
    }
   },
   "outputs": [],
   "source": [
    "hosp_df = hosp_df.replace(\"New Delhi\",\"Delhi\") #replacing the New Delhi with Delhi"
   ]
  },
  {
   "cell_type": "code",
   "execution_count": 0,
   "metadata": {
    "application/vnd.databricks.v1+cell": {
     "cellMetadata": {
      "byteLimit": 2048000,
      "rowLimit": 10000
     },
     "inputWidgets": {},
     "nuid": "485fd7b1-f664-4db1-b083-b051844aa3f1",
     "showTitle": false,
     "tableResultSettingsMap": {},
     "title": ""
    }
   },
   "outputs": [
    {
     "output_type": "display_data",
     "data": {
      "text/html": [
       "<style scoped>\n",
       "  .table-result-container {\n",
       "    max-height: 300px;\n",
       "    overflow: auto;\n",
       "  }\n",
       "  table, th, td {\n",
       "    border: 1px solid black;\n",
       "    border-collapse: collapse;\n",
       "  }\n",
       "  th, td {\n",
       "    padding: 5px;\n",
       "  }\n",
       "  th {\n",
       "    text-align: left;\n",
       "  }\n",
       "</style><div class='table-result-container'><table class='table-result'><thead style='background-color: white'><tr><th>Hospital_id</th><th>Hospital_name</th><th>city</th><th>state</th><th>country</th></tr></thead><tbody><tr><td>H1000</td><td>All India Institute of Medical Sciences</td><td>Delhi</td><td>UT</td><td>India</td></tr><tr><td>H1001</td><td>Medanta The Medicity</td><td>Gurgaon</td><td>Haryana</td><td>India</td></tr><tr><td>H1002</td><td>The Christian Medical College</td><td>Vellore</td><td>Tamil Nadu</td><td>India</td></tr><tr><td>H1003</td><td>PGIMER - Postgraduate Institute of Medical Education and Research</td><td>Chandigarh</td><td>Haryana</td><td>India</td></tr><tr><td>H1004</td><td>Apollo Hospital - Chennai</td><td>Chennai</td><td>Tamil Nadu</td><td>India</td></tr><tr><td>H1005</td><td>P. D. Hinduja National Hospital & Medical Research Centre</td><td>Mumbai</td><td>Maharashtra</td><td>India</td></tr><tr><td>H1006</td><td>Breach Candy Hospital</td><td>Mumbai</td><td>Maharashtra</td><td>India</td></tr><tr><td>H1007</td><td>Fortis Flt. Lt. Rajan Dhall Hospital</td><td>Delhi</td><td>UT</td><td>India</td></tr><tr><td>H1008</td><td>King Edward Memorial Hospital</td><td>Mumbai</td><td>Maharashtra</td><td>India</td></tr><tr><td>H1009</td><td>Indraprastha Apollo Hospital</td><td>Delhi</td><td>UT</td><td>India</td></tr><tr><td>H1010</td><td>Lilavati Hospital And Research Centre</td><td>Mumbai</td><td>Maharashtra</td><td>India</td></tr><tr><td>H1011</td><td>Sir Ganga Ram Hospital</td><td>Delhi</td><td>UT</td><td>India</td></tr><tr><td>H1012</td><td>Bombay Hospital & Medical Research Centre</td><td>Mumbai</td><td>Maharashtra</td><td>India</td></tr><tr><td>H1013</td><td>Apollo Health City - Jubilee Hills</td><td>Hyderabad</td><td>Telangana</td><td>India</td></tr><tr><td>H1014</td><td>Fortis Hiranandani Hospital</td><td>Mumbai</td><td>Maharashtra</td><td>India</td></tr><tr><td>H1015</td><td>Fortis Hospital Mulund</td><td>Mumbai</td><td>Maharashtra</td><td>India</td></tr><tr><td>H1016</td><td>Jaslok Hospital and Research Centre</td><td>Mumbai</td><td>Maharashtra</td><td>India</td></tr><tr><td>H1017</td><td>Manipal Hospitals</td><td>Bengaluru</td><td>Karnataka</td><td>India</td></tr><tr><td>H1018</td><td>Yashoda Hospital Secunderabad</td><td>Hyderabad</td><td>Telangana</td><td>India</td></tr><tr><td>H1019</td><td>Apollo Hospitals - Bannerghatta Road</td><td>Bengaluru</td><td>Karnataka</td><td>India</td></tr></tbody></table></div>"
      ]
     },
     "metadata": {
      "application/vnd.databricks.v1+output": {
       "addedWidgets": {},
       "aggData": [],
       "aggError": "",
       "aggOverflow": false,
       "aggSchema": [],
       "aggSeriesLimitReached": false,
       "aggType": "",
       "arguments": {},
       "columnCustomDisplayInfos": {},
       "data": [
        [
         "H1000",
         "All India Institute of Medical Sciences",
         "Delhi",
         "UT",
         "India"
        ],
        [
         "H1001",
         "Medanta The Medicity",
         "Gurgaon",
         "Haryana",
         "India"
        ],
        [
         "H1002",
         "The Christian Medical College",
         "Vellore",
         "Tamil Nadu",
         "India"
        ],
        [
         "H1003",
         "PGIMER - Postgraduate Institute of Medical Education and Research",
         "Chandigarh",
         "Haryana",
         "India"
        ],
        [
         "H1004",
         "Apollo Hospital - Chennai",
         "Chennai",
         "Tamil Nadu",
         "India"
        ],
        [
         "H1005",
         "P. D. Hinduja National Hospital & Medical Research Centre",
         "Mumbai",
         "Maharashtra",
         "India"
        ],
        [
         "H1006",
         "Breach Candy Hospital",
         "Mumbai",
         "Maharashtra",
         "India"
        ],
        [
         "H1007",
         "Fortis Flt. Lt. Rajan Dhall Hospital",
         "Delhi",
         "UT",
         "India"
        ],
        [
         "H1008",
         "King Edward Memorial Hospital",
         "Mumbai",
         "Maharashtra",
         "India"
        ],
        [
         "H1009",
         "Indraprastha Apollo Hospital",
         "Delhi",
         "UT",
         "India"
        ],
        [
         "H1010",
         "Lilavati Hospital And Research Centre",
         "Mumbai",
         "Maharashtra",
         "India"
        ],
        [
         "H1011",
         "Sir Ganga Ram Hospital",
         "Delhi",
         "UT",
         "India"
        ],
        [
         "H1012",
         "Bombay Hospital & Medical Research Centre",
         "Mumbai",
         "Maharashtra",
         "India"
        ],
        [
         "H1013",
         "Apollo Health City - Jubilee Hills",
         "Hyderabad",
         "Telangana",
         "India"
        ],
        [
         "H1014",
         "Fortis Hiranandani Hospital",
         "Mumbai",
         "Maharashtra",
         "India"
        ],
        [
         "H1015",
         "Fortis Hospital Mulund",
         "Mumbai",
         "Maharashtra",
         "India"
        ],
        [
         "H1016",
         "Jaslok Hospital and Research Centre",
         "Mumbai",
         "Maharashtra",
         "India"
        ],
        [
         "H1017",
         "Manipal Hospitals",
         "Bengaluru",
         "Karnataka",
         "India"
        ],
        [
         "H1018",
         "Yashoda Hospital Secunderabad",
         "Hyderabad",
         "Telangana",
         "India"
        ],
        [
         "H1019",
         "Apollo Hospitals - Bannerghatta Road",
         "Bengaluru",
         "Karnataka",
         "India"
        ]
       ],
       "datasetInfos": [],
       "dbfsResultPath": null,
       "isJsonSchema": true,
       "metadata": {},
       "overflow": false,
       "plotOptions": {
        "customPlotOptions": {},
        "displayType": "table",
        "pivotAggregation": null,
        "pivotColumns": null,
        "xColumns": null,
        "yColumns": null
       },
       "removedWidgets": [],
       "schema": [
        {
         "metadata": "{}",
         "name": "Hospital_id",
         "type": "\"string\""
        },
        {
         "metadata": "{}",
         "name": "Hospital_name",
         "type": "\"string\""
        },
        {
         "metadata": "{}",
         "name": "city",
         "type": "\"string\""
        },
        {
         "metadata": "{}",
         "name": "state",
         "type": "\"string\""
        },
        {
         "metadata": "{}",
         "name": "country",
         "type": "\"string\""
        }
       ],
       "type": "table"
      }
     },
     "output_type": "display_data"
    }
   ],
   "source": [
    "display(hosp_df)"
   ]
  },
  {
   "cell_type": "code",
   "execution_count": 0,
   "metadata": {
    "application/vnd.databricks.v1+cell": {
     "cellMetadata": {
      "byteLimit": 2048000,
      "rowLimit": 10000
     },
     "inputWidgets": {},
     "nuid": "45e727c8-0e2e-46c5-866d-b2d378726c5a",
     "showTitle": false,
     "tableResultSettingsMap": {},
     "title": ""
    }
   },
   "outputs": [],
   "source": [
    "adlsconnector\n",
    "group_df = readbronzedata(\"group.csv\") #reading group data"
   ]
  },
  {
   "cell_type": "code",
   "execution_count": 0,
   "metadata": {
    "application/vnd.databricks.v1+cell": {
     "cellMetadata": {
      "byteLimit": 2048000,
      "rowLimit": 10000
     },
     "inputWidgets": {},
     "nuid": "00d0d123-57dc-43d0-b8f8-9a422e7b1eb0",
     "showTitle": false,
     "tableResultSettingsMap": {},
     "title": ""
    }
   },
   "outputs": [
    {
     "output_type": "display_data",
     "data": {
      "text/html": [
       "<style scoped>\n",
       "  .table-result-container {\n",
       "    max-height: 300px;\n",
       "    overflow: auto;\n",
       "  }\n",
       "  table, th, td {\n",
       "    border: 1px solid black;\n",
       "    border-collapse: collapse;\n",
       "  }\n",
       "  th, td {\n",
       "    padding: 5px;\n",
       "  }\n",
       "  th {\n",
       "    text-align: left;\n",
       "  }\n",
       "</style><div class='table-result-container'><table class='table-result'><thead style='background-color: white'><tr><th>country</th><th>premium_written</th><th>zip_code</th><th>grp_id</th><th>grp_name</th><th>grp_type</th><th>city</th></tr></thead><tbody><tr><td>India</td><td>72000</td><td>482018</td><td>GRP101</td><td>Life Insurance Corporation of India</td><td>Govt.</td><td>Mumbai</td></tr><tr><td>India</td><td>45000</td><td>482049</td><td>GRP102</td><td>HDFC Standard Life Insurance Co. Ltd.</td><td>Private</td><td>Mumbai</td></tr></tbody></table></div>"
      ]
     },
     "metadata": {
      "application/vnd.databricks.v1+output": {
       "addedWidgets": {},
       "aggData": [],
       "aggError": "",
       "aggOverflow": false,
       "aggSchema": [],
       "aggSeriesLimitReached": false,
       "aggType": "",
       "arguments": {},
       "columnCustomDisplayInfos": {},
       "data": [
        [
         "India",
         72000,
         482018,
         "GRP101",
         "Life Insurance Corporation of India",
         "Govt.",
         "Mumbai"
        ],
        [
         "India",
         45000,
         482049,
         "GRP102",
         "HDFC Standard Life Insurance Co. Ltd.",
         "Private",
         "Mumbai"
        ]
       ],
       "datasetInfos": [],
       "dbfsResultPath": null,
       "isJsonSchema": true,
       "metadata": {},
       "overflow": false,
       "plotOptions": {
        "customPlotOptions": {},
        "displayType": "table",
        "pivotAggregation": null,
        "pivotColumns": null,
        "xColumns": null,
        "yColumns": null
       },
       "removedWidgets": [],
       "schema": [
        {
         "metadata": "{}",
         "name": "country",
         "type": "\"string\""
        },
        {
         "metadata": "{}",
         "name": "premium_written",
         "type": "\"long\""
        },
        {
         "metadata": "{}",
         "name": "zip_code",
         "type": "\"long\""
        },
        {
         "metadata": "{}",
         "name": "grp_id",
         "type": "\"string\""
        },
        {
         "metadata": "{}",
         "name": "grp_name",
         "type": "\"string\""
        },
        {
         "metadata": "{}",
         "name": "grp_type",
         "type": "\"string\""
        },
        {
         "metadata": "{}",
         "name": "city",
         "type": "\"string\""
        }
       ],
       "type": "table"
      }
     },
     "output_type": "display_data"
    }
   ],
   "source": [
    "display(group_df.head(2))"
   ]
  },
  {
   "cell_type": "code",
   "execution_count": 0,
   "metadata": {
    "application/vnd.databricks.v1+cell": {
     "cellMetadata": {
      "byteLimit": 2048000,
      "rowLimit": 10000
     },
     "inputWidgets": {},
     "nuid": "0b92ea91-7c89-493d-9d37-9ec8494a0de6",
     "showTitle": false,
     "tableResultSettingsMap": {},
     "title": ""
    }
   },
   "outputs": [
    {
     "output_type": "stream",
     "name": "stdout",
     "output_type": "stream",
     "text": [
      "+-------+---------------+--------+------+--------+--------+----+\n|country|premium_written|zip_code|grp_id|grp_name|grp_type|city|\n+-------+---------------+--------+------+--------+--------+----+\n|      0|              0|       0|     0|       0|       0|   0|\n+-------+---------------+--------+------+--------+--------+----+\n\n"
     ]
    }
   ],
   "source": [
    "missingvaluescheck(group_df) #to check missing values in group_df"
   ]
  },
  {
   "cell_type": "code",
   "execution_count": 0,
   "metadata": {
    "application/vnd.databricks.v1+cell": {
     "cellMetadata": {
      "byteLimit": 2048000,
      "rowLimit": 10000
     },
     "inputWidgets": {},
     "nuid": "9ac6ea88-bfd1-4e49-81b1-dc48f783c8c5",
     "showTitle": false,
     "tableResultSettingsMap": {},
     "title": ""
    }
   },
   "outputs": [
    {
     "output_type": "stream",
     "name": "stdout",
     "output_type": "stream",
     "text": [
      "+-------+---------------+--------+------+--------+--------+----+-----+\n|country|premium_written|zip_code|grp_id|grp_name|grp_type|city|count|\n+-------+---------------+--------+------+--------+--------+----+-----+\n+-------+---------------+--------+------+--------+--------+----+-----+\n\n"
     ]
    }
   ],
   "source": [
    "tocheckduplicates(group_df)"
   ]
  },
  {
   "cell_type": "code",
   "execution_count": 0,
   "metadata": {
    "application/vnd.databricks.v1+cell": {
     "cellMetadata": {
      "byteLimit": 2048000,
      "rowLimit": 10000
     },
     "inputWidgets": {},
     "nuid": "a9aa0af9-ddd8-4ebd-936e-518d1f2b9991",
     "showTitle": false,
     "tableResultSettingsMap": {},
     "title": ""
    }
   },
   "outputs": [
    {
     "output_type": "display_data",
     "data": {
      "text/html": [
       "<style scoped>\n",
       "  .table-result-container {\n",
       "    max-height: 300px;\n",
       "    overflow: auto;\n",
       "  }\n",
       "  table, th, td {\n",
       "    border: 1px solid black;\n",
       "    border-collapse: collapse;\n",
       "  }\n",
       "  th, td {\n",
       "    padding: 5px;\n",
       "  }\n",
       "  th {\n",
       "    text-align: left;\n",
       "  }\n",
       "</style><div class='table-result-container'><table class='table-result'><thead style='background-color: white'><tr><th>country</th><th>premium_written</th><th>zip_code</th><th>grp_id</th><th>grp_name</th><th>grp_type</th><th>city</th></tr></thead><tbody></tbody></table></div>"
      ]
     },
     "metadata": {
      "application/vnd.databricks.v1+output": {
       "addedWidgets": {},
       "aggData": [],
       "aggError": "",
       "aggOverflow": false,
       "aggSchema": [],
       "aggSeriesLimitReached": false,
       "aggType": "",
       "arguments": {},
       "columnCustomDisplayInfos": {},
       "data": [],
       "datasetInfos": [],
       "dbfsResultPath": null,
       "isJsonSchema": true,
       "metadata": {},
       "overflow": false,
       "plotOptions": {
        "customPlotOptions": {},
        "displayType": "table",
        "pivotAggregation": null,
        "pivotColumns": null,
        "xColumns": null,
        "yColumns": null
       },
       "removedWidgets": [],
       "schema": [
        {
         "metadata": "{}",
         "name": "country",
         "type": "\"string\""
        },
        {
         "metadata": "{}",
         "name": "premium_written",
         "type": "\"integer\""
        },
        {
         "metadata": "{}",
         "name": "zip_code",
         "type": "\"integer\""
        },
        {
         "metadata": "{}",
         "name": "grp_id",
         "type": "\"string\""
        },
        {
         "metadata": "{}",
         "name": "grp_name",
         "type": "\"string\""
        },
        {
         "metadata": "{}",
         "name": "grp_type",
         "type": "\"string\""
        },
        {
         "metadata": "{}",
         "name": "city",
         "type": "\"string\""
        }
       ],
       "type": "table"
      }
     },
     "output_type": "display_data"
    }
   ],
   "source": [
    "#checking the premium columns have any zero or negative numbers\n",
    "inavalid_premium_check = group_df.filter(group_df.premium_written <= 0)\n",
    "display(inavalid_premium_check)"
   ]
  },
  {
   "cell_type": "code",
   "execution_count": 0,
   "metadata": {
    "application/vnd.databricks.v1+cell": {
     "cellMetadata": {
      "byteLimit": 2048000,
      "rowLimit": 10000
     },
     "inputWidgets": {},
     "nuid": "b99cc6e4-2429-4cdb-984a-6de225e6aa96",
     "showTitle": false,
     "tableResultSettingsMap": {},
     "title": ""
    }
   },
   "outputs": [],
   "source": [
    "adlsconnector\n",
    "sub_df = readbronzedata(\"subgroup.csv\") #Conencting subgroup data"
   ]
  },
  {
   "cell_type": "code",
   "execution_count": 0,
   "metadata": {
    "application/vnd.databricks.v1+cell": {
     "cellMetadata": {
      "byteLimit": 2048000,
      "rowLimit": 10000
     },
     "inputWidgets": {},
     "nuid": "1a807cad-a2b5-4279-bad3-c23cf8e93aec",
     "showTitle": false,
     "tableResultSettingsMap": {},
     "title": ""
    }
   },
   "outputs": [
    {
     "output_type": "display_data",
     "data": {
      "text/html": [
       "<style scoped>\n",
       "  .table-result-container {\n",
       "    max-height: 300px;\n",
       "    overflow: auto;\n",
       "  }\n",
       "  table, th, td {\n",
       "    border: 1px solid black;\n",
       "    border-collapse: collapse;\n",
       "  }\n",
       "  th, td {\n",
       "    padding: 5px;\n",
       "  }\n",
       "  th {\n",
       "    text-align: left;\n",
       "  }\n",
       "</style><div class='table-result-container'><table class='table-result'><thead style='background-color: white'><tr><th>subgrp_sk</th><th>subgrp_name</th><th>monthly_premium</th><th>subgrp_id</th></tr></thead><tbody><tr><td>S101</td><td>Deficiency Diseases</td><td>3000</td><td>GRP101,GRP105</td></tr><tr><td>S102</td><td>Accident</td><td>1000</td><td>GRP110,GRP150,GRP136</td></tr><tr><td>S103</td><td>Physiology</td><td>2000</td><td>GRP122,GRP108,GRP138,GRP148</td></tr><tr><td>S104</td><td>Therapy</td><td>1500</td><td>GRP103,GRP113,GRP123,GRP133,GRP143</td></tr><tr><td>S105</td><td>Allergies</td><td>2300</td><td>GRP153,GRP104,GRP114,GRP124</td></tr></tbody></table></div>"
      ]
     },
     "metadata": {
      "application/vnd.databricks.v1+output": {
       "addedWidgets": {},
       "aggData": [],
       "aggError": "",
       "aggOverflow": false,
       "aggSchema": [],
       "aggSeriesLimitReached": false,
       "aggType": "",
       "arguments": {},
       "columnCustomDisplayInfos": {},
       "data": [
        [
         "S101",
         "Deficiency Diseases",
         3000,
         "GRP101,GRP105"
        ],
        [
         "S102",
         "Accident",
         1000,
         "GRP110,GRP150,GRP136"
        ],
        [
         "S103",
         "Physiology",
         2000,
         "GRP122,GRP108,GRP138,GRP148"
        ],
        [
         "S104",
         "Therapy",
         1500,
         "GRP103,GRP113,GRP123,GRP133,GRP143"
        ],
        [
         "S105",
         "Allergies",
         2300,
         "GRP153,GRP104,GRP114,GRP124"
        ]
       ],
       "datasetInfos": [],
       "dbfsResultPath": null,
       "isJsonSchema": true,
       "metadata": {},
       "overflow": false,
       "plotOptions": {
        "customPlotOptions": {},
        "displayType": "table",
        "pivotAggregation": null,
        "pivotColumns": null,
        "xColumns": null,
        "yColumns": null
       },
       "removedWidgets": [],
       "schema": [
        {
         "metadata": "{}",
         "name": "subgrp_sk",
         "type": "\"string\""
        },
        {
         "metadata": "{}",
         "name": "subgrp_name",
         "type": "\"string\""
        },
        {
         "metadata": "{}",
         "name": "monthly_premium",
         "type": "\"long\""
        },
        {
         "metadata": "{}",
         "name": "subgrp_id",
         "type": "\"string\""
        }
       ],
       "type": "table"
      }
     },
     "output_type": "display_data"
    }
   ],
   "source": [
    "display(sub_df.head(5))"
   ]
  },
  {
   "cell_type": "code",
   "execution_count": 0,
   "metadata": {
    "application/vnd.databricks.v1+cell": {
     "cellMetadata": {
      "byteLimit": 2048000,
      "rowLimit": 10000
     },
     "inputWidgets": {},
     "nuid": "1e460ac3-66d9-4289-9739-49c920f6383a",
     "showTitle": false,
     "tableResultSettingsMap": {},
     "title": ""
    }
   },
   "outputs": [],
   "source": [
    "sub_df = sub_df.withColumn(\"subgrp_id\",split(col('subgrp_id'),',')) #splitting the column in the form of list"
   ]
  },
  {
   "cell_type": "code",
   "execution_count": 0,
   "metadata": {
    "application/vnd.databricks.v1+cell": {
     "cellMetadata": {
      "byteLimit": 2048000,
      "rowLimit": 10000
     },
     "inputWidgets": {},
     "nuid": "556df1ef-a0b9-4079-894e-a69351abba8d",
     "showTitle": false,
     "tableResultSettingsMap": {},
     "title": ""
    }
   },
   "outputs": [
    {
     "output_type": "display_data",
     "data": {
      "text/html": [
       "<style scoped>\n",
       "  .table-result-container {\n",
       "    max-height: 300px;\n",
       "    overflow: auto;\n",
       "  }\n",
       "  table, th, td {\n",
       "    border: 1px solid black;\n",
       "    border-collapse: collapse;\n",
       "  }\n",
       "  th, td {\n",
       "    padding: 5px;\n",
       "  }\n",
       "  th {\n",
       "    text-align: left;\n",
       "  }\n",
       "</style><div class='table-result-container'><table class='table-result'><thead style='background-color: white'><tr><th>subgrp_sk</th><th>subgrp_name</th><th>monthly_premium</th><th>subgrp_id</th></tr></thead><tbody><tr><td>S101</td><td>Deficiency Diseases</td><td>3000</td><td>List(GRP101, GRP105)</td></tr><tr><td>S102</td><td>Accident</td><td>1000</td><td>List(GRP110, GRP150, GRP136)</td></tr><tr><td>S103</td><td>Physiology</td><td>2000</td><td>List(GRP122, GRP108, GRP138, GRP148)</td></tr><tr><td>S104</td><td>Therapy</td><td>1500</td><td>List(GRP103, GRP113, GRP123, GRP133, GRP143)</td></tr><tr><td>S105</td><td>Allergies</td><td>2300</td><td>List(GRP153, GRP104, GRP114, GRP124)</td></tr></tbody></table></div>"
      ]
     },
     "metadata": {
      "application/vnd.databricks.v1+output": {
       "addedWidgets": {},
       "aggData": [],
       "aggError": "",
       "aggOverflow": false,
       "aggSchema": [],
       "aggSeriesLimitReached": false,
       "aggType": "",
       "arguments": {},
       "columnCustomDisplayInfos": {},
       "data": [
        [
         "S101",
         "Deficiency Diseases",
         3000,
         [
          "GRP101",
          "GRP105"
         ]
        ],
        [
         "S102",
         "Accident",
         1000,
         [
          "GRP110",
          "GRP150",
          "GRP136"
         ]
        ],
        [
         "S103",
         "Physiology",
         2000,
         [
          "GRP122",
          "GRP108",
          "GRP138",
          "GRP148"
         ]
        ],
        [
         "S104",
         "Therapy",
         1500,
         [
          "GRP103",
          "GRP113",
          "GRP123",
          "GRP133",
          "GRP143"
         ]
        ],
        [
         "S105",
         "Allergies",
         2300,
         [
          "GRP153",
          "GRP104",
          "GRP114",
          "GRP124"
         ]
        ]
       ],
       "datasetInfos": [],
       "dbfsResultPath": null,
       "isJsonSchema": true,
       "metadata": {},
       "overflow": false,
       "plotOptions": {
        "customPlotOptions": {},
        "displayType": "table",
        "pivotAggregation": null,
        "pivotColumns": null,
        "xColumns": null,
        "yColumns": null
       },
       "removedWidgets": [],
       "schema": [
        {
         "metadata": "{}",
         "name": "subgrp_sk",
         "type": "\"string\""
        },
        {
         "metadata": "{}",
         "name": "subgrp_name",
         "type": "\"string\""
        },
        {
         "metadata": "{}",
         "name": "monthly_premium",
         "type": "\"long\""
        },
        {
         "metadata": "{}",
         "name": "subgrp_id",
         "type": "{\"type\":\"array\",\"elementType\":\"string\",\"containsNull\":true}"
        }
       ],
       "type": "table"
      }
     },
     "output_type": "display_data"
    }
   ],
   "source": [
    "display(sub_df.head(5)) "
   ]
  },
  {
   "cell_type": "code",
   "execution_count": 0,
   "metadata": {
    "application/vnd.databricks.v1+cell": {
     "cellMetadata": {},
     "inputWidgets": {},
     "nuid": "fae3816d-cb74-4cf9-bc9d-793c035646d0",
     "showTitle": false,
     "tableResultSettingsMap": {},
     "title": ""
    }
   },
   "outputs": [],
   "source": [
    "#EXPLODE -- TRANSFORM EACH ELEMENTS OF THE LIST INTO NEW ROWS"
   ]
  },
  {
   "cell_type": "code",
   "execution_count": 0,
   "metadata": {
    "application/vnd.databricks.v1+cell": {
     "cellMetadata": {
      "byteLimit": 2048000,
      "rowLimit": 10000
     },
     "inputWidgets": {},
     "nuid": "53582bb8-a5cb-4409-a8a7-a0dbb9c3ebec",
     "showTitle": false,
     "tableResultSettingsMap": {},
     "title": ""
    }
   },
   "outputs": [],
   "source": [
    "sub_df = sub_df.withColumn(\"subgrp_id\", explode(col(\"subgrp_id\"))) #it will conver all values in subgrp_id column into new rows"
   ]
  },
  {
   "cell_type": "code",
   "execution_count": 0,
   "metadata": {
    "application/vnd.databricks.v1+cell": {
     "cellMetadata": {
      "byteLimit": 2048000,
      "rowLimit": 10000
     },
     "inputWidgets": {},
     "nuid": "2350d30b-e5be-4837-b4e2-486c2a27c1b1",
     "showTitle": false,
     "tableResultSettingsMap": {},
     "title": ""
    }
   },
   "outputs": [
    {
     "output_type": "display_data",
     "data": {
      "text/html": [
       "<style scoped>\n",
       "  .table-result-container {\n",
       "    max-height: 300px;\n",
       "    overflow: auto;\n",
       "  }\n",
       "  table, th, td {\n",
       "    border: 1px solid black;\n",
       "    border-collapse: collapse;\n",
       "  }\n",
       "  th, td {\n",
       "    padding: 5px;\n",
       "  }\n",
       "  th {\n",
       "    text-align: left;\n",
       "  }\n",
       "</style><div class='table-result-container'><table class='table-result'><thead style='background-color: white'><tr><th>subgrp_sk</th><th>subgrp_name</th><th>monthly_premium</th><th>subgrp_id</th></tr></thead><tbody><tr><td>S101</td><td>Deficiency Diseases</td><td>3000</td><td>GRP101</td></tr><tr><td>S101</td><td>Deficiency Diseases</td><td>3000</td><td>GRP105</td></tr><tr><td>S102</td><td>Accident</td><td>1000</td><td>GRP110</td></tr><tr><td>S102</td><td>Accident</td><td>1000</td><td>GRP150</td></tr><tr><td>S102</td><td>Accident</td><td>1000</td><td>GRP136</td></tr><tr><td>S103</td><td>Physiology</td><td>2000</td><td>GRP122</td></tr><tr><td>S103</td><td>Physiology</td><td>2000</td><td>GRP108</td></tr><tr><td>S103</td><td>Physiology</td><td>2000</td><td>GRP138</td></tr><tr><td>S103</td><td>Physiology</td><td>2000</td><td>GRP148</td></tr><tr><td>S104</td><td>Therapy</td><td>1500</td><td>GRP103</td></tr><tr><td>S104</td><td>Therapy</td><td>1500</td><td>GRP113</td></tr><tr><td>S104</td><td>Therapy</td><td>1500</td><td>GRP123</td></tr><tr><td>S104</td><td>Therapy</td><td>1500</td><td>GRP133</td></tr><tr><td>S104</td><td>Therapy</td><td>1500</td><td>GRP143</td></tr><tr><td>S105</td><td>Allergies</td><td>2300</td><td>GRP153</td></tr><tr><td>S105</td><td>Allergies</td><td>2300</td><td>GRP104</td></tr><tr><td>S105</td><td>Allergies</td><td>2300</td><td>GRP114</td></tr><tr><td>S105</td><td>Allergies</td><td>2300</td><td>GRP124</td></tr><tr><td>S106</td><td>Self inflicted</td><td>1200</td><td>GRP117</td></tr><tr><td>S106</td><td>Self inflicted</td><td>1200</td><td>GRP127</td></tr><tr><td>S106</td><td>Self inflicted</td><td>1200</td><td>GRP137</td></tr><tr><td>S106</td><td>Self inflicted</td><td>1200</td><td>GRP147</td></tr><tr><td>S106</td><td>Self inflicted</td><td>1200</td><td>GRP157</td></tr><tr><td>S107</td><td>Cancer</td><td>3200</td><td>GRP151</td></tr><tr><td>S107</td><td>Cancer</td><td>3200</td><td>GRP131</td></tr><tr><td>S107</td><td>Cancer</td><td>3200</td><td>GRP141</td></tr><tr><td>S107</td><td>Cancer</td><td>3200</td><td>GRP121</td></tr><tr><td>S108</td><td>Infectious disease</td><td>1500</td><td>GRP130</td></tr><tr><td>S108</td><td>Infectious disease</td><td>1500</td><td>GRP104</td></tr><tr><td>S108</td><td>Infectious disease</td><td>1500</td><td>GRP109</td></tr><tr><td>S109</td><td>Hereditary</td><td>2000</td><td>GRP102</td></tr><tr><td>S109</td><td>Hereditary</td><td>2000</td><td>GRP112</td></tr><tr><td>S109</td><td>Hereditary</td><td>2000</td><td>GRP132</td></tr><tr><td>S109</td><td>Hereditary</td><td>2000</td><td>GRP142</td></tr><tr><td>S109</td><td>Hereditary</td><td>2000</td><td>GRP152</td></tr><tr><td>S110</td><td>Viral</td><td>1000</td><td>GRP143</td></tr><tr><td>S110</td><td>Viral</td><td>1000</td><td>GRP147</td></tr><tr><td>S110</td><td>Viral</td><td>1000</td><td>GRP126</td></tr></tbody></table></div>"
      ]
     },
     "metadata": {
      "application/vnd.databricks.v1+output": {
       "addedWidgets": {},
       "aggData": [],
       "aggError": "",
       "aggOverflow": false,
       "aggSchema": [],
       "aggSeriesLimitReached": false,
       "aggType": "",
       "arguments": {},
       "columnCustomDisplayInfos": {},
       "data": [
        [
         "S101",
         "Deficiency Diseases",
         3000,
         "GRP101"
        ],
        [
         "S101",
         "Deficiency Diseases",
         3000,
         "GRP105"
        ],
        [
         "S102",
         "Accident",
         1000,
         "GRP110"
        ],
        [
         "S102",
         "Accident",
         1000,
         "GRP150"
        ],
        [
         "S102",
         "Accident",
         1000,
         "GRP136"
        ],
        [
         "S103",
         "Physiology",
         2000,
         "GRP122"
        ],
        [
         "S103",
         "Physiology",
         2000,
         "GRP108"
        ],
        [
         "S103",
         "Physiology",
         2000,
         "GRP138"
        ],
        [
         "S103",
         "Physiology",
         2000,
         "GRP148"
        ],
        [
         "S104",
         "Therapy",
         1500,
         "GRP103"
        ],
        [
         "S104",
         "Therapy",
         1500,
         "GRP113"
        ],
        [
         "S104",
         "Therapy",
         1500,
         "GRP123"
        ],
        [
         "S104",
         "Therapy",
         1500,
         "GRP133"
        ],
        [
         "S104",
         "Therapy",
         1500,
         "GRP143"
        ],
        [
         "S105",
         "Allergies",
         2300,
         "GRP153"
        ],
        [
         "S105",
         "Allergies",
         2300,
         "GRP104"
        ],
        [
         "S105",
         "Allergies",
         2300,
         "GRP114"
        ],
        [
         "S105",
         "Allergies",
         2300,
         "GRP124"
        ],
        [
         "S106",
         "Self inflicted",
         1200,
         "GRP117"
        ],
        [
         "S106",
         "Self inflicted",
         1200,
         "GRP127"
        ],
        [
         "S106",
         "Self inflicted",
         1200,
         "GRP137"
        ],
        [
         "S106",
         "Self inflicted",
         1200,
         "GRP147"
        ],
        [
         "S106",
         "Self inflicted",
         1200,
         "GRP157"
        ],
        [
         "S107",
         "Cancer",
         3200,
         "GRP151"
        ],
        [
         "S107",
         "Cancer",
         3200,
         "GRP131"
        ],
        [
         "S107",
         "Cancer",
         3200,
         "GRP141"
        ],
        [
         "S107",
         "Cancer",
         3200,
         "GRP121"
        ],
        [
         "S108",
         "Infectious disease",
         1500,
         "GRP130"
        ],
        [
         "S108",
         "Infectious disease",
         1500,
         "GRP104"
        ],
        [
         "S108",
         "Infectious disease",
         1500,
         "GRP109"
        ],
        [
         "S109",
         "Hereditary",
         2000,
         "GRP102"
        ],
        [
         "S109",
         "Hereditary",
         2000,
         "GRP112"
        ],
        [
         "S109",
         "Hereditary",
         2000,
         "GRP132"
        ],
        [
         "S109",
         "Hereditary",
         2000,
         "GRP142"
        ],
        [
         "S109",
         "Hereditary",
         2000,
         "GRP152"
        ],
        [
         "S110",
         "Viral",
         1000,
         "GRP143"
        ],
        [
         "S110",
         "Viral",
         1000,
         "GRP147"
        ],
        [
         "S110",
         "Viral",
         1000,
         "GRP126"
        ]
       ],
       "datasetInfos": [],
       "dbfsResultPath": null,
       "isJsonSchema": true,
       "metadata": {},
       "overflow": false,
       "plotOptions": {
        "customPlotOptions": {},
        "displayType": "table",
        "pivotAggregation": null,
        "pivotColumns": null,
        "xColumns": null,
        "yColumns": null
       },
       "removedWidgets": [],
       "schema": [
        {
         "metadata": "{}",
         "name": "subgrp_sk",
         "type": "\"string\""
        },
        {
         "metadata": "{}",
         "name": "subgrp_name",
         "type": "\"string\""
        },
        {
         "metadata": "{}",
         "name": "monthly_premium",
         "type": "\"integer\""
        },
        {
         "metadata": "{}",
         "name": "subgrp_id",
         "type": "\"string\""
        }
       ],
       "type": "table"
      }
     },
     "output_type": "display_data"
    }
   ],
   "source": [
    "display(sub_df)"
   ]
  },
  {
   "cell_type": "code",
   "execution_count": 0,
   "metadata": {
    "application/vnd.databricks.v1+cell": {
     "cellMetadata": {
      "byteLimit": 2048000,
      "rowLimit": 10000
     },
     "inputWidgets": {},
     "nuid": "37ab800f-31c4-46a9-959a-a14be6017937",
     "showTitle": false,
     "tableResultSettingsMap": {},
     "title": ""
    }
   },
   "outputs": [],
   "source": [
    "adlsconnector\n",
    "dise_df = readbronzedata(\"disease.csv\") #to connect with diseas data"
   ]
  },
  {
   "cell_type": "code",
   "execution_count": 0,
   "metadata": {
    "application/vnd.databricks.v1+cell": {
     "cellMetadata": {
      "byteLimit": 2048000,
      "rowLimit": 10000
     },
     "inputWidgets": {},
     "nuid": "6d213b76-b9b8-4550-b722-aa02b41e48f1",
     "showTitle": false,
     "tableResultSettingsMap": {},
     "title": ""
    }
   },
   "outputs": [
    {
     "output_type": "display_data",
     "data": {
      "text/html": [
       "<style scoped>\n",
       "  .table-result-container {\n",
       "    max-height: 300px;\n",
       "    overflow: auto;\n",
       "  }\n",
       "  table, th, td {\n",
       "    border: 1px solid black;\n",
       "    border-collapse: collapse;\n",
       "  }\n",
       "  th, td {\n",
       "    padding: 5px;\n",
       "  }\n",
       "  th {\n",
       "    text-align: left;\n",
       "  }\n",
       "</style><div class='table-result-container'><table class='table-result'><thead style='background-color: white'><tr><th>subgrp_id</th><th>disease_id</th><th>disease_name</th></tr></thead><tbody><tr><td>S101</td><td>110001</td><td>Beriberi</td></tr><tr><td>S101</td><td>110002</td><td>Scurvy</td></tr><tr><td>S101</td><td>110003</td><td>Goitre</td></tr><tr><td>S101</td><td>110004</td><td>Osteoporosis</td></tr><tr><td>S101</td><td>110005</td><td>Rickets</td></tr><tr><td>S101</td><td>110006</td><td>Anaemia</td></tr><tr><td>S102</td><td>110007</td><td>Fractures</td></tr><tr><td>S102</td><td>110008</td><td>Heart Attack</td></tr><tr><td>S102</td><td>110009</td><td>Burns</td></tr><tr><td>S102</td><td>110010</td><td>Choking</td></tr><tr><td>S102</td><td>110011</td><td>Stroke</td></tr><tr><td>S102</td><td>110012</td><td>Food Poisoning</td></tr><tr><td>S103</td><td>110013</td><td>Asthma</td></tr><tr><td>S103</td><td>110014</td><td>Glaucoma</td></tr><tr><td>S103</td><td>110015</td><td>Diabetes</td></tr><tr><td>S103</td><td>110016</td><td>Amnesia</td></tr><tr><td>S103</td><td>110017</td><td>Parasomnias</td></tr><tr><td>S103</td><td>110018</td><td>Neurocognitive disorders</td></tr><tr><td>S104</td><td>110019</td><td>Vertigo</td></tr><tr><td>S104</td><td>110020</td><td>Lymphedema</td></tr><tr><td>S104</td><td>110021</td><td>Concussion</td></tr><tr><td>S104</td><td>110022</td><td>Arthritis</td></tr><tr><td>S104</td><td>110023</td><td>Whiplash</td></tr><tr><td>S104</td><td>110024</td><td>Parkinson's disease</td></tr><tr><td>S105</td><td>110025</td><td>Insecy allergy</td></tr><tr><td>S105</td><td>110026</td><td>Mold allergy</td></tr><tr><td>S105</td><td>110027</td><td>Pet allergy</td></tr><tr><td>S105</td><td>110028</td><td>Pollen allergy</td></tr><tr><td>S105</td><td>110029</td><td>Drug allergy</td></tr><tr><td>S105</td><td>110030</td><td>Food allergy</td></tr><tr><td>S106</td><td>110031</td><td>Suicide</td></tr><tr><td>S106</td><td>110032</td><td>Smoking</td></tr><tr><td>S106</td><td>110033</td><td>Sunbathing</td></tr><tr><td>S106</td><td>110034</td><td>Alcohol consumption</td></tr><tr><td>S106</td><td>110035</td><td>Head banging</td></tr><tr><td>S106</td><td>110036</td><td>Drug consumption</td></tr><tr><td>S107</td><td>110037</td><td>Kidney cancer</td></tr><tr><td>S107</td><td>110038</td><td>Colorectal cancer</td></tr><tr><td>S107</td><td>110039</td><td>Bladder cancer</td></tr><tr><td>S107</td><td>110040</td><td>Melanoma</td></tr><tr><td>S107</td><td>110041</td><td>Lung cancer</td></tr><tr><td>S107</td><td>110042</td><td>Breast cancer</td></tr><tr><td>S108</td><td>110043</td><td>Measles</td></tr><tr><td>S108</td><td>110044</td><td>Dengue</td></tr><tr><td>S108</td><td>110045</td><td>Smallpox</td></tr><tr><td>S108</td><td>110046</td><td>Anthrax</td></tr><tr><td>S108</td><td>110047</td><td>Cholera</td></tr><tr><td>S108</td><td>110048</td><td>Malaria</td></tr><tr><td>S109</td><td>110049</td><td>Cystic fibrosis</td></tr><tr><td>S109</td><td>110050</td><td>Fanconi anaemia</td></tr><tr><td>S109</td><td>110051</td><td>Phenylketonuria</td></tr><tr><td>S109</td><td>110052</td><td>Galactosemia</td></tr><tr><td>S109</td><td>110053</td><td>Rett Syndrome</td></tr><tr><td>S109</td><td>110054</td><td>Hemophilia</td></tr><tr><td>S110</td><td>110055</td><td>Hepatitis</td></tr><tr><td>S110</td><td>110056</td><td>Mumps</td></tr><tr><td>S110</td><td>110057</td><td>Pneumonia</td></tr><tr><td>S110</td><td>110058</td><td>Shingles</td></tr><tr><td>S110</td><td>110059</td><td>Flu</td></tr><tr><td>S110</td><td>110060</td><td>Chickenpox</td></tr></tbody></table></div>"
      ]
     },
     "metadata": {
      "application/vnd.databricks.v1+output": {
       "addedWidgets": {},
       "aggData": [],
       "aggError": "",
       "aggOverflow": false,
       "aggSchema": [],
       "aggSeriesLimitReached": false,
       "aggType": "",
       "arguments": {},
       "columnCustomDisplayInfos": {},
       "data": [
        [
         "S101",
         110001,
         "Beriberi"
        ],
        [
         "S101",
         110002,
         "Scurvy"
        ],
        [
         "S101",
         110003,
         "Goitre"
        ],
        [
         "S101",
         110004,
         "Osteoporosis"
        ],
        [
         "S101",
         110005,
         "Rickets"
        ],
        [
         "S101",
         110006,
         "Anaemia"
        ],
        [
         "S102",
         110007,
         "Fractures"
        ],
        [
         "S102",
         110008,
         "Heart Attack"
        ],
        [
         "S102",
         110009,
         "Burns"
        ],
        [
         "S102",
         110010,
         "Choking"
        ],
        [
         "S102",
         110011,
         "Stroke"
        ],
        [
         "S102",
         110012,
         "Food Poisoning"
        ],
        [
         "S103",
         110013,
         "Asthma"
        ],
        [
         "S103",
         110014,
         "Glaucoma"
        ],
        [
         "S103",
         110015,
         "Diabetes"
        ],
        [
         "S103",
         110016,
         "Amnesia"
        ],
        [
         "S103",
         110017,
         "Parasomnias"
        ],
        [
         "S103",
         110018,
         "Neurocognitive disorders"
        ],
        [
         "S104",
         110019,
         "Vertigo"
        ],
        [
         "S104",
         110020,
         "Lymphedema"
        ],
        [
         "S104",
         110021,
         "Concussion"
        ],
        [
         "S104",
         110022,
         "Arthritis"
        ],
        [
         "S104",
         110023,
         "Whiplash"
        ],
        [
         "S104",
         110024,
         "Parkinson's disease"
        ],
        [
         "S105",
         110025,
         "Insecy allergy"
        ],
        [
         "S105",
         110026,
         "Mold allergy"
        ],
        [
         "S105",
         110027,
         "Pet allergy"
        ],
        [
         "S105",
         110028,
         "Pollen allergy"
        ],
        [
         "S105",
         110029,
         "Drug allergy"
        ],
        [
         "S105",
         110030,
         "Food allergy"
        ],
        [
         "S106",
         110031,
         "Suicide"
        ],
        [
         "S106",
         110032,
         "Smoking"
        ],
        [
         "S106",
         110033,
         "Sunbathing"
        ],
        [
         "S106",
         110034,
         "Alcohol consumption"
        ],
        [
         "S106",
         110035,
         "Head banging"
        ],
        [
         "S106",
         110036,
         "Drug consumption"
        ],
        [
         "S107",
         110037,
         "Kidney cancer"
        ],
        [
         "S107",
         110038,
         "Colorectal cancer"
        ],
        [
         "S107",
         110039,
         "Bladder cancer"
        ],
        [
         "S107",
         110040,
         "Melanoma"
        ],
        [
         "S107",
         110041,
         "Lung cancer"
        ],
        [
         "S107",
         110042,
         "Breast cancer"
        ],
        [
         "S108",
         110043,
         "Measles"
        ],
        [
         "S108",
         110044,
         "Dengue"
        ],
        [
         "S108",
         110045,
         "Smallpox"
        ],
        [
         "S108",
         110046,
         "Anthrax"
        ],
        [
         "S108",
         110047,
         "Cholera"
        ],
        [
         "S108",
         110048,
         "Malaria"
        ],
        [
         "S109",
         110049,
         "Cystic fibrosis"
        ],
        [
         "S109",
         110050,
         "Fanconi anaemia"
        ],
        [
         "S109",
         110051,
         "Phenylketonuria"
        ],
        [
         "S109",
         110052,
         "Galactosemia"
        ],
        [
         "S109",
         110053,
         "Rett Syndrome"
        ],
        [
         "S109",
         110054,
         "Hemophilia"
        ],
        [
         "S110",
         110055,
         "Hepatitis"
        ],
        [
         "S110",
         110056,
         "Mumps"
        ],
        [
         "S110",
         110057,
         "Pneumonia"
        ],
        [
         "S110",
         110058,
         "Shingles"
        ],
        [
         "S110",
         110059,
         "Flu"
        ],
        [
         "S110",
         110060,
         "Chickenpox"
        ]
       ],
       "datasetInfos": [],
       "dbfsResultPath": null,
       "isJsonSchema": true,
       "metadata": {},
       "overflow": false,
       "plotOptions": {
        "customPlotOptions": {},
        "displayType": "table",
        "pivotAggregation": null,
        "pivotColumns": null,
        "xColumns": null,
        "yColumns": null
       },
       "removedWidgets": [],
       "schema": [
        {
         "metadata": "{}",
         "name": "subgrp_id",
         "type": "\"string\""
        },
        {
         "metadata": "{}",
         "name": "disease_id",
         "type": "\"integer\""
        },
        {
         "metadata": "{}",
         "name": "disease_name",
         "type": "\"string\""
        }
       ],
       "type": "table"
      }
     },
     "output_type": "display_data"
    }
   ],
   "source": [
    "display(dise_df)"
   ]
  },
  {
   "cell_type": "code",
   "execution_count": 0,
   "metadata": {
    "application/vnd.databricks.v1+cell": {
     "cellMetadata": {
      "byteLimit": 2048000,
      "rowLimit": 10000
     },
     "inputWidgets": {},
     "nuid": "4f6584eb-f779-4eac-bb34-51cc7b4f95f3",
     "showTitle": false,
     "tableResultSettingsMap": {},
     "title": ""
    }
   },
   "outputs": [
    {
     "output_type": "stream",
     "name": "stdout",
     "output_type": "stream",
     "text": [
      "+---------+----------+------------+\n|subgrp_id|disease_id|disease_name|\n+---------+----------+------------+\n|        0|         0|           0|\n+---------+----------+------------+\n\n"
     ]
    }
   ],
   "source": [
    "missingvaluescheck(dise_df)"
   ]
  },
  {
   "cell_type": "code",
   "execution_count": 0,
   "metadata": {
    "application/vnd.databricks.v1+cell": {
     "cellMetadata": {
      "byteLimit": 2048000,
      "rowLimit": 10000
     },
     "inputWidgets": {},
     "nuid": "dd5e71a4-c956-4a29-92f4-27720e6aa493",
     "showTitle": false,
     "tableResultSettingsMap": {},
     "title": ""
    }
   },
   "outputs": [
    {
     "output_type": "stream",
     "name": "stdout",
     "output_type": "stream",
     "text": [
      "+---------+----------+------------+-----+\n|subgrp_id|disease_id|disease_name|count|\n+---------+----------+------------+-----+\n+---------+----------+------------+-----+\n\n"
     ]
    }
   ],
   "source": [
    "tocheckduplicates(dise_df)"
   ]
  },
  {
   "cell_type": "code",
   "execution_count": 0,
   "metadata": {
    "application/vnd.databricks.v1+cell": {
     "cellMetadata": {
      "byteLimit": 2048000,
      "rowLimit": 10000
     },
     "inputWidgets": {},
     "nuid": "330ad666-998b-4d43-8b14-c67dca4f9056",
     "showTitle": false,
     "tableResultSettingsMap": {},
     "title": ""
    }
   },
   "outputs": [],
   "source": [
    "adlsconnector\n",
    "pat_df = readbronzedata(\"Patient_records.csv\")"
   ]
  },
  {
   "cell_type": "code",
   "execution_count": 0,
   "metadata": {
    "application/vnd.databricks.v1+cell": {
     "cellMetadata": {
      "byteLimit": 2048000,
      "rowLimit": 10000
     },
     "inputWidgets": {},
     "nuid": "526a0d3e-00c7-4526-96d8-4e11e00927dc",
     "showTitle": false,
     "tableResultSettingsMap": {},
     "title": ""
    }
   },
   "outputs": [
    {
     "output_type": "display_data",
     "data": {
      "text/html": [
       "<style scoped>\n",
       "  .table-result-container {\n",
       "    max-height: 300px;\n",
       "    overflow: auto;\n",
       "  }\n",
       "  table, th, td {\n",
       "    border: 1px solid black;\n",
       "    border-collapse: collapse;\n",
       "  }\n",
       "  th, td {\n",
       "    padding: 5px;\n",
       "  }\n",
       "  th {\n",
       "    text-align: left;\n",
       "  }\n",
       "</style><div class='table-result-container'><table class='table-result'><thead style='background-color: white'><tr><th>Patient_id</th><th>Patient_name</th><th>patient_gender</th><th>patient_birth_date</th><th>patient_phone</th><th>disease_name</th><th>city</th><th>hospital_id</th></tr></thead><tbody><tr><td>187158</td><td>Harbir</td><td>Female</td><td>1924-06-30</td><td>+91 0112009318</td><td>Galactosemia</td><td>Rourkela</td><td>H1001</td></tr><tr><td>112766</td><td>Brahmdev</td><td>Female</td><td>1948-12-20</td><td>+91 1727749552</td><td>Bladder cancer</td><td>Tiruvottiyur</td><td>H1016</td></tr><tr><td>199252</td><td>Ujjawal</td><td>Male</td><td>1980-04-16</td><td>+91 8547451606</td><td>Kidney cancer</td><td>Berhampur</td><td>H1009</td></tr><tr><td>133424</td><td>Ballari</td><td>Female</td><td>1969-09-25</td><td>+91 0106026841</td><td>Suicide</td><td>Bihar Sharif</td><td>H1017</td></tr><tr><td>172579</td><td>Devnath</td><td>Female</td><td>1946-05-01</td><td>+91 1868774631</td><td>Food allergy</td><td>Bidhannagar</td><td>H1019</td></tr><tr><td>171320</td><td>Atasi</td><td>Male</td><td>1967-10-02</td><td>+91 9747336855</td><td>Whiplash</td><td>Amravati</td><td>H1013</td></tr><tr><td>107794</td><td>Manish</td><td>Male</td><td>1967-06-06</td><td>+91 4354294043</td><td>Sunbathing</td><td>Panvel</td><td>H1004</td></tr><tr><td>130339</td><td>Aakar</td><td>Female</td><td>1925-03-05</td><td>+91 2777633911</td><td>Drug consumption</td><td>Bihar Sharif</td><td>H1000</td></tr><tr><td>110377</td><td>Gurudas</td><td>Male</td><td>1945-05-06</td><td>+91 1232859381</td><td>Dengue</td><td>Kamarhati</td><td>H1001</td></tr><tr><td>149367</td><td>null</td><td>Male</td><td>1925-06-12</td><td>+91 1780763280</td><td>Head banging</td><td>Bangalore</td><td>H1013</td></tr><tr><td>156168</td><td>null</td><td>Male</td><td>1976-02-03</td><td>+91 5586075345</td><td>Fanconi anaemia</td><td>Rajkot</td><td>H1004</td></tr><tr><td>114241</td><td>null</td><td>Female</td><td>1955-01-22</td><td>+91 4146391938</td><td>Breast cancer</td><td>Ghaziabad</td><td>H1015</td></tr><tr><td>146382</td><td>Dharmadaas</td><td>Male</td><td>1964-04-29</td><td>+91 6345482027</td><td>Anthrax</td><td>Bhalswa Jahangir Pur</td><td>H1019</td></tr><tr><td>132748</td><td>Brahmvir</td><td>Male</td><td>1991-11-11</td><td>+91 7316972612</td><td>Cystic fibrosis</td><td>Ambala</td><td>H1018</td></tr><tr><td>167340</td><td>null</td><td>Female</td><td>1981-01-25</td><td>+91 2960004518</td><td>Galactosemia</td><td>Surendranagar Dudhrej</td><td>H1003</td></tr><tr><td>135184</td><td>Bhagvan</td><td>Female</td><td>1966-07-24</td><td>+91 0297693485</td><td>Dengue</td><td>Bhimavaram</td><td>H1018</td></tr><tr><td>179662</td><td>Amritkala</td><td>Female</td><td>1933-11-20</td><td>+91 0537157280</td><td>Smallpox</td><td>Meerut</td><td>H1018</td></tr><tr><td>184479</td><td>Bandhu</td><td>Male</td><td>1996-10-15</td><td>+91 0695289163</td><td>Pollen allergy</td><td>Chinsurah</td><td>H1010</td></tr><tr><td>156988</td><td>Bhagavaana</td><td>Female</td><td>1935-09-16</td><td>+91 6071745855</td><td>Breast cancer</td><td>Shahjahanpur</td><td>H1012</td></tr><tr><td>132870</td><td>null</td><td>Female</td><td>1924-11-09</td><td>+91 8906694405</td><td>Glaucoma</td><td>Jabalpur</td><td>H1017</td></tr><tr><td>148137</td><td>Umang</td><td>Female</td><td>1963-07-14</td><td>+91 9485838770</td><td>Pet allergy</td><td>Haridwar</td><td>H1002</td></tr><tr><td>113280</td><td>Darsana</td><td>Male</td><td>1932-05-29</td><td>+91 7676311811</td><td>Rett Syndrome</td><td>Dibrugarh</td><td>H1019</td></tr><tr><td>134184</td><td>Prakash</td><td>Female</td><td>1923-09-15</td><td>+91 9268324471</td><td>Flu</td><td>Kottayam</td><td>H1001</td></tr><tr><td>122592</td><td>Vaijayanti</td><td>Male</td><td>1920-11-13</td><td>+91 9358851649</td><td>Cholera</td><td>Mira-Bhayandar</td><td>H1009</td></tr><tr><td>154439</td><td>Menakshi</td><td>Male</td><td>1987-03-06</td><td>+91 0531676556</td><td>Scurvy</td><td>Kamarhati</td><td>H1016</td></tr><tr><td>117945</td><td>null</td><td>Male</td><td>1955-12-24</td><td>+91 2416747182</td><td>Glaucoma</td><td>Karimnagar</td><td>H1009</td></tr><tr><td>189996</td><td>Ekant</td><td>Male</td><td>1943-08-13</td><td>+91 7686951174</td><td>Measles</td><td>Berhampore</td><td>H1003</td></tr><tr><td>146540</td><td>Chancharik</td><td>Male</td><td>1983-09-05</td><td>+91 5309364825</td><td>Scurvy</td><td>Chapra</td><td>H1012</td></tr><tr><td>156434</td><td>Pushti</td><td>Female</td><td>1935-10-15</td><td>+91 7093722203</td><td>Flu</td><td>Morbi</td><td>H1019</td></tr><tr><td>197352</td><td>Swati</td><td>Female</td><td>1987-12-11</td><td>+91 1028477510</td><td>Pet allergy</td><td>Amravati</td><td>H1019</td></tr><tr><td>138778</td><td>Upasana</td><td>Male</td><td>1956-06-01</td><td>+91 0548234943</td><td>Lymphedema</td><td>Hyderabad</td><td>H1005</td></tr><tr><td>162665</td><td>Kanhaiya</td><td>Female</td><td>1954-10-19</td><td>+91 0788738026</td><td>Alcohol consumption</td><td>Mysore</td><td>H1009</td></tr><tr><td>197503</td><td>null</td><td>Female</td><td>1968-07-02</td><td>+91 2599794460</td><td>Stroke</td><td>Gwalior</td><td>H1009</td></tr><tr><td>113476</td><td>Gensho</td><td>Male</td><td>1992-06-06</td><td>+91 4834040556</td><td>Galactosemia</td><td>Ludhiana</td><td>H1016</td></tr><tr><td>195876</td><td>Gopal</td><td>Male</td><td>1986-05-14</td><td>+91 1181471524</td><td>Vertigo</td><td>Raebareli</td><td>H1017</td></tr><tr><td>150189</td><td>Dheeman</td><td>Male</td><td>1945-05-04</td><td>+91 8239321466</td><td>Measles</td><td>Mysore</td><td>H1017</td></tr><tr><td>138861</td><td>Upasana</td><td>Female</td><td>1927-10-03</td><td>null</td><td>Heart Attack</td><td>Ratlam</td><td>H1004</td></tr><tr><td>146555</td><td>null</td><td>Male</td><td>1948-11-10</td><td>+91 8390195092</td><td>Phenylketonuria</td><td>Vadodara</td><td>H1007</td></tr><tr><td>199114</td><td>null</td><td>Female</td><td>1955-04-07</td><td>+91 7434031446</td><td>Phenylketonuria</td><td>Vijayawada</td><td>H1017</td></tr><tr><td>105758</td><td>Madhubala</td><td>Male</td><td>1937-01-11</td><td>+91 8498685882</td><td>Head banging</td><td>Jaunpur</td><td>H1003</td></tr><tr><td>109251</td><td>Anjushree</td><td>Male</td><td>1976-07-04</td><td>+91 5322869455</td><td>Choking</td><td>Ghaziabad</td><td>H1001</td></tr><tr><td>156223</td><td>null</td><td>Female</td><td>1930-11-25</td><td>null</td><td>Fanconi anaemia</td><td>Agartala</td><td>H1012</td></tr><tr><td>108576</td><td>Chakrika</td><td>Male</td><td>1964-08-05</td><td>+91 8185162879</td><td>Stroke</td><td>Ranchi</td><td>H1003</td></tr><tr><td>132947</td><td>Saroj</td><td>Female</td><td>1942-08-26</td><td>+91 5690408243</td><td>Anaemia</td><td>Muzaffarpur</td><td>H1016</td></tr><tr><td>148674</td><td>Ayushmati</td><td>Male</td><td>1932-09-20</td><td>+91 3683223970</td><td>Diabetes</td><td>Satna</td><td>H1016</td></tr><tr><td>133107</td><td>Drashti</td><td>Male</td><td>1926-07-03</td><td>+91 9447269993</td><td>Lymphedema</td><td>Saharsa</td><td>H1019</td></tr><tr><td>193137</td><td>Aayushmaan</td><td>Female</td><td>1983-11-14</td><td>+91 4464709769</td><td>Phenylketonuria</td><td>Mehsana</td><td>H1014</td></tr><tr><td>196369</td><td>null</td><td>Male</td><td>1931-02-04</td><td>+91 2973105946</td><td>Choking</td><td>Shivpuri</td><td>H1017</td></tr><tr><td>109342</td><td>Chitranjan</td><td>Female</td><td>1925-09-09</td><td>+91 5176024720</td><td>Asthma</td><td>Morbi</td><td>H1011</td></tr><tr><td>121783</td><td>Paridhi</td><td>Female</td><td>1959-03-27</td><td>+91 2139280879</td><td>Bladder cancer</td><td>Jabalpur</td><td>H1013</td></tr><tr><td>197441</td><td>Deependu</td><td>Female</td><td>1952-02-13</td><td>+91 5674176644</td><td>Lung cancer</td><td>Bareilly</td><td>H1001</td></tr><tr><td>194166</td><td>null</td><td>Male</td><td>1946-10-17</td><td>+91 9887324437</td><td>Colorectal cancer</td><td>Baranagar</td><td>H1015</td></tr><tr><td>110690</td><td>Laksman</td><td>Female</td><td>1939-05-26</td><td>+91 4504120828</td><td>Food Poisoning</td><td>Ahmednagar</td><td>H1001</td></tr><tr><td>180709</td><td>null</td><td>Male</td><td>1988-06-27</td><td>+91 6877897646</td><td>Anthrax</td><td>Pali</td><td>H1017</td></tr><tr><td>119268</td><td>Shivakari</td><td>Female</td><td>1944-11-02</td><td>+91 3740484063</td><td>Mold allergy</td><td>Hapur</td><td>H1008</td></tr><tr><td>163148</td><td>Madhu</td><td>Male</td><td>1984-10-23</td><td>+91 8367885507</td><td>Beriberi</td><td>Udaipur</td><td>H1008</td></tr><tr><td>118913</td><td>Chanak</td><td>Male</td><td>1954-08-27</td><td>+91 5093121123</td><td>Malaria</td><td>Jalandhar</td><td>H1004</td></tr><tr><td>167423</td><td>Chittesh</td><td>Male</td><td>1949-10-17</td><td>+91 1378163498</td><td>Asthma</td><td>Thoothukudi</td><td>H1019</td></tr><tr><td>141703</td><td>Nawal</td><td>Male</td><td>1940-01-22</td><td>+91 1885105576</td><td>Fractures</td><td>Bhopal</td><td>H1006</td></tr><tr><td>173518</td><td>Gajabahu</td><td>Male</td><td>1959-03-15</td><td>+91 1207869436</td><td>Malaria</td><td>Udupi</td><td>H1015</td></tr><tr><td>140394</td><td>Jitesh</td><td>Male</td><td>1983-02-03</td><td>+91 6515468035</td><td>Anthrax</td><td>Karimnagar</td><td>H1010</td></tr><tr><td>164524</td><td>null</td><td>Female</td><td>1966-09-25</td><td>+91 6477918745</td><td>Mold allergy</td><td>Kharagpur</td><td>H1015</td></tr><tr><td>198182</td><td>Lalit</td><td>Female</td><td>1924-02-15</td><td>+91 4647833992</td><td>Head banging</td><td>Tinsukia</td><td>H1017</td></tr><tr><td>115143</td><td>Anshuk</td><td>Male</td><td>1991-06-17</td><td>+91 9764690642</td><td>Drug consumption</td><td>Uluberia</td><td>H1001</td></tr><tr><td>156364</td><td>null</td><td>Male</td><td>1994-01-13</td><td>+91 8444537013</td><td>Cholera</td><td>Panihati</td><td>H1019</td></tr><tr><td>191132</td><td>Dipesh</td><td>Female</td><td>1949-04-01</td><td>+91 5851958964</td><td>Glaucoma</td><td>Kochi</td><td>H1016</td></tr><tr><td>105686</td><td>null</td><td>Male</td><td>1930-09-01</td><td>+91 7061843400</td><td>Hepatitis</td><td>Kolhapur</td><td>H1008</td></tr><tr><td>160140</td><td>Kishan</td><td>Male</td><td>1923-05-12</td><td>+91 9067652693</td><td>Rett Syndrome</td><td>Srikakulam</td><td>H1002</td></tr><tr><td>114252</td><td>null</td><td>Female</td><td>1927-02-26</td><td>+91 4984346995</td><td>Diabetes</td><td>Ambarnath</td><td>H1014</td></tr><tr><td>188365</td><td>Bhageeratha</td><td>Male</td><td>1973-03-21</td><td>+91 0590662722</td><td>Pet allergy</td><td>Sonipat</td><td>H1017</td></tr></tbody></table></div>"
      ]
     },
     "metadata": {
      "application/vnd.databricks.v1+output": {
       "addedWidgets": {},
       "aggData": [],
       "aggError": "",
       "aggOverflow": false,
       "aggSchema": [],
       "aggSeriesLimitReached": false,
       "aggType": "",
       "arguments": {},
       "columnCustomDisplayInfos": {},
       "data": [
        [
         187158,
         "Harbir",
         "Female",
         "1924-06-30",
         "+91 0112009318",
         "Galactosemia",
         "Rourkela",
         "H1001"
        ],
        [
         112766,
         "Brahmdev",
         "Female",
         "1948-12-20",
         "+91 1727749552",
         "Bladder cancer",
         "Tiruvottiyur",
         "H1016"
        ],
        [
         199252,
         "Ujjawal",
         "Male",
         "1980-04-16",
         "+91 8547451606",
         "Kidney cancer",
         "Berhampur",
         "H1009"
        ],
        [
         133424,
         "Ballari",
         "Female",
         "1969-09-25",
         "+91 0106026841",
         "Suicide",
         "Bihar Sharif",
         "H1017"
        ],
        [
         172579,
         "Devnath",
         "Female",
         "1946-05-01",
         "+91 1868774631",
         "Food allergy",
         "Bidhannagar",
         "H1019"
        ],
        [
         171320,
         "Atasi",
         "Male",
         "1967-10-02",
         "+91 9747336855",
         "Whiplash",
         "Amravati",
         "H1013"
        ],
        [
         107794,
         "Manish",
         "Male",
         "1967-06-06",
         "+91 4354294043",
         "Sunbathing",
         "Panvel",
         "H1004"
        ],
        [
         130339,
         "Aakar",
         "Female",
         "1925-03-05",
         "+91 2777633911",
         "Drug consumption",
         "Bihar Sharif",
         "H1000"
        ],
        [
         110377,
         "Gurudas",
         "Male",
         "1945-05-06",
         "+91 1232859381",
         "Dengue",
         "Kamarhati",
         "H1001"
        ],
        [
         149367,
         null,
         "Male",
         "1925-06-12",
         "+91 1780763280",
         "Head banging",
         "Bangalore",
         "H1013"
        ],
        [
         156168,
         null,
         "Male",
         "1976-02-03",
         "+91 5586075345",
         "Fanconi anaemia",
         "Rajkot",
         "H1004"
        ],
        [
         114241,
         null,
         "Female",
         "1955-01-22",
         "+91 4146391938",
         "Breast cancer",
         "Ghaziabad",
         "H1015"
        ],
        [
         146382,
         "Dharmadaas",
         "Male",
         "1964-04-29",
         "+91 6345482027",
         "Anthrax",
         "Bhalswa Jahangir Pur",
         "H1019"
        ],
        [
         132748,
         "Brahmvir",
         "Male",
         "1991-11-11",
         "+91 7316972612",
         "Cystic fibrosis",
         "Ambala",
         "H1018"
        ],
        [
         167340,
         null,
         "Female",
         "1981-01-25",
         "+91 2960004518",
         "Galactosemia",
         "Surendranagar Dudhrej",
         "H1003"
        ],
        [
         135184,
         "Bhagvan",
         "Female",
         "1966-07-24",
         "+91 0297693485",
         "Dengue",
         "Bhimavaram",
         "H1018"
        ],
        [
         179662,
         "Amritkala",
         "Female",
         "1933-11-20",
         "+91 0537157280",
         "Smallpox",
         "Meerut",
         "H1018"
        ],
        [
         184479,
         "Bandhu",
         "Male",
         "1996-10-15",
         "+91 0695289163",
         "Pollen allergy",
         "Chinsurah",
         "H1010"
        ],
        [
         156988,
         "Bhagavaana",
         "Female",
         "1935-09-16",
         "+91 6071745855",
         "Breast cancer",
         "Shahjahanpur",
         "H1012"
        ],
        [
         132870,
         null,
         "Female",
         "1924-11-09",
         "+91 8906694405",
         "Glaucoma",
         "Jabalpur",
         "H1017"
        ],
        [
         148137,
         "Umang",
         "Female",
         "1963-07-14",
         "+91 9485838770",
         "Pet allergy",
         "Haridwar",
         "H1002"
        ],
        [
         113280,
         "Darsana",
         "Male",
         "1932-05-29",
         "+91 7676311811",
         "Rett Syndrome",
         "Dibrugarh",
         "H1019"
        ],
        [
         134184,
         "Prakash",
         "Female",
         "1923-09-15",
         "+91 9268324471",
         "Flu",
         "Kottayam",
         "H1001"
        ],
        [
         122592,
         "Vaijayanti",
         "Male",
         "1920-11-13",
         "+91 9358851649",
         "Cholera",
         "Mira-Bhayandar",
         "H1009"
        ],
        [
         154439,
         "Menakshi",
         "Male",
         "1987-03-06",
         "+91 0531676556",
         "Scurvy",
         "Kamarhati",
         "H1016"
        ],
        [
         117945,
         null,
         "Male",
         "1955-12-24",
         "+91 2416747182",
         "Glaucoma",
         "Karimnagar",
         "H1009"
        ],
        [
         189996,
         "Ekant",
         "Male",
         "1943-08-13",
         "+91 7686951174",
         "Measles",
         "Berhampore",
         "H1003"
        ],
        [
         146540,
         "Chancharik",
         "Male",
         "1983-09-05",
         "+91 5309364825",
         "Scurvy",
         "Chapra",
         "H1012"
        ],
        [
         156434,
         "Pushti",
         "Female",
         "1935-10-15",
         "+91 7093722203",
         "Flu",
         "Morbi",
         "H1019"
        ],
        [
         197352,
         "Swati",
         "Female",
         "1987-12-11",
         "+91 1028477510",
         "Pet allergy",
         "Amravati",
         "H1019"
        ],
        [
         138778,
         "Upasana",
         "Male",
         "1956-06-01",
         "+91 0548234943",
         "Lymphedema",
         "Hyderabad",
         "H1005"
        ],
        [
         162665,
         "Kanhaiya",
         "Female",
         "1954-10-19",
         "+91 0788738026",
         "Alcohol consumption",
         "Mysore",
         "H1009"
        ],
        [
         197503,
         null,
         "Female",
         "1968-07-02",
         "+91 2599794460",
         "Stroke",
         "Gwalior",
         "H1009"
        ],
        [
         113476,
         "Gensho",
         "Male",
         "1992-06-06",
         "+91 4834040556",
         "Galactosemia",
         "Ludhiana",
         "H1016"
        ],
        [
         195876,
         "Gopal",
         "Male",
         "1986-05-14",
         "+91 1181471524",
         "Vertigo",
         "Raebareli",
         "H1017"
        ],
        [
         150189,
         "Dheeman",
         "Male",
         "1945-05-04",
         "+91 8239321466",
         "Measles",
         "Mysore",
         "H1017"
        ],
        [
         138861,
         "Upasana",
         "Female",
         "1927-10-03",
         null,
         "Heart Attack",
         "Ratlam",
         "H1004"
        ],
        [
         146555,
         null,
         "Male",
         "1948-11-10",
         "+91 8390195092",
         "Phenylketonuria",
         "Vadodara",
         "H1007"
        ],
        [
         199114,
         null,
         "Female",
         "1955-04-07",
         "+91 7434031446",
         "Phenylketonuria",
         "Vijayawada",
         "H1017"
        ],
        [
         105758,
         "Madhubala",
         "Male",
         "1937-01-11",
         "+91 8498685882",
         "Head banging",
         "Jaunpur",
         "H1003"
        ],
        [
         109251,
         "Anjushree",
         "Male",
         "1976-07-04",
         "+91 5322869455",
         "Choking",
         "Ghaziabad",
         "H1001"
        ],
        [
         156223,
         null,
         "Female",
         "1930-11-25",
         null,
         "Fanconi anaemia",
         "Agartala",
         "H1012"
        ],
        [
         108576,
         "Chakrika",
         "Male",
         "1964-08-05",
         "+91 8185162879",
         "Stroke",
         "Ranchi",
         "H1003"
        ],
        [
         132947,
         "Saroj",
         "Female",
         "1942-08-26",
         "+91 5690408243",
         "Anaemia",
         "Muzaffarpur",
         "H1016"
        ],
        [
         148674,
         "Ayushmati",
         "Male",
         "1932-09-20",
         "+91 3683223970",
         "Diabetes",
         "Satna",
         "H1016"
        ],
        [
         133107,
         "Drashti",
         "Male",
         "1926-07-03",
         "+91 9447269993",
         "Lymphedema",
         "Saharsa",
         "H1019"
        ],
        [
         193137,
         "Aayushmaan",
         "Female",
         "1983-11-14",
         "+91 4464709769",
         "Phenylketonuria",
         "Mehsana",
         "H1014"
        ],
        [
         196369,
         null,
         "Male",
         "1931-02-04",
         "+91 2973105946",
         "Choking",
         "Shivpuri",
         "H1017"
        ],
        [
         109342,
         "Chitranjan",
         "Female",
         "1925-09-09",
         "+91 5176024720",
         "Asthma",
         "Morbi",
         "H1011"
        ],
        [
         121783,
         "Paridhi",
         "Female",
         "1959-03-27",
         "+91 2139280879",
         "Bladder cancer",
         "Jabalpur",
         "H1013"
        ],
        [
         197441,
         "Deependu",
         "Female",
         "1952-02-13",
         "+91 5674176644",
         "Lung cancer",
         "Bareilly",
         "H1001"
        ],
        [
         194166,
         null,
         "Male",
         "1946-10-17",
         "+91 9887324437",
         "Colorectal cancer",
         "Baranagar",
         "H1015"
        ],
        [
         110690,
         "Laksman",
         "Female",
         "1939-05-26",
         "+91 4504120828",
         "Food Poisoning",
         "Ahmednagar",
         "H1001"
        ],
        [
         180709,
         null,
         "Male",
         "1988-06-27",
         "+91 6877897646",
         "Anthrax",
         "Pali",
         "H1017"
        ],
        [
         119268,
         "Shivakari",
         "Female",
         "1944-11-02",
         "+91 3740484063",
         "Mold allergy",
         "Hapur",
         "H1008"
        ],
        [
         163148,
         "Madhu",
         "Male",
         "1984-10-23",
         "+91 8367885507",
         "Beriberi",
         "Udaipur",
         "H1008"
        ],
        [
         118913,
         "Chanak",
         "Male",
         "1954-08-27",
         "+91 5093121123",
         "Malaria",
         "Jalandhar",
         "H1004"
        ],
        [
         167423,
         "Chittesh",
         "Male",
         "1949-10-17",
         "+91 1378163498",
         "Asthma",
         "Thoothukudi",
         "H1019"
        ],
        [
         141703,
         "Nawal",
         "Male",
         "1940-01-22",
         "+91 1885105576",
         "Fractures",
         "Bhopal",
         "H1006"
        ],
        [
         173518,
         "Gajabahu",
         "Male",
         "1959-03-15",
         "+91 1207869436",
         "Malaria",
         "Udupi",
         "H1015"
        ],
        [
         140394,
         "Jitesh",
         "Male",
         "1983-02-03",
         "+91 6515468035",
         "Anthrax",
         "Karimnagar",
         "H1010"
        ],
        [
         164524,
         null,
         "Female",
         "1966-09-25",
         "+91 6477918745",
         "Mold allergy",
         "Kharagpur",
         "H1015"
        ],
        [
         198182,
         "Lalit",
         "Female",
         "1924-02-15",
         "+91 4647833992",
         "Head banging",
         "Tinsukia",
         "H1017"
        ],
        [
         115143,
         "Anshuk",
         "Male",
         "1991-06-17",
         "+91 9764690642",
         "Drug consumption",
         "Uluberia",
         "H1001"
        ],
        [
         156364,
         null,
         "Male",
         "1994-01-13",
         "+91 8444537013",
         "Cholera",
         "Panihati",
         "H1019"
        ],
        [
         191132,
         "Dipesh",
         "Female",
         "1949-04-01",
         "+91 5851958964",
         "Glaucoma",
         "Kochi",
         "H1016"
        ],
        [
         105686,
         null,
         "Male",
         "1930-09-01",
         "+91 7061843400",
         "Hepatitis",
         "Kolhapur",
         "H1008"
        ],
        [
         160140,
         "Kishan",
         "Male",
         "1923-05-12",
         "+91 9067652693",
         "Rett Syndrome",
         "Srikakulam",
         "H1002"
        ],
        [
         114252,
         null,
         "Female",
         "1927-02-26",
         "+91 4984346995",
         "Diabetes",
         "Ambarnath",
         "H1014"
        ],
        [
         188365,
         "Bhageeratha",
         "Male",
         "1973-03-21",
         "+91 0590662722",
         "Pet allergy",
         "Sonipat",
         "H1017"
        ]
       ],
       "datasetInfos": [],
       "dbfsResultPath": null,
       "isJsonSchema": true,
       "metadata": {},
       "overflow": false,
       "plotOptions": {
        "customPlotOptions": {},
        "displayType": "table",
        "pivotAggregation": null,
        "pivotColumns": null,
        "xColumns": null,
        "yColumns": null
       },
       "removedWidgets": [],
       "schema": [
        {
         "metadata": "{}",
         "name": "Patient_id",
         "type": "\"integer\""
        },
        {
         "metadata": "{}",
         "name": "Patient_name",
         "type": "\"string\""
        },
        {
         "metadata": "{}",
         "name": "patient_gender",
         "type": "\"string\""
        },
        {
         "metadata": "{\"__detected_date_formats\":\"yyyy-M-d\"}",
         "name": "patient_birth_date",
         "type": "\"date\""
        },
        {
         "metadata": "{}",
         "name": "patient_phone",
         "type": "\"string\""
        },
        {
         "metadata": "{}",
         "name": "disease_name",
         "type": "\"string\""
        },
        {
         "metadata": "{}",
         "name": "city",
         "type": "\"string\""
        },
        {
         "metadata": "{}",
         "name": "hospital_id",
         "type": "\"string\""
        }
       ],
       "type": "table"
      }
     },
     "output_type": "display_data"
    }
   ],
   "source": [
    "display(pat_df)"
   ]
  },
  {
   "cell_type": "code",
   "execution_count": 0,
   "metadata": {
    "application/vnd.databricks.v1+cell": {
     "cellMetadata": {
      "byteLimit": 2048000,
      "rowLimit": 10000
     },
     "inputWidgets": {},
     "nuid": "2f1d79bc-b7ff-410c-b815-5ec28b92d643",
     "showTitle": false,
     "tableResultSettingsMap": {},
     "title": ""
    }
   },
   "outputs": [
    {
     "output_type": "stream",
     "name": "stdout",
     "output_type": "stream",
     "text": [
      "+----------+------------+--------------+------------------+-------------+------------+----+-----------+\n|Patient_id|Patient_name|patient_gender|patient_birth_date|patient_phone|disease_name|city|hospital_id|\n+----------+------------+--------------+------------------+-------------+------------+----+-----------+\n|         0|          17|             0|                 0|            2|           0|   0|          0|\n+----------+------------+--------------+------------------+-------------+------------+----+-----------+\n\n"
     ]
    }
   ],
   "source": [
    "missingvaluescheck(pat_df)"
   ]
  },
  {
   "cell_type": "code",
   "execution_count": 0,
   "metadata": {
    "application/vnd.databricks.v1+cell": {
     "cellMetadata": {
      "byteLimit": 2048000,
      "rowLimit": 10000
     },
     "inputWidgets": {},
     "nuid": "f6239991-473b-45ab-bc9a-c57c0cb72ba0",
     "showTitle": false,
     "tableResultSettingsMap": {},
     "title": ""
    }
   },
   "outputs": [
    {
     "output_type": "stream",
     "name": "stdout",
     "output_type": "stream",
     "text": [
      "+----------+------------+--------------+------------------+-------------+------------+----+-----------+-----+\n|Patient_id|Patient_name|patient_gender|patient_birth_date|patient_phone|disease_name|city|hospital_id|count|\n+----------+------------+--------------+------------------+-------------+------------+----+-----------+-----+\n+----------+------------+--------------+------------------+-------------+------------+----+-----------+-----+\n\n"
     ]
    }
   ],
   "source": [
    "tocheckduplicates(pat_df)"
   ]
  },
  {
   "cell_type": "code",
   "execution_count": 0,
   "metadata": {
    "application/vnd.databricks.v1+cell": {
     "cellMetadata": {
      "byteLimit": 2048000,
      "rowLimit": 10000
     },
     "inputWidgets": {},
     "nuid": "03669292-b795-4e48-b9b2-321302d76e56",
     "showTitle": false,
     "tableResultSettingsMap": {},
     "title": ""
    }
   },
   "outputs": [],
   "source": [
    "pat_df = pat_df.fillna({\"Patient_name\": \"Visitor\"})"
   ]
  },
  {
   "cell_type": "code",
   "execution_count": 0,
   "metadata": {
    "application/vnd.databricks.v1+cell": {
     "cellMetadata": {
      "byteLimit": 2048000,
      "rowLimit": 10000
     },
     "inputWidgets": {},
     "nuid": "08e7c437-aab9-4e71-8d5f-3a6d4be3be00",
     "showTitle": false,
     "tableResultSettingsMap": {},
     "title": ""
    }
   },
   "outputs": [
    {
     "output_type": "display_data",
     "data": {
      "text/html": [
       "<style scoped>\n",
       "  .table-result-container {\n",
       "    max-height: 300px;\n",
       "    overflow: auto;\n",
       "  }\n",
       "  table, th, td {\n",
       "    border: 1px solid black;\n",
       "    border-collapse: collapse;\n",
       "  }\n",
       "  th, td {\n",
       "    padding: 5px;\n",
       "  }\n",
       "  th {\n",
       "    text-align: left;\n",
       "  }\n",
       "</style><div class='table-result-container'><table class='table-result'><thead style='background-color: white'><tr><th>Patient_id</th><th>Patient_name</th><th>patient_gender</th><th>patient_birth_date</th><th>patient_phone</th><th>disease_name</th><th>city</th><th>hospital_id</th></tr></thead><tbody><tr><td>187158</td><td>Harbir</td><td>Female</td><td>1924-06-30</td><td>+91 0112009318</td><td>Galactosemia</td><td>Rourkela</td><td>H1001</td></tr><tr><td>112766</td><td>Brahmdev</td><td>Female</td><td>1948-12-20</td><td>+91 1727749552</td><td>Bladder cancer</td><td>Tiruvottiyur</td><td>H1016</td></tr><tr><td>199252</td><td>Ujjawal</td><td>Male</td><td>1980-04-16</td><td>+91 8547451606</td><td>Kidney cancer</td><td>Berhampur</td><td>H1009</td></tr><tr><td>133424</td><td>Ballari</td><td>Female</td><td>1969-09-25</td><td>+91 0106026841</td><td>Suicide</td><td>Bihar Sharif</td><td>H1017</td></tr><tr><td>172579</td><td>Devnath</td><td>Female</td><td>1946-05-01</td><td>+91 1868774631</td><td>Food allergy</td><td>Bidhannagar</td><td>H1019</td></tr><tr><td>171320</td><td>Atasi</td><td>Male</td><td>1967-10-02</td><td>+91 9747336855</td><td>Whiplash</td><td>Amravati</td><td>H1013</td></tr><tr><td>107794</td><td>Manish</td><td>Male</td><td>1967-06-06</td><td>+91 4354294043</td><td>Sunbathing</td><td>Panvel</td><td>H1004</td></tr><tr><td>130339</td><td>Aakar</td><td>Female</td><td>1925-03-05</td><td>+91 2777633911</td><td>Drug consumption</td><td>Bihar Sharif</td><td>H1000</td></tr><tr><td>110377</td><td>Gurudas</td><td>Male</td><td>1945-05-06</td><td>+91 1232859381</td><td>Dengue</td><td>Kamarhati</td><td>H1001</td></tr><tr><td>149367</td><td>Visitor</td><td>Male</td><td>1925-06-12</td><td>+91 1780763280</td><td>Head banging</td><td>Bangalore</td><td>H1013</td></tr><tr><td>156168</td><td>Visitor</td><td>Male</td><td>1976-02-03</td><td>+91 5586075345</td><td>Fanconi anaemia</td><td>Rajkot</td><td>H1004</td></tr><tr><td>114241</td><td>Visitor</td><td>Female</td><td>1955-01-22</td><td>+91 4146391938</td><td>Breast cancer</td><td>Ghaziabad</td><td>H1015</td></tr><tr><td>146382</td><td>Dharmadaas</td><td>Male</td><td>1964-04-29</td><td>+91 6345482027</td><td>Anthrax</td><td>Bhalswa Jahangir Pur</td><td>H1019</td></tr><tr><td>132748</td><td>Brahmvir</td><td>Male</td><td>1991-11-11</td><td>+91 7316972612</td><td>Cystic fibrosis</td><td>Ambala</td><td>H1018</td></tr><tr><td>167340</td><td>Visitor</td><td>Female</td><td>1981-01-25</td><td>+91 2960004518</td><td>Galactosemia</td><td>Surendranagar Dudhrej</td><td>H1003</td></tr><tr><td>135184</td><td>Bhagvan</td><td>Female</td><td>1966-07-24</td><td>+91 0297693485</td><td>Dengue</td><td>Bhimavaram</td><td>H1018</td></tr><tr><td>179662</td><td>Amritkala</td><td>Female</td><td>1933-11-20</td><td>+91 0537157280</td><td>Smallpox</td><td>Meerut</td><td>H1018</td></tr><tr><td>184479</td><td>Bandhu</td><td>Male</td><td>1996-10-15</td><td>+91 0695289163</td><td>Pollen allergy</td><td>Chinsurah</td><td>H1010</td></tr><tr><td>156988</td><td>Bhagavaana</td><td>Female</td><td>1935-09-16</td><td>+91 6071745855</td><td>Breast cancer</td><td>Shahjahanpur</td><td>H1012</td></tr><tr><td>132870</td><td>Visitor</td><td>Female</td><td>1924-11-09</td><td>+91 8906694405</td><td>Glaucoma</td><td>Jabalpur</td><td>H1017</td></tr><tr><td>148137</td><td>Umang</td><td>Female</td><td>1963-07-14</td><td>+91 9485838770</td><td>Pet allergy</td><td>Haridwar</td><td>H1002</td></tr><tr><td>113280</td><td>Darsana</td><td>Male</td><td>1932-05-29</td><td>+91 7676311811</td><td>Rett Syndrome</td><td>Dibrugarh</td><td>H1019</td></tr><tr><td>134184</td><td>Prakash</td><td>Female</td><td>1923-09-15</td><td>+91 9268324471</td><td>Flu</td><td>Kottayam</td><td>H1001</td></tr><tr><td>122592</td><td>Vaijayanti</td><td>Male</td><td>1920-11-13</td><td>+91 9358851649</td><td>Cholera</td><td>Mira-Bhayandar</td><td>H1009</td></tr><tr><td>154439</td><td>Menakshi</td><td>Male</td><td>1987-03-06</td><td>+91 0531676556</td><td>Scurvy</td><td>Kamarhati</td><td>H1016</td></tr><tr><td>117945</td><td>Visitor</td><td>Male</td><td>1955-12-24</td><td>+91 2416747182</td><td>Glaucoma</td><td>Karimnagar</td><td>H1009</td></tr><tr><td>189996</td><td>Ekant</td><td>Male</td><td>1943-08-13</td><td>+91 7686951174</td><td>Measles</td><td>Berhampore</td><td>H1003</td></tr><tr><td>146540</td><td>Chancharik</td><td>Male</td><td>1983-09-05</td><td>+91 5309364825</td><td>Scurvy</td><td>Chapra</td><td>H1012</td></tr><tr><td>156434</td><td>Pushti</td><td>Female</td><td>1935-10-15</td><td>+91 7093722203</td><td>Flu</td><td>Morbi</td><td>H1019</td></tr><tr><td>197352</td><td>Swati</td><td>Female</td><td>1987-12-11</td><td>+91 1028477510</td><td>Pet allergy</td><td>Amravati</td><td>H1019</td></tr><tr><td>138778</td><td>Upasana</td><td>Male</td><td>1956-06-01</td><td>+91 0548234943</td><td>Lymphedema</td><td>Hyderabad</td><td>H1005</td></tr><tr><td>162665</td><td>Kanhaiya</td><td>Female</td><td>1954-10-19</td><td>+91 0788738026</td><td>Alcohol consumption</td><td>Mysore</td><td>H1009</td></tr><tr><td>197503</td><td>Visitor</td><td>Female</td><td>1968-07-02</td><td>+91 2599794460</td><td>Stroke</td><td>Gwalior</td><td>H1009</td></tr><tr><td>113476</td><td>Gensho</td><td>Male</td><td>1992-06-06</td><td>+91 4834040556</td><td>Galactosemia</td><td>Ludhiana</td><td>H1016</td></tr><tr><td>195876</td><td>Gopal</td><td>Male</td><td>1986-05-14</td><td>+91 1181471524</td><td>Vertigo</td><td>Raebareli</td><td>H1017</td></tr><tr><td>150189</td><td>Dheeman</td><td>Male</td><td>1945-05-04</td><td>+91 8239321466</td><td>Measles</td><td>Mysore</td><td>H1017</td></tr><tr><td>138861</td><td>Upasana</td><td>Female</td><td>1927-10-03</td><td>null</td><td>Heart Attack</td><td>Ratlam</td><td>H1004</td></tr><tr><td>146555</td><td>Visitor</td><td>Male</td><td>1948-11-10</td><td>+91 8390195092</td><td>Phenylketonuria</td><td>Vadodara</td><td>H1007</td></tr><tr><td>199114</td><td>Visitor</td><td>Female</td><td>1955-04-07</td><td>+91 7434031446</td><td>Phenylketonuria</td><td>Vijayawada</td><td>H1017</td></tr><tr><td>105758</td><td>Madhubala</td><td>Male</td><td>1937-01-11</td><td>+91 8498685882</td><td>Head banging</td><td>Jaunpur</td><td>H1003</td></tr><tr><td>109251</td><td>Anjushree</td><td>Male</td><td>1976-07-04</td><td>+91 5322869455</td><td>Choking</td><td>Ghaziabad</td><td>H1001</td></tr><tr><td>156223</td><td>Visitor</td><td>Female</td><td>1930-11-25</td><td>null</td><td>Fanconi anaemia</td><td>Agartala</td><td>H1012</td></tr><tr><td>108576</td><td>Chakrika</td><td>Male</td><td>1964-08-05</td><td>+91 8185162879</td><td>Stroke</td><td>Ranchi</td><td>H1003</td></tr><tr><td>132947</td><td>Saroj</td><td>Female</td><td>1942-08-26</td><td>+91 5690408243</td><td>Anaemia</td><td>Muzaffarpur</td><td>H1016</td></tr><tr><td>148674</td><td>Ayushmati</td><td>Male</td><td>1932-09-20</td><td>+91 3683223970</td><td>Diabetes</td><td>Satna</td><td>H1016</td></tr><tr><td>133107</td><td>Drashti</td><td>Male</td><td>1926-07-03</td><td>+91 9447269993</td><td>Lymphedema</td><td>Saharsa</td><td>H1019</td></tr><tr><td>193137</td><td>Aayushmaan</td><td>Female</td><td>1983-11-14</td><td>+91 4464709769</td><td>Phenylketonuria</td><td>Mehsana</td><td>H1014</td></tr><tr><td>196369</td><td>Visitor</td><td>Male</td><td>1931-02-04</td><td>+91 2973105946</td><td>Choking</td><td>Shivpuri</td><td>H1017</td></tr><tr><td>109342</td><td>Chitranjan</td><td>Female</td><td>1925-09-09</td><td>+91 5176024720</td><td>Asthma</td><td>Morbi</td><td>H1011</td></tr><tr><td>121783</td><td>Paridhi</td><td>Female</td><td>1959-03-27</td><td>+91 2139280879</td><td>Bladder cancer</td><td>Jabalpur</td><td>H1013</td></tr><tr><td>197441</td><td>Deependu</td><td>Female</td><td>1952-02-13</td><td>+91 5674176644</td><td>Lung cancer</td><td>Bareilly</td><td>H1001</td></tr><tr><td>194166</td><td>Visitor</td><td>Male</td><td>1946-10-17</td><td>+91 9887324437</td><td>Colorectal cancer</td><td>Baranagar</td><td>H1015</td></tr><tr><td>110690</td><td>Laksman</td><td>Female</td><td>1939-05-26</td><td>+91 4504120828</td><td>Food Poisoning</td><td>Ahmednagar</td><td>H1001</td></tr><tr><td>180709</td><td>Visitor</td><td>Male</td><td>1988-06-27</td><td>+91 6877897646</td><td>Anthrax</td><td>Pali</td><td>H1017</td></tr><tr><td>119268</td><td>Shivakari</td><td>Female</td><td>1944-11-02</td><td>+91 3740484063</td><td>Mold allergy</td><td>Hapur</td><td>H1008</td></tr><tr><td>163148</td><td>Madhu</td><td>Male</td><td>1984-10-23</td><td>+91 8367885507</td><td>Beriberi</td><td>Udaipur</td><td>H1008</td></tr><tr><td>118913</td><td>Chanak</td><td>Male</td><td>1954-08-27</td><td>+91 5093121123</td><td>Malaria</td><td>Jalandhar</td><td>H1004</td></tr><tr><td>167423</td><td>Chittesh</td><td>Male</td><td>1949-10-17</td><td>+91 1378163498</td><td>Asthma</td><td>Thoothukudi</td><td>H1019</td></tr><tr><td>141703</td><td>Nawal</td><td>Male</td><td>1940-01-22</td><td>+91 1885105576</td><td>Fractures</td><td>Bhopal</td><td>H1006</td></tr><tr><td>173518</td><td>Gajabahu</td><td>Male</td><td>1959-03-15</td><td>+91 1207869436</td><td>Malaria</td><td>Udupi</td><td>H1015</td></tr><tr><td>140394</td><td>Jitesh</td><td>Male</td><td>1983-02-03</td><td>+91 6515468035</td><td>Anthrax</td><td>Karimnagar</td><td>H1010</td></tr><tr><td>164524</td><td>Visitor</td><td>Female</td><td>1966-09-25</td><td>+91 6477918745</td><td>Mold allergy</td><td>Kharagpur</td><td>H1015</td></tr><tr><td>198182</td><td>Lalit</td><td>Female</td><td>1924-02-15</td><td>+91 4647833992</td><td>Head banging</td><td>Tinsukia</td><td>H1017</td></tr><tr><td>115143</td><td>Anshuk</td><td>Male</td><td>1991-06-17</td><td>+91 9764690642</td><td>Drug consumption</td><td>Uluberia</td><td>H1001</td></tr><tr><td>156364</td><td>Visitor</td><td>Male</td><td>1994-01-13</td><td>+91 8444537013</td><td>Cholera</td><td>Panihati</td><td>H1019</td></tr><tr><td>191132</td><td>Dipesh</td><td>Female</td><td>1949-04-01</td><td>+91 5851958964</td><td>Glaucoma</td><td>Kochi</td><td>H1016</td></tr><tr><td>105686</td><td>Visitor</td><td>Male</td><td>1930-09-01</td><td>+91 7061843400</td><td>Hepatitis</td><td>Kolhapur</td><td>H1008</td></tr><tr><td>160140</td><td>Kishan</td><td>Male</td><td>1923-05-12</td><td>+91 9067652693</td><td>Rett Syndrome</td><td>Srikakulam</td><td>H1002</td></tr><tr><td>114252</td><td>Visitor</td><td>Female</td><td>1927-02-26</td><td>+91 4984346995</td><td>Diabetes</td><td>Ambarnath</td><td>H1014</td></tr><tr><td>188365</td><td>Bhageeratha</td><td>Male</td><td>1973-03-21</td><td>+91 0590662722</td><td>Pet allergy</td><td>Sonipat</td><td>H1017</td></tr></tbody></table></div>"
      ]
     },
     "metadata": {
      "application/vnd.databricks.v1+output": {
       "addedWidgets": {},
       "aggData": [],
       "aggError": "",
       "aggOverflow": false,
       "aggSchema": [],
       "aggSeriesLimitReached": false,
       "aggType": "",
       "arguments": {},
       "columnCustomDisplayInfos": {},
       "data": [
        [
         187158,
         "Harbir",
         "Female",
         "1924-06-30",
         "+91 0112009318",
         "Galactosemia",
         "Rourkela",
         "H1001"
        ],
        [
         112766,
         "Brahmdev",
         "Female",
         "1948-12-20",
         "+91 1727749552",
         "Bladder cancer",
         "Tiruvottiyur",
         "H1016"
        ],
        [
         199252,
         "Ujjawal",
         "Male",
         "1980-04-16",
         "+91 8547451606",
         "Kidney cancer",
         "Berhampur",
         "H1009"
        ],
        [
         133424,
         "Ballari",
         "Female",
         "1969-09-25",
         "+91 0106026841",
         "Suicide",
         "Bihar Sharif",
         "H1017"
        ],
        [
         172579,
         "Devnath",
         "Female",
         "1946-05-01",
         "+91 1868774631",
         "Food allergy",
         "Bidhannagar",
         "H1019"
        ],
        [
         171320,
         "Atasi",
         "Male",
         "1967-10-02",
         "+91 9747336855",
         "Whiplash",
         "Amravati",
         "H1013"
        ],
        [
         107794,
         "Manish",
         "Male",
         "1967-06-06",
         "+91 4354294043",
         "Sunbathing",
         "Panvel",
         "H1004"
        ],
        [
         130339,
         "Aakar",
         "Female",
         "1925-03-05",
         "+91 2777633911",
         "Drug consumption",
         "Bihar Sharif",
         "H1000"
        ],
        [
         110377,
         "Gurudas",
         "Male",
         "1945-05-06",
         "+91 1232859381",
         "Dengue",
         "Kamarhati",
         "H1001"
        ],
        [
         149367,
         "Visitor",
         "Male",
         "1925-06-12",
         "+91 1780763280",
         "Head banging",
         "Bangalore",
         "H1013"
        ],
        [
         156168,
         "Visitor",
         "Male",
         "1976-02-03",
         "+91 5586075345",
         "Fanconi anaemia",
         "Rajkot",
         "H1004"
        ],
        [
         114241,
         "Visitor",
         "Female",
         "1955-01-22",
         "+91 4146391938",
         "Breast cancer",
         "Ghaziabad",
         "H1015"
        ],
        [
         146382,
         "Dharmadaas",
         "Male",
         "1964-04-29",
         "+91 6345482027",
         "Anthrax",
         "Bhalswa Jahangir Pur",
         "H1019"
        ],
        [
         132748,
         "Brahmvir",
         "Male",
         "1991-11-11",
         "+91 7316972612",
         "Cystic fibrosis",
         "Ambala",
         "H1018"
        ],
        [
         167340,
         "Visitor",
         "Female",
         "1981-01-25",
         "+91 2960004518",
         "Galactosemia",
         "Surendranagar Dudhrej",
         "H1003"
        ],
        [
         135184,
         "Bhagvan",
         "Female",
         "1966-07-24",
         "+91 0297693485",
         "Dengue",
         "Bhimavaram",
         "H1018"
        ],
        [
         179662,
         "Amritkala",
         "Female",
         "1933-11-20",
         "+91 0537157280",
         "Smallpox",
         "Meerut",
         "H1018"
        ],
        [
         184479,
         "Bandhu",
         "Male",
         "1996-10-15",
         "+91 0695289163",
         "Pollen allergy",
         "Chinsurah",
         "H1010"
        ],
        [
         156988,
         "Bhagavaana",
         "Female",
         "1935-09-16",
         "+91 6071745855",
         "Breast cancer",
         "Shahjahanpur",
         "H1012"
        ],
        [
         132870,
         "Visitor",
         "Female",
         "1924-11-09",
         "+91 8906694405",
         "Glaucoma",
         "Jabalpur",
         "H1017"
        ],
        [
         148137,
         "Umang",
         "Female",
         "1963-07-14",
         "+91 9485838770",
         "Pet allergy",
         "Haridwar",
         "H1002"
        ],
        [
         113280,
         "Darsana",
         "Male",
         "1932-05-29",
         "+91 7676311811",
         "Rett Syndrome",
         "Dibrugarh",
         "H1019"
        ],
        [
         134184,
         "Prakash",
         "Female",
         "1923-09-15",
         "+91 9268324471",
         "Flu",
         "Kottayam",
         "H1001"
        ],
        [
         122592,
         "Vaijayanti",
         "Male",
         "1920-11-13",
         "+91 9358851649",
         "Cholera",
         "Mira-Bhayandar",
         "H1009"
        ],
        [
         154439,
         "Menakshi",
         "Male",
         "1987-03-06",
         "+91 0531676556",
         "Scurvy",
         "Kamarhati",
         "H1016"
        ],
        [
         117945,
         "Visitor",
         "Male",
         "1955-12-24",
         "+91 2416747182",
         "Glaucoma",
         "Karimnagar",
         "H1009"
        ],
        [
         189996,
         "Ekant",
         "Male",
         "1943-08-13",
         "+91 7686951174",
         "Measles",
         "Berhampore",
         "H1003"
        ],
        [
         146540,
         "Chancharik",
         "Male",
         "1983-09-05",
         "+91 5309364825",
         "Scurvy",
         "Chapra",
         "H1012"
        ],
        [
         156434,
         "Pushti",
         "Female",
         "1935-10-15",
         "+91 7093722203",
         "Flu",
         "Morbi",
         "H1019"
        ],
        [
         197352,
         "Swati",
         "Female",
         "1987-12-11",
         "+91 1028477510",
         "Pet allergy",
         "Amravati",
         "H1019"
        ],
        [
         138778,
         "Upasana",
         "Male",
         "1956-06-01",
         "+91 0548234943",
         "Lymphedema",
         "Hyderabad",
         "H1005"
        ],
        [
         162665,
         "Kanhaiya",
         "Female",
         "1954-10-19",
         "+91 0788738026",
         "Alcohol consumption",
         "Mysore",
         "H1009"
        ],
        [
         197503,
         "Visitor",
         "Female",
         "1968-07-02",
         "+91 2599794460",
         "Stroke",
         "Gwalior",
         "H1009"
        ],
        [
         113476,
         "Gensho",
         "Male",
         "1992-06-06",
         "+91 4834040556",
         "Galactosemia",
         "Ludhiana",
         "H1016"
        ],
        [
         195876,
         "Gopal",
         "Male",
         "1986-05-14",
         "+91 1181471524",
         "Vertigo",
         "Raebareli",
         "H1017"
        ],
        [
         150189,
         "Dheeman",
         "Male",
         "1945-05-04",
         "+91 8239321466",
         "Measles",
         "Mysore",
         "H1017"
        ],
        [
         138861,
         "Upasana",
         "Female",
         "1927-10-03",
         null,
         "Heart Attack",
         "Ratlam",
         "H1004"
        ],
        [
         146555,
         "Visitor",
         "Male",
         "1948-11-10",
         "+91 8390195092",
         "Phenylketonuria",
         "Vadodara",
         "H1007"
        ],
        [
         199114,
         "Visitor",
         "Female",
         "1955-04-07",
         "+91 7434031446",
         "Phenylketonuria",
         "Vijayawada",
         "H1017"
        ],
        [
         105758,
         "Madhubala",
         "Male",
         "1937-01-11",
         "+91 8498685882",
         "Head banging",
         "Jaunpur",
         "H1003"
        ],
        [
         109251,
         "Anjushree",
         "Male",
         "1976-07-04",
         "+91 5322869455",
         "Choking",
         "Ghaziabad",
         "H1001"
        ],
        [
         156223,
         "Visitor",
         "Female",
         "1930-11-25",
         null,
         "Fanconi anaemia",
         "Agartala",
         "H1012"
        ],
        [
         108576,
         "Chakrika",
         "Male",
         "1964-08-05",
         "+91 8185162879",
         "Stroke",
         "Ranchi",
         "H1003"
        ],
        [
         132947,
         "Saroj",
         "Female",
         "1942-08-26",
         "+91 5690408243",
         "Anaemia",
         "Muzaffarpur",
         "H1016"
        ],
        [
         148674,
         "Ayushmati",
         "Male",
         "1932-09-20",
         "+91 3683223970",
         "Diabetes",
         "Satna",
         "H1016"
        ],
        [
         133107,
         "Drashti",
         "Male",
         "1926-07-03",
         "+91 9447269993",
         "Lymphedema",
         "Saharsa",
         "H1019"
        ],
        [
         193137,
         "Aayushmaan",
         "Female",
         "1983-11-14",
         "+91 4464709769",
         "Phenylketonuria",
         "Mehsana",
         "H1014"
        ],
        [
         196369,
         "Visitor",
         "Male",
         "1931-02-04",
         "+91 2973105946",
         "Choking",
         "Shivpuri",
         "H1017"
        ],
        [
         109342,
         "Chitranjan",
         "Female",
         "1925-09-09",
         "+91 5176024720",
         "Asthma",
         "Morbi",
         "H1011"
        ],
        [
         121783,
         "Paridhi",
         "Female",
         "1959-03-27",
         "+91 2139280879",
         "Bladder cancer",
         "Jabalpur",
         "H1013"
        ],
        [
         197441,
         "Deependu",
         "Female",
         "1952-02-13",
         "+91 5674176644",
         "Lung cancer",
         "Bareilly",
         "H1001"
        ],
        [
         194166,
         "Visitor",
         "Male",
         "1946-10-17",
         "+91 9887324437",
         "Colorectal cancer",
         "Baranagar",
         "H1015"
        ],
        [
         110690,
         "Laksman",
         "Female",
         "1939-05-26",
         "+91 4504120828",
         "Food Poisoning",
         "Ahmednagar",
         "H1001"
        ],
        [
         180709,
         "Visitor",
         "Male",
         "1988-06-27",
         "+91 6877897646",
         "Anthrax",
         "Pali",
         "H1017"
        ],
        [
         119268,
         "Shivakari",
         "Female",
         "1944-11-02",
         "+91 3740484063",
         "Mold allergy",
         "Hapur",
         "H1008"
        ],
        [
         163148,
         "Madhu",
         "Male",
         "1984-10-23",
         "+91 8367885507",
         "Beriberi",
         "Udaipur",
         "H1008"
        ],
        [
         118913,
         "Chanak",
         "Male",
         "1954-08-27",
         "+91 5093121123",
         "Malaria",
         "Jalandhar",
         "H1004"
        ],
        [
         167423,
         "Chittesh",
         "Male",
         "1949-10-17",
         "+91 1378163498",
         "Asthma",
         "Thoothukudi",
         "H1019"
        ],
        [
         141703,
         "Nawal",
         "Male",
         "1940-01-22",
         "+91 1885105576",
         "Fractures",
         "Bhopal",
         "H1006"
        ],
        [
         173518,
         "Gajabahu",
         "Male",
         "1959-03-15",
         "+91 1207869436",
         "Malaria",
         "Udupi",
         "H1015"
        ],
        [
         140394,
         "Jitesh",
         "Male",
         "1983-02-03",
         "+91 6515468035",
         "Anthrax",
         "Karimnagar",
         "H1010"
        ],
        [
         164524,
         "Visitor",
         "Female",
         "1966-09-25",
         "+91 6477918745",
         "Mold allergy",
         "Kharagpur",
         "H1015"
        ],
        [
         198182,
         "Lalit",
         "Female",
         "1924-02-15",
         "+91 4647833992",
         "Head banging",
         "Tinsukia",
         "H1017"
        ],
        [
         115143,
         "Anshuk",
         "Male",
         "1991-06-17",
         "+91 9764690642",
         "Drug consumption",
         "Uluberia",
         "H1001"
        ],
        [
         156364,
         "Visitor",
         "Male",
         "1994-01-13",
         "+91 8444537013",
         "Cholera",
         "Panihati",
         "H1019"
        ],
        [
         191132,
         "Dipesh",
         "Female",
         "1949-04-01",
         "+91 5851958964",
         "Glaucoma",
         "Kochi",
         "H1016"
        ],
        [
         105686,
         "Visitor",
         "Male",
         "1930-09-01",
         "+91 7061843400",
         "Hepatitis",
         "Kolhapur",
         "H1008"
        ],
        [
         160140,
         "Kishan",
         "Male",
         "1923-05-12",
         "+91 9067652693",
         "Rett Syndrome",
         "Srikakulam",
         "H1002"
        ],
        [
         114252,
         "Visitor",
         "Female",
         "1927-02-26",
         "+91 4984346995",
         "Diabetes",
         "Ambarnath",
         "H1014"
        ],
        [
         188365,
         "Bhageeratha",
         "Male",
         "1973-03-21",
         "+91 0590662722",
         "Pet allergy",
         "Sonipat",
         "H1017"
        ]
       ],
       "datasetInfos": [],
       "dbfsResultPath": null,
       "isJsonSchema": true,
       "metadata": {},
       "overflow": false,
       "plotOptions": {
        "customPlotOptions": {},
        "displayType": "table",
        "pivotAggregation": null,
        "pivotColumns": null,
        "xColumns": null,
        "yColumns": null
       },
       "removedWidgets": [],
       "schema": [
        {
         "metadata": "{}",
         "name": "Patient_id",
         "type": "\"integer\""
        },
        {
         "metadata": "{}",
         "name": "Patient_name",
         "type": "\"string\""
        },
        {
         "metadata": "{}",
         "name": "patient_gender",
         "type": "\"string\""
        },
        {
         "metadata": "{\"__detected_date_formats\":\"yyyy-M-d\"}",
         "name": "patient_birth_date",
         "type": "\"date\""
        },
        {
         "metadata": "{}",
         "name": "patient_phone",
         "type": "\"string\""
        },
        {
         "metadata": "{}",
         "name": "disease_name",
         "type": "\"string\""
        },
        {
         "metadata": "{}",
         "name": "city",
         "type": "\"string\""
        },
        {
         "metadata": "{}",
         "name": "hospital_id",
         "type": "\"string\""
        }
       ],
       "type": "table"
      }
     },
     "output_type": "display_data"
    }
   ],
   "source": [
    "display(pat_df)"
   ]
  },
  {
   "cell_type": "code",
   "execution_count": 0,
   "metadata": {
    "application/vnd.databricks.v1+cell": {
     "cellMetadata": {
      "byteLimit": 2048000,
      "rowLimit": 10000
     },
     "inputWidgets": {},
     "nuid": "104b6d2e-dd9d-489d-a4e8-b8eb7bef19f9",
     "showTitle": false,
     "tableResultSettingsMap": {},
     "title": ""
    }
   },
   "outputs": [],
   "source": [
    "pat_df = pat_df.drop(\"patient_phone\")   #dropping the ph number column"
   ]
  },
  {
   "cell_type": "code",
   "execution_count": 0,
   "metadata": {
    "application/vnd.databricks.v1+cell": {
     "cellMetadata": {
      "byteLimit": 2048000,
      "rowLimit": 10000
     },
     "inputWidgets": {},
     "nuid": "075649a6-c814-4955-bcbe-84f702a6bff5",
     "showTitle": false,
     "tableResultSettingsMap": {},
     "title": ""
    }
   },
   "outputs": [
    {
     "output_type": "display_data",
     "data": {
      "text/html": [
       "<style scoped>\n",
       "  .table-result-container {\n",
       "    max-height: 300px;\n",
       "    overflow: auto;\n",
       "  }\n",
       "  table, th, td {\n",
       "    border: 1px solid black;\n",
       "    border-collapse: collapse;\n",
       "  }\n",
       "  th, td {\n",
       "    padding: 5px;\n",
       "  }\n",
       "  th {\n",
       "    text-align: left;\n",
       "  }\n",
       "</style><div class='table-result-container'><table class='table-result'><thead style='background-color: white'><tr><th>Patient_id</th><th>Patient_name</th><th>patient_gender</th><th>patient_birth_date</th><th>disease_name</th><th>city</th><th>hospital_id</th></tr></thead><tbody><tr><td>187158</td><td>Harbir</td><td>Female</td><td>1924-06-30</td><td>Galactosemia</td><td>Rourkela</td><td>H1001</td></tr><tr><td>112766</td><td>Brahmdev</td><td>Female</td><td>1948-12-20</td><td>Bladder cancer</td><td>Tiruvottiyur</td><td>H1016</td></tr><tr><td>199252</td><td>Ujjawal</td><td>Male</td><td>1980-04-16</td><td>Kidney cancer</td><td>Berhampur</td><td>H1009</td></tr><tr><td>133424</td><td>Ballari</td><td>Female</td><td>1969-09-25</td><td>Suicide</td><td>Bihar Sharif</td><td>H1017</td></tr><tr><td>172579</td><td>Devnath</td><td>Female</td><td>1946-05-01</td><td>Food allergy</td><td>Bidhannagar</td><td>H1019</td></tr><tr><td>171320</td><td>Atasi</td><td>Male</td><td>1967-10-02</td><td>Whiplash</td><td>Amravati</td><td>H1013</td></tr><tr><td>107794</td><td>Manish</td><td>Male</td><td>1967-06-06</td><td>Sunbathing</td><td>Panvel</td><td>H1004</td></tr><tr><td>130339</td><td>Aakar</td><td>Female</td><td>1925-03-05</td><td>Drug consumption</td><td>Bihar Sharif</td><td>H1000</td></tr><tr><td>110377</td><td>Gurudas</td><td>Male</td><td>1945-05-06</td><td>Dengue</td><td>Kamarhati</td><td>H1001</td></tr><tr><td>149367</td><td>Visitor</td><td>Male</td><td>1925-06-12</td><td>Head banging</td><td>Bangalore</td><td>H1013</td></tr><tr><td>156168</td><td>Visitor</td><td>Male</td><td>1976-02-03</td><td>Fanconi anaemia</td><td>Rajkot</td><td>H1004</td></tr><tr><td>114241</td><td>Visitor</td><td>Female</td><td>1955-01-22</td><td>Breast cancer</td><td>Ghaziabad</td><td>H1015</td></tr><tr><td>146382</td><td>Dharmadaas</td><td>Male</td><td>1964-04-29</td><td>Anthrax</td><td>Bhalswa Jahangir Pur</td><td>H1019</td></tr><tr><td>132748</td><td>Brahmvir</td><td>Male</td><td>1991-11-11</td><td>Cystic fibrosis</td><td>Ambala</td><td>H1018</td></tr><tr><td>167340</td><td>Visitor</td><td>Female</td><td>1981-01-25</td><td>Galactosemia</td><td>Surendranagar Dudhrej</td><td>H1003</td></tr><tr><td>135184</td><td>Bhagvan</td><td>Female</td><td>1966-07-24</td><td>Dengue</td><td>Bhimavaram</td><td>H1018</td></tr><tr><td>179662</td><td>Amritkala</td><td>Female</td><td>1933-11-20</td><td>Smallpox</td><td>Meerut</td><td>H1018</td></tr><tr><td>184479</td><td>Bandhu</td><td>Male</td><td>1996-10-15</td><td>Pollen allergy</td><td>Chinsurah</td><td>H1010</td></tr><tr><td>156988</td><td>Bhagavaana</td><td>Female</td><td>1935-09-16</td><td>Breast cancer</td><td>Shahjahanpur</td><td>H1012</td></tr><tr><td>132870</td><td>Visitor</td><td>Female</td><td>1924-11-09</td><td>Glaucoma</td><td>Jabalpur</td><td>H1017</td></tr><tr><td>148137</td><td>Umang</td><td>Female</td><td>1963-07-14</td><td>Pet allergy</td><td>Haridwar</td><td>H1002</td></tr><tr><td>113280</td><td>Darsana</td><td>Male</td><td>1932-05-29</td><td>Rett Syndrome</td><td>Dibrugarh</td><td>H1019</td></tr><tr><td>134184</td><td>Prakash</td><td>Female</td><td>1923-09-15</td><td>Flu</td><td>Kottayam</td><td>H1001</td></tr><tr><td>122592</td><td>Vaijayanti</td><td>Male</td><td>1920-11-13</td><td>Cholera</td><td>Mira-Bhayandar</td><td>H1009</td></tr><tr><td>154439</td><td>Menakshi</td><td>Male</td><td>1987-03-06</td><td>Scurvy</td><td>Kamarhati</td><td>H1016</td></tr><tr><td>117945</td><td>Visitor</td><td>Male</td><td>1955-12-24</td><td>Glaucoma</td><td>Karimnagar</td><td>H1009</td></tr><tr><td>189996</td><td>Ekant</td><td>Male</td><td>1943-08-13</td><td>Measles</td><td>Berhampore</td><td>H1003</td></tr><tr><td>146540</td><td>Chancharik</td><td>Male</td><td>1983-09-05</td><td>Scurvy</td><td>Chapra</td><td>H1012</td></tr><tr><td>156434</td><td>Pushti</td><td>Female</td><td>1935-10-15</td><td>Flu</td><td>Morbi</td><td>H1019</td></tr><tr><td>197352</td><td>Swati</td><td>Female</td><td>1987-12-11</td><td>Pet allergy</td><td>Amravati</td><td>H1019</td></tr><tr><td>138778</td><td>Upasana</td><td>Male</td><td>1956-06-01</td><td>Lymphedema</td><td>Hyderabad</td><td>H1005</td></tr><tr><td>162665</td><td>Kanhaiya</td><td>Female</td><td>1954-10-19</td><td>Alcohol consumption</td><td>Mysore</td><td>H1009</td></tr><tr><td>197503</td><td>Visitor</td><td>Female</td><td>1968-07-02</td><td>Stroke</td><td>Gwalior</td><td>H1009</td></tr><tr><td>113476</td><td>Gensho</td><td>Male</td><td>1992-06-06</td><td>Galactosemia</td><td>Ludhiana</td><td>H1016</td></tr><tr><td>195876</td><td>Gopal</td><td>Male</td><td>1986-05-14</td><td>Vertigo</td><td>Raebareli</td><td>H1017</td></tr><tr><td>150189</td><td>Dheeman</td><td>Male</td><td>1945-05-04</td><td>Measles</td><td>Mysore</td><td>H1017</td></tr><tr><td>138861</td><td>Upasana</td><td>Female</td><td>1927-10-03</td><td>Heart Attack</td><td>Ratlam</td><td>H1004</td></tr><tr><td>146555</td><td>Visitor</td><td>Male</td><td>1948-11-10</td><td>Phenylketonuria</td><td>Vadodara</td><td>H1007</td></tr><tr><td>199114</td><td>Visitor</td><td>Female</td><td>1955-04-07</td><td>Phenylketonuria</td><td>Vijayawada</td><td>H1017</td></tr><tr><td>105758</td><td>Madhubala</td><td>Male</td><td>1937-01-11</td><td>Head banging</td><td>Jaunpur</td><td>H1003</td></tr><tr><td>109251</td><td>Anjushree</td><td>Male</td><td>1976-07-04</td><td>Choking</td><td>Ghaziabad</td><td>H1001</td></tr><tr><td>156223</td><td>Visitor</td><td>Female</td><td>1930-11-25</td><td>Fanconi anaemia</td><td>Agartala</td><td>H1012</td></tr><tr><td>108576</td><td>Chakrika</td><td>Male</td><td>1964-08-05</td><td>Stroke</td><td>Ranchi</td><td>H1003</td></tr><tr><td>132947</td><td>Saroj</td><td>Female</td><td>1942-08-26</td><td>Anaemia</td><td>Muzaffarpur</td><td>H1016</td></tr><tr><td>148674</td><td>Ayushmati</td><td>Male</td><td>1932-09-20</td><td>Diabetes</td><td>Satna</td><td>H1016</td></tr><tr><td>133107</td><td>Drashti</td><td>Male</td><td>1926-07-03</td><td>Lymphedema</td><td>Saharsa</td><td>H1019</td></tr><tr><td>193137</td><td>Aayushmaan</td><td>Female</td><td>1983-11-14</td><td>Phenylketonuria</td><td>Mehsana</td><td>H1014</td></tr><tr><td>196369</td><td>Visitor</td><td>Male</td><td>1931-02-04</td><td>Choking</td><td>Shivpuri</td><td>H1017</td></tr><tr><td>109342</td><td>Chitranjan</td><td>Female</td><td>1925-09-09</td><td>Asthma</td><td>Morbi</td><td>H1011</td></tr><tr><td>121783</td><td>Paridhi</td><td>Female</td><td>1959-03-27</td><td>Bladder cancer</td><td>Jabalpur</td><td>H1013</td></tr><tr><td>197441</td><td>Deependu</td><td>Female</td><td>1952-02-13</td><td>Lung cancer</td><td>Bareilly</td><td>H1001</td></tr><tr><td>194166</td><td>Visitor</td><td>Male</td><td>1946-10-17</td><td>Colorectal cancer</td><td>Baranagar</td><td>H1015</td></tr><tr><td>110690</td><td>Laksman</td><td>Female</td><td>1939-05-26</td><td>Food Poisoning</td><td>Ahmednagar</td><td>H1001</td></tr><tr><td>180709</td><td>Visitor</td><td>Male</td><td>1988-06-27</td><td>Anthrax</td><td>Pali</td><td>H1017</td></tr><tr><td>119268</td><td>Shivakari</td><td>Female</td><td>1944-11-02</td><td>Mold allergy</td><td>Hapur</td><td>H1008</td></tr><tr><td>163148</td><td>Madhu</td><td>Male</td><td>1984-10-23</td><td>Beriberi</td><td>Udaipur</td><td>H1008</td></tr><tr><td>118913</td><td>Chanak</td><td>Male</td><td>1954-08-27</td><td>Malaria</td><td>Jalandhar</td><td>H1004</td></tr><tr><td>167423</td><td>Chittesh</td><td>Male</td><td>1949-10-17</td><td>Asthma</td><td>Thoothukudi</td><td>H1019</td></tr><tr><td>141703</td><td>Nawal</td><td>Male</td><td>1940-01-22</td><td>Fractures</td><td>Bhopal</td><td>H1006</td></tr><tr><td>173518</td><td>Gajabahu</td><td>Male</td><td>1959-03-15</td><td>Malaria</td><td>Udupi</td><td>H1015</td></tr><tr><td>140394</td><td>Jitesh</td><td>Male</td><td>1983-02-03</td><td>Anthrax</td><td>Karimnagar</td><td>H1010</td></tr><tr><td>164524</td><td>Visitor</td><td>Female</td><td>1966-09-25</td><td>Mold allergy</td><td>Kharagpur</td><td>H1015</td></tr><tr><td>198182</td><td>Lalit</td><td>Female</td><td>1924-02-15</td><td>Head banging</td><td>Tinsukia</td><td>H1017</td></tr><tr><td>115143</td><td>Anshuk</td><td>Male</td><td>1991-06-17</td><td>Drug consumption</td><td>Uluberia</td><td>H1001</td></tr><tr><td>156364</td><td>Visitor</td><td>Male</td><td>1994-01-13</td><td>Cholera</td><td>Panihati</td><td>H1019</td></tr><tr><td>191132</td><td>Dipesh</td><td>Female</td><td>1949-04-01</td><td>Glaucoma</td><td>Kochi</td><td>H1016</td></tr><tr><td>105686</td><td>Visitor</td><td>Male</td><td>1930-09-01</td><td>Hepatitis</td><td>Kolhapur</td><td>H1008</td></tr><tr><td>160140</td><td>Kishan</td><td>Male</td><td>1923-05-12</td><td>Rett Syndrome</td><td>Srikakulam</td><td>H1002</td></tr><tr><td>114252</td><td>Visitor</td><td>Female</td><td>1927-02-26</td><td>Diabetes</td><td>Ambarnath</td><td>H1014</td></tr><tr><td>188365</td><td>Bhageeratha</td><td>Male</td><td>1973-03-21</td><td>Pet allergy</td><td>Sonipat</td><td>H1017</td></tr></tbody></table></div>"
      ]
     },
     "metadata": {
      "application/vnd.databricks.v1+output": {
       "addedWidgets": {},
       "aggData": [],
       "aggError": "",
       "aggOverflow": false,
       "aggSchema": [],
       "aggSeriesLimitReached": false,
       "aggType": "",
       "arguments": {},
       "columnCustomDisplayInfos": {},
       "data": [
        [
         187158,
         "Harbir",
         "Female",
         "1924-06-30",
         "Galactosemia",
         "Rourkela",
         "H1001"
        ],
        [
         112766,
         "Brahmdev",
         "Female",
         "1948-12-20",
         "Bladder cancer",
         "Tiruvottiyur",
         "H1016"
        ],
        [
         199252,
         "Ujjawal",
         "Male",
         "1980-04-16",
         "Kidney cancer",
         "Berhampur",
         "H1009"
        ],
        [
         133424,
         "Ballari",
         "Female",
         "1969-09-25",
         "Suicide",
         "Bihar Sharif",
         "H1017"
        ],
        [
         172579,
         "Devnath",
         "Female",
         "1946-05-01",
         "Food allergy",
         "Bidhannagar",
         "H1019"
        ],
        [
         171320,
         "Atasi",
         "Male",
         "1967-10-02",
         "Whiplash",
         "Amravati",
         "H1013"
        ],
        [
         107794,
         "Manish",
         "Male",
         "1967-06-06",
         "Sunbathing",
         "Panvel",
         "H1004"
        ],
        [
         130339,
         "Aakar",
         "Female",
         "1925-03-05",
         "Drug consumption",
         "Bihar Sharif",
         "H1000"
        ],
        [
         110377,
         "Gurudas",
         "Male",
         "1945-05-06",
         "Dengue",
         "Kamarhati",
         "H1001"
        ],
        [
         149367,
         "Visitor",
         "Male",
         "1925-06-12",
         "Head banging",
         "Bangalore",
         "H1013"
        ],
        [
         156168,
         "Visitor",
         "Male",
         "1976-02-03",
         "Fanconi anaemia",
         "Rajkot",
         "H1004"
        ],
        [
         114241,
         "Visitor",
         "Female",
         "1955-01-22",
         "Breast cancer",
         "Ghaziabad",
         "H1015"
        ],
        [
         146382,
         "Dharmadaas",
         "Male",
         "1964-04-29",
         "Anthrax",
         "Bhalswa Jahangir Pur",
         "H1019"
        ],
        [
         132748,
         "Brahmvir",
         "Male",
         "1991-11-11",
         "Cystic fibrosis",
         "Ambala",
         "H1018"
        ],
        [
         167340,
         "Visitor",
         "Female",
         "1981-01-25",
         "Galactosemia",
         "Surendranagar Dudhrej",
         "H1003"
        ],
        [
         135184,
         "Bhagvan",
         "Female",
         "1966-07-24",
         "Dengue",
         "Bhimavaram",
         "H1018"
        ],
        [
         179662,
         "Amritkala",
         "Female",
         "1933-11-20",
         "Smallpox",
         "Meerut",
         "H1018"
        ],
        [
         184479,
         "Bandhu",
         "Male",
         "1996-10-15",
         "Pollen allergy",
         "Chinsurah",
         "H1010"
        ],
        [
         156988,
         "Bhagavaana",
         "Female",
         "1935-09-16",
         "Breast cancer",
         "Shahjahanpur",
         "H1012"
        ],
        [
         132870,
         "Visitor",
         "Female",
         "1924-11-09",
         "Glaucoma",
         "Jabalpur",
         "H1017"
        ],
        [
         148137,
         "Umang",
         "Female",
         "1963-07-14",
         "Pet allergy",
         "Haridwar",
         "H1002"
        ],
        [
         113280,
         "Darsana",
         "Male",
         "1932-05-29",
         "Rett Syndrome",
         "Dibrugarh",
         "H1019"
        ],
        [
         134184,
         "Prakash",
         "Female",
         "1923-09-15",
         "Flu",
         "Kottayam",
         "H1001"
        ],
        [
         122592,
         "Vaijayanti",
         "Male",
         "1920-11-13",
         "Cholera",
         "Mira-Bhayandar",
         "H1009"
        ],
        [
         154439,
         "Menakshi",
         "Male",
         "1987-03-06",
         "Scurvy",
         "Kamarhati",
         "H1016"
        ],
        [
         117945,
         "Visitor",
         "Male",
         "1955-12-24",
         "Glaucoma",
         "Karimnagar",
         "H1009"
        ],
        [
         189996,
         "Ekant",
         "Male",
         "1943-08-13",
         "Measles",
         "Berhampore",
         "H1003"
        ],
        [
         146540,
         "Chancharik",
         "Male",
         "1983-09-05",
         "Scurvy",
         "Chapra",
         "H1012"
        ],
        [
         156434,
         "Pushti",
         "Female",
         "1935-10-15",
         "Flu",
         "Morbi",
         "H1019"
        ],
        [
         197352,
         "Swati",
         "Female",
         "1987-12-11",
         "Pet allergy",
         "Amravati",
         "H1019"
        ],
        [
         138778,
         "Upasana",
         "Male",
         "1956-06-01",
         "Lymphedema",
         "Hyderabad",
         "H1005"
        ],
        [
         162665,
         "Kanhaiya",
         "Female",
         "1954-10-19",
         "Alcohol consumption",
         "Mysore",
         "H1009"
        ],
        [
         197503,
         "Visitor",
         "Female",
         "1968-07-02",
         "Stroke",
         "Gwalior",
         "H1009"
        ],
        [
         113476,
         "Gensho",
         "Male",
         "1992-06-06",
         "Galactosemia",
         "Ludhiana",
         "H1016"
        ],
        [
         195876,
         "Gopal",
         "Male",
         "1986-05-14",
         "Vertigo",
         "Raebareli",
         "H1017"
        ],
        [
         150189,
         "Dheeman",
         "Male",
         "1945-05-04",
         "Measles",
         "Mysore",
         "H1017"
        ],
        [
         138861,
         "Upasana",
         "Female",
         "1927-10-03",
         "Heart Attack",
         "Ratlam",
         "H1004"
        ],
        [
         146555,
         "Visitor",
         "Male",
         "1948-11-10",
         "Phenylketonuria",
         "Vadodara",
         "H1007"
        ],
        [
         199114,
         "Visitor",
         "Female",
         "1955-04-07",
         "Phenylketonuria",
         "Vijayawada",
         "H1017"
        ],
        [
         105758,
         "Madhubala",
         "Male",
         "1937-01-11",
         "Head banging",
         "Jaunpur",
         "H1003"
        ],
        [
         109251,
         "Anjushree",
         "Male",
         "1976-07-04",
         "Choking",
         "Ghaziabad",
         "H1001"
        ],
        [
         156223,
         "Visitor",
         "Female",
         "1930-11-25",
         "Fanconi anaemia",
         "Agartala",
         "H1012"
        ],
        [
         108576,
         "Chakrika",
         "Male",
         "1964-08-05",
         "Stroke",
         "Ranchi",
         "H1003"
        ],
        [
         132947,
         "Saroj",
         "Female",
         "1942-08-26",
         "Anaemia",
         "Muzaffarpur",
         "H1016"
        ],
        [
         148674,
         "Ayushmati",
         "Male",
         "1932-09-20",
         "Diabetes",
         "Satna",
         "H1016"
        ],
        [
         133107,
         "Drashti",
         "Male",
         "1926-07-03",
         "Lymphedema",
         "Saharsa",
         "H1019"
        ],
        [
         193137,
         "Aayushmaan",
         "Female",
         "1983-11-14",
         "Phenylketonuria",
         "Mehsana",
         "H1014"
        ],
        [
         196369,
         "Visitor",
         "Male",
         "1931-02-04",
         "Choking",
         "Shivpuri",
         "H1017"
        ],
        [
         109342,
         "Chitranjan",
         "Female",
         "1925-09-09",
         "Asthma",
         "Morbi",
         "H1011"
        ],
        [
         121783,
         "Paridhi",
         "Female",
         "1959-03-27",
         "Bladder cancer",
         "Jabalpur",
         "H1013"
        ],
        [
         197441,
         "Deependu",
         "Female",
         "1952-02-13",
         "Lung cancer",
         "Bareilly",
         "H1001"
        ],
        [
         194166,
         "Visitor",
         "Male",
         "1946-10-17",
         "Colorectal cancer",
         "Baranagar",
         "H1015"
        ],
        [
         110690,
         "Laksman",
         "Female",
         "1939-05-26",
         "Food Poisoning",
         "Ahmednagar",
         "H1001"
        ],
        [
         180709,
         "Visitor",
         "Male",
         "1988-06-27",
         "Anthrax",
         "Pali",
         "H1017"
        ],
        [
         119268,
         "Shivakari",
         "Female",
         "1944-11-02",
         "Mold allergy",
         "Hapur",
         "H1008"
        ],
        [
         163148,
         "Madhu",
         "Male",
         "1984-10-23",
         "Beriberi",
         "Udaipur",
         "H1008"
        ],
        [
         118913,
         "Chanak",
         "Male",
         "1954-08-27",
         "Malaria",
         "Jalandhar",
         "H1004"
        ],
        [
         167423,
         "Chittesh",
         "Male",
         "1949-10-17",
         "Asthma",
         "Thoothukudi",
         "H1019"
        ],
        [
         141703,
         "Nawal",
         "Male",
         "1940-01-22",
         "Fractures",
         "Bhopal",
         "H1006"
        ],
        [
         173518,
         "Gajabahu",
         "Male",
         "1959-03-15",
         "Malaria",
         "Udupi",
         "H1015"
        ],
        [
         140394,
         "Jitesh",
         "Male",
         "1983-02-03",
         "Anthrax",
         "Karimnagar",
         "H1010"
        ],
        [
         164524,
         "Visitor",
         "Female",
         "1966-09-25",
         "Mold allergy",
         "Kharagpur",
         "H1015"
        ],
        [
         198182,
         "Lalit",
         "Female",
         "1924-02-15",
         "Head banging",
         "Tinsukia",
         "H1017"
        ],
        [
         115143,
         "Anshuk",
         "Male",
         "1991-06-17",
         "Drug consumption",
         "Uluberia",
         "H1001"
        ],
        [
         156364,
         "Visitor",
         "Male",
         "1994-01-13",
         "Cholera",
         "Panihati",
         "H1019"
        ],
        [
         191132,
         "Dipesh",
         "Female",
         "1949-04-01",
         "Glaucoma",
         "Kochi",
         "H1016"
        ],
        [
         105686,
         "Visitor",
         "Male",
         "1930-09-01",
         "Hepatitis",
         "Kolhapur",
         "H1008"
        ],
        [
         160140,
         "Kishan",
         "Male",
         "1923-05-12",
         "Rett Syndrome",
         "Srikakulam",
         "H1002"
        ],
        [
         114252,
         "Visitor",
         "Female",
         "1927-02-26",
         "Diabetes",
         "Ambarnath",
         "H1014"
        ],
        [
         188365,
         "Bhageeratha",
         "Male",
         "1973-03-21",
         "Pet allergy",
         "Sonipat",
         "H1017"
        ]
       ],
       "datasetInfos": [],
       "dbfsResultPath": null,
       "isJsonSchema": true,
       "metadata": {},
       "overflow": false,
       "plotOptions": {
        "customPlotOptions": {},
        "displayType": "table",
        "pivotAggregation": null,
        "pivotColumns": null,
        "xColumns": null,
        "yColumns": null
       },
       "removedWidgets": [],
       "schema": [
        {
         "metadata": "{}",
         "name": "Patient_id",
         "type": "\"integer\""
        },
        {
         "metadata": "{}",
         "name": "Patient_name",
         "type": "\"string\""
        },
        {
         "metadata": "{}",
         "name": "patient_gender",
         "type": "\"string\""
        },
        {
         "metadata": "{\"__detected_date_formats\":\"yyyy-M-d\"}",
         "name": "patient_birth_date",
         "type": "\"date\""
        },
        {
         "metadata": "{}",
         "name": "disease_name",
         "type": "\"string\""
        },
        {
         "metadata": "{}",
         "name": "city",
         "type": "\"string\""
        },
        {
         "metadata": "{}",
         "name": "hospital_id",
         "type": "\"string\""
        }
       ],
       "type": "table"
      }
     },
     "output_type": "display_data"
    }
   ],
   "source": [
    "display(pat_df)"
   ]
  },
  {
   "cell_type": "code",
   "execution_count": 0,
   "metadata": {
    "application/vnd.databricks.v1+cell": {
     "cellMetadata": {
      "byteLimit": 2048000,
      "rowLimit": 10000
     },
     "inputWidgets": {},
     "nuid": "cada1a90-bca3-46c3-9974-e9c87ca62b13",
     "showTitle": false,
     "tableResultSettingsMap": {},
     "title": ""
    }
   },
   "outputs": [],
   "source": [
    "pat_df = pat_df.withColumn(\"patient_age\",round(months_between(current_date(),pat_df.patient_birth_date)/12,0).cast(\"integer\")) #calculating age of patient"
   ]
  },
  {
   "cell_type": "code",
   "execution_count": 0,
   "metadata": {
    "application/vnd.databricks.v1+cell": {
     "cellMetadata": {
      "byteLimit": 2048000,
      "rowLimit": 10000
     },
     "inputWidgets": {},
     "nuid": "991a7a9f-1c1f-4037-888d-1301d8e81fc8",
     "showTitle": false,
     "tableResultSettingsMap": {},
     "title": ""
    }
   },
   "outputs": [
    {
     "output_type": "display_data",
     "data": {
      "text/html": [
       "<style scoped>\n",
       "  .table-result-container {\n",
       "    max-height: 300px;\n",
       "    overflow: auto;\n",
       "  }\n",
       "  table, th, td {\n",
       "    border: 1px solid black;\n",
       "    border-collapse: collapse;\n",
       "  }\n",
       "  th, td {\n",
       "    padding: 5px;\n",
       "  }\n",
       "  th {\n",
       "    text-align: left;\n",
       "  }\n",
       "</style><div class='table-result-container'><table class='table-result'><thead style='background-color: white'><tr><th>Patient_id</th><th>Patient_name</th><th>patient_gender</th><th>patient_birth_date</th><th>disease_name</th><th>city</th><th>hospital_id</th><th>patient_age</th></tr></thead><tbody><tr><td>187158</td><td>Harbir</td><td>Female</td><td>1924-06-30</td><td>Galactosemia</td><td>Rourkela</td><td>H1001</td><td>101</td></tr><tr><td>112766</td><td>Brahmdev</td><td>Female</td><td>1948-12-20</td><td>Bladder cancer</td><td>Tiruvottiyur</td><td>H1016</td><td>76</td></tr><tr><td>199252</td><td>Ujjawal</td><td>Male</td><td>1980-04-16</td><td>Kidney cancer</td><td>Berhampur</td><td>H1009</td><td>45</td></tr><tr><td>133424</td><td>Ballari</td><td>Female</td><td>1969-09-25</td><td>Suicide</td><td>Bihar Sharif</td><td>H1017</td><td>56</td></tr><tr><td>172579</td><td>Devnath</td><td>Female</td><td>1946-05-01</td><td>Food allergy</td><td>Bidhannagar</td><td>H1019</td><td>79</td></tr><tr><td>171320</td><td>Atasi</td><td>Male</td><td>1967-10-02</td><td>Whiplash</td><td>Amravati</td><td>H1013</td><td>57</td></tr><tr><td>107794</td><td>Manish</td><td>Male</td><td>1967-06-06</td><td>Sunbathing</td><td>Panvel</td><td>H1004</td><td>58</td></tr><tr><td>130339</td><td>Aakar</td><td>Female</td><td>1925-03-05</td><td>Drug consumption</td><td>Bihar Sharif</td><td>H1000</td><td>100</td></tr><tr><td>110377</td><td>Gurudas</td><td>Male</td><td>1945-05-06</td><td>Dengue</td><td>Kamarhati</td><td>H1001</td><td>80</td></tr><tr><td>149367</td><td>Visitor</td><td>Male</td><td>1925-06-12</td><td>Head banging</td><td>Bangalore</td><td>H1013</td><td>100</td></tr><tr><td>156168</td><td>Visitor</td><td>Male</td><td>1976-02-03</td><td>Fanconi anaemia</td><td>Rajkot</td><td>H1004</td><td>49</td></tr><tr><td>114241</td><td>Visitor</td><td>Female</td><td>1955-01-22</td><td>Breast cancer</td><td>Ghaziabad</td><td>H1015</td><td>70</td></tr><tr><td>146382</td><td>Dharmadaas</td><td>Male</td><td>1964-04-29</td><td>Anthrax</td><td>Bhalswa Jahangir Pur</td><td>H1019</td><td>61</td></tr><tr><td>132748</td><td>Brahmvir</td><td>Male</td><td>1991-11-11</td><td>Cystic fibrosis</td><td>Ambala</td><td>H1018</td><td>33</td></tr><tr><td>167340</td><td>Visitor</td><td>Female</td><td>1981-01-25</td><td>Galactosemia</td><td>Surendranagar Dudhrej</td><td>H1003</td><td>44</td></tr><tr><td>135184</td><td>Bhagvan</td><td>Female</td><td>1966-07-24</td><td>Dengue</td><td>Bhimavaram</td><td>H1018</td><td>59</td></tr><tr><td>179662</td><td>Amritkala</td><td>Female</td><td>1933-11-20</td><td>Smallpox</td><td>Meerut</td><td>H1018</td><td>91</td></tr><tr><td>184479</td><td>Bandhu</td><td>Male</td><td>1996-10-15</td><td>Pollen allergy</td><td>Chinsurah</td><td>H1010</td><td>28</td></tr><tr><td>156988</td><td>Bhagavaana</td><td>Female</td><td>1935-09-16</td><td>Breast cancer</td><td>Shahjahanpur</td><td>H1012</td><td>90</td></tr><tr><td>132870</td><td>Visitor</td><td>Female</td><td>1924-11-09</td><td>Glaucoma</td><td>Jabalpur</td><td>H1017</td><td>100</td></tr><tr><td>148137</td><td>Umang</td><td>Female</td><td>1963-07-14</td><td>Pet allergy</td><td>Haridwar</td><td>H1002</td><td>62</td></tr><tr><td>113280</td><td>Darsana</td><td>Male</td><td>1932-05-29</td><td>Rett Syndrome</td><td>Dibrugarh</td><td>H1019</td><td>93</td></tr><tr><td>134184</td><td>Prakash</td><td>Female</td><td>1923-09-15</td><td>Flu</td><td>Kottayam</td><td>H1001</td><td>102</td></tr><tr><td>122592</td><td>Vaijayanti</td><td>Male</td><td>1920-11-13</td><td>Cholera</td><td>Mira-Bhayandar</td><td>H1009</td><td>104</td></tr><tr><td>154439</td><td>Menakshi</td><td>Male</td><td>1987-03-06</td><td>Scurvy</td><td>Kamarhati</td><td>H1016</td><td>38</td></tr><tr><td>117945</td><td>Visitor</td><td>Male</td><td>1955-12-24</td><td>Glaucoma</td><td>Karimnagar</td><td>H1009</td><td>69</td></tr><tr><td>189996</td><td>Ekant</td><td>Male</td><td>1943-08-13</td><td>Measles</td><td>Berhampore</td><td>H1003</td><td>82</td></tr><tr><td>146540</td><td>Chancharik</td><td>Male</td><td>1983-09-05</td><td>Scurvy</td><td>Chapra</td><td>H1012</td><td>42</td></tr><tr><td>156434</td><td>Pushti</td><td>Female</td><td>1935-10-15</td><td>Flu</td><td>Morbi</td><td>H1019</td><td>89</td></tr><tr><td>197352</td><td>Swati</td><td>Female</td><td>1987-12-11</td><td>Pet allergy</td><td>Amravati</td><td>H1019</td><td>37</td></tr><tr><td>138778</td><td>Upasana</td><td>Male</td><td>1956-06-01</td><td>Lymphedema</td><td>Hyderabad</td><td>H1005</td><td>69</td></tr><tr><td>162665</td><td>Kanhaiya</td><td>Female</td><td>1954-10-19</td><td>Alcohol consumption</td><td>Mysore</td><td>H1009</td><td>70</td></tr><tr><td>197503</td><td>Visitor</td><td>Female</td><td>1968-07-02</td><td>Stroke</td><td>Gwalior</td><td>H1009</td><td>57</td></tr><tr><td>113476</td><td>Gensho</td><td>Male</td><td>1992-06-06</td><td>Galactosemia</td><td>Ludhiana</td><td>H1016</td><td>33</td></tr><tr><td>195876</td><td>Gopal</td><td>Male</td><td>1986-05-14</td><td>Vertigo</td><td>Raebareli</td><td>H1017</td><td>39</td></tr><tr><td>150189</td><td>Dheeman</td><td>Male</td><td>1945-05-04</td><td>Measles</td><td>Mysore</td><td>H1017</td><td>80</td></tr><tr><td>138861</td><td>Upasana</td><td>Female</td><td>1927-10-03</td><td>Heart Attack</td><td>Ratlam</td><td>H1004</td><td>97</td></tr><tr><td>146555</td><td>Visitor</td><td>Male</td><td>1948-11-10</td><td>Phenylketonuria</td><td>Vadodara</td><td>H1007</td><td>76</td></tr><tr><td>199114</td><td>Visitor</td><td>Female</td><td>1955-04-07</td><td>Phenylketonuria</td><td>Vijayawada</td><td>H1017</td><td>70</td></tr><tr><td>105758</td><td>Madhubala</td><td>Male</td><td>1937-01-11</td><td>Head banging</td><td>Jaunpur</td><td>H1003</td><td>88</td></tr><tr><td>109251</td><td>Anjushree</td><td>Male</td><td>1976-07-04</td><td>Choking</td><td>Ghaziabad</td><td>H1001</td><td>49</td></tr><tr><td>156223</td><td>Visitor</td><td>Female</td><td>1930-11-25</td><td>Fanconi anaemia</td><td>Agartala</td><td>H1012</td><td>94</td></tr><tr><td>108576</td><td>Chakrika</td><td>Male</td><td>1964-08-05</td><td>Stroke</td><td>Ranchi</td><td>H1003</td><td>61</td></tr><tr><td>132947</td><td>Saroj</td><td>Female</td><td>1942-08-26</td><td>Anaemia</td><td>Muzaffarpur</td><td>H1016</td><td>83</td></tr><tr><td>148674</td><td>Ayushmati</td><td>Male</td><td>1932-09-20</td><td>Diabetes</td><td>Satna</td><td>H1016</td><td>93</td></tr><tr><td>133107</td><td>Drashti</td><td>Male</td><td>1926-07-03</td><td>Lymphedema</td><td>Saharsa</td><td>H1019</td><td>99</td></tr><tr><td>193137</td><td>Aayushmaan</td><td>Female</td><td>1983-11-14</td><td>Phenylketonuria</td><td>Mehsana</td><td>H1014</td><td>41</td></tr><tr><td>196369</td><td>Visitor</td><td>Male</td><td>1931-02-04</td><td>Choking</td><td>Shivpuri</td><td>H1017</td><td>94</td></tr><tr><td>109342</td><td>Chitranjan</td><td>Female</td><td>1925-09-09</td><td>Asthma</td><td>Morbi</td><td>H1011</td><td>100</td></tr><tr><td>121783</td><td>Paridhi</td><td>Female</td><td>1959-03-27</td><td>Bladder cancer</td><td>Jabalpur</td><td>H1013</td><td>66</td></tr><tr><td>197441</td><td>Deependu</td><td>Female</td><td>1952-02-13</td><td>Lung cancer</td><td>Bareilly</td><td>H1001</td><td>73</td></tr><tr><td>194166</td><td>Visitor</td><td>Male</td><td>1946-10-17</td><td>Colorectal cancer</td><td>Baranagar</td><td>H1015</td><td>78</td></tr><tr><td>110690</td><td>Laksman</td><td>Female</td><td>1939-05-26</td><td>Food Poisoning</td><td>Ahmednagar</td><td>H1001</td><td>86</td></tr><tr><td>180709</td><td>Visitor</td><td>Male</td><td>1988-06-27</td><td>Anthrax</td><td>Pali</td><td>H1017</td><td>37</td></tr><tr><td>119268</td><td>Shivakari</td><td>Female</td><td>1944-11-02</td><td>Mold allergy</td><td>Hapur</td><td>H1008</td><td>80</td></tr><tr><td>163148</td><td>Madhu</td><td>Male</td><td>1984-10-23</td><td>Beriberi</td><td>Udaipur</td><td>H1008</td><td>40</td></tr><tr><td>118913</td><td>Chanak</td><td>Male</td><td>1954-08-27</td><td>Malaria</td><td>Jalandhar</td><td>H1004</td><td>71</td></tr><tr><td>167423</td><td>Chittesh</td><td>Male</td><td>1949-10-17</td><td>Asthma</td><td>Thoothukudi</td><td>H1019</td><td>75</td></tr><tr><td>141703</td><td>Nawal</td><td>Male</td><td>1940-01-22</td><td>Fractures</td><td>Bhopal</td><td>H1006</td><td>85</td></tr><tr><td>173518</td><td>Gajabahu</td><td>Male</td><td>1959-03-15</td><td>Malaria</td><td>Udupi</td><td>H1015</td><td>66</td></tr><tr><td>140394</td><td>Jitesh</td><td>Male</td><td>1983-02-03</td><td>Anthrax</td><td>Karimnagar</td><td>H1010</td><td>42</td></tr><tr><td>164524</td><td>Visitor</td><td>Female</td><td>1966-09-25</td><td>Mold allergy</td><td>Kharagpur</td><td>H1015</td><td>59</td></tr><tr><td>198182</td><td>Lalit</td><td>Female</td><td>1924-02-15</td><td>Head banging</td><td>Tinsukia</td><td>H1017</td><td>101</td></tr><tr><td>115143</td><td>Anshuk</td><td>Male</td><td>1991-06-17</td><td>Drug consumption</td><td>Uluberia</td><td>H1001</td><td>34</td></tr><tr><td>156364</td><td>Visitor</td><td>Male</td><td>1994-01-13</td><td>Cholera</td><td>Panihati</td><td>H1019</td><td>31</td></tr><tr><td>191132</td><td>Dipesh</td><td>Female</td><td>1949-04-01</td><td>Glaucoma</td><td>Kochi</td><td>H1016</td><td>76</td></tr><tr><td>105686</td><td>Visitor</td><td>Male</td><td>1930-09-01</td><td>Hepatitis</td><td>Kolhapur</td><td>H1008</td><td>95</td></tr><tr><td>160140</td><td>Kishan</td><td>Male</td><td>1923-05-12</td><td>Rett Syndrome</td><td>Srikakulam</td><td>H1002</td><td>102</td></tr><tr><td>114252</td><td>Visitor</td><td>Female</td><td>1927-02-26</td><td>Diabetes</td><td>Ambarnath</td><td>H1014</td><td>98</td></tr><tr><td>188365</td><td>Bhageeratha</td><td>Male</td><td>1973-03-21</td><td>Pet allergy</td><td>Sonipat</td><td>H1017</td><td>52</td></tr></tbody></table></div>"
      ]
     },
     "metadata": {
      "application/vnd.databricks.v1+output": {
       "addedWidgets": {},
       "aggData": [],
       "aggError": "",
       "aggOverflow": false,
       "aggSchema": [],
       "aggSeriesLimitReached": false,
       "aggType": "",
       "arguments": {},
       "columnCustomDisplayInfos": {},
       "data": [
        [
         187158,
         "Harbir",
         "Female",
         "1924-06-30",
         "Galactosemia",
         "Rourkela",
         "H1001",
         101
        ],
        [
         112766,
         "Brahmdev",
         "Female",
         "1948-12-20",
         "Bladder cancer",
         "Tiruvottiyur",
         "H1016",
         76
        ],
        [
         199252,
         "Ujjawal",
         "Male",
         "1980-04-16",
         "Kidney cancer",
         "Berhampur",
         "H1009",
         45
        ],
        [
         133424,
         "Ballari",
         "Female",
         "1969-09-25",
         "Suicide",
         "Bihar Sharif",
         "H1017",
         56
        ],
        [
         172579,
         "Devnath",
         "Female",
         "1946-05-01",
         "Food allergy",
         "Bidhannagar",
         "H1019",
         79
        ],
        [
         171320,
         "Atasi",
         "Male",
         "1967-10-02",
         "Whiplash",
         "Amravati",
         "H1013",
         57
        ],
        [
         107794,
         "Manish",
         "Male",
         "1967-06-06",
         "Sunbathing",
         "Panvel",
         "H1004",
         58
        ],
        [
         130339,
         "Aakar",
         "Female",
         "1925-03-05",
         "Drug consumption",
         "Bihar Sharif",
         "H1000",
         100
        ],
        [
         110377,
         "Gurudas",
         "Male",
         "1945-05-06",
         "Dengue",
         "Kamarhati",
         "H1001",
         80
        ],
        [
         149367,
         "Visitor",
         "Male",
         "1925-06-12",
         "Head banging",
         "Bangalore",
         "H1013",
         100
        ],
        [
         156168,
         "Visitor",
         "Male",
         "1976-02-03",
         "Fanconi anaemia",
         "Rajkot",
         "H1004",
         49
        ],
        [
         114241,
         "Visitor",
         "Female",
         "1955-01-22",
         "Breast cancer",
         "Ghaziabad",
         "H1015",
         70
        ],
        [
         146382,
         "Dharmadaas",
         "Male",
         "1964-04-29",
         "Anthrax",
         "Bhalswa Jahangir Pur",
         "H1019",
         61
        ],
        [
         132748,
         "Brahmvir",
         "Male",
         "1991-11-11",
         "Cystic fibrosis",
         "Ambala",
         "H1018",
         33
        ],
        [
         167340,
         "Visitor",
         "Female",
         "1981-01-25",
         "Galactosemia",
         "Surendranagar Dudhrej",
         "H1003",
         44
        ],
        [
         135184,
         "Bhagvan",
         "Female",
         "1966-07-24",
         "Dengue",
         "Bhimavaram",
         "H1018",
         59
        ],
        [
         179662,
         "Amritkala",
         "Female",
         "1933-11-20",
         "Smallpox",
         "Meerut",
         "H1018",
         91
        ],
        [
         184479,
         "Bandhu",
         "Male",
         "1996-10-15",
         "Pollen allergy",
         "Chinsurah",
         "H1010",
         28
        ],
        [
         156988,
         "Bhagavaana",
         "Female",
         "1935-09-16",
         "Breast cancer",
         "Shahjahanpur",
         "H1012",
         90
        ],
        [
         132870,
         "Visitor",
         "Female",
         "1924-11-09",
         "Glaucoma",
         "Jabalpur",
         "H1017",
         100
        ],
        [
         148137,
         "Umang",
         "Female",
         "1963-07-14",
         "Pet allergy",
         "Haridwar",
         "H1002",
         62
        ],
        [
         113280,
         "Darsana",
         "Male",
         "1932-05-29",
         "Rett Syndrome",
         "Dibrugarh",
         "H1019",
         93
        ],
        [
         134184,
         "Prakash",
         "Female",
         "1923-09-15",
         "Flu",
         "Kottayam",
         "H1001",
         102
        ],
        [
         122592,
         "Vaijayanti",
         "Male",
         "1920-11-13",
         "Cholera",
         "Mira-Bhayandar",
         "H1009",
         104
        ],
        [
         154439,
         "Menakshi",
         "Male",
         "1987-03-06",
         "Scurvy",
         "Kamarhati",
         "H1016",
         38
        ],
        [
         117945,
         "Visitor",
         "Male",
         "1955-12-24",
         "Glaucoma",
         "Karimnagar",
         "H1009",
         69
        ],
        [
         189996,
         "Ekant",
         "Male",
         "1943-08-13",
         "Measles",
         "Berhampore",
         "H1003",
         82
        ],
        [
         146540,
         "Chancharik",
         "Male",
         "1983-09-05",
         "Scurvy",
         "Chapra",
         "H1012",
         42
        ],
        [
         156434,
         "Pushti",
         "Female",
         "1935-10-15",
         "Flu",
         "Morbi",
         "H1019",
         89
        ],
        [
         197352,
         "Swati",
         "Female",
         "1987-12-11",
         "Pet allergy",
         "Amravati",
         "H1019",
         37
        ],
        [
         138778,
         "Upasana",
         "Male",
         "1956-06-01",
         "Lymphedema",
         "Hyderabad",
         "H1005",
         69
        ],
        [
         162665,
         "Kanhaiya",
         "Female",
         "1954-10-19",
         "Alcohol consumption",
         "Mysore",
         "H1009",
         70
        ],
        [
         197503,
         "Visitor",
         "Female",
         "1968-07-02",
         "Stroke",
         "Gwalior",
         "H1009",
         57
        ],
        [
         113476,
         "Gensho",
         "Male",
         "1992-06-06",
         "Galactosemia",
         "Ludhiana",
         "H1016",
         33
        ],
        [
         195876,
         "Gopal",
         "Male",
         "1986-05-14",
         "Vertigo",
         "Raebareli",
         "H1017",
         39
        ],
        [
         150189,
         "Dheeman",
         "Male",
         "1945-05-04",
         "Measles",
         "Mysore",
         "H1017",
         80
        ],
        [
         138861,
         "Upasana",
         "Female",
         "1927-10-03",
         "Heart Attack",
         "Ratlam",
         "H1004",
         97
        ],
        [
         146555,
         "Visitor",
         "Male",
         "1948-11-10",
         "Phenylketonuria",
         "Vadodara",
         "H1007",
         76
        ],
        [
         199114,
         "Visitor",
         "Female",
         "1955-04-07",
         "Phenylketonuria",
         "Vijayawada",
         "H1017",
         70
        ],
        [
         105758,
         "Madhubala",
         "Male",
         "1937-01-11",
         "Head banging",
         "Jaunpur",
         "H1003",
         88
        ],
        [
         109251,
         "Anjushree",
         "Male",
         "1976-07-04",
         "Choking",
         "Ghaziabad",
         "H1001",
         49
        ],
        [
         156223,
         "Visitor",
         "Female",
         "1930-11-25",
         "Fanconi anaemia",
         "Agartala",
         "H1012",
         94
        ],
        [
         108576,
         "Chakrika",
         "Male",
         "1964-08-05",
         "Stroke",
         "Ranchi",
         "H1003",
         61
        ],
        [
         132947,
         "Saroj",
         "Female",
         "1942-08-26",
         "Anaemia",
         "Muzaffarpur",
         "H1016",
         83
        ],
        [
         148674,
         "Ayushmati",
         "Male",
         "1932-09-20",
         "Diabetes",
         "Satna",
         "H1016",
         93
        ],
        [
         133107,
         "Drashti",
         "Male",
         "1926-07-03",
         "Lymphedema",
         "Saharsa",
         "H1019",
         99
        ],
        [
         193137,
         "Aayushmaan",
         "Female",
         "1983-11-14",
         "Phenylketonuria",
         "Mehsana",
         "H1014",
         41
        ],
        [
         196369,
         "Visitor",
         "Male",
         "1931-02-04",
         "Choking",
         "Shivpuri",
         "H1017",
         94
        ],
        [
         109342,
         "Chitranjan",
         "Female",
         "1925-09-09",
         "Asthma",
         "Morbi",
         "H1011",
         100
        ],
        [
         121783,
         "Paridhi",
         "Female",
         "1959-03-27",
         "Bladder cancer",
         "Jabalpur",
         "H1013",
         66
        ],
        [
         197441,
         "Deependu",
         "Female",
         "1952-02-13",
         "Lung cancer",
         "Bareilly",
         "H1001",
         73
        ],
        [
         194166,
         "Visitor",
         "Male",
         "1946-10-17",
         "Colorectal cancer",
         "Baranagar",
         "H1015",
         78
        ],
        [
         110690,
         "Laksman",
         "Female",
         "1939-05-26",
         "Food Poisoning",
         "Ahmednagar",
         "H1001",
         86
        ],
        [
         180709,
         "Visitor",
         "Male",
         "1988-06-27",
         "Anthrax",
         "Pali",
         "H1017",
         37
        ],
        [
         119268,
         "Shivakari",
         "Female",
         "1944-11-02",
         "Mold allergy",
         "Hapur",
         "H1008",
         80
        ],
        [
         163148,
         "Madhu",
         "Male",
         "1984-10-23",
         "Beriberi",
         "Udaipur",
         "H1008",
         40
        ],
        [
         118913,
         "Chanak",
         "Male",
         "1954-08-27",
         "Malaria",
         "Jalandhar",
         "H1004",
         71
        ],
        [
         167423,
         "Chittesh",
         "Male",
         "1949-10-17",
         "Asthma",
         "Thoothukudi",
         "H1019",
         75
        ],
        [
         141703,
         "Nawal",
         "Male",
         "1940-01-22",
         "Fractures",
         "Bhopal",
         "H1006",
         85
        ],
        [
         173518,
         "Gajabahu",
         "Male",
         "1959-03-15",
         "Malaria",
         "Udupi",
         "H1015",
         66
        ],
        [
         140394,
         "Jitesh",
         "Male",
         "1983-02-03",
         "Anthrax",
         "Karimnagar",
         "H1010",
         42
        ],
        [
         164524,
         "Visitor",
         "Female",
         "1966-09-25",
         "Mold allergy",
         "Kharagpur",
         "H1015",
         59
        ],
        [
         198182,
         "Lalit",
         "Female",
         "1924-02-15",
         "Head banging",
         "Tinsukia",
         "H1017",
         101
        ],
        [
         115143,
         "Anshuk",
         "Male",
         "1991-06-17",
         "Drug consumption",
         "Uluberia",
         "H1001",
         34
        ],
        [
         156364,
         "Visitor",
         "Male",
         "1994-01-13",
         "Cholera",
         "Panihati",
         "H1019",
         31
        ],
        [
         191132,
         "Dipesh",
         "Female",
         "1949-04-01",
         "Glaucoma",
         "Kochi",
         "H1016",
         76
        ],
        [
         105686,
         "Visitor",
         "Male",
         "1930-09-01",
         "Hepatitis",
         "Kolhapur",
         "H1008",
         95
        ],
        [
         160140,
         "Kishan",
         "Male",
         "1923-05-12",
         "Rett Syndrome",
         "Srikakulam",
         "H1002",
         102
        ],
        [
         114252,
         "Visitor",
         "Female",
         "1927-02-26",
         "Diabetes",
         "Ambarnath",
         "H1014",
         98
        ],
        [
         188365,
         "Bhageeratha",
         "Male",
         "1973-03-21",
         "Pet allergy",
         "Sonipat",
         "H1017",
         52
        ]
       ],
       "datasetInfos": [],
       "dbfsResultPath": null,
       "isJsonSchema": true,
       "metadata": {},
       "overflow": false,
       "plotOptions": {
        "customPlotOptions": {},
        "displayType": "table",
        "pivotAggregation": null,
        "pivotColumns": null,
        "xColumns": null,
        "yColumns": null
       },
       "removedWidgets": [],
       "schema": [
        {
         "metadata": "{}",
         "name": "Patient_id",
         "type": "\"integer\""
        },
        {
         "metadata": "{}",
         "name": "Patient_name",
         "type": "\"string\""
        },
        {
         "metadata": "{}",
         "name": "patient_gender",
         "type": "\"string\""
        },
        {
         "metadata": "{\"__detected_date_formats\":\"yyyy-M-d\"}",
         "name": "patient_birth_date",
         "type": "\"date\""
        },
        {
         "metadata": "{}",
         "name": "disease_name",
         "type": "\"string\""
        },
        {
         "metadata": "{}",
         "name": "city",
         "type": "\"string\""
        },
        {
         "metadata": "{}",
         "name": "hospital_id",
         "type": "\"string\""
        },
        {
         "metadata": "{}",
         "name": "patient_age",
         "type": "\"integer\""
        }
       ],
       "type": "table"
      }
     },
     "output_type": "display_data"
    }
   ],
   "source": [
    "display(pat_df)"
   ]
  },
  {
   "cell_type": "code",
   "execution_count": 0,
   "metadata": {
    "application/vnd.databricks.v1+cell": {
     "cellMetadata": {
      "byteLimit": 2048000,
      "rowLimit": 10000
     },
     "inputWidgets": {},
     "nuid": "1e49eabc-a179-41dc-94a3-0ed9777ba084",
     "showTitle": false,
     "tableResultSettingsMap": {},
     "title": ""
    }
   },
   "outputs": [],
   "source": [
    "adlsconnector\n",
    "cl_df = readbronzedatajson(\"claims.json\")"
   ]
  },
  {
   "cell_type": "code",
   "execution_count": 0,
   "metadata": {
    "application/vnd.databricks.v1+cell": {
     "cellMetadata": {
      "byteLimit": 2048000,
      "rowLimit": 10000
     },
     "inputWidgets": {},
     "nuid": "13da0219-5c9e-4a39-9b48-866e6b533532",
     "showTitle": false,
     "tableResultSettingsMap": {},
     "title": ""
    }
   },
   "outputs": [
    {
     "output_type": "display_data",
     "data": {
      "text/html": [
       "<style scoped>\n",
       "  .table-result-container {\n",
       "    max-height: 300px;\n",
       "    overflow: auto;\n",
       "  }\n",
       "  table, th, td {\n",
       "    border: 1px solid black;\n",
       "    border-collapse: collapse;\n",
       "  }\n",
       "  th, td {\n",
       "    padding: 5px;\n",
       "  }\n",
       "  th {\n",
       "    text-align: left;\n",
       "  }\n",
       "</style><div class='table-result-container'><table class='table-result'><thead style='background-color: white'><tr><th>Claim_Or_Rejected</th><th>SUB_ID</th><th>_id</th><th>claim_amount</th><th>claim_date</th><th>claim_id</th><th>claim_type</th><th>disease_name</th><th>patient_id</th></tr></thead><tbody><tr><td>N</td><td>SUBID1000</td><td>List(67e6325b09f36c230814edeb)</td><td>79874</td><td>1949-03-14</td><td>0</td><td>claims of value</td><td>Galactosemia</td><td>187158</td></tr><tr><td>NaN</td><td>SUBID10001</td><td>List(67e6325b09f36c230814edec)</td><td>151142</td><td>1970-03-16</td><td>1</td><td>claims of policy</td><td>Bladder cancer</td><td>112766</td></tr><tr><td>NaN</td><td>SUBID10002</td><td>List(67e6325b09f36c230814eded)</td><td>59924</td><td>2008-02-03</td><td>2</td><td>claims of value</td><td>Kidney cancer</td><td>199252</td></tr><tr><td>NaN</td><td>SUBID10003</td><td>List(67e6325b09f36c230814edee)</td><td>143120</td><td>1995-02-08</td><td>3</td><td>claims of fact</td><td>Suicide</td><td>133424</td></tr><tr><td>Y</td><td>SUBID10004</td><td>List(67e6325b09f36c230814edef)</td><td>168634</td><td>1967-05-23</td><td>4</td><td>claims of value</td><td>Food allergy</td><td>172579</td></tr><tr><td>NaN</td><td>SUBID10005</td><td>List(67e6325b09f36c230814edf0)</td><td>64840</td><td>1991-10-04</td><td>5</td><td>claims of policy</td><td>Whiplash</td><td>171320</td></tr><tr><td>N</td><td>SUBID1006</td><td>List(67e6325b09f36c230814edf1)</td><td>26800</td><td>1991-03-26</td><td>6</td><td>claims of fact</td><td>Sunbathing</td><td>107794</td></tr><tr><td>NaN</td><td>SUBID10007</td><td>List(67e6325b09f36c230814edf2)</td><td>177186</td><td>1946-09-05</td><td>7</td><td>claims of value</td><td>Drug consumption</td><td>130339</td></tr><tr><td>N</td><td>SUBID10008</td><td>List(67e6325b09f36c230814edf3)</td><td>141123</td><td>1966-06-20</td><td>8</td><td>claims of fact</td><td>Dengue</td><td>110377</td></tr><tr><td>N</td><td>SUBID10009</td><td>List(67e6325b09f36c230814edf4)</td><td>88540</td><td>1945-12-29</td><td>9</td><td>claims of value</td><td>Head banging</td><td>149367</td></tr><tr><td>N</td><td>SUBID1010</td><td>List(67e6325b09f36c230814edf5)</td><td>29150</td><td>1999-01-25</td><td>10</td><td>claims of value</td><td>Fanconi anaemia</td><td>156168</td></tr><tr><td>Y</td><td>SUBID10011</td><td>List(67e6325b09f36c230814edf6)</td><td>40897</td><td>1975-02-08</td><td>11</td><td>claims of value</td><td>Breast cancer</td><td>114241</td></tr><tr><td>NaN</td><td>SUBID10012</td><td>List(67e6325b09f36c230814edf7)</td><td>75983</td><td>1985-02-12</td><td>12</td><td>claims of value</td><td>Anthrax</td><td>146382</td></tr><tr><td>NaN</td><td>SUBID10013</td><td>List(67e6325b09f36c230814edf8)</td><td>192340</td><td>2014-07-30</td><td>13</td><td>claims of fact</td><td>Cystic fibrosis</td><td>132748</td></tr><tr><td>N</td><td>SUBID10014</td><td>List(67e6325b09f36c230814edf9)</td><td>118628</td><td>2003-12-18</td><td>14</td><td>claims of value</td><td>Galactosemia</td><td>167340</td></tr><tr><td>Y</td><td>SUBID10015</td><td>List(67e6325b09f36c230814edfa)</td><td>100224</td><td>1986-08-02</td><td>15</td><td>claims of value</td><td>Dengue</td><td>135184</td></tr><tr><td>N</td><td>SUBID10016</td><td>List(67e6325b09f36c230814edfb)</td><td>42860</td><td>1955-01-20</td><td>16</td><td>claims of value</td><td>Smallpox</td><td>179662</td></tr><tr><td>N</td><td>SUBID10017</td><td>List(67e6325b09f36c230814edfc)</td><td>161786</td><td>2017-06-01</td><td>17</td><td>claims of policy</td><td>Pollen allergy</td><td>184479</td></tr><tr><td>NaN</td><td>SUBID10018</td><td>List(67e6325b09f36c230814edfd)</td><td>66129</td><td>1956-01-04</td><td>18</td><td>claims of fact</td><td>Breast cancer</td><td>156988</td></tr><tr><td>NaN</td><td>SUBID10019</td><td>List(67e6325b09f36c230814edfe)</td><td>182552</td><td>1948-07-26</td><td>19</td><td>claims of value</td><td>Glaucoma</td><td>132870</td></tr><tr><td>Y</td><td>SUBID1020</td><td>List(67e6325b09f36c230814edff)</td><td>105982</td><td>1984-04-10</td><td>20</td><td>claims of value</td><td>Pet allergy</td><td>148137</td></tr><tr><td>NaN</td><td>SUBID1021</td><td>List(67e6325b09f36c230814ee00)</td><td>55761</td><td>1953-06-24</td><td>21</td><td>claims of fact</td><td>Rett Syndrome</td><td>113280</td></tr><tr><td>Y</td><td>SUBID10022</td><td>List(67e6325b09f36c230814ee01)</td><td>34771</td><td>1948-05-23</td><td>22</td><td>claims of value</td><td>Flu</td><td>134184</td></tr><tr><td>N</td><td>SUBID10023</td><td>List(67e6325b09f36c230814ee02)</td><td>83642</td><td>1945-03-15</td><td>23</td><td>claims of value</td><td>Cholera</td><td>122592</td></tr><tr><td>NaN</td><td>SUBID10024</td><td>List(67e6325b09f36c230814ee03)</td><td>49129</td><td>2013-08-04</td><td>24</td><td>claims of policy</td><td>Scurvy</td><td>154439</td></tr><tr><td>N</td><td>SUBID10025</td><td>List(67e6325b09f36c230814ee04)</td><td>36524</td><td>1976-08-24</td><td>25</td><td>claims of fact</td><td>Glaucoma</td><td>117945</td></tr><tr><td>NaN</td><td>SUBID10026</td><td>List(67e6325b09f36c230814ee05)</td><td>192381</td><td>1966-08-30</td><td>26</td><td>claims of value</td><td>Measles</td><td>189996</td></tr><tr><td>N</td><td>SUBID10027</td><td>List(67e6325b09f36c230814ee06)</td><td>188520</td><td>2008-08-26</td><td>27</td><td>claims of fact</td><td>Scurvy</td><td>146540</td></tr><tr><td>N</td><td>SUBID10028</td><td>List(67e6325b09f36c230814ee07)</td><td>122806</td><td>1958-08-05</td><td>28</td><td>claims of policy</td><td>Flu</td><td>156434</td></tr><tr><td>NaN</td><td>SUBID10029</td><td>List(67e6325b09f36c230814ee08)</td><td>81651</td><td>2008-02-01</td><td>29</td><td>claims of fact</td><td>Pet allergy</td><td>197352</td></tr><tr><td>NaN</td><td>SUBID1030</td><td>List(67e6325b09f36c230814ee09)</td><td>19899</td><td>1976-09-08</td><td>30</td><td>claims of fact</td><td>Lymphedema</td><td>138778</td></tr><tr><td>N</td><td>SUBID10031</td><td>List(67e6325b09f36c230814ee0a)</td><td>42968</td><td>1976-01-25</td><td>31</td><td>claims of fact</td><td>Alcohol consumption</td><td>162665</td></tr><tr><td>N</td><td>SUBID1032</td><td>List(67e6325b09f36c230814ee0b)</td><td>191267</td><td>1988-12-18</td><td>32</td><td>claims of policy</td><td>Stroke</td><td>197503</td></tr><tr><td>NaN</td><td>SUBID10033</td><td>List(67e6325b09f36c230814ee0c)</td><td>161199</td><td>2019-11-17</td><td>33</td><td>claims of value</td><td>Galactosemia</td><td>113476</td></tr><tr><td>N</td><td>SUBID1034</td><td>List(67e6325b09f36c230814ee0d)</td><td>26221</td><td>2008-08-10</td><td>34</td><td>claims of fact</td><td>Vertigo</td><td>195876</td></tr><tr><td>Y</td><td>SUBID10035</td><td>List(67e6325b09f36c230814ee0e)</td><td>28542</td><td>1973-03-25</td><td>35</td><td>claims of value</td><td>Measles</td><td>150189</td></tr><tr><td>NaN</td><td>SUBID1036</td><td>List(67e6325b09f36c230814ee0f)</td><td>62985</td><td>1948-09-27</td><td>36</td><td>claims of policy</td><td>Heart Attack</td><td>138861</td></tr><tr><td>NaN</td><td>SUBID1037</td><td>List(67e6325b09f36c230814ee10)</td><td>19596</td><td>1972-10-11</td><td>37</td><td>claims of policy</td><td>Phenylketonuria</td><td>146555</td></tr><tr><td>Y</td><td>SUBID1038</td><td>List(67e6325b09f36c230814ee11)</td><td>25171</td><td>1979-03-11</td><td>38</td><td>claims of fact</td><td>Phenylketonuria</td><td>199114</td></tr><tr><td>NaN</td><td>SUBID10039</td><td>List(67e6325b09f36c230814ee12)</td><td>108526</td><td>1960-05-09</td><td>39</td><td>claims of fact</td><td>Head banging</td><td>105758</td></tr><tr><td>Y</td><td>SUBID10040</td><td>List(67e6325b09f36c230814ee13)</td><td>116937</td><td>1998-09-26</td><td>40</td><td>claims of value</td><td>Choking</td><td>109251</td></tr><tr><td>NaN</td><td>SUBID1041</td><td>List(67e6325b09f36c230814ee14)</td><td>118452</td><td>1955-10-11</td><td>41</td><td>claims of fact</td><td>Fanconi anaemia</td><td>156223</td></tr><tr><td>NaN</td><td>SUBID10042</td><td>List(67e6325b09f36c230814ee15)</td><td>188727</td><td>1989-10-28</td><td>42</td><td>claims of fact</td><td>Stroke</td><td>108576</td></tr><tr><td>N</td><td>SUBID1043</td><td>List(67e6325b09f36c230814ee16)</td><td>186502</td><td>1962-09-18</td><td>43</td><td>claims of value</td><td>Anaemia</td><td>132947</td></tr><tr><td>Y</td><td>SUBID1044</td><td>List(67e6325b09f36c230814ee17)</td><td>173600</td><td>1959-10-19</td><td>44</td><td>claims of policy</td><td>Diabetes</td><td>148674</td></tr><tr><td>Y</td><td>SUBID1045</td><td>List(67e6325b09f36c230814ee18)</td><td>160739</td><td>1952-07-29</td><td>45</td><td>claims of policy</td><td>Lymphedema</td><td>133107</td></tr><tr><td>N</td><td>SUBID10046</td><td>List(67e6325b09f36c230814ee19)</td><td>25957</td><td>2003-11-29</td><td>46</td><td>claims of fact</td><td>Phenylketonuria</td><td>193137</td></tr><tr><td>NaN</td><td>SUBID1047</td><td>List(67e6325b09f36c230814ee1a)</td><td>164159</td><td>1953-06-07</td><td>47</td><td>claims of value</td><td>Choking</td><td>196369</td></tr><tr><td>Y</td><td>SUBID10048</td><td>List(67e6325b09f36c230814ee1b)</td><td>125727</td><td>1947-04-11</td><td>48</td><td>claims of value</td><td>Asthma</td><td>109342</td></tr><tr><td>NaN</td><td>SUBID10049</td><td>List(67e6325b09f36c230814ee1c)</td><td>159815</td><td>1983-06-20</td><td>49</td><td>claims of fact</td><td>Bladder cancer</td><td>121783</td></tr><tr><td>NaN</td><td>SUBID10050</td><td>List(67e6325b09f36c230814ee1d)</td><td>156557</td><td>1972-06-19</td><td>50</td><td>claims of policy</td><td>Lung cancer</td><td>197441</td></tr><tr><td>N</td><td>SUBID10051</td><td>List(67e6325b09f36c230814ee1e)</td><td>193801</td><td>1969-02-01</td><td>51</td><td>claims of value</td><td>Colorectal cancer</td><td>194166</td></tr><tr><td>N</td><td>SUBID10052</td><td>List(67e6325b09f36c230814ee1f)</td><td>130339</td><td>1959-07-22</td><td>52</td><td>claims of policy</td><td>Food Poisoning</td><td>110690</td></tr><tr><td>Y</td><td>SUBID10053</td><td>List(67e6325b09f36c230814ee20)</td><td>87588</td><td>2008-10-17</td><td>53</td><td>claims of fact</td><td>Anthrax</td><td>180709</td></tr><tr><td>NaN</td><td>SUBID10054</td><td>List(67e6325b09f36c230814ee21)</td><td>27404</td><td>1965-01-09</td><td>54</td><td>claims of policy</td><td>Mold allergy</td><td>119268</td></tr><tr><td>Y</td><td>SUBID10055</td><td>List(67e6325b09f36c230814ee22)</td><td>44986</td><td>2007-06-22</td><td>55</td><td>claims of policy</td><td>Beriberi</td><td>163148</td></tr><tr><td>NaN</td><td>SUBID10056</td><td>List(67e6325b09f36c230814ee23)</td><td>124734</td><td>1974-12-21</td><td>56</td><td>claims of fact</td><td>Malaria</td><td>118913</td></tr><tr><td>Y</td><td>SUBID10057</td><td>List(67e6325b09f36c230814ee24)</td><td>161497</td><td>1974-12-28</td><td>57</td><td>claims of policy</td><td>Asthma</td><td>167423</td></tr><tr><td>Y</td><td>SUBID1058</td><td>List(67e6325b09f36c230814ee25)</td><td>20770</td><td>1967-08-28</td><td>58</td><td>claims of policy</td><td>Fractures</td><td>141703</td></tr><tr><td>NaN</td><td>SUBID10059</td><td>List(67e6325b09f36c230814ee26)</td><td>171729</td><td>1983-08-26</td><td>59</td><td>claims of policy</td><td>Malaria</td><td>173518</td></tr><tr><td>NaN</td><td>SUBID10060</td><td>List(67e6325b09f36c230814ee27)</td><td>139755</td><td>2004-01-20</td><td>60</td><td>claims of policy</td><td>Anthrax</td><td>140394</td></tr><tr><td>NaN</td><td>SUBID10061</td><td>List(67e6325b09f36c230814ee28)</td><td>74276</td><td>1991-03-16</td><td>61</td><td>claims of fact</td><td>Mold allergy</td><td>164524</td></tr><tr><td>Y</td><td>SUBID1062</td><td>List(67e6325b09f36c230814ee29)</td><td>71703</td><td>1945-10-24</td><td>62</td><td>claims of value</td><td>Head banging</td><td>198182</td></tr><tr><td>Y</td><td>SUBID1063</td><td>List(67e6325b09f36c230814ee2a)</td><td>158255</td><td>2014-01-10</td><td>63</td><td>claims of policy</td><td>Drug consumption</td><td>115143</td></tr><tr><td>N</td><td>SUBID10064</td><td>List(67e6325b09f36c230814ee2b)</td><td>154594</td><td>2015-07-08</td><td>64</td><td>claims of policy</td><td>Cholera</td><td>156364</td></tr><tr><td>Y</td><td>SUBID1065</td><td>List(67e6325b09f36c230814ee2c)</td><td>81980</td><td>1969-05-31</td><td>65</td><td>claims of policy</td><td>Glaucoma</td><td>191132</td></tr><tr><td>N</td><td>SUBID10066</td><td>List(67e6325b09f36c230814ee2d)</td><td>13667</td><td>1957-09-12</td><td>66</td><td>claims of fact</td><td>Hepatitis</td><td>105686</td></tr><tr><td>N</td><td>SUBID1067</td><td>List(67e6325b09f36c230814ee2e)</td><td>109433</td><td>1944-12-25</td><td>67</td><td>claims of value</td><td>Rett Syndrome</td><td>160140</td></tr><tr><td>NaN</td><td>SUBID10068</td><td>List(67e6325b09f36c230814ee2f)</td><td>152901</td><td>1948-02-13</td><td>68</td><td>claims of policy</td><td>Diabetes</td><td>114252</td></tr><tr><td>NaN</td><td>SUBID10069</td><td>List(67e6325b09f36c230814ee30)</td><td>99313</td><td>1994-08-25</td><td>69</td><td>claims of fact</td><td>Pet allergy</td><td>188365</td></tr></tbody></table></div>"
      ]
     },
     "metadata": {
      "application/vnd.databricks.v1+output": {
       "addedWidgets": {},
       "aggData": [],
       "aggError": "",
       "aggOverflow": false,
       "aggSchema": [],
       "aggSeriesLimitReached": false,
       "aggType": "",
       "arguments": {},
       "columnCustomDisplayInfos": {},
       "data": [
        [
         "N",
         "SUBID1000",
         [
          "67e6325b09f36c230814edeb"
         ],
         "79874",
         "1949-03-14",
         0,
         "claims of value",
         "Galactosemia",
         187158
        ],
        [
         "NaN",
         "SUBID10001",
         [
          "67e6325b09f36c230814edec"
         ],
         "151142",
         "1970-03-16",
         1,
         "claims of policy",
         "Bladder cancer",
         112766
        ],
        [
         "NaN",
         "SUBID10002",
         [
          "67e6325b09f36c230814eded"
         ],
         "59924",
         "2008-02-03",
         2,
         "claims of value",
         "Kidney cancer",
         199252
        ],
        [
         "NaN",
         "SUBID10003",
         [
          "67e6325b09f36c230814edee"
         ],
         "143120",
         "1995-02-08",
         3,
         "claims of fact",
         "Suicide",
         133424
        ],
        [
         "Y",
         "SUBID10004",
         [
          "67e6325b09f36c230814edef"
         ],
         "168634",
         "1967-05-23",
         4,
         "claims of value",
         "Food allergy",
         172579
        ],
        [
         "NaN",
         "SUBID10005",
         [
          "67e6325b09f36c230814edf0"
         ],
         "64840",
         "1991-10-04",
         5,
         "claims of policy",
         "Whiplash",
         171320
        ],
        [
         "N",
         "SUBID1006",
         [
          "67e6325b09f36c230814edf1"
         ],
         "26800",
         "1991-03-26",
         6,
         "claims of fact",
         "Sunbathing",
         107794
        ],
        [
         "NaN",
         "SUBID10007",
         [
          "67e6325b09f36c230814edf2"
         ],
         "177186",
         "1946-09-05",
         7,
         "claims of value",
         "Drug consumption",
         130339
        ],
        [
         "N",
         "SUBID10008",
         [
          "67e6325b09f36c230814edf3"
         ],
         "141123",
         "1966-06-20",
         8,
         "claims of fact",
         "Dengue",
         110377
        ],
        [
         "N",
         "SUBID10009",
         [
          "67e6325b09f36c230814edf4"
         ],
         "88540",
         "1945-12-29",
         9,
         "claims of value",
         "Head banging",
         149367
        ],
        [
         "N",
         "SUBID1010",
         [
          "67e6325b09f36c230814edf5"
         ],
         "29150",
         "1999-01-25",
         10,
         "claims of value",
         "Fanconi anaemia",
         156168
        ],
        [
         "Y",
         "SUBID10011",
         [
          "67e6325b09f36c230814edf6"
         ],
         "40897",
         "1975-02-08",
         11,
         "claims of value",
         "Breast cancer",
         114241
        ],
        [
         "NaN",
         "SUBID10012",
         [
          "67e6325b09f36c230814edf7"
         ],
         "75983",
         "1985-02-12",
         12,
         "claims of value",
         "Anthrax",
         146382
        ],
        [
         "NaN",
         "SUBID10013",
         [
          "67e6325b09f36c230814edf8"
         ],
         "192340",
         "2014-07-30",
         13,
         "claims of fact",
         "Cystic fibrosis",
         132748
        ],
        [
         "N",
         "SUBID10014",
         [
          "67e6325b09f36c230814edf9"
         ],
         "118628",
         "2003-12-18",
         14,
         "claims of value",
         "Galactosemia",
         167340
        ],
        [
         "Y",
         "SUBID10015",
         [
          "67e6325b09f36c230814edfa"
         ],
         "100224",
         "1986-08-02",
         15,
         "claims of value",
         "Dengue",
         135184
        ],
        [
         "N",
         "SUBID10016",
         [
          "67e6325b09f36c230814edfb"
         ],
         "42860",
         "1955-01-20",
         16,
         "claims of value",
         "Smallpox",
         179662
        ],
        [
         "N",
         "SUBID10017",
         [
          "67e6325b09f36c230814edfc"
         ],
         "161786",
         "2017-06-01",
         17,
         "claims of policy",
         "Pollen allergy",
         184479
        ],
        [
         "NaN",
         "SUBID10018",
         [
          "67e6325b09f36c230814edfd"
         ],
         "66129",
         "1956-01-04",
         18,
         "claims of fact",
         "Breast cancer",
         156988
        ],
        [
         "NaN",
         "SUBID10019",
         [
          "67e6325b09f36c230814edfe"
         ],
         "182552",
         "1948-07-26",
         19,
         "claims of value",
         "Glaucoma",
         132870
        ],
        [
         "Y",
         "SUBID1020",
         [
          "67e6325b09f36c230814edff"
         ],
         "105982",
         "1984-04-10",
         20,
         "claims of value",
         "Pet allergy",
         148137
        ],
        [
         "NaN",
         "SUBID1021",
         [
          "67e6325b09f36c230814ee00"
         ],
         "55761",
         "1953-06-24",
         21,
         "claims of fact",
         "Rett Syndrome",
         113280
        ],
        [
         "Y",
         "SUBID10022",
         [
          "67e6325b09f36c230814ee01"
         ],
         "34771",
         "1948-05-23",
         22,
         "claims of value",
         "Flu",
         134184
        ],
        [
         "N",
         "SUBID10023",
         [
          "67e6325b09f36c230814ee02"
         ],
         "83642",
         "1945-03-15",
         23,
         "claims of value",
         "Cholera",
         122592
        ],
        [
         "NaN",
         "SUBID10024",
         [
          "67e6325b09f36c230814ee03"
         ],
         "49129",
         "2013-08-04",
         24,
         "claims of policy",
         "Scurvy",
         154439
        ],
        [
         "N",
         "SUBID10025",
         [
          "67e6325b09f36c230814ee04"
         ],
         "36524",
         "1976-08-24",
         25,
         "claims of fact",
         "Glaucoma",
         117945
        ],
        [
         "NaN",
         "SUBID10026",
         [
          "67e6325b09f36c230814ee05"
         ],
         "192381",
         "1966-08-30",
         26,
         "claims of value",
         "Measles",
         189996
        ],
        [
         "N",
         "SUBID10027",
         [
          "67e6325b09f36c230814ee06"
         ],
         "188520",
         "2008-08-26",
         27,
         "claims of fact",
         "Scurvy",
         146540
        ],
        [
         "N",
         "SUBID10028",
         [
          "67e6325b09f36c230814ee07"
         ],
         "122806",
         "1958-08-05",
         28,
         "claims of policy",
         "Flu",
         156434
        ],
        [
         "NaN",
         "SUBID10029",
         [
          "67e6325b09f36c230814ee08"
         ],
         "81651",
         "2008-02-01",
         29,
         "claims of fact",
         "Pet allergy",
         197352
        ],
        [
         "NaN",
         "SUBID1030",
         [
          "67e6325b09f36c230814ee09"
         ],
         "19899",
         "1976-09-08",
         30,
         "claims of fact",
         "Lymphedema",
         138778
        ],
        [
         "N",
         "SUBID10031",
         [
          "67e6325b09f36c230814ee0a"
         ],
         "42968",
         "1976-01-25",
         31,
         "claims of fact",
         "Alcohol consumption",
         162665
        ],
        [
         "N",
         "SUBID1032",
         [
          "67e6325b09f36c230814ee0b"
         ],
         "191267",
         "1988-12-18",
         32,
         "claims of policy",
         "Stroke",
         197503
        ],
        [
         "NaN",
         "SUBID10033",
         [
          "67e6325b09f36c230814ee0c"
         ],
         "161199",
         "2019-11-17",
         33,
         "claims of value",
         "Galactosemia",
         113476
        ],
        [
         "N",
         "SUBID1034",
         [
          "67e6325b09f36c230814ee0d"
         ],
         "26221",
         "2008-08-10",
         34,
         "claims of fact",
         "Vertigo",
         195876
        ],
        [
         "Y",
         "SUBID10035",
         [
          "67e6325b09f36c230814ee0e"
         ],
         "28542",
         "1973-03-25",
         35,
         "claims of value",
         "Measles",
         150189
        ],
        [
         "NaN",
         "SUBID1036",
         [
          "67e6325b09f36c230814ee0f"
         ],
         "62985",
         "1948-09-27",
         36,
         "claims of policy",
         "Heart Attack",
         138861
        ],
        [
         "NaN",
         "SUBID1037",
         [
          "67e6325b09f36c230814ee10"
         ],
         "19596",
         "1972-10-11",
         37,
         "claims of policy",
         "Phenylketonuria",
         146555
        ],
        [
         "Y",
         "SUBID1038",
         [
          "67e6325b09f36c230814ee11"
         ],
         "25171",
         "1979-03-11",
         38,
         "claims of fact",
         "Phenylketonuria",
         199114
        ],
        [
         "NaN",
         "SUBID10039",
         [
          "67e6325b09f36c230814ee12"
         ],
         "108526",
         "1960-05-09",
         39,
         "claims of fact",
         "Head banging",
         105758
        ],
        [
         "Y",
         "SUBID10040",
         [
          "67e6325b09f36c230814ee13"
         ],
         "116937",
         "1998-09-26",
         40,
         "claims of value",
         "Choking",
         109251
        ],
        [
         "NaN",
         "SUBID1041",
         [
          "67e6325b09f36c230814ee14"
         ],
         "118452",
         "1955-10-11",
         41,
         "claims of fact",
         "Fanconi anaemia",
         156223
        ],
        [
         "NaN",
         "SUBID10042",
         [
          "67e6325b09f36c230814ee15"
         ],
         "188727",
         "1989-10-28",
         42,
         "claims of fact",
         "Stroke",
         108576
        ],
        [
         "N",
         "SUBID1043",
         [
          "67e6325b09f36c230814ee16"
         ],
         "186502",
         "1962-09-18",
         43,
         "claims of value",
         "Anaemia",
         132947
        ],
        [
         "Y",
         "SUBID1044",
         [
          "67e6325b09f36c230814ee17"
         ],
         "173600",
         "1959-10-19",
         44,
         "claims of policy",
         "Diabetes",
         148674
        ],
        [
         "Y",
         "SUBID1045",
         [
          "67e6325b09f36c230814ee18"
         ],
         "160739",
         "1952-07-29",
         45,
         "claims of policy",
         "Lymphedema",
         133107
        ],
        [
         "N",
         "SUBID10046",
         [
          "67e6325b09f36c230814ee19"
         ],
         "25957",
         "2003-11-29",
         46,
         "claims of fact",
         "Phenylketonuria",
         193137
        ],
        [
         "NaN",
         "SUBID1047",
         [
          "67e6325b09f36c230814ee1a"
         ],
         "164159",
         "1953-06-07",
         47,
         "claims of value",
         "Choking",
         196369
        ],
        [
         "Y",
         "SUBID10048",
         [
          "67e6325b09f36c230814ee1b"
         ],
         "125727",
         "1947-04-11",
         48,
         "claims of value",
         "Asthma",
         109342
        ],
        [
         "NaN",
         "SUBID10049",
         [
          "67e6325b09f36c230814ee1c"
         ],
         "159815",
         "1983-06-20",
         49,
         "claims of fact",
         "Bladder cancer",
         121783
        ],
        [
         "NaN",
         "SUBID10050",
         [
          "67e6325b09f36c230814ee1d"
         ],
         "156557",
         "1972-06-19",
         50,
         "claims of policy",
         "Lung cancer",
         197441
        ],
        [
         "N",
         "SUBID10051",
         [
          "67e6325b09f36c230814ee1e"
         ],
         "193801",
         "1969-02-01",
         51,
         "claims of value",
         "Colorectal cancer",
         194166
        ],
        [
         "N",
         "SUBID10052",
         [
          "67e6325b09f36c230814ee1f"
         ],
         "130339",
         "1959-07-22",
         52,
         "claims of policy",
         "Food Poisoning",
         110690
        ],
        [
         "Y",
         "SUBID10053",
         [
          "67e6325b09f36c230814ee20"
         ],
         "87588",
         "2008-10-17",
         53,
         "claims of fact",
         "Anthrax",
         180709
        ],
        [
         "NaN",
         "SUBID10054",
         [
          "67e6325b09f36c230814ee21"
         ],
         "27404",
         "1965-01-09",
         54,
         "claims of policy",
         "Mold allergy",
         119268
        ],
        [
         "Y",
         "SUBID10055",
         [
          "67e6325b09f36c230814ee22"
         ],
         "44986",
         "2007-06-22",
         55,
         "claims of policy",
         "Beriberi",
         163148
        ],
        [
         "NaN",
         "SUBID10056",
         [
          "67e6325b09f36c230814ee23"
         ],
         "124734",
         "1974-12-21",
         56,
         "claims of fact",
         "Malaria",
         118913
        ],
        [
         "Y",
         "SUBID10057",
         [
          "67e6325b09f36c230814ee24"
         ],
         "161497",
         "1974-12-28",
         57,
         "claims of policy",
         "Asthma",
         167423
        ],
        [
         "Y",
         "SUBID1058",
         [
          "67e6325b09f36c230814ee25"
         ],
         "20770",
         "1967-08-28",
         58,
         "claims of policy",
         "Fractures",
         141703
        ],
        [
         "NaN",
         "SUBID10059",
         [
          "67e6325b09f36c230814ee26"
         ],
         "171729",
         "1983-08-26",
         59,
         "claims of policy",
         "Malaria",
         173518
        ],
        [
         "NaN",
         "SUBID10060",
         [
          "67e6325b09f36c230814ee27"
         ],
         "139755",
         "2004-01-20",
         60,
         "claims of policy",
         "Anthrax",
         140394
        ],
        [
         "NaN",
         "SUBID10061",
         [
          "67e6325b09f36c230814ee28"
         ],
         "74276",
         "1991-03-16",
         61,
         "claims of fact",
         "Mold allergy",
         164524
        ],
        [
         "Y",
         "SUBID1062",
         [
          "67e6325b09f36c230814ee29"
         ],
         "71703",
         "1945-10-24",
         62,
         "claims of value",
         "Head banging",
         198182
        ],
        [
         "Y",
         "SUBID1063",
         [
          "67e6325b09f36c230814ee2a"
         ],
         "158255",
         "2014-01-10",
         63,
         "claims of policy",
         "Drug consumption",
         115143
        ],
        [
         "N",
         "SUBID10064",
         [
          "67e6325b09f36c230814ee2b"
         ],
         "154594",
         "2015-07-08",
         64,
         "claims of policy",
         "Cholera",
         156364
        ],
        [
         "Y",
         "SUBID1065",
         [
          "67e6325b09f36c230814ee2c"
         ],
         "81980",
         "1969-05-31",
         65,
         "claims of policy",
         "Glaucoma",
         191132
        ],
        [
         "N",
         "SUBID10066",
         [
          "67e6325b09f36c230814ee2d"
         ],
         "13667",
         "1957-09-12",
         66,
         "claims of fact",
         "Hepatitis",
         105686
        ],
        [
         "N",
         "SUBID1067",
         [
          "67e6325b09f36c230814ee2e"
         ],
         "109433",
         "1944-12-25",
         67,
         "claims of value",
         "Rett Syndrome",
         160140
        ],
        [
         "NaN",
         "SUBID10068",
         [
          "67e6325b09f36c230814ee2f"
         ],
         "152901",
         "1948-02-13",
         68,
         "claims of policy",
         "Diabetes",
         114252
        ],
        [
         "NaN",
         "SUBID10069",
         [
          "67e6325b09f36c230814ee30"
         ],
         "99313",
         "1994-08-25",
         69,
         "claims of fact",
         "Pet allergy",
         188365
        ]
       ],
       "datasetInfos": [],
       "dbfsResultPath": null,
       "isJsonSchema": true,
       "metadata": {},
       "overflow": false,
       "plotOptions": {
        "customPlotOptions": {},
        "displayType": "table",
        "pivotAggregation": null,
        "pivotColumns": null,
        "xColumns": null,
        "yColumns": null
       },
       "removedWidgets": [],
       "schema": [
        {
         "metadata": "{}",
         "name": "Claim_Or_Rejected",
         "type": "\"string\""
        },
        {
         "metadata": "{}",
         "name": "SUB_ID",
         "type": "\"string\""
        },
        {
         "metadata": "{}",
         "name": "_id",
         "type": "{\"type\":\"struct\",\"fields\":[{\"name\":\"$oid\",\"type\":\"string\",\"nullable\":true,\"metadata\":{}}]}"
        },
        {
         "metadata": "{}",
         "name": "claim_amount",
         "type": "\"string\""
        },
        {
         "metadata": "{}",
         "name": "claim_date",
         "type": "\"string\""
        },
        {
         "metadata": "{}",
         "name": "claim_id",
         "type": "\"long\""
        },
        {
         "metadata": "{}",
         "name": "claim_type",
         "type": "\"string\""
        },
        {
         "metadata": "{}",
         "name": "disease_name",
         "type": "\"string\""
        },
        {
         "metadata": "{}",
         "name": "patient_id",
         "type": "\"long\""
        }
       ],
       "type": "table"
      }
     },
     "output_type": "display_data"
    }
   ],
   "source": [
    "display(cl_df)"
   ]
  },
  {
   "cell_type": "code",
   "execution_count": 0,
   "metadata": {
    "application/vnd.databricks.v1+cell": {
     "cellMetadata": {
      "byteLimit": 2048000,
      "rowLimit": 10000
     },
     "inputWidgets": {},
     "nuid": "62fa42d0-91f8-4061-84de-ad074e3c91bf",
     "showTitle": false,
     "tableResultSettingsMap": {},
     "title": ""
    }
   },
   "outputs": [],
   "source": [
    "cl_df = cl_df.drop(\"_id\") #dropping the _id column"
   ]
  },
  {
   "cell_type": "code",
   "execution_count": 0,
   "metadata": {
    "application/vnd.databricks.v1+cell": {
     "cellMetadata": {
      "byteLimit": 2048000,
      "rowLimit": 10000
     },
     "inputWidgets": {},
     "nuid": "4c777c03-3c01-4d41-980f-e1321194dbdd",
     "showTitle": false,
     "tableResultSettingsMap": {},
     "title": ""
    }
   },
   "outputs": [],
   "source": [
    "cl_df = cl_df.replace(\"NaN\",None)\n",
    "cl_df = cl_df.fillna({'Claim_Or_Rejected': 'Rejected'}) #replacing the NaN values with Rejected"
   ]
  },
  {
   "cell_type": "code",
   "execution_count": 0,
   "metadata": {
    "application/vnd.databricks.v1+cell": {
     "cellMetadata": {
      "byteLimit": 2048000,
      "rowLimit": 10000
     },
     "inputWidgets": {},
     "nuid": "05fe1a35-4b12-403d-bb43-f13533ad7270",
     "showTitle": false,
     "tableResultSettingsMap": {},
     "title": ""
    }
   },
   "outputs": [
    {
     "output_type": "stream",
     "name": "stdout",
     "output_type": "stream",
     "text": [
      "+-----------------+------+------------+----------+--------+----------+------------+----------+\n|Claim_Or_Rejected|SUB_ID|claim_amount|claim_date|claim_id|claim_type|disease_name|patient_id|\n+-----------------+------+------------+----------+--------+----------+------------+----------+\n|                0|     0|           0|         0|       0|         0|           0|         0|\n+-----------------+------+------------+----------+--------+----------+------------+----------+\n\n"
     ]
    }
   ],
   "source": [
    "missingvaluescheck(cl_df)"
   ]
  },
  {
   "cell_type": "code",
   "execution_count": 0,
   "metadata": {
    "application/vnd.databricks.v1+cell": {
     "cellMetadata": {
      "byteLimit": 2048000,
      "rowLimit": 10000
     },
     "inputWidgets": {},
     "nuid": "7881f85a-62d0-4293-8b4e-97745bf2c43f",
     "showTitle": false,
     "tableResultSettingsMap": {},
     "title": ""
    }
   },
   "outputs": [
    {
     "output_type": "stream",
     "name": "stdout",
     "output_type": "stream",
     "text": [
      "+-----------------+------+------------+----------+--------+----------+------------+----------+-----+\n|Claim_Or_Rejected|SUB_ID|claim_amount|claim_date|claim_id|claim_type|disease_name|patient_id|count|\n+-----------------+------+------------+----------+--------+----------+------------+----------+-----+\n+-----------------+------+------------+----------+--------+----------+------------+----------+-----+\n\n"
     ]
    }
   ],
   "source": [
    "tocheckduplicates(cl_df)"
   ]
  },
  {
   "cell_type": "code",
   "execution_count": 0,
   "metadata": {
    "application/vnd.databricks.v1+cell": {
     "cellMetadata": {
      "byteLimit": 2048000,
      "rowLimit": 10000
     },
     "inputWidgets": {},
     "nuid": "a552c2a2-0776-4b04-beb2-430bef8ff652",
     "showTitle": false,
     "tableResultSettingsMap": {},
     "title": ""
    }
   },
   "outputs": [
    {
     "output_type": "display_data",
     "data": {
      "text/html": [
       "<style scoped>\n",
       "  .table-result-container {\n",
       "    max-height: 300px;\n",
       "    overflow: auto;\n",
       "  }\n",
       "  table, th, td {\n",
       "    border: 1px solid black;\n",
       "    border-collapse: collapse;\n",
       "  }\n",
       "  th, td {\n",
       "    padding: 5px;\n",
       "  }\n",
       "  th {\n",
       "    text-align: left;\n",
       "  }\n",
       "</style><div class='table-result-container'><table class='table-result'><thead style='background-color: white'><tr><th>Claim_Or_Rejected</th><th>SUB_ID</th><th>claim_amount</th><th>claim_date</th><th>claim_id</th><th>claim_type</th><th>disease_name</th><th>patient_id</th></tr></thead><tbody><tr><td>N</td><td>SUBID1000</td><td>79874</td><td>1949-03-14</td><td>0</td><td>claims of value</td><td>Galactosemia</td><td>187158</td></tr><tr><td>Rejected</td><td>SUBID10001</td><td>151142</td><td>1970-03-16</td><td>1</td><td>claims of policy</td><td>Bladder cancer</td><td>112766</td></tr><tr><td>Rejected</td><td>SUBID10002</td><td>59924</td><td>2008-02-03</td><td>2</td><td>claims of value</td><td>Kidney cancer</td><td>199252</td></tr><tr><td>Rejected</td><td>SUBID10003</td><td>143120</td><td>1995-02-08</td><td>3</td><td>claims of fact</td><td>Suicide</td><td>133424</td></tr><tr><td>Y</td><td>SUBID10004</td><td>168634</td><td>1967-05-23</td><td>4</td><td>claims of value</td><td>Food allergy</td><td>172579</td></tr><tr><td>Rejected</td><td>SUBID10005</td><td>64840</td><td>1991-10-04</td><td>5</td><td>claims of policy</td><td>Whiplash</td><td>171320</td></tr><tr><td>N</td><td>SUBID1006</td><td>26800</td><td>1991-03-26</td><td>6</td><td>claims of fact</td><td>Sunbathing</td><td>107794</td></tr><tr><td>Rejected</td><td>SUBID10007</td><td>177186</td><td>1946-09-05</td><td>7</td><td>claims of value</td><td>Drug consumption</td><td>130339</td></tr><tr><td>N</td><td>SUBID10008</td><td>141123</td><td>1966-06-20</td><td>8</td><td>claims of fact</td><td>Dengue</td><td>110377</td></tr><tr><td>N</td><td>SUBID10009</td><td>88540</td><td>1945-12-29</td><td>9</td><td>claims of value</td><td>Head banging</td><td>149367</td></tr><tr><td>N</td><td>SUBID1010</td><td>29150</td><td>1999-01-25</td><td>10</td><td>claims of value</td><td>Fanconi anaemia</td><td>156168</td></tr><tr><td>Y</td><td>SUBID10011</td><td>40897</td><td>1975-02-08</td><td>11</td><td>claims of value</td><td>Breast cancer</td><td>114241</td></tr><tr><td>Rejected</td><td>SUBID10012</td><td>75983</td><td>1985-02-12</td><td>12</td><td>claims of value</td><td>Anthrax</td><td>146382</td></tr><tr><td>Rejected</td><td>SUBID10013</td><td>192340</td><td>2014-07-30</td><td>13</td><td>claims of fact</td><td>Cystic fibrosis</td><td>132748</td></tr><tr><td>N</td><td>SUBID10014</td><td>118628</td><td>2003-12-18</td><td>14</td><td>claims of value</td><td>Galactosemia</td><td>167340</td></tr><tr><td>Y</td><td>SUBID10015</td><td>100224</td><td>1986-08-02</td><td>15</td><td>claims of value</td><td>Dengue</td><td>135184</td></tr><tr><td>N</td><td>SUBID10016</td><td>42860</td><td>1955-01-20</td><td>16</td><td>claims of value</td><td>Smallpox</td><td>179662</td></tr><tr><td>N</td><td>SUBID10017</td><td>161786</td><td>2017-06-01</td><td>17</td><td>claims of policy</td><td>Pollen allergy</td><td>184479</td></tr><tr><td>Rejected</td><td>SUBID10018</td><td>66129</td><td>1956-01-04</td><td>18</td><td>claims of fact</td><td>Breast cancer</td><td>156988</td></tr><tr><td>Rejected</td><td>SUBID10019</td><td>182552</td><td>1948-07-26</td><td>19</td><td>claims of value</td><td>Glaucoma</td><td>132870</td></tr><tr><td>Y</td><td>SUBID1020</td><td>105982</td><td>1984-04-10</td><td>20</td><td>claims of value</td><td>Pet allergy</td><td>148137</td></tr><tr><td>Rejected</td><td>SUBID1021</td><td>55761</td><td>1953-06-24</td><td>21</td><td>claims of fact</td><td>Rett Syndrome</td><td>113280</td></tr><tr><td>Y</td><td>SUBID10022</td><td>34771</td><td>1948-05-23</td><td>22</td><td>claims of value</td><td>Flu</td><td>134184</td></tr><tr><td>N</td><td>SUBID10023</td><td>83642</td><td>1945-03-15</td><td>23</td><td>claims of value</td><td>Cholera</td><td>122592</td></tr><tr><td>Rejected</td><td>SUBID10024</td><td>49129</td><td>2013-08-04</td><td>24</td><td>claims of policy</td><td>Scurvy</td><td>154439</td></tr><tr><td>N</td><td>SUBID10025</td><td>36524</td><td>1976-08-24</td><td>25</td><td>claims of fact</td><td>Glaucoma</td><td>117945</td></tr><tr><td>Rejected</td><td>SUBID10026</td><td>192381</td><td>1966-08-30</td><td>26</td><td>claims of value</td><td>Measles</td><td>189996</td></tr><tr><td>N</td><td>SUBID10027</td><td>188520</td><td>2008-08-26</td><td>27</td><td>claims of fact</td><td>Scurvy</td><td>146540</td></tr><tr><td>N</td><td>SUBID10028</td><td>122806</td><td>1958-08-05</td><td>28</td><td>claims of policy</td><td>Flu</td><td>156434</td></tr><tr><td>Rejected</td><td>SUBID10029</td><td>81651</td><td>2008-02-01</td><td>29</td><td>claims of fact</td><td>Pet allergy</td><td>197352</td></tr><tr><td>Rejected</td><td>SUBID1030</td><td>19899</td><td>1976-09-08</td><td>30</td><td>claims of fact</td><td>Lymphedema</td><td>138778</td></tr><tr><td>N</td><td>SUBID10031</td><td>42968</td><td>1976-01-25</td><td>31</td><td>claims of fact</td><td>Alcohol consumption</td><td>162665</td></tr><tr><td>N</td><td>SUBID1032</td><td>191267</td><td>1988-12-18</td><td>32</td><td>claims of policy</td><td>Stroke</td><td>197503</td></tr><tr><td>Rejected</td><td>SUBID10033</td><td>161199</td><td>2019-11-17</td><td>33</td><td>claims of value</td><td>Galactosemia</td><td>113476</td></tr><tr><td>N</td><td>SUBID1034</td><td>26221</td><td>2008-08-10</td><td>34</td><td>claims of fact</td><td>Vertigo</td><td>195876</td></tr><tr><td>Y</td><td>SUBID10035</td><td>28542</td><td>1973-03-25</td><td>35</td><td>claims of value</td><td>Measles</td><td>150189</td></tr><tr><td>Rejected</td><td>SUBID1036</td><td>62985</td><td>1948-09-27</td><td>36</td><td>claims of policy</td><td>Heart Attack</td><td>138861</td></tr><tr><td>Rejected</td><td>SUBID1037</td><td>19596</td><td>1972-10-11</td><td>37</td><td>claims of policy</td><td>Phenylketonuria</td><td>146555</td></tr><tr><td>Y</td><td>SUBID1038</td><td>25171</td><td>1979-03-11</td><td>38</td><td>claims of fact</td><td>Phenylketonuria</td><td>199114</td></tr><tr><td>Rejected</td><td>SUBID10039</td><td>108526</td><td>1960-05-09</td><td>39</td><td>claims of fact</td><td>Head banging</td><td>105758</td></tr><tr><td>Y</td><td>SUBID10040</td><td>116937</td><td>1998-09-26</td><td>40</td><td>claims of value</td><td>Choking</td><td>109251</td></tr><tr><td>Rejected</td><td>SUBID1041</td><td>118452</td><td>1955-10-11</td><td>41</td><td>claims of fact</td><td>Fanconi anaemia</td><td>156223</td></tr><tr><td>Rejected</td><td>SUBID10042</td><td>188727</td><td>1989-10-28</td><td>42</td><td>claims of fact</td><td>Stroke</td><td>108576</td></tr><tr><td>N</td><td>SUBID1043</td><td>186502</td><td>1962-09-18</td><td>43</td><td>claims of value</td><td>Anaemia</td><td>132947</td></tr><tr><td>Y</td><td>SUBID1044</td><td>173600</td><td>1959-10-19</td><td>44</td><td>claims of policy</td><td>Diabetes</td><td>148674</td></tr><tr><td>Y</td><td>SUBID1045</td><td>160739</td><td>1952-07-29</td><td>45</td><td>claims of policy</td><td>Lymphedema</td><td>133107</td></tr><tr><td>N</td><td>SUBID10046</td><td>25957</td><td>2003-11-29</td><td>46</td><td>claims of fact</td><td>Phenylketonuria</td><td>193137</td></tr><tr><td>Rejected</td><td>SUBID1047</td><td>164159</td><td>1953-06-07</td><td>47</td><td>claims of value</td><td>Choking</td><td>196369</td></tr><tr><td>Y</td><td>SUBID10048</td><td>125727</td><td>1947-04-11</td><td>48</td><td>claims of value</td><td>Asthma</td><td>109342</td></tr><tr><td>Rejected</td><td>SUBID10049</td><td>159815</td><td>1983-06-20</td><td>49</td><td>claims of fact</td><td>Bladder cancer</td><td>121783</td></tr><tr><td>Rejected</td><td>SUBID10050</td><td>156557</td><td>1972-06-19</td><td>50</td><td>claims of policy</td><td>Lung cancer</td><td>197441</td></tr><tr><td>N</td><td>SUBID10051</td><td>193801</td><td>1969-02-01</td><td>51</td><td>claims of value</td><td>Colorectal cancer</td><td>194166</td></tr><tr><td>N</td><td>SUBID10052</td><td>130339</td><td>1959-07-22</td><td>52</td><td>claims of policy</td><td>Food Poisoning</td><td>110690</td></tr><tr><td>Y</td><td>SUBID10053</td><td>87588</td><td>2008-10-17</td><td>53</td><td>claims of fact</td><td>Anthrax</td><td>180709</td></tr><tr><td>Rejected</td><td>SUBID10054</td><td>27404</td><td>1965-01-09</td><td>54</td><td>claims of policy</td><td>Mold allergy</td><td>119268</td></tr><tr><td>Y</td><td>SUBID10055</td><td>44986</td><td>2007-06-22</td><td>55</td><td>claims of policy</td><td>Beriberi</td><td>163148</td></tr><tr><td>Rejected</td><td>SUBID10056</td><td>124734</td><td>1974-12-21</td><td>56</td><td>claims of fact</td><td>Malaria</td><td>118913</td></tr><tr><td>Y</td><td>SUBID10057</td><td>161497</td><td>1974-12-28</td><td>57</td><td>claims of policy</td><td>Asthma</td><td>167423</td></tr><tr><td>Y</td><td>SUBID1058</td><td>20770</td><td>1967-08-28</td><td>58</td><td>claims of policy</td><td>Fractures</td><td>141703</td></tr><tr><td>Rejected</td><td>SUBID10059</td><td>171729</td><td>1983-08-26</td><td>59</td><td>claims of policy</td><td>Malaria</td><td>173518</td></tr><tr><td>Rejected</td><td>SUBID10060</td><td>139755</td><td>2004-01-20</td><td>60</td><td>claims of policy</td><td>Anthrax</td><td>140394</td></tr><tr><td>Rejected</td><td>SUBID10061</td><td>74276</td><td>1991-03-16</td><td>61</td><td>claims of fact</td><td>Mold allergy</td><td>164524</td></tr><tr><td>Y</td><td>SUBID1062</td><td>71703</td><td>1945-10-24</td><td>62</td><td>claims of value</td><td>Head banging</td><td>198182</td></tr><tr><td>Y</td><td>SUBID1063</td><td>158255</td><td>2014-01-10</td><td>63</td><td>claims of policy</td><td>Drug consumption</td><td>115143</td></tr><tr><td>N</td><td>SUBID10064</td><td>154594</td><td>2015-07-08</td><td>64</td><td>claims of policy</td><td>Cholera</td><td>156364</td></tr><tr><td>Y</td><td>SUBID1065</td><td>81980</td><td>1969-05-31</td><td>65</td><td>claims of policy</td><td>Glaucoma</td><td>191132</td></tr><tr><td>N</td><td>SUBID10066</td><td>13667</td><td>1957-09-12</td><td>66</td><td>claims of fact</td><td>Hepatitis</td><td>105686</td></tr><tr><td>N</td><td>SUBID1067</td><td>109433</td><td>1944-12-25</td><td>67</td><td>claims of value</td><td>Rett Syndrome</td><td>160140</td></tr><tr><td>Rejected</td><td>SUBID10068</td><td>152901</td><td>1948-02-13</td><td>68</td><td>claims of policy</td><td>Diabetes</td><td>114252</td></tr><tr><td>Rejected</td><td>SUBID10069</td><td>99313</td><td>1994-08-25</td><td>69</td><td>claims of fact</td><td>Pet allergy</td><td>188365</td></tr></tbody></table></div>"
      ]
     },
     "metadata": {
      "application/vnd.databricks.v1+output": {
       "addedWidgets": {},
       "aggData": [],
       "aggError": "",
       "aggOverflow": false,
       "aggSchema": [],
       "aggSeriesLimitReached": false,
       "aggType": "",
       "arguments": {},
       "columnCustomDisplayInfos": {},
       "data": [
        [
         "N",
         "SUBID1000",
         "79874",
         "1949-03-14",
         0,
         "claims of value",
         "Galactosemia",
         187158
        ],
        [
         "Rejected",
         "SUBID10001",
         "151142",
         "1970-03-16",
         1,
         "claims of policy",
         "Bladder cancer",
         112766
        ],
        [
         "Rejected",
         "SUBID10002",
         "59924",
         "2008-02-03",
         2,
         "claims of value",
         "Kidney cancer",
         199252
        ],
        [
         "Rejected",
         "SUBID10003",
         "143120",
         "1995-02-08",
         3,
         "claims of fact",
         "Suicide",
         133424
        ],
        [
         "Y",
         "SUBID10004",
         "168634",
         "1967-05-23",
         4,
         "claims of value",
         "Food allergy",
         172579
        ],
        [
         "Rejected",
         "SUBID10005",
         "64840",
         "1991-10-04",
         5,
         "claims of policy",
         "Whiplash",
         171320
        ],
        [
         "N",
         "SUBID1006",
         "26800",
         "1991-03-26",
         6,
         "claims of fact",
         "Sunbathing",
         107794
        ],
        [
         "Rejected",
         "SUBID10007",
         "177186",
         "1946-09-05",
         7,
         "claims of value",
         "Drug consumption",
         130339
        ],
        [
         "N",
         "SUBID10008",
         "141123",
         "1966-06-20",
         8,
         "claims of fact",
         "Dengue",
         110377
        ],
        [
         "N",
         "SUBID10009",
         "88540",
         "1945-12-29",
         9,
         "claims of value",
         "Head banging",
         149367
        ],
        [
         "N",
         "SUBID1010",
         "29150",
         "1999-01-25",
         10,
         "claims of value",
         "Fanconi anaemia",
         156168
        ],
        [
         "Y",
         "SUBID10011",
         "40897",
         "1975-02-08",
         11,
         "claims of value",
         "Breast cancer",
         114241
        ],
        [
         "Rejected",
         "SUBID10012",
         "75983",
         "1985-02-12",
         12,
         "claims of value",
         "Anthrax",
         146382
        ],
        [
         "Rejected",
         "SUBID10013",
         "192340",
         "2014-07-30",
         13,
         "claims of fact",
         "Cystic fibrosis",
         132748
        ],
        [
         "N",
         "SUBID10014",
         "118628",
         "2003-12-18",
         14,
         "claims of value",
         "Galactosemia",
         167340
        ],
        [
         "Y",
         "SUBID10015",
         "100224",
         "1986-08-02",
         15,
         "claims of value",
         "Dengue",
         135184
        ],
        [
         "N",
         "SUBID10016",
         "42860",
         "1955-01-20",
         16,
         "claims of value",
         "Smallpox",
         179662
        ],
        [
         "N",
         "SUBID10017",
         "161786",
         "2017-06-01",
         17,
         "claims of policy",
         "Pollen allergy",
         184479
        ],
        [
         "Rejected",
         "SUBID10018",
         "66129",
         "1956-01-04",
         18,
         "claims of fact",
         "Breast cancer",
         156988
        ],
        [
         "Rejected",
         "SUBID10019",
         "182552",
         "1948-07-26",
         19,
         "claims of value",
         "Glaucoma",
         132870
        ],
        [
         "Y",
         "SUBID1020",
         "105982",
         "1984-04-10",
         20,
         "claims of value",
         "Pet allergy",
         148137
        ],
        [
         "Rejected",
         "SUBID1021",
         "55761",
         "1953-06-24",
         21,
         "claims of fact",
         "Rett Syndrome",
         113280
        ],
        [
         "Y",
         "SUBID10022",
         "34771",
         "1948-05-23",
         22,
         "claims of value",
         "Flu",
         134184
        ],
        [
         "N",
         "SUBID10023",
         "83642",
         "1945-03-15",
         23,
         "claims of value",
         "Cholera",
         122592
        ],
        [
         "Rejected",
         "SUBID10024",
         "49129",
         "2013-08-04",
         24,
         "claims of policy",
         "Scurvy",
         154439
        ],
        [
         "N",
         "SUBID10025",
         "36524",
         "1976-08-24",
         25,
         "claims of fact",
         "Glaucoma",
         117945
        ],
        [
         "Rejected",
         "SUBID10026",
         "192381",
         "1966-08-30",
         26,
         "claims of value",
         "Measles",
         189996
        ],
        [
         "N",
         "SUBID10027",
         "188520",
         "2008-08-26",
         27,
         "claims of fact",
         "Scurvy",
         146540
        ],
        [
         "N",
         "SUBID10028",
         "122806",
         "1958-08-05",
         28,
         "claims of policy",
         "Flu",
         156434
        ],
        [
         "Rejected",
         "SUBID10029",
         "81651",
         "2008-02-01",
         29,
         "claims of fact",
         "Pet allergy",
         197352
        ],
        [
         "Rejected",
         "SUBID1030",
         "19899",
         "1976-09-08",
         30,
         "claims of fact",
         "Lymphedema",
         138778
        ],
        [
         "N",
         "SUBID10031",
         "42968",
         "1976-01-25",
         31,
         "claims of fact",
         "Alcohol consumption",
         162665
        ],
        [
         "N",
         "SUBID1032",
         "191267",
         "1988-12-18",
         32,
         "claims of policy",
         "Stroke",
         197503
        ],
        [
         "Rejected",
         "SUBID10033",
         "161199",
         "2019-11-17",
         33,
         "claims of value",
         "Galactosemia",
         113476
        ],
        [
         "N",
         "SUBID1034",
         "26221",
         "2008-08-10",
         34,
         "claims of fact",
         "Vertigo",
         195876
        ],
        [
         "Y",
         "SUBID10035",
         "28542",
         "1973-03-25",
         35,
         "claims of value",
         "Measles",
         150189
        ],
        [
         "Rejected",
         "SUBID1036",
         "62985",
         "1948-09-27",
         36,
         "claims of policy",
         "Heart Attack",
         138861
        ],
        [
         "Rejected",
         "SUBID1037",
         "19596",
         "1972-10-11",
         37,
         "claims of policy",
         "Phenylketonuria",
         146555
        ],
        [
         "Y",
         "SUBID1038",
         "25171",
         "1979-03-11",
         38,
         "claims of fact",
         "Phenylketonuria",
         199114
        ],
        [
         "Rejected",
         "SUBID10039",
         "108526",
         "1960-05-09",
         39,
         "claims of fact",
         "Head banging",
         105758
        ],
        [
         "Y",
         "SUBID10040",
         "116937",
         "1998-09-26",
         40,
         "claims of value",
         "Choking",
         109251
        ],
        [
         "Rejected",
         "SUBID1041",
         "118452",
         "1955-10-11",
         41,
         "claims of fact",
         "Fanconi anaemia",
         156223
        ],
        [
         "Rejected",
         "SUBID10042",
         "188727",
         "1989-10-28",
         42,
         "claims of fact",
         "Stroke",
         108576
        ],
        [
         "N",
         "SUBID1043",
         "186502",
         "1962-09-18",
         43,
         "claims of value",
         "Anaemia",
         132947
        ],
        [
         "Y",
         "SUBID1044",
         "173600",
         "1959-10-19",
         44,
         "claims of policy",
         "Diabetes",
         148674
        ],
        [
         "Y",
         "SUBID1045",
         "160739",
         "1952-07-29",
         45,
         "claims of policy",
         "Lymphedema",
         133107
        ],
        [
         "N",
         "SUBID10046",
         "25957",
         "2003-11-29",
         46,
         "claims of fact",
         "Phenylketonuria",
         193137
        ],
        [
         "Rejected",
         "SUBID1047",
         "164159",
         "1953-06-07",
         47,
         "claims of value",
         "Choking",
         196369
        ],
        [
         "Y",
         "SUBID10048",
         "125727",
         "1947-04-11",
         48,
         "claims of value",
         "Asthma",
         109342
        ],
        [
         "Rejected",
         "SUBID10049",
         "159815",
         "1983-06-20",
         49,
         "claims of fact",
         "Bladder cancer",
         121783
        ],
        [
         "Rejected",
         "SUBID10050",
         "156557",
         "1972-06-19",
         50,
         "claims of policy",
         "Lung cancer",
         197441
        ],
        [
         "N",
         "SUBID10051",
         "193801",
         "1969-02-01",
         51,
         "claims of value",
         "Colorectal cancer",
         194166
        ],
        [
         "N",
         "SUBID10052",
         "130339",
         "1959-07-22",
         52,
         "claims of policy",
         "Food Poisoning",
         110690
        ],
        [
         "Y",
         "SUBID10053",
         "87588",
         "2008-10-17",
         53,
         "claims of fact",
         "Anthrax",
         180709
        ],
        [
         "Rejected",
         "SUBID10054",
         "27404",
         "1965-01-09",
         54,
         "claims of policy",
         "Mold allergy",
         119268
        ],
        [
         "Y",
         "SUBID10055",
         "44986",
         "2007-06-22",
         55,
         "claims of policy",
         "Beriberi",
         163148
        ],
        [
         "Rejected",
         "SUBID10056",
         "124734",
         "1974-12-21",
         56,
         "claims of fact",
         "Malaria",
         118913
        ],
        [
         "Y",
         "SUBID10057",
         "161497",
         "1974-12-28",
         57,
         "claims of policy",
         "Asthma",
         167423
        ],
        [
         "Y",
         "SUBID1058",
         "20770",
         "1967-08-28",
         58,
         "claims of policy",
         "Fractures",
         141703
        ],
        [
         "Rejected",
         "SUBID10059",
         "171729",
         "1983-08-26",
         59,
         "claims of policy",
         "Malaria",
         173518
        ],
        [
         "Rejected",
         "SUBID10060",
         "139755",
         "2004-01-20",
         60,
         "claims of policy",
         "Anthrax",
         140394
        ],
        [
         "Rejected",
         "SUBID10061",
         "74276",
         "1991-03-16",
         61,
         "claims of fact",
         "Mold allergy",
         164524
        ],
        [
         "Y",
         "SUBID1062",
         "71703",
         "1945-10-24",
         62,
         "claims of value",
         "Head banging",
         198182
        ],
        [
         "Y",
         "SUBID1063",
         "158255",
         "2014-01-10",
         63,
         "claims of policy",
         "Drug consumption",
         115143
        ],
        [
         "N",
         "SUBID10064",
         "154594",
         "2015-07-08",
         64,
         "claims of policy",
         "Cholera",
         156364
        ],
        [
         "Y",
         "SUBID1065",
         "81980",
         "1969-05-31",
         65,
         "claims of policy",
         "Glaucoma",
         191132
        ],
        [
         "N",
         "SUBID10066",
         "13667",
         "1957-09-12",
         66,
         "claims of fact",
         "Hepatitis",
         105686
        ],
        [
         "N",
         "SUBID1067",
         "109433",
         "1944-12-25",
         67,
         "claims of value",
         "Rett Syndrome",
         160140
        ],
        [
         "Rejected",
         "SUBID10068",
         "152901",
         "1948-02-13",
         68,
         "claims of policy",
         "Diabetes",
         114252
        ],
        [
         "Rejected",
         "SUBID10069",
         "99313",
         "1994-08-25",
         69,
         "claims of fact",
         "Pet allergy",
         188365
        ]
       ],
       "datasetInfos": [],
       "dbfsResultPath": null,
       "isJsonSchema": true,
       "metadata": {},
       "overflow": false,
       "plotOptions": {
        "customPlotOptions": {},
        "displayType": "table",
        "pivotAggregation": null,
        "pivotColumns": null,
        "xColumns": null,
        "yColumns": null
       },
       "removedWidgets": [],
       "schema": [
        {
         "metadata": "{}",
         "name": "Claim_Or_Rejected",
         "type": "\"string\""
        },
        {
         "metadata": "{}",
         "name": "SUB_ID",
         "type": "\"string\""
        },
        {
         "metadata": "{}",
         "name": "claim_amount",
         "type": "\"string\""
        },
        {
         "metadata": "{}",
         "name": "claim_date",
         "type": "\"string\""
        },
        {
         "metadata": "{}",
         "name": "claim_id",
         "type": "\"long\""
        },
        {
         "metadata": "{}",
         "name": "claim_type",
         "type": "\"string\""
        },
        {
         "metadata": "{}",
         "name": "disease_name",
         "type": "\"string\""
        },
        {
         "metadata": "{}",
         "name": "patient_id",
         "type": "\"long\""
        }
       ],
       "type": "table"
      }
     },
     "output_type": "display_data"
    }
   ],
   "source": [
    "display(cl_df)"
   ]
  },
  {
   "cell_type": "code",
   "execution_count": 0,
   "metadata": {
    "application/vnd.databricks.v1+cell": {
     "cellMetadata": {
      "byteLimit": 2048000,
      "rowLimit": 10000
     },
     "inputWidgets": {},
     "nuid": "c0a78a98-123b-4475-84d0-67cb354d4504",
     "showTitle": false,
     "tableResultSettingsMap": {},
     "title": ""
    }
   },
   "outputs": [],
   "source": [
    "cl_df = cl_df.withColumn(\"claim_amount\",cl_df[\"claim_amount\"].cast(\"integer\"))\n",
    "cl_df = cl_df.withColumn(\"claim_date\",cl_df[\"claim_date\"].cast(\"date\"))\n",
    "cl_df = cl_df.withColumn(\"patinet_id\",cl_df[\"patient_id\"].cast(\"integer\"))\n",
    "cl_df = cl_df.withColumn(\"claim_id\",cl_df[\"claim_id\"].cast(\"long\"))  #changing the proper datatypes"
   ]
  },
  {
   "cell_type": "code",
   "execution_count": 0,
   "metadata": {
    "application/vnd.databricks.v1+cell": {
     "cellMetadata": {
      "byteLimit": 2048000,
      "rowLimit": 10000
     },
     "inputWidgets": {},
     "nuid": "0aa08574-87f4-42fe-b1b5-bc94fd222f3a",
     "showTitle": false,
     "tableResultSettingsMap": {},
     "title": ""
    }
   },
   "outputs": [
    {
     "output_type": "display_data",
     "data": {
      "text/html": [
       "<style scoped>\n",
       "  .table-result-container {\n",
       "    max-height: 300px;\n",
       "    overflow: auto;\n",
       "  }\n",
       "  table, th, td {\n",
       "    border: 1px solid black;\n",
       "    border-collapse: collapse;\n",
       "  }\n",
       "  th, td {\n",
       "    padding: 5px;\n",
       "  }\n",
       "  th {\n",
       "    text-align: left;\n",
       "  }\n",
       "</style><div class='table-result-container'><table class='table-result'><thead style='background-color: white'><tr><th>Claim_Or_Rejected</th><th>SUB_ID</th><th>claim_amount</th><th>claim_date</th><th>claim_id</th><th>claim_type</th><th>disease_name</th><th>patient_id</th><th>patinet_id</th></tr></thead><tbody><tr><td>N</td><td>SUBID1000</td><td>79874</td><td>1949-03-14</td><td>0</td><td>claims of value</td><td>Galactosemia</td><td>187158</td><td>187158</td></tr><tr><td>Rejected</td><td>SUBID10001</td><td>151142</td><td>1970-03-16</td><td>1</td><td>claims of policy</td><td>Bladder cancer</td><td>112766</td><td>112766</td></tr><tr><td>Rejected</td><td>SUBID10002</td><td>59924</td><td>2008-02-03</td><td>2</td><td>claims of value</td><td>Kidney cancer</td><td>199252</td><td>199252</td></tr><tr><td>Rejected</td><td>SUBID10003</td><td>143120</td><td>1995-02-08</td><td>3</td><td>claims of fact</td><td>Suicide</td><td>133424</td><td>133424</td></tr><tr><td>Y</td><td>SUBID10004</td><td>168634</td><td>1967-05-23</td><td>4</td><td>claims of value</td><td>Food allergy</td><td>172579</td><td>172579</td></tr><tr><td>Rejected</td><td>SUBID10005</td><td>64840</td><td>1991-10-04</td><td>5</td><td>claims of policy</td><td>Whiplash</td><td>171320</td><td>171320</td></tr><tr><td>N</td><td>SUBID1006</td><td>26800</td><td>1991-03-26</td><td>6</td><td>claims of fact</td><td>Sunbathing</td><td>107794</td><td>107794</td></tr><tr><td>Rejected</td><td>SUBID10007</td><td>177186</td><td>1946-09-05</td><td>7</td><td>claims of value</td><td>Drug consumption</td><td>130339</td><td>130339</td></tr><tr><td>N</td><td>SUBID10008</td><td>141123</td><td>1966-06-20</td><td>8</td><td>claims of fact</td><td>Dengue</td><td>110377</td><td>110377</td></tr><tr><td>N</td><td>SUBID10009</td><td>88540</td><td>1945-12-29</td><td>9</td><td>claims of value</td><td>Head banging</td><td>149367</td><td>149367</td></tr><tr><td>N</td><td>SUBID1010</td><td>29150</td><td>1999-01-25</td><td>10</td><td>claims of value</td><td>Fanconi anaemia</td><td>156168</td><td>156168</td></tr><tr><td>Y</td><td>SUBID10011</td><td>40897</td><td>1975-02-08</td><td>11</td><td>claims of value</td><td>Breast cancer</td><td>114241</td><td>114241</td></tr><tr><td>Rejected</td><td>SUBID10012</td><td>75983</td><td>1985-02-12</td><td>12</td><td>claims of value</td><td>Anthrax</td><td>146382</td><td>146382</td></tr><tr><td>Rejected</td><td>SUBID10013</td><td>192340</td><td>2014-07-30</td><td>13</td><td>claims of fact</td><td>Cystic fibrosis</td><td>132748</td><td>132748</td></tr><tr><td>N</td><td>SUBID10014</td><td>118628</td><td>2003-12-18</td><td>14</td><td>claims of value</td><td>Galactosemia</td><td>167340</td><td>167340</td></tr><tr><td>Y</td><td>SUBID10015</td><td>100224</td><td>1986-08-02</td><td>15</td><td>claims of value</td><td>Dengue</td><td>135184</td><td>135184</td></tr><tr><td>N</td><td>SUBID10016</td><td>42860</td><td>1955-01-20</td><td>16</td><td>claims of value</td><td>Smallpox</td><td>179662</td><td>179662</td></tr><tr><td>N</td><td>SUBID10017</td><td>161786</td><td>2017-06-01</td><td>17</td><td>claims of policy</td><td>Pollen allergy</td><td>184479</td><td>184479</td></tr><tr><td>Rejected</td><td>SUBID10018</td><td>66129</td><td>1956-01-04</td><td>18</td><td>claims of fact</td><td>Breast cancer</td><td>156988</td><td>156988</td></tr><tr><td>Rejected</td><td>SUBID10019</td><td>182552</td><td>1948-07-26</td><td>19</td><td>claims of value</td><td>Glaucoma</td><td>132870</td><td>132870</td></tr><tr><td>Y</td><td>SUBID1020</td><td>105982</td><td>1984-04-10</td><td>20</td><td>claims of value</td><td>Pet allergy</td><td>148137</td><td>148137</td></tr><tr><td>Rejected</td><td>SUBID1021</td><td>55761</td><td>1953-06-24</td><td>21</td><td>claims of fact</td><td>Rett Syndrome</td><td>113280</td><td>113280</td></tr><tr><td>Y</td><td>SUBID10022</td><td>34771</td><td>1948-05-23</td><td>22</td><td>claims of value</td><td>Flu</td><td>134184</td><td>134184</td></tr><tr><td>N</td><td>SUBID10023</td><td>83642</td><td>1945-03-15</td><td>23</td><td>claims of value</td><td>Cholera</td><td>122592</td><td>122592</td></tr><tr><td>Rejected</td><td>SUBID10024</td><td>49129</td><td>2013-08-04</td><td>24</td><td>claims of policy</td><td>Scurvy</td><td>154439</td><td>154439</td></tr><tr><td>N</td><td>SUBID10025</td><td>36524</td><td>1976-08-24</td><td>25</td><td>claims of fact</td><td>Glaucoma</td><td>117945</td><td>117945</td></tr><tr><td>Rejected</td><td>SUBID10026</td><td>192381</td><td>1966-08-30</td><td>26</td><td>claims of value</td><td>Measles</td><td>189996</td><td>189996</td></tr><tr><td>N</td><td>SUBID10027</td><td>188520</td><td>2008-08-26</td><td>27</td><td>claims of fact</td><td>Scurvy</td><td>146540</td><td>146540</td></tr><tr><td>N</td><td>SUBID10028</td><td>122806</td><td>1958-08-05</td><td>28</td><td>claims of policy</td><td>Flu</td><td>156434</td><td>156434</td></tr><tr><td>Rejected</td><td>SUBID10029</td><td>81651</td><td>2008-02-01</td><td>29</td><td>claims of fact</td><td>Pet allergy</td><td>197352</td><td>197352</td></tr><tr><td>Rejected</td><td>SUBID1030</td><td>19899</td><td>1976-09-08</td><td>30</td><td>claims of fact</td><td>Lymphedema</td><td>138778</td><td>138778</td></tr><tr><td>N</td><td>SUBID10031</td><td>42968</td><td>1976-01-25</td><td>31</td><td>claims of fact</td><td>Alcohol consumption</td><td>162665</td><td>162665</td></tr><tr><td>N</td><td>SUBID1032</td><td>191267</td><td>1988-12-18</td><td>32</td><td>claims of policy</td><td>Stroke</td><td>197503</td><td>197503</td></tr><tr><td>Rejected</td><td>SUBID10033</td><td>161199</td><td>2019-11-17</td><td>33</td><td>claims of value</td><td>Galactosemia</td><td>113476</td><td>113476</td></tr><tr><td>N</td><td>SUBID1034</td><td>26221</td><td>2008-08-10</td><td>34</td><td>claims of fact</td><td>Vertigo</td><td>195876</td><td>195876</td></tr><tr><td>Y</td><td>SUBID10035</td><td>28542</td><td>1973-03-25</td><td>35</td><td>claims of value</td><td>Measles</td><td>150189</td><td>150189</td></tr><tr><td>Rejected</td><td>SUBID1036</td><td>62985</td><td>1948-09-27</td><td>36</td><td>claims of policy</td><td>Heart Attack</td><td>138861</td><td>138861</td></tr><tr><td>Rejected</td><td>SUBID1037</td><td>19596</td><td>1972-10-11</td><td>37</td><td>claims of policy</td><td>Phenylketonuria</td><td>146555</td><td>146555</td></tr><tr><td>Y</td><td>SUBID1038</td><td>25171</td><td>1979-03-11</td><td>38</td><td>claims of fact</td><td>Phenylketonuria</td><td>199114</td><td>199114</td></tr><tr><td>Rejected</td><td>SUBID10039</td><td>108526</td><td>1960-05-09</td><td>39</td><td>claims of fact</td><td>Head banging</td><td>105758</td><td>105758</td></tr><tr><td>Y</td><td>SUBID10040</td><td>116937</td><td>1998-09-26</td><td>40</td><td>claims of value</td><td>Choking</td><td>109251</td><td>109251</td></tr><tr><td>Rejected</td><td>SUBID1041</td><td>118452</td><td>1955-10-11</td><td>41</td><td>claims of fact</td><td>Fanconi anaemia</td><td>156223</td><td>156223</td></tr><tr><td>Rejected</td><td>SUBID10042</td><td>188727</td><td>1989-10-28</td><td>42</td><td>claims of fact</td><td>Stroke</td><td>108576</td><td>108576</td></tr><tr><td>N</td><td>SUBID1043</td><td>186502</td><td>1962-09-18</td><td>43</td><td>claims of value</td><td>Anaemia</td><td>132947</td><td>132947</td></tr><tr><td>Y</td><td>SUBID1044</td><td>173600</td><td>1959-10-19</td><td>44</td><td>claims of policy</td><td>Diabetes</td><td>148674</td><td>148674</td></tr><tr><td>Y</td><td>SUBID1045</td><td>160739</td><td>1952-07-29</td><td>45</td><td>claims of policy</td><td>Lymphedema</td><td>133107</td><td>133107</td></tr><tr><td>N</td><td>SUBID10046</td><td>25957</td><td>2003-11-29</td><td>46</td><td>claims of fact</td><td>Phenylketonuria</td><td>193137</td><td>193137</td></tr><tr><td>Rejected</td><td>SUBID1047</td><td>164159</td><td>1953-06-07</td><td>47</td><td>claims of value</td><td>Choking</td><td>196369</td><td>196369</td></tr><tr><td>Y</td><td>SUBID10048</td><td>125727</td><td>1947-04-11</td><td>48</td><td>claims of value</td><td>Asthma</td><td>109342</td><td>109342</td></tr><tr><td>Rejected</td><td>SUBID10049</td><td>159815</td><td>1983-06-20</td><td>49</td><td>claims of fact</td><td>Bladder cancer</td><td>121783</td><td>121783</td></tr><tr><td>Rejected</td><td>SUBID10050</td><td>156557</td><td>1972-06-19</td><td>50</td><td>claims of policy</td><td>Lung cancer</td><td>197441</td><td>197441</td></tr><tr><td>N</td><td>SUBID10051</td><td>193801</td><td>1969-02-01</td><td>51</td><td>claims of value</td><td>Colorectal cancer</td><td>194166</td><td>194166</td></tr><tr><td>N</td><td>SUBID10052</td><td>130339</td><td>1959-07-22</td><td>52</td><td>claims of policy</td><td>Food Poisoning</td><td>110690</td><td>110690</td></tr><tr><td>Y</td><td>SUBID10053</td><td>87588</td><td>2008-10-17</td><td>53</td><td>claims of fact</td><td>Anthrax</td><td>180709</td><td>180709</td></tr><tr><td>Rejected</td><td>SUBID10054</td><td>27404</td><td>1965-01-09</td><td>54</td><td>claims of policy</td><td>Mold allergy</td><td>119268</td><td>119268</td></tr><tr><td>Y</td><td>SUBID10055</td><td>44986</td><td>2007-06-22</td><td>55</td><td>claims of policy</td><td>Beriberi</td><td>163148</td><td>163148</td></tr><tr><td>Rejected</td><td>SUBID10056</td><td>124734</td><td>1974-12-21</td><td>56</td><td>claims of fact</td><td>Malaria</td><td>118913</td><td>118913</td></tr><tr><td>Y</td><td>SUBID10057</td><td>161497</td><td>1974-12-28</td><td>57</td><td>claims of policy</td><td>Asthma</td><td>167423</td><td>167423</td></tr><tr><td>Y</td><td>SUBID1058</td><td>20770</td><td>1967-08-28</td><td>58</td><td>claims of policy</td><td>Fractures</td><td>141703</td><td>141703</td></tr><tr><td>Rejected</td><td>SUBID10059</td><td>171729</td><td>1983-08-26</td><td>59</td><td>claims of policy</td><td>Malaria</td><td>173518</td><td>173518</td></tr><tr><td>Rejected</td><td>SUBID10060</td><td>139755</td><td>2004-01-20</td><td>60</td><td>claims of policy</td><td>Anthrax</td><td>140394</td><td>140394</td></tr><tr><td>Rejected</td><td>SUBID10061</td><td>74276</td><td>1991-03-16</td><td>61</td><td>claims of fact</td><td>Mold allergy</td><td>164524</td><td>164524</td></tr><tr><td>Y</td><td>SUBID1062</td><td>71703</td><td>1945-10-24</td><td>62</td><td>claims of value</td><td>Head banging</td><td>198182</td><td>198182</td></tr><tr><td>Y</td><td>SUBID1063</td><td>158255</td><td>2014-01-10</td><td>63</td><td>claims of policy</td><td>Drug consumption</td><td>115143</td><td>115143</td></tr><tr><td>N</td><td>SUBID10064</td><td>154594</td><td>2015-07-08</td><td>64</td><td>claims of policy</td><td>Cholera</td><td>156364</td><td>156364</td></tr><tr><td>Y</td><td>SUBID1065</td><td>81980</td><td>1969-05-31</td><td>65</td><td>claims of policy</td><td>Glaucoma</td><td>191132</td><td>191132</td></tr><tr><td>N</td><td>SUBID10066</td><td>13667</td><td>1957-09-12</td><td>66</td><td>claims of fact</td><td>Hepatitis</td><td>105686</td><td>105686</td></tr><tr><td>N</td><td>SUBID1067</td><td>109433</td><td>1944-12-25</td><td>67</td><td>claims of value</td><td>Rett Syndrome</td><td>160140</td><td>160140</td></tr><tr><td>Rejected</td><td>SUBID10068</td><td>152901</td><td>1948-02-13</td><td>68</td><td>claims of policy</td><td>Diabetes</td><td>114252</td><td>114252</td></tr><tr><td>Rejected</td><td>SUBID10069</td><td>99313</td><td>1994-08-25</td><td>69</td><td>claims of fact</td><td>Pet allergy</td><td>188365</td><td>188365</td></tr></tbody></table></div>"
      ]
     },
     "metadata": {
      "application/vnd.databricks.v1+output": {
       "addedWidgets": {},
       "aggData": [],
       "aggError": "",
       "aggOverflow": false,
       "aggSchema": [],
       "aggSeriesLimitReached": false,
       "aggType": "",
       "arguments": {},
       "columnCustomDisplayInfos": {},
       "data": [
        [
         "N",
         "SUBID1000",
         79874,
         "1949-03-14",
         0,
         "claims of value",
         "Galactosemia",
         187158,
         187158
        ],
        [
         "Rejected",
         "SUBID10001",
         151142,
         "1970-03-16",
         1,
         "claims of policy",
         "Bladder cancer",
         112766,
         112766
        ],
        [
         "Rejected",
         "SUBID10002",
         59924,
         "2008-02-03",
         2,
         "claims of value",
         "Kidney cancer",
         199252,
         199252
        ],
        [
         "Rejected",
         "SUBID10003",
         143120,
         "1995-02-08",
         3,
         "claims of fact",
         "Suicide",
         133424,
         133424
        ],
        [
         "Y",
         "SUBID10004",
         168634,
         "1967-05-23",
         4,
         "claims of value",
         "Food allergy",
         172579,
         172579
        ],
        [
         "Rejected",
         "SUBID10005",
         64840,
         "1991-10-04",
         5,
         "claims of policy",
         "Whiplash",
         171320,
         171320
        ],
        [
         "N",
         "SUBID1006",
         26800,
         "1991-03-26",
         6,
         "claims of fact",
         "Sunbathing",
         107794,
         107794
        ],
        [
         "Rejected",
         "SUBID10007",
         177186,
         "1946-09-05",
         7,
         "claims of value",
         "Drug consumption",
         130339,
         130339
        ],
        [
         "N",
         "SUBID10008",
         141123,
         "1966-06-20",
         8,
         "claims of fact",
         "Dengue",
         110377,
         110377
        ],
        [
         "N",
         "SUBID10009",
         88540,
         "1945-12-29",
         9,
         "claims of value",
         "Head banging",
         149367,
         149367
        ],
        [
         "N",
         "SUBID1010",
         29150,
         "1999-01-25",
         10,
         "claims of value",
         "Fanconi anaemia",
         156168,
         156168
        ],
        [
         "Y",
         "SUBID10011",
         40897,
         "1975-02-08",
         11,
         "claims of value",
         "Breast cancer",
         114241,
         114241
        ],
        [
         "Rejected",
         "SUBID10012",
         75983,
         "1985-02-12",
         12,
         "claims of value",
         "Anthrax",
         146382,
         146382
        ],
        [
         "Rejected",
         "SUBID10013",
         192340,
         "2014-07-30",
         13,
         "claims of fact",
         "Cystic fibrosis",
         132748,
         132748
        ],
        [
         "N",
         "SUBID10014",
         118628,
         "2003-12-18",
         14,
         "claims of value",
         "Galactosemia",
         167340,
         167340
        ],
        [
         "Y",
         "SUBID10015",
         100224,
         "1986-08-02",
         15,
         "claims of value",
         "Dengue",
         135184,
         135184
        ],
        [
         "N",
         "SUBID10016",
         42860,
         "1955-01-20",
         16,
         "claims of value",
         "Smallpox",
         179662,
         179662
        ],
        [
         "N",
         "SUBID10017",
         161786,
         "2017-06-01",
         17,
         "claims of policy",
         "Pollen allergy",
         184479,
         184479
        ],
        [
         "Rejected",
         "SUBID10018",
         66129,
         "1956-01-04",
         18,
         "claims of fact",
         "Breast cancer",
         156988,
         156988
        ],
        [
         "Rejected",
         "SUBID10019",
         182552,
         "1948-07-26",
         19,
         "claims of value",
         "Glaucoma",
         132870,
         132870
        ],
        [
         "Y",
         "SUBID1020",
         105982,
         "1984-04-10",
         20,
         "claims of value",
         "Pet allergy",
         148137,
         148137
        ],
        [
         "Rejected",
         "SUBID1021",
         55761,
         "1953-06-24",
         21,
         "claims of fact",
         "Rett Syndrome",
         113280,
         113280
        ],
        [
         "Y",
         "SUBID10022",
         34771,
         "1948-05-23",
         22,
         "claims of value",
         "Flu",
         134184,
         134184
        ],
        [
         "N",
         "SUBID10023",
         83642,
         "1945-03-15",
         23,
         "claims of value",
         "Cholera",
         122592,
         122592
        ],
        [
         "Rejected",
         "SUBID10024",
         49129,
         "2013-08-04",
         24,
         "claims of policy",
         "Scurvy",
         154439,
         154439
        ],
        [
         "N",
         "SUBID10025",
         36524,
         "1976-08-24",
         25,
         "claims of fact",
         "Glaucoma",
         117945,
         117945
        ],
        [
         "Rejected",
         "SUBID10026",
         192381,
         "1966-08-30",
         26,
         "claims of value",
         "Measles",
         189996,
         189996
        ],
        [
         "N",
         "SUBID10027",
         188520,
         "2008-08-26",
         27,
         "claims of fact",
         "Scurvy",
         146540,
         146540
        ],
        [
         "N",
         "SUBID10028",
         122806,
         "1958-08-05",
         28,
         "claims of policy",
         "Flu",
         156434,
         156434
        ],
        [
         "Rejected",
         "SUBID10029",
         81651,
         "2008-02-01",
         29,
         "claims of fact",
         "Pet allergy",
         197352,
         197352
        ],
        [
         "Rejected",
         "SUBID1030",
         19899,
         "1976-09-08",
         30,
         "claims of fact",
         "Lymphedema",
         138778,
         138778
        ],
        [
         "N",
         "SUBID10031",
         42968,
         "1976-01-25",
         31,
         "claims of fact",
         "Alcohol consumption",
         162665,
         162665
        ],
        [
         "N",
         "SUBID1032",
         191267,
         "1988-12-18",
         32,
         "claims of policy",
         "Stroke",
         197503,
         197503
        ],
        [
         "Rejected",
         "SUBID10033",
         161199,
         "2019-11-17",
         33,
         "claims of value",
         "Galactosemia",
         113476,
         113476
        ],
        [
         "N",
         "SUBID1034",
         26221,
         "2008-08-10",
         34,
         "claims of fact",
         "Vertigo",
         195876,
         195876
        ],
        [
         "Y",
         "SUBID10035",
         28542,
         "1973-03-25",
         35,
         "claims of value",
         "Measles",
         150189,
         150189
        ],
        [
         "Rejected",
         "SUBID1036",
         62985,
         "1948-09-27",
         36,
         "claims of policy",
         "Heart Attack",
         138861,
         138861
        ],
        [
         "Rejected",
         "SUBID1037",
         19596,
         "1972-10-11",
         37,
         "claims of policy",
         "Phenylketonuria",
         146555,
         146555
        ],
        [
         "Y",
         "SUBID1038",
         25171,
         "1979-03-11",
         38,
         "claims of fact",
         "Phenylketonuria",
         199114,
         199114
        ],
        [
         "Rejected",
         "SUBID10039",
         108526,
         "1960-05-09",
         39,
         "claims of fact",
         "Head banging",
         105758,
         105758
        ],
        [
         "Y",
         "SUBID10040",
         116937,
         "1998-09-26",
         40,
         "claims of value",
         "Choking",
         109251,
         109251
        ],
        [
         "Rejected",
         "SUBID1041",
         118452,
         "1955-10-11",
         41,
         "claims of fact",
         "Fanconi anaemia",
         156223,
         156223
        ],
        [
         "Rejected",
         "SUBID10042",
         188727,
         "1989-10-28",
         42,
         "claims of fact",
         "Stroke",
         108576,
         108576
        ],
        [
         "N",
         "SUBID1043",
         186502,
         "1962-09-18",
         43,
         "claims of value",
         "Anaemia",
         132947,
         132947
        ],
        [
         "Y",
         "SUBID1044",
         173600,
         "1959-10-19",
         44,
         "claims of policy",
         "Diabetes",
         148674,
         148674
        ],
        [
         "Y",
         "SUBID1045",
         160739,
         "1952-07-29",
         45,
         "claims of policy",
         "Lymphedema",
         133107,
         133107
        ],
        [
         "N",
         "SUBID10046",
         25957,
         "2003-11-29",
         46,
         "claims of fact",
         "Phenylketonuria",
         193137,
         193137
        ],
        [
         "Rejected",
         "SUBID1047",
         164159,
         "1953-06-07",
         47,
         "claims of value",
         "Choking",
         196369,
         196369
        ],
        [
         "Y",
         "SUBID10048",
         125727,
         "1947-04-11",
         48,
         "claims of value",
         "Asthma",
         109342,
         109342
        ],
        [
         "Rejected",
         "SUBID10049",
         159815,
         "1983-06-20",
         49,
         "claims of fact",
         "Bladder cancer",
         121783,
         121783
        ],
        [
         "Rejected",
         "SUBID10050",
         156557,
         "1972-06-19",
         50,
         "claims of policy",
         "Lung cancer",
         197441,
         197441
        ],
        [
         "N",
         "SUBID10051",
         193801,
         "1969-02-01",
         51,
         "claims of value",
         "Colorectal cancer",
         194166,
         194166
        ],
        [
         "N",
         "SUBID10052",
         130339,
         "1959-07-22",
         52,
         "claims of policy",
         "Food Poisoning",
         110690,
         110690
        ],
        [
         "Y",
         "SUBID10053",
         87588,
         "2008-10-17",
         53,
         "claims of fact",
         "Anthrax",
         180709,
         180709
        ],
        [
         "Rejected",
         "SUBID10054",
         27404,
         "1965-01-09",
         54,
         "claims of policy",
         "Mold allergy",
         119268,
         119268
        ],
        [
         "Y",
         "SUBID10055",
         44986,
         "2007-06-22",
         55,
         "claims of policy",
         "Beriberi",
         163148,
         163148
        ],
        [
         "Rejected",
         "SUBID10056",
         124734,
         "1974-12-21",
         56,
         "claims of fact",
         "Malaria",
         118913,
         118913
        ],
        [
         "Y",
         "SUBID10057",
         161497,
         "1974-12-28",
         57,
         "claims of policy",
         "Asthma",
         167423,
         167423
        ],
        [
         "Y",
         "SUBID1058",
         20770,
         "1967-08-28",
         58,
         "claims of policy",
         "Fractures",
         141703,
         141703
        ],
        [
         "Rejected",
         "SUBID10059",
         171729,
         "1983-08-26",
         59,
         "claims of policy",
         "Malaria",
         173518,
         173518
        ],
        [
         "Rejected",
         "SUBID10060",
         139755,
         "2004-01-20",
         60,
         "claims of policy",
         "Anthrax",
         140394,
         140394
        ],
        [
         "Rejected",
         "SUBID10061",
         74276,
         "1991-03-16",
         61,
         "claims of fact",
         "Mold allergy",
         164524,
         164524
        ],
        [
         "Y",
         "SUBID1062",
         71703,
         "1945-10-24",
         62,
         "claims of value",
         "Head banging",
         198182,
         198182
        ],
        [
         "Y",
         "SUBID1063",
         158255,
         "2014-01-10",
         63,
         "claims of policy",
         "Drug consumption",
         115143,
         115143
        ],
        [
         "N",
         "SUBID10064",
         154594,
         "2015-07-08",
         64,
         "claims of policy",
         "Cholera",
         156364,
         156364
        ],
        [
         "Y",
         "SUBID1065",
         81980,
         "1969-05-31",
         65,
         "claims of policy",
         "Glaucoma",
         191132,
         191132
        ],
        [
         "N",
         "SUBID10066",
         13667,
         "1957-09-12",
         66,
         "claims of fact",
         "Hepatitis",
         105686,
         105686
        ],
        [
         "N",
         "SUBID1067",
         109433,
         "1944-12-25",
         67,
         "claims of value",
         "Rett Syndrome",
         160140,
         160140
        ],
        [
         "Rejected",
         "SUBID10068",
         152901,
         "1948-02-13",
         68,
         "claims of policy",
         "Diabetes",
         114252,
         114252
        ],
        [
         "Rejected",
         "SUBID10069",
         99313,
         "1994-08-25",
         69,
         "claims of fact",
         "Pet allergy",
         188365,
         188365
        ]
       ],
       "datasetInfos": [],
       "dbfsResultPath": null,
       "isJsonSchema": true,
       "metadata": {},
       "overflow": false,
       "plotOptions": {
        "customPlotOptions": {},
        "displayType": "table",
        "pivotAggregation": null,
        "pivotColumns": null,
        "xColumns": null,
        "yColumns": null
       },
       "removedWidgets": [],
       "schema": [
        {
         "metadata": "{}",
         "name": "Claim_Or_Rejected",
         "type": "\"string\""
        },
        {
         "metadata": "{}",
         "name": "SUB_ID",
         "type": "\"string\""
        },
        {
         "metadata": "{}",
         "name": "claim_amount",
         "type": "\"integer\""
        },
        {
         "metadata": "{}",
         "name": "claim_date",
         "type": "\"date\""
        },
        {
         "metadata": "{}",
         "name": "claim_id",
         "type": "\"long\""
        },
        {
         "metadata": "{}",
         "name": "claim_type",
         "type": "\"string\""
        },
        {
         "metadata": "{}",
         "name": "disease_name",
         "type": "\"string\""
        },
        {
         "metadata": "{}",
         "name": "patient_id",
         "type": "\"long\""
        },
        {
         "metadata": "{}",
         "name": "patinet_id",
         "type": "\"integer\""
        }
       ],
       "type": "table"
      }
     },
     "output_type": "display_data"
    }
   ],
   "source": [
    "display(cl_df)"
   ]
  },
  {
   "cell_type": "code",
   "execution_count": 0,
   "metadata": {
    "application/vnd.databricks.v1+cell": {
     "cellMetadata": {
      "byteLimit": 2048000,
      "rowLimit": 10000
     },
     "inputWidgets": {},
     "nuid": "911e3918-61ab-49d7-a978-858ff2b2eda5",
     "showTitle": false,
     "tableResultSettingsMap": {},
     "title": ""
    }
   },
   "outputs": [],
   "source": [
    "adlsconnector\n",
    "susci_df = readbronzedata(\"subscriber.csv\")"
   ]
  },
  {
   "cell_type": "code",
   "execution_count": 0,
   "metadata": {
    "application/vnd.databricks.v1+cell": {
     "cellMetadata": {
      "byteLimit": 2048000,
      "rowLimit": 10000
     },
     "inputWidgets": {},
     "nuid": "63c5357c-2c8c-49f7-87fa-9b7f8e5028ca",
     "showTitle": false,
     "tableResultSettingsMap": {},
     "title": ""
    }
   },
   "outputs": [
    {
     "output_type": "display_data",
     "data": {
      "text/html": [
       "<style scoped>\n",
       "  .table-result-container {\n",
       "    max-height: 300px;\n",
       "    overflow: auto;\n",
       "  }\n",
       "  table, th, td {\n",
       "    border: 1px solid black;\n",
       "    border-collapse: collapse;\n",
       "  }\n",
       "  th, td {\n",
       "    padding: 5px;\n",
       "  }\n",
       "  th {\n",
       "    text-align: left;\n",
       "  }\n",
       "</style><div class='table-result-container'><table class='table-result'><thead style='background-color: white'><tr><th>sub_id</th><th>first_name</th><th>last_name</th><th>Street</th><th>Birth_date</th><th>Gender</th><th>Phone</th><th>Country</th><th>City</th><th>Zip Code</th><th>Subgrp_id</th><th>Elig_ind</th><th>eff_date</th><th>term_date</th></tr></thead><tbody><tr><td>SUBID10000</td><td>Harbir</td><td>Vishwakarma</td><td>Baria Marg</td><td>1924-06-30</td><td>Female</td><td>+91 0112009318</td><td>India</td><td>Rourkela</td><td>767058</td><td>S107</td><td>Y</td><td>1944-06-30</td><td>1954-01-14</td></tr><tr><td>SUBID10001</td><td>Brahmdev</td><td>Sonkar</td><td>Lala Marg</td><td>1948-12-20</td><td>Female</td><td>+91 1727749552</td><td>India</td><td>Tiruvottiyur</td><td>34639</td><td>S105</td><td>Y</td><td>1968-12-20</td><td>1970-05-16</td></tr><tr><td>SUBID10002</td><td>Ujjawal</td><td>Devi</td><td>Mammen Zila</td><td>1980-04-16</td><td>Male</td><td>+91 8547451606</td><td>India</td><td>Berhampur</td><td>914455</td><td>S106</td><td>N</td><td>2000-04-16</td><td>2008-05-04</td></tr><tr><td>SUBID10003</td><td>Ballari</td><td>Mishra</td><td>Sahni Zila</td><td>1969-09-25</td><td>Female</td><td>+91 0106026841</td><td>India</td><td>Bihar Sharif</td><td>91481</td><td>S104</td><td>N</td><td>1989-09-25</td><td>1995-06-05</td></tr><tr><td>SUBID10004</td><td>Devnath</td><td>Srivastav</td><td>Magar Zila</td><td>1946-05-01</td><td>Female</td><td>+91 1868774631</td><td>India</td><td>Bidhannagar</td><td>531742</td><td>S110</td><td>N</td><td>1966-05-01</td><td>1970-12-09</td></tr><tr><td>SUBID10005</td><td>Atasi</td><td>Seth</td><td>Khatri Nagar</td><td>1967-10-02</td><td>Male</td><td>+91 9747336855</td><td>India</td><td>Amravati</td><td>229062</td><td>S104</td><td>Y</td><td>1987-10-02</td><td>1995-02-13</td></tr><tr><td>SUBID1006</td><td>Manish</td><td>Maurya</td><td>Swaminathan Chowk</td><td>1967-06-06</td><td>Male</td><td>+91 4354294043</td><td>India</td><td>Panvel</td><td>438733</td><td>S109</td><td>null</td><td>1987-06-06</td><td>1995-03-21</td></tr><tr><td>SUBID10007</td><td>Aakar</td><td>Yadav</td><td>Swamy</td><td>1925-03-05</td><td>Female</td><td>+91 2777633911</td><td>India</td><td>Bihar Sharif</td><td>535907</td><td>S104</td><td>N</td><td>1945-03-05</td><td>1946-11-07</td></tr><tr><td>SUBID10008</td><td>Gurudas</td><td>Gupta</td><td>Sarin Nagar</td><td>1945-05-06</td><td>Male</td><td>+91 1232859381</td><td>India</td><td>Kamarhati</td><td>933226</td><td>S103</td><td>Y</td><td>1965-05-06</td><td>1970-09-16</td></tr><tr><td>SUBID10009</td><td>null</td><td>Gupta</td><td>Thakur Circle</td><td>1925-06-12</td><td>Male</td><td>+91 1780763280</td><td>India</td><td>Bangalore</td><td>957469</td><td>S105</td><td>Y</td><td>1945-06-12</td><td>1953-08-30</td></tr><tr><td>SUBID1010</td><td>null</td><td>Divedi</td><td>Dhillon</td><td>1976-02-03</td><td>Male</td><td>+91 5586075345</td><td>India</td><td>Rajkot</td><td>911319</td><td>S102</td><td>Y</td><td>1996-02-03</td><td>2002-01-27</td></tr><tr><td>SUBID10011</td><td>null</td><td>Vishwakarma</td><td>Rajagopalan</td><td>1955-01-22</td><td>Female</td><td>+91 4146391938</td><td>India</td><td>Ghaziabad</td><td>337042</td><td>S106</td><td>N</td><td>1975-01-22</td><td>1978-11-02</td></tr><tr><td>SUBID10012</td><td>Dharmadaas</td><td>Tiwari</td><td>Rama</td><td>1964-04-29</td><td>Male</td><td>+91 6345482027</td><td>India</td><td>Bhalswa Jahangir Pur</td><td>430793</td><td>S103</td><td>N</td><td>1984-04-29</td><td>1988-02-07</td></tr><tr><td>SUBID10013</td><td>Brahmvir</td><td>Rai</td><td>Shah Path</td><td>1991-11-11</td><td>Male</td><td>+91 7316972612</td><td>India</td><td>Ambala</td><td>249898</td><td>S106</td><td>N</td><td>2011-11-11</td><td>2020-05-23</td></tr><tr><td>SUBID10014</td><td>null</td><td>Srivastav</td><td>Chandra Path</td><td>1981-01-25</td><td>Female</td><td>+91 2960004518</td><td>India</td><td>Surendranagar Dudhrej</td><td>111966</td><td>S102</td><td>N</td><td>2001-01-25</td><td>2005-07-13</td></tr><tr><td>SUBID10015</td><td>Bhagvan</td><td>Srivastav</td><td>Edwin</td><td>1966-07-24</td><td>Female</td><td>+91 0297693485</td><td>India</td><td>Bhimavaram</td><td>436513</td><td>S105</td><td>Y</td><td>1986-07-24</td><td>1988-02-04</td></tr><tr><td>SUBID10016</td><td>Amritkala</td><td>Srivastav</td><td>Guha Path</td><td>1933-11-20</td><td>Female</td><td>+91 0537157280</td><td>India</td><td>Meerut</td><td>863467</td><td>S106</td><td>Y</td><td>1953-11-20</td><td>1955-07-29</td></tr><tr><td>SUBID10017</td><td>Bandhu</td><td>Seth</td><td>Varughese</td><td>1996-10-15</td><td>Male</td><td>+91 0695289163</td><td>India</td><td>Chinsurah</td><td>136713</td><td>S108</td><td>N</td><td>2016-10-15</td><td>2018-06-08</td></tr><tr><td>SUBID10018</td><td>Bhagavaana</td><td>Kumar</td><td>Kulkarni Zila</td><td>1935-09-16</td><td>Female</td><td>+91 6071745855</td><td>India</td><td>Shahjahanpur</td><td>597276</td><td>S101</td><td>N</td><td>1955-09-16</td><td>1958-05-31</td></tr><tr><td>SUBID10019</td><td>null</td><td>Maurya</td><td>Sharaf Nagar</td><td>1924-11-09</td><td>Female</td><td>+91 8906694405</td><td>India</td><td>Jabalpur</td><td>958538</td><td>S104</td><td>N</td><td>1944-11-09</td><td>1951-10-14</td></tr><tr><td>SUBID1020</td><td>Umang</td><td>Srivastav</td><td>Balay Chowk</td><td>1963-07-14</td><td>Female</td><td>+91 9485838770</td><td>India</td><td>Haridwar</td><td>181692</td><td>S109</td><td>Y</td><td>1983-07-14</td><td>1986-01-15</td></tr><tr><td>SUBID1021</td><td>Darsana</td><td>Yadav</td><td>Upadhyay Zila</td><td>1932-05-29</td><td>Male</td><td>+91 7676311811</td><td>India</td><td>Dibrugarh</td><td>187414</td><td>S109</td><td>Y</td><td>1952-05-29</td><td>1953-10-14</td></tr><tr><td>SUBID10022</td><td>Prakash</td><td>Rao</td><td>Sachar</td><td>1923-09-15</td><td>Female</td><td>+91 9268324471</td><td>India</td><td>Kottayam</td><td>180680</td><td>null</td><td>N</td><td>1943-09-15</td><td>1948-10-19</td></tr><tr><td>SUBID10023</td><td>Vaijayanti</td><td>Pratap</td><td>Khalsa Nagar</td><td>1920-11-13</td><td>Male</td><td>+91 9358851649</td><td>India</td><td>Mira-Bhayandar</td><td>419190</td><td>S102</td><td>Y</td><td>1940-11-13</td><td>1946-03-10</td></tr><tr><td>SUBID10024</td><td>Menakshi</td><td>Seth</td><td>Wable Street</td><td>1987-03-06</td><td>Male</td><td>+91 0531676556</td><td>India</td><td>Kamarhati</td><td>882577</td><td>S107</td><td>N</td><td>2007-03-06</td><td>2014-02-25</td></tr><tr><td>SUBID10025</td><td>null</td><td>Tiwari</td><td>Sha Chowk</td><td>1955-12-24</td><td>Male</td><td>+91 2416747182</td><td>India</td><td>Karimnagar</td><td>567762</td><td>S106</td><td>N</td><td>1975-12-24</td><td>1983-02-03</td></tr><tr><td>SUBID10026</td><td>Ekant</td><td>Sonkar</td><td>Walla Road</td><td>1943-08-13</td><td>Male</td><td>+91 7686951174</td><td>India</td><td>Berhampore</td><td>948589</td><td>S110</td><td>Y</td><td>1963-08-13</td><td>1967-05-29</td></tr><tr><td>SUBID10027</td><td>Chancharik</td><td>Pandey</td><td>Karan Ganj</td><td>1983-09-05</td><td>Male</td><td>+91 5309364825</td><td>India</td><td>Chapra</td><td>154667</td><td>S109</td><td>N</td><td>2003-09-05</td><td>2011-06-12</td></tr><tr><td>SUBID10028</td><td>Pushti</td><td>Pandit</td><td>Deol Path</td><td>1935-10-15</td><td>Female</td><td>+91 7093722203</td><td>India</td><td>Morbi</td><td>284168</td><td>S106</td><td>N</td><td>1955-10-15</td><td>1959-06-04</td></tr><tr><td>SUBID10029</td><td>Swati</td><td>Seth</td><td>Kant Marg</td><td>1987-12-11</td><td>Female</td><td>+91 1028477510</td><td>India</td><td>Amravati</td><td>932221</td><td>S102</td><td>N</td><td>2007-12-11</td><td>2011-10-17</td></tr><tr><td>SUBID1030</td><td>Upasana</td><td>Pandey</td><td>Seth Chowk</td><td>1956-06-01</td><td>Male</td><td>+91 0548234943</td><td>India</td><td>Hyderabad</td><td>234823</td><td>S102</td><td>N</td><td>1976-06-01</td><td>1981-02-14</td></tr><tr><td>SUBID10031</td><td>Kanhaiya</td><td>Lal</td><td>Savant Nagar</td><td>1954-10-19</td><td>Female</td><td>+91 0788738026</td><td>India</td><td>Mysore</td><td>638433</td><td>S104</td><td>Y</td><td>1974-10-19</td><td>1977-01-03</td></tr><tr><td>SUBID1032</td><td>null</td><td>Seth</td><td>Sandhu Chowk</td><td>1968-07-02</td><td>Female</td><td>+91 2599794460</td><td>India</td><td>Gwalior</td><td>611826</td><td>S110</td><td>N</td><td>1988-07-02</td><td>1991-03-14</td></tr><tr><td>SUBID10033</td><td>Gensho</td><td>Srivastav</td><td>Korpal Ganj</td><td>1992-06-06</td><td>Male</td><td>+91 4834040556</td><td>India</td><td>Ludhiana</td><td>835018</td><td>S101</td><td>N</td><td>2012-06-06</td><td>2022-01-09</td></tr><tr><td>SUBID1034</td><td>Gopal</td><td>Das</td><td>Saini</td><td>1986-05-14</td><td>Male</td><td>+91 1181471524</td><td>India</td><td>Raebareli</td><td>176221</td><td>S101</td><td>N</td><td>2006-05-14</td><td>2011-04-08</td></tr><tr><td>SUBID10035</td><td>Dheeman</td><td>Tiwari</td><td>Dube Marg</td><td>1945-05-04</td><td>Male</td><td>+91 8239321466</td><td>India</td><td>Mysore</td><td>811970</td><td>S101</td><td>Y</td><td>1965-05-04</td><td>1973-11-13</td></tr><tr><td>SUBID1036</td><td>Upasana</td><td>Thakur</td><td>Vasa Ganj</td><td>1927-10-03</td><td>Female</td><td>null</td><td>India</td><td>Ratlam</td><td>326733</td><td>S108</td><td>N</td><td>1947-10-03</td><td>1951-02-20</td></tr><tr><td>SUBID1037</td><td>null</td><td>Rajput</td><td>Shere Chowk</td><td>1948-11-10</td><td>Male</td><td>+91 8390195092</td><td>India</td><td>Vadodara</td><td>877443</td><td>S101</td><td>Y</td><td>1968-11-10</td><td>1973-12-25</td></tr><tr><td>SUBID1038</td><td>null</td><td>Thakur</td><td>Rastogi Street</td><td>1955-04-07</td><td>Female</td><td>+91 7434031446</td><td>India</td><td>Vijayawada</td><td>438940</td><td>S104</td><td>null</td><td>1975-04-07</td><td>1982-01-25</td></tr><tr><td>SUBID10039</td><td>Madhubala</td><td>Yadav</td><td>Sangha Marg</td><td>1937-01-11</td><td>Male</td><td>+91 8498685882</td><td>India</td><td>Jaunpur</td><td>624102</td><td>S104</td><td>Y</td><td>1957-01-11</td><td>1965-10-09</td></tr><tr><td>SUBID10040</td><td>Anjushree</td><td>Pandey</td><td>Vora Ganj</td><td>1976-07-04</td><td>Male</td><td>+91 5322869455</td><td>India</td><td>Ghaziabad</td><td>782221</td><td>S105</td><td>N</td><td>1996-07-04</td><td>1999-02-17</td></tr><tr><td>SUBID1041</td><td>null</td><td>Rajput</td><td>Sinha Path</td><td>1930-11-25</td><td>Female</td><td>null</td><td>India</td><td>Agartala</td><td>303503</td><td>S110</td><td>Y</td><td>1950-11-25</td><td>1957-09-14</td></tr><tr><td>SUBID10042</td><td>Chakrika</td><td>Sonkar</td><td>Bansal Circle</td><td>1964-08-05</td><td>Male</td><td>+91 8185162879</td><td>India</td><td>Ranchi</td><td>503290</td><td>S108</td><td>Y</td><td>1984-08-05</td><td>1992-09-09</td></tr><tr><td>SUBID1043</td><td>Saroj</td><td>Pandit</td><td>Sathe Zila</td><td>1942-08-26</td><td>Female</td><td>+91 5690408243</td><td>India</td><td>Muzaffarpur</td><td>130486</td><td>S103</td><td>Y</td><td>1962-08-26</td><td>1964-08-29</td></tr><tr><td>SUBID1044</td><td>Ayushmati</td><td>Vishwakarma</td><td>Balakrishnan Street</td><td>1932-09-20</td><td>Male</td><td>+91 3683223970</td><td>India</td><td>Satna</td><td>131247</td><td>S108</td><td>N</td><td>1952-09-20</td><td>1961-01-24</td></tr><tr><td>SUBID1045</td><td>Drashti</td><td>Divedi</td><td>Wadhwa</td><td>1926-07-03</td><td>Male</td><td>+91 9447269993</td><td>India</td><td>Saharsa</td><td>581568</td><td>S104</td><td>Y</td><td>1946-07-03</td><td>1952-11-27</td></tr><tr><td>SUBID10046</td><td>Aayushmaan</td><td>Maurya</td><td>Johal Nagar</td><td>1983-11-14</td><td>Female</td><td>+91 4464709769</td><td>India</td><td>Mehsana</td><td>987281</td><td>S104</td><td>Y</td><td>2003-11-14</td><td>2012-10-22</td></tr><tr><td>SUBID1047</td><td>null</td><td>Rai</td><td>Sagar Chowk</td><td>1931-02-04</td><td>Male</td><td>+91 2973105946</td><td>India</td><td>Shivpuri</td><td>794170</td><td>S109</td><td>Y</td><td>1951-02-04</td><td>1955-07-14</td></tr><tr><td>SUBID10048</td><td>Chitranjan</td><td>Mishra</td><td>Madan Nagar</td><td>1925-09-09</td><td>Female</td><td>+91 5176024720</td><td>India</td><td>Morbi</td><td>945697</td><td>S108</td><td>N</td><td>1945-09-09</td><td>1952-06-21</td></tr><tr><td>SUBID10049</td><td>Paridhi</td><td>Yadav</td><td>Sant Path</td><td>1959-03-27</td><td>Female</td><td>+91 2139280879</td><td>India</td><td>Jabalpur</td><td>883754</td><td>null</td><td>N</td><td>1979-03-27</td><td>1985-06-01</td></tr><tr><td>SUBID10050</td><td>Deependu</td><td>Gupta</td><td>Banik Ganj</td><td>1952-02-13</td><td>Female</td><td>+91 5674176644</td><td>India</td><td>Bareilly</td><td>417855</td><td>S102</td><td>Y</td><td>1972-02-13</td><td>1976-08-23</td></tr><tr><td>SUBID10051</td><td>null</td><td>Rajput</td><td>Chauhan Chowk</td><td>1946-10-17</td><td>Male</td><td>+91 9887324437</td><td>India</td><td>Baranagar</td><td>765234</td><td>S103</td><td>Y</td><td>1966-10-17</td><td>1969-06-26</td></tr><tr><td>SUBID10052</td><td>Laksman</td><td>Rao</td><td>Sood Marg</td><td>1939-05-26</td><td>Female</td><td>+91 4504120828</td><td>India</td><td>Ahmednagar</td><td>117923</td><td>S101</td><td>Y</td><td>1959-05-26</td><td>1960-11-07</td></tr><tr><td>SUBID10053</td><td>null</td><td>Sonkar</td><td>Shetty Marg</td><td>1988-06-27</td><td>Male</td><td>+91 6877897646</td><td>India</td><td>Pali</td><td>383290</td><td>S102</td><td>Y</td><td>2008-06-27</td><td>2016-10-30</td></tr><tr><td>SUBID10054</td><td>Shivakari</td><td>Pratap</td><td>Dugar Road</td><td>1944-11-02</td><td>Female</td><td>+91 3740484063</td><td>India</td><td>Hapur</td><td>28202</td><td>S104</td><td>N</td><td>1964-11-02</td><td>1967-06-15</td></tr><tr><td>SUBID10055</td><td>Madhu</td><td>Thakur</td><td>Sule Marg</td><td>1984-10-23</td><td>Male</td><td>+91 8367885507</td><td>India</td><td>Udaipur</td><td>565423</td><td>S107</td><td>N</td><td>2004-10-23</td><td>2008-07-10</td></tr><tr><td>SUBID10056</td><td>Chanak</td><td>Gupta</td><td>Shetty Nagar</td><td>1954-08-27</td><td>Male</td><td>+91 5093121123</td><td>India</td><td>Jalandhar</td><td>602989</td><td>S105</td><td>N</td><td>1974-08-27</td><td>1982-06-15</td></tr><tr><td>SUBID10057</td><td>Chittesh</td><td>Pandey</td><td>Mangal Chowk</td><td>1949-10-17</td><td>Male</td><td>+91 1378163498</td><td>India</td><td>Thoothukudi</td><td>666415</td><td>S109</td><td>Y</td><td>1969-10-17</td><td>1975-10-08</td></tr><tr><td>SUBID1058</td><td>Nawal</td><td>Rajput</td><td>Deol Nagar</td><td>1940-01-22</td><td>Male</td><td>+91 1885105576</td><td>India</td><td>Bhopal</td><td>791168</td><td>S106</td><td>N</td><td>1960-01-22</td><td>1969-04-18</td></tr><tr><td>SUBID10059</td><td>Gajabahu</td><td>Singh</td><td>Kara</td><td>1959-03-15</td><td>Male</td><td>+91 1207869436</td><td>India</td><td>Udupi</td><td>637221</td><td>S101</td><td>Y</td><td>1979-03-15</td><td>1986-07-05</td></tr><tr><td>SUBID10060</td><td>Jitesh</td><td>Vishwakarma</td><td>Gopal Path</td><td>1983-02-03</td><td>Male</td><td>+91 6515468035</td><td>India</td><td>Karimnagar</td><td>124564</td><td>S110</td><td>Y</td><td>2003-02-03</td><td>2008-04-30</td></tr><tr><td>SUBID10061</td><td>null</td><td>Rajput</td><td>Anand Path</td><td>1966-09-25</td><td>Female</td><td>+91 6477918745</td><td>India</td><td>Kharagpur</td><td>934938</td><td>S103</td><td>null</td><td>1986-09-25</td><td>1991-06-03</td></tr><tr><td>SUBID1062</td><td>Lalit</td><td>Mishra</td><td>Comar Street</td><td>1924-02-15</td><td>Female</td><td>+91 4647833992</td><td>India</td><td>Tinsukia</td><td>963770</td><td>S103</td><td>N</td><td>1944-02-15</td><td>1947-09-28</td></tr><tr><td>SUBID1063</td><td>Anshuk</td><td>Srivastav</td><td>Sridhar Path</td><td>1991-06-17</td><td>Male</td><td>+91 9764690642</td><td>India</td><td>Uluberia</td><td>270985</td><td>S105</td><td>N</td><td>2011-06-17</td><td>2014-07-11</td></tr><tr><td>SUBID10064</td><td>null</td><td>Pandey</td><td>Mangat Path</td><td>1994-01-13</td><td>Male</td><td>+91 8444537013</td><td>India</td><td>Panihati</td><td>643791</td><td>S110</td><td>N</td><td>2014-01-13</td><td>2019-02-24</td></tr><tr><td>SUBID1065</td><td>Dipesh</td><td>Mishra</td><td>Char Path</td><td>1949-04-01</td><td>Female</td><td>+91 5851958964</td><td>India</td><td>Kochi</td><td>31269</td><td>S103</td><td>Y</td><td>1969-04-01</td><td>1970-06-02</td></tr><tr><td>SUBID10066</td><td>null</td><td>Seth</td><td>Chaudhuri Marg</td><td>1930-09-01</td><td>Male</td><td>+91 7061843400</td><td>India</td><td>Kolhapur</td><td>597470</td><td>S102</td><td>N</td><td>1950-09-01</td><td>1957-12-01</td></tr><tr><td>SUBID1067</td><td>Kishan</td><td>Rao</td><td>Badal Nagar</td><td>1923-05-12</td><td>Male</td><td>+91 9067652693</td><td>India</td><td>Srikakulam</td><td>703899</td><td>S110</td><td>Y</td><td>1943-05-12</td><td>1946-09-20</td></tr><tr><td>SUBID10068</td><td>null</td><td>Mishra</td><td>Bath Nagar</td><td>1927-02-26</td><td>Female</td><td>+91 4984346995</td><td>India</td><td>Ambarnath</td><td>766224</td><td>S110</td><td>N</td><td>1947-02-26</td><td>1948-03-30</td></tr><tr><td>SUBID10069</td><td>Bhageeratha</td><td>Srivastav</td><td>Das Ganj</td><td>1973-03-21</td><td>Male</td><td>+91 0590662722</td><td>India</td><td>Sonipat</td><td>695316</td><td>S103</td><td>Y</td><td>1993-03-21</td><td>1997-08-01</td></tr><tr><td>SUBID10070</td><td>Balaaditya</td><td>Gupta</td><td>Varty Road</td><td>1923-11-02</td><td>Male</td><td>+91 3871269153</td><td>India</td><td>Hajipur</td><td>3526</td><td>S109</td><td>N</td><td>1943-11-02</td><td>1952-09-24</td></tr><tr><td>SUBID10071</td><td>null</td><td>Rai</td><td>Choudhury Chowk</td><td>1941-12-26</td><td>Female</td><td>+91 9287216619</td><td>India</td><td>Vellore</td><td>239532</td><td>S101</td><td>N</td><td>1961-12-26</td><td>1969-02-23</td></tr><tr><td>SUBID10072</td><td>Gopal</td><td>Srivastav</td><td>Desai Street</td><td>1936-03-11</td><td>Female</td><td>+91 3791210190</td><td>India</td><td>Bidhannagar</td><td>761800</td><td>S103</td><td>Y</td><td>1956-03-11</td><td>1964-07-28</td></tr><tr><td>SUBID1073</td><td>Virender</td><td>Maurrya</td><td>Chakrabarti</td><td>1936-10-27</td><td>Male</td><td>+91 7734026802</td><td>India</td><td>Bhusawal</td><td>374302</td><td>S104</td><td>N</td><td>1956-10-27</td><td>1961-04-27</td></tr><tr><td>SUBID10074</td><td>null</td><td>Singh</td><td>Kalla Path</td><td>1963-11-21</td><td>Male</td><td>+91 7881749363</td><td>India</td><td>Bokaro</td><td>866319</td><td>S105</td><td>Y</td><td>1983-11-21</td><td>1985-09-29</td></tr><tr><td>SUBID10075</td><td>null</td><td>Singh</td><td>Iyengar Nagar</td><td>1956-01-29</td><td>Male</td><td>+91 6891482136</td><td>India</td><td>Navi Mumbai</td><td>836175</td><td>S107</td><td>N</td><td>1976-01-29</td><td>1979-05-25</td></tr><tr><td>SUBID10076</td><td>Mamta</td><td>Tiwari</td><td>Batra</td><td>1964-12-21</td><td>Female</td><td>+91 5559521919</td><td>India</td><td>Secunderabad</td><td>123181</td><td>S104</td><td>N</td><td>1984-12-21</td><td>1987-01-08</td></tr><tr><td>SUBID10077</td><td>Girija</td><td>Maurrya</td><td>Iyengar Road</td><td>1933-04-25</td><td>Male</td><td>+91 1811765039</td><td>India</td><td>Jaipur</td><td>204379</td><td>S105</td><td>N</td><td>1953-04-25</td><td>1963-04-18</td></tr><tr><td>SUBID10078</td><td>Aaraadhana</td><td>Rao</td><td>Raval Nagar</td><td>1980-02-07</td><td>Male</td><td>+91 2432610572</td><td>India</td><td>Jhansi</td><td>429941</td><td>S108</td><td>N</td><td>2000-02-07</td><td>2005-02-06</td></tr><tr><td>SUBID10079</td><td>Shahnawaz</td><td>Mishra</td><td>Agate Path</td><td>1971-06-24</td><td>Female</td><td>+91 4117017589</td><td>India</td><td>Rampur</td><td>528893</td><td>S102</td><td>Y</td><td>1991-06-24</td><td>2000-09-13</td></tr><tr><td>SUBID10080</td><td>Tej</td><td>Sonkar</td><td>Sarraf Chowk</td><td>1942-06-11</td><td>Male</td><td>+91 3450311029</td><td>India</td><td>Haridwar</td><td>506221</td><td>S105</td><td>Y</td><td>1962-06-11</td><td>1964-10-14</td></tr><tr><td>SUBID10081</td><td>Mansi</td><td>Divedi</td><td>Bhattacharyya Road</td><td>1947-03-20</td><td>Female</td><td>+91 1135113927</td><td>India</td><td>Hosur</td><td>995152</td><td>S105</td><td>Y</td><td>1967-03-20</td><td>1971-07-25</td></tr><tr><td>SUBID10082</td><td>Girika</td><td>Thakur</td><td>Sinha Zila</td><td>1968-11-03</td><td>Female</td><td>+91 5601148700</td><td>India</td><td>Hospet</td><td>683614</td><td>S102</td><td>N</td><td>1988-11-03</td><td>1992-01-21</td></tr><tr><td>SUBID10083</td><td>Bhilangana</td><td>Pandit</td><td>Ramachandran Path</td><td>1995-01-04</td><td>Female</td><td>+91 6653069630</td><td>India</td><td>Fatehpur</td><td>359466</td><td>S109</td><td>Y</td><td>2015-01-04</td><td>2017-10-05</td></tr><tr><td>SUBID10084</td><td>null</td><td>Thakur</td><td>Raval Zila</td><td>1924-06-07</td><td>Female</td><td>+91 7367059254</td><td>India</td><td>Bhavnagar</td><td>464111</td><td>S107</td><td>Y</td><td>1944-06-07</td><td>1952-05-22</td></tr><tr><td>SUBID10085</td><td>Sukanya</td><td>Sonkar</td><td>Sangha Street</td><td>1942-01-16</td><td>Female</td><td>+91 5689645499</td><td>India</td><td>Vijayanagaram</td><td>226215</td><td>S101</td><td>N</td><td>1962-01-16</td><td>1967-04-10</td></tr><tr><td>SUBID1086</td><td>Banita</td><td>Rao</td><td>Thakur</td><td>1979-01-28</td><td>Male</td><td>+91 4743834161</td><td>India</td><td>Ghaziabad</td><td>907613</td><td>S109</td><td>N</td><td>1999-01-28</td><td>2000-09-05</td></tr><tr><td>SUBID1087</td><td>null</td><td>Pandit</td><td>Srivastava Path</td><td>1924-12-10</td><td>Female</td><td>+91 9158965227</td><td>India</td><td>Sambhal</td><td>279219</td><td>S103</td><td>N</td><td>1944-12-10</td><td>1951-07-16</td></tr><tr><td>SUBID10088</td><td>null</td><td>Rajput</td><td>Dua Zila</td><td>1922-07-30</td><td>Female</td><td>+91 9523946101</td><td>India</td><td>Tadipatri</td><td>743449</td><td>S110</td><td>N</td><td>1942-07-30</td><td>1949-06-07</td></tr><tr><td>SUBID10089</td><td>Dhuha</td><td>Tiwari</td><td>Aggarwal Street</td><td>1952-08-21</td><td>Male</td><td>+91 3188519840</td><td>India</td><td>Rampur</td><td>492137</td><td>S104</td><td>null</td><td>1972-08-21</td><td>1981-05-13</td></tr><tr><td>SUBID10090</td><td>null</td><td>Mishra</td><td>Chandran Nagar</td><td>1938-06-07</td><td>Female</td><td>+91 6869721169</td><td>India</td><td>Sikar</td><td>564747</td><td>S101</td><td>Y</td><td>1958-06-07</td><td>1967-08-23</td></tr><tr><td>SUBID1091</td><td>null</td><td>Thakur</td><td>Bala</td><td>1930-12-31</td><td>Male</td><td>+91 9664169480</td><td>India</td><td>Kamarhati</td><td>682652</td><td>S110</td><td>Y</td><td>1950-12-31</td><td>1958-06-21</td></tr><tr><td>SUBID10092</td><td>null</td><td>Rai</td><td>Karan Street</td><td>1940-08-22</td><td>Others</td><td>+91 7498206646</td><td>India</td><td>Ghaziabad</td><td>79586</td><td>S108</td><td>N</td><td>1960-08-22</td><td>1966-10-06</td></tr><tr><td>SUBID10093</td><td>Chandavarman</td><td>Singh</td><td>Sarkar Circle</td><td>1997-05-10</td><td>Others</td><td>+91 6559031791</td><td>India</td><td>Navi Mumbai</td><td>83240</td><td>S110</td><td>N</td><td>2017-05-10</td><td>2022-08-27</td></tr><tr><td>SUBID10094</td><td>Charanpal</td><td>Yadav</td><td>Sehgal Circle</td><td>1986-10-12</td><td>Male</td><td>+91 2196055115</td><td>India</td><td>Gurgaon</td><td>640326</td><td>S109</td><td>Y</td><td>2006-10-12</td><td>2016-05-13</td></tr><tr><td>SUBID10095</td><td>Ekaaksh</td><td>Rai</td><td>Bansal Ganj</td><td>1933-12-02</td><td>Others</td><td>null</td><td>India</td><td>Pimpri-Chinchwad</td><td>158186</td><td>S107</td><td>N</td><td>1953-12-02</td><td>1960-07-29</td></tr><tr><td>SUBID10096</td><td>Chanak</td><td>Sonkar</td><td>Kaur</td><td>1959-04-07</td><td>Others</td><td>+91 7284540687</td><td>India</td><td>Raurkela Industrial Township</td><td>899590</td><td>S101</td><td>Y</td><td>1979-04-07</td><td>1986-03-07</td></tr><tr><td>SUBID10097</td><td>null</td><td>Sonkar</td><td>Rana Ganj</td><td>1940-02-04</td><td>Others</td><td>+91 8908240160</td><td>India</td><td>Mira-Bhayandar</td><td>896586</td><td>S107</td><td>Y</td><td>1960-02-04</td><td>1965-01-12</td></tr><tr><td>SUBID1098</td><td>Pushkar</td><td>Kumar</td><td>Sodhi Zila</td><td>1934-10-05</td><td>Others</td><td>+91 8956368286</td><td>India</td><td>Korba</td><td>910732</td><td>S107</td><td>Y</td><td>1954-10-05</td><td>1961-04-05</td></tr><tr><td>SUBID10099</td><td>Shikha</td><td>Srivastav</td><td>Ahuja Road</td><td>1970-09-06</td><td>Others</td><td>+91 3042509956</td><td>India</td><td>Nanded</td><td>101500</td><td>S109</td><td>Y</td><td>1990-09-06</td><td>1997-11-27</td></tr></tbody></table></div>"
      ]
     },
     "metadata": {
      "application/vnd.databricks.v1+output": {
       "addedWidgets": {},
       "aggData": [],
       "aggError": "",
       "aggOverflow": false,
       "aggSchema": [],
       "aggSeriesLimitReached": false,
       "aggType": "",
       "arguments": {},
       "columnCustomDisplayInfos": {},
       "data": [
        [
         "SUBID10000",
         "Harbir",
         "Vishwakarma",
         "Baria Marg",
         "1924-06-30",
         "Female",
         "+91 0112009318",
         "India",
         "Rourkela",
         767058,
         "S107",
         "Y",
         "1944-06-30",
         "1954-01-14"
        ],
        [
         "SUBID10001",
         "Brahmdev",
         "Sonkar",
         "Lala Marg",
         "1948-12-20",
         "Female",
         "+91 1727749552",
         "India",
         "Tiruvottiyur",
         34639,
         "S105",
         "Y",
         "1968-12-20",
         "1970-05-16"
        ],
        [
         "SUBID10002",
         "Ujjawal",
         "Devi",
         "Mammen Zila",
         "1980-04-16",
         "Male",
         "+91 8547451606",
         "India",
         "Berhampur",
         914455,
         "S106",
         "N",
         "2000-04-16",
         "2008-05-04"
        ],
        [
         "SUBID10003",
         "Ballari",
         "Mishra",
         "Sahni Zila",
         "1969-09-25",
         "Female",
         "+91 0106026841",
         "India",
         "Bihar Sharif",
         91481,
         "S104",
         "N",
         "1989-09-25",
         "1995-06-05"
        ],
        [
         "SUBID10004",
         "Devnath",
         "Srivastav",
         "Magar Zila",
         "1946-05-01",
         "Female",
         "+91 1868774631",
         "India",
         "Bidhannagar",
         531742,
         "S110",
         "N",
         "1966-05-01",
         "1970-12-09"
        ],
        [
         "SUBID10005",
         "Atasi",
         "Seth",
         "Khatri Nagar",
         "1967-10-02",
         "Male",
         "+91 9747336855",
         "India",
         "Amravati",
         229062,
         "S104",
         "Y",
         "1987-10-02",
         "1995-02-13"
        ],
        [
         "SUBID1006",
         "Manish",
         "Maurya",
         "Swaminathan Chowk",
         "1967-06-06",
         "Male",
         "+91 4354294043",
         "India",
         "Panvel",
         438733,
         "S109",
         null,
         "1987-06-06",
         "1995-03-21"
        ],
        [
         "SUBID10007",
         "Aakar",
         "Yadav",
         "Swamy",
         "1925-03-05",
         "Female",
         "+91 2777633911",
         "India",
         "Bihar Sharif",
         535907,
         "S104",
         "N",
         "1945-03-05",
         "1946-11-07"
        ],
        [
         "SUBID10008",
         "Gurudas",
         "Gupta",
         "Sarin Nagar",
         "1945-05-06",
         "Male",
         "+91 1232859381",
         "India",
         "Kamarhati",
         933226,
         "S103",
         "Y",
         "1965-05-06",
         "1970-09-16"
        ],
        [
         "SUBID10009",
         null,
         "Gupta",
         "Thakur Circle",
         "1925-06-12",
         "Male",
         "+91 1780763280",
         "India",
         "Bangalore",
         957469,
         "S105",
         "Y",
         "1945-06-12",
         "1953-08-30"
        ],
        [
         "SUBID1010",
         null,
         "Divedi",
         "Dhillon",
         "1976-02-03",
         "Male",
         "+91 5586075345",
         "India",
         "Rajkot",
         911319,
         "S102",
         "Y",
         "1996-02-03",
         "2002-01-27"
        ],
        [
         "SUBID10011",
         null,
         "Vishwakarma",
         "Rajagopalan",
         "1955-01-22",
         "Female",
         "+91 4146391938",
         "India",
         "Ghaziabad",
         337042,
         "S106",
         "N",
         "1975-01-22",
         "1978-11-02"
        ],
        [
         "SUBID10012",
         "Dharmadaas",
         "Tiwari",
         "Rama",
         "1964-04-29",
         "Male",
         "+91 6345482027",
         "India",
         "Bhalswa Jahangir Pur",
         430793,
         "S103",
         "N",
         "1984-04-29",
         "1988-02-07"
        ],
        [
         "SUBID10013",
         "Brahmvir",
         "Rai",
         "Shah Path",
         "1991-11-11",
         "Male",
         "+91 7316972612",
         "India",
         "Ambala",
         249898,
         "S106",
         "N",
         "2011-11-11",
         "2020-05-23"
        ],
        [
         "SUBID10014",
         null,
         "Srivastav",
         "Chandra Path",
         "1981-01-25",
         "Female",
         "+91 2960004518",
         "India",
         "Surendranagar Dudhrej",
         111966,
         "S102",
         "N",
         "2001-01-25",
         "2005-07-13"
        ],
        [
         "SUBID10015",
         "Bhagvan",
         "Srivastav",
         "Edwin",
         "1966-07-24",
         "Female",
         "+91 0297693485",
         "India",
         "Bhimavaram",
         436513,
         "S105",
         "Y",
         "1986-07-24",
         "1988-02-04"
        ],
        [
         "SUBID10016",
         "Amritkala",
         "Srivastav",
         "Guha Path",
         "1933-11-20",
         "Female",
         "+91 0537157280",
         "India",
         "Meerut",
         863467,
         "S106",
         "Y",
         "1953-11-20",
         "1955-07-29"
        ],
        [
         "SUBID10017",
         "Bandhu",
         "Seth",
         "Varughese",
         "1996-10-15",
         "Male",
         "+91 0695289163",
         "India",
         "Chinsurah",
         136713,
         "S108",
         "N",
         "2016-10-15",
         "2018-06-08"
        ],
        [
         "SUBID10018",
         "Bhagavaana",
         "Kumar",
         "Kulkarni Zila",
         "1935-09-16",
         "Female",
         "+91 6071745855",
         "India",
         "Shahjahanpur",
         597276,
         "S101",
         "N",
         "1955-09-16",
         "1958-05-31"
        ],
        [
         "SUBID10019",
         null,
         "Maurya",
         "Sharaf Nagar",
         "1924-11-09",
         "Female",
         "+91 8906694405",
         "India",
         "Jabalpur",
         958538,
         "S104",
         "N",
         "1944-11-09",
         "1951-10-14"
        ],
        [
         "SUBID1020",
         "Umang",
         "Srivastav",
         "Balay Chowk",
         "1963-07-14",
         "Female",
         "+91 9485838770",
         "India",
         "Haridwar",
         181692,
         "S109",
         "Y",
         "1983-07-14",
         "1986-01-15"
        ],
        [
         "SUBID1021",
         "Darsana",
         "Yadav",
         "Upadhyay Zila",
         "1932-05-29",
         "Male",
         "+91 7676311811",
         "India",
         "Dibrugarh",
         187414,
         "S109",
         "Y",
         "1952-05-29",
         "1953-10-14"
        ],
        [
         "SUBID10022",
         "Prakash",
         "Rao",
         "Sachar",
         "1923-09-15",
         "Female",
         "+91 9268324471",
         "India",
         "Kottayam",
         180680,
         null,
         "N",
         "1943-09-15",
         "1948-10-19"
        ],
        [
         "SUBID10023",
         "Vaijayanti",
         "Pratap",
         "Khalsa Nagar",
         "1920-11-13",
         "Male",
         "+91 9358851649",
         "India",
         "Mira-Bhayandar",
         419190,
         "S102",
         "Y",
         "1940-11-13",
         "1946-03-10"
        ],
        [
         "SUBID10024",
         "Menakshi",
         "Seth",
         "Wable Street",
         "1987-03-06",
         "Male",
         "+91 0531676556",
         "India",
         "Kamarhati",
         882577,
         "S107",
         "N",
         "2007-03-06",
         "2014-02-25"
        ],
        [
         "SUBID10025",
         null,
         "Tiwari",
         "Sha Chowk",
         "1955-12-24",
         "Male",
         "+91 2416747182",
         "India",
         "Karimnagar",
         567762,
         "S106",
         "N",
         "1975-12-24",
         "1983-02-03"
        ],
        [
         "SUBID10026",
         "Ekant",
         "Sonkar",
         "Walla Road",
         "1943-08-13",
         "Male",
         "+91 7686951174",
         "India",
         "Berhampore",
         948589,
         "S110",
         "Y",
         "1963-08-13",
         "1967-05-29"
        ],
        [
         "SUBID10027",
         "Chancharik",
         "Pandey",
         "Karan Ganj",
         "1983-09-05",
         "Male",
         "+91 5309364825",
         "India",
         "Chapra",
         154667,
         "S109",
         "N",
         "2003-09-05",
         "2011-06-12"
        ],
        [
         "SUBID10028",
         "Pushti",
         "Pandit",
         "Deol Path",
         "1935-10-15",
         "Female",
         "+91 7093722203",
         "India",
         "Morbi",
         284168,
         "S106",
         "N",
         "1955-10-15",
         "1959-06-04"
        ],
        [
         "SUBID10029",
         "Swati",
         "Seth",
         "Kant Marg",
         "1987-12-11",
         "Female",
         "+91 1028477510",
         "India",
         "Amravati",
         932221,
         "S102",
         "N",
         "2007-12-11",
         "2011-10-17"
        ],
        [
         "SUBID1030",
         "Upasana",
         "Pandey",
         "Seth Chowk",
         "1956-06-01",
         "Male",
         "+91 0548234943",
         "India",
         "Hyderabad",
         234823,
         "S102",
         "N",
         "1976-06-01",
         "1981-02-14"
        ],
        [
         "SUBID10031",
         "Kanhaiya",
         "Lal",
         "Savant Nagar",
         "1954-10-19",
         "Female",
         "+91 0788738026",
         "India",
         "Mysore",
         638433,
         "S104",
         "Y",
         "1974-10-19",
         "1977-01-03"
        ],
        [
         "SUBID1032",
         null,
         "Seth",
         "Sandhu Chowk",
         "1968-07-02",
         "Female",
         "+91 2599794460",
         "India",
         "Gwalior",
         611826,
         "S110",
         "N",
         "1988-07-02",
         "1991-03-14"
        ],
        [
         "SUBID10033",
         "Gensho",
         "Srivastav",
         "Korpal Ganj",
         "1992-06-06",
         "Male",
         "+91 4834040556",
         "India",
         "Ludhiana",
         835018,
         "S101",
         "N",
         "2012-06-06",
         "2022-01-09"
        ],
        [
         "SUBID1034",
         "Gopal",
         "Das",
         "Saini",
         "1986-05-14",
         "Male",
         "+91 1181471524",
         "India",
         "Raebareli",
         176221,
         "S101",
         "N",
         "2006-05-14",
         "2011-04-08"
        ],
        [
         "SUBID10035",
         "Dheeman",
         "Tiwari",
         "Dube Marg",
         "1945-05-04",
         "Male",
         "+91 8239321466",
         "India",
         "Mysore",
         811970,
         "S101",
         "Y",
         "1965-05-04",
         "1973-11-13"
        ],
        [
         "SUBID1036",
         "Upasana",
         "Thakur",
         "Vasa Ganj",
         "1927-10-03",
         "Female",
         null,
         "India",
         "Ratlam",
         326733,
         "S108",
         "N",
         "1947-10-03",
         "1951-02-20"
        ],
        [
         "SUBID1037",
         null,
         "Rajput",
         "Shere Chowk",
         "1948-11-10",
         "Male",
         "+91 8390195092",
         "India",
         "Vadodara",
         877443,
         "S101",
         "Y",
         "1968-11-10",
         "1973-12-25"
        ],
        [
         "SUBID1038",
         null,
         "Thakur",
         "Rastogi Street",
         "1955-04-07",
         "Female",
         "+91 7434031446",
         "India",
         "Vijayawada",
         438940,
         "S104",
         null,
         "1975-04-07",
         "1982-01-25"
        ],
        [
         "SUBID10039",
         "Madhubala",
         "Yadav",
         "Sangha Marg",
         "1937-01-11",
         "Male",
         "+91 8498685882",
         "India",
         "Jaunpur",
         624102,
         "S104",
         "Y",
         "1957-01-11",
         "1965-10-09"
        ],
        [
         "SUBID10040",
         "Anjushree",
         "Pandey",
         "Vora Ganj",
         "1976-07-04",
         "Male",
         "+91 5322869455",
         "India",
         "Ghaziabad",
         782221,
         "S105",
         "N",
         "1996-07-04",
         "1999-02-17"
        ],
        [
         "SUBID1041",
         null,
         "Rajput",
         "Sinha Path",
         "1930-11-25",
         "Female",
         null,
         "India",
         "Agartala",
         303503,
         "S110",
         "Y",
         "1950-11-25",
         "1957-09-14"
        ],
        [
         "SUBID10042",
         "Chakrika",
         "Sonkar",
         "Bansal Circle",
         "1964-08-05",
         "Male",
         "+91 8185162879",
         "India",
         "Ranchi",
         503290,
         "S108",
         "Y",
         "1984-08-05",
         "1992-09-09"
        ],
        [
         "SUBID1043",
         "Saroj",
         "Pandit",
         "Sathe Zila",
         "1942-08-26",
         "Female",
         "+91 5690408243",
         "India",
         "Muzaffarpur",
         130486,
         "S103",
         "Y",
         "1962-08-26",
         "1964-08-29"
        ],
        [
         "SUBID1044",
         "Ayushmati",
         "Vishwakarma",
         "Balakrishnan Street",
         "1932-09-20",
         "Male",
         "+91 3683223970",
         "India",
         "Satna",
         131247,
         "S108",
         "N",
         "1952-09-20",
         "1961-01-24"
        ],
        [
         "SUBID1045",
         "Drashti",
         "Divedi",
         "Wadhwa",
         "1926-07-03",
         "Male",
         "+91 9447269993",
         "India",
         "Saharsa",
         581568,
         "S104",
         "Y",
         "1946-07-03",
         "1952-11-27"
        ],
        [
         "SUBID10046",
         "Aayushmaan",
         "Maurya",
         "Johal Nagar",
         "1983-11-14",
         "Female",
         "+91 4464709769",
         "India",
         "Mehsana",
         987281,
         "S104",
         "Y",
         "2003-11-14",
         "2012-10-22"
        ],
        [
         "SUBID1047",
         null,
         "Rai",
         "Sagar Chowk",
         "1931-02-04",
         "Male",
         "+91 2973105946",
         "India",
         "Shivpuri",
         794170,
         "S109",
         "Y",
         "1951-02-04",
         "1955-07-14"
        ],
        [
         "SUBID10048",
         "Chitranjan",
         "Mishra",
         "Madan Nagar",
         "1925-09-09",
         "Female",
         "+91 5176024720",
         "India",
         "Morbi",
         945697,
         "S108",
         "N",
         "1945-09-09",
         "1952-06-21"
        ],
        [
         "SUBID10049",
         "Paridhi",
         "Yadav",
         "Sant Path",
         "1959-03-27",
         "Female",
         "+91 2139280879",
         "India",
         "Jabalpur",
         883754,
         null,
         "N",
         "1979-03-27",
         "1985-06-01"
        ],
        [
         "SUBID10050",
         "Deependu",
         "Gupta",
         "Banik Ganj",
         "1952-02-13",
         "Female",
         "+91 5674176644",
         "India",
         "Bareilly",
         417855,
         "S102",
         "Y",
         "1972-02-13",
         "1976-08-23"
        ],
        [
         "SUBID10051",
         null,
         "Rajput",
         "Chauhan Chowk",
         "1946-10-17",
         "Male",
         "+91 9887324437",
         "India",
         "Baranagar",
         765234,
         "S103",
         "Y",
         "1966-10-17",
         "1969-06-26"
        ],
        [
         "SUBID10052",
         "Laksman",
         "Rao",
         "Sood Marg",
         "1939-05-26",
         "Female",
         "+91 4504120828",
         "India",
         "Ahmednagar",
         117923,
         "S101",
         "Y",
         "1959-05-26",
         "1960-11-07"
        ],
        [
         "SUBID10053",
         null,
         "Sonkar",
         "Shetty Marg",
         "1988-06-27",
         "Male",
         "+91 6877897646",
         "India",
         "Pali",
         383290,
         "S102",
         "Y",
         "2008-06-27",
         "2016-10-30"
        ],
        [
         "SUBID10054",
         "Shivakari",
         "Pratap",
         "Dugar Road",
         "1944-11-02",
         "Female",
         "+91 3740484063",
         "India",
         "Hapur",
         28202,
         "S104",
         "N",
         "1964-11-02",
         "1967-06-15"
        ],
        [
         "SUBID10055",
         "Madhu",
         "Thakur",
         "Sule Marg",
         "1984-10-23",
         "Male",
         "+91 8367885507",
         "India",
         "Udaipur",
         565423,
         "S107",
         "N",
         "2004-10-23",
         "2008-07-10"
        ],
        [
         "SUBID10056",
         "Chanak",
         "Gupta",
         "Shetty Nagar",
         "1954-08-27",
         "Male",
         "+91 5093121123",
         "India",
         "Jalandhar",
         602989,
         "S105",
         "N",
         "1974-08-27",
         "1982-06-15"
        ],
        [
         "SUBID10057",
         "Chittesh",
         "Pandey",
         "Mangal Chowk",
         "1949-10-17",
         "Male",
         "+91 1378163498",
         "India",
         "Thoothukudi",
         666415,
         "S109",
         "Y",
         "1969-10-17",
         "1975-10-08"
        ],
        [
         "SUBID1058",
         "Nawal",
         "Rajput",
         "Deol Nagar",
         "1940-01-22",
         "Male",
         "+91 1885105576",
         "India",
         "Bhopal",
         791168,
         "S106",
         "N",
         "1960-01-22",
         "1969-04-18"
        ],
        [
         "SUBID10059",
         "Gajabahu",
         "Singh",
         "Kara",
         "1959-03-15",
         "Male",
         "+91 1207869436",
         "India",
         "Udupi",
         637221,
         "S101",
         "Y",
         "1979-03-15",
         "1986-07-05"
        ],
        [
         "SUBID10060",
         "Jitesh",
         "Vishwakarma",
         "Gopal Path",
         "1983-02-03",
         "Male",
         "+91 6515468035",
         "India",
         "Karimnagar",
         124564,
         "S110",
         "Y",
         "2003-02-03",
         "2008-04-30"
        ],
        [
         "SUBID10061",
         null,
         "Rajput",
         "Anand Path",
         "1966-09-25",
         "Female",
         "+91 6477918745",
         "India",
         "Kharagpur",
         934938,
         "S103",
         null,
         "1986-09-25",
         "1991-06-03"
        ],
        [
         "SUBID1062",
         "Lalit",
         "Mishra",
         "Comar Street",
         "1924-02-15",
         "Female",
         "+91 4647833992",
         "India",
         "Tinsukia",
         963770,
         "S103",
         "N",
         "1944-02-15",
         "1947-09-28"
        ],
        [
         "SUBID1063",
         "Anshuk",
         "Srivastav",
         "Sridhar Path",
         "1991-06-17",
         "Male",
         "+91 9764690642",
         "India",
         "Uluberia",
         270985,
         "S105",
         "N",
         "2011-06-17",
         "2014-07-11"
        ],
        [
         "SUBID10064",
         null,
         "Pandey",
         "Mangat Path",
         "1994-01-13",
         "Male",
         "+91 8444537013",
         "India",
         "Panihati",
         643791,
         "S110",
         "N",
         "2014-01-13",
         "2019-02-24"
        ],
        [
         "SUBID1065",
         "Dipesh",
         "Mishra",
         "Char Path",
         "1949-04-01",
         "Female",
         "+91 5851958964",
         "India",
         "Kochi",
         31269,
         "S103",
         "Y",
         "1969-04-01",
         "1970-06-02"
        ],
        [
         "SUBID10066",
         null,
         "Seth",
         "Chaudhuri Marg",
         "1930-09-01",
         "Male",
         "+91 7061843400",
         "India",
         "Kolhapur",
         597470,
         "S102",
         "N",
         "1950-09-01",
         "1957-12-01"
        ],
        [
         "SUBID1067",
         "Kishan",
         "Rao",
         "Badal Nagar",
         "1923-05-12",
         "Male",
         "+91 9067652693",
         "India",
         "Srikakulam",
         703899,
         "S110",
         "Y",
         "1943-05-12",
         "1946-09-20"
        ],
        [
         "SUBID10068",
         null,
         "Mishra",
         "Bath Nagar",
         "1927-02-26",
         "Female",
         "+91 4984346995",
         "India",
         "Ambarnath",
         766224,
         "S110",
         "N",
         "1947-02-26",
         "1948-03-30"
        ],
        [
         "SUBID10069",
         "Bhageeratha",
         "Srivastav",
         "Das Ganj",
         "1973-03-21",
         "Male",
         "+91 0590662722",
         "India",
         "Sonipat",
         695316,
         "S103",
         "Y",
         "1993-03-21",
         "1997-08-01"
        ],
        [
         "SUBID10070",
         "Balaaditya",
         "Gupta",
         "Varty Road",
         "1923-11-02",
         "Male",
         "+91 3871269153",
         "India",
         "Hajipur",
         3526,
         "S109",
         "N",
         "1943-11-02",
         "1952-09-24"
        ],
        [
         "SUBID10071",
         null,
         "Rai",
         "Choudhury Chowk",
         "1941-12-26",
         "Female",
         "+91 9287216619",
         "India",
         "Vellore",
         239532,
         "S101",
         "N",
         "1961-12-26",
         "1969-02-23"
        ],
        [
         "SUBID10072",
         "Gopal",
         "Srivastav",
         "Desai Street",
         "1936-03-11",
         "Female",
         "+91 3791210190",
         "India",
         "Bidhannagar",
         761800,
         "S103",
         "Y",
         "1956-03-11",
         "1964-07-28"
        ],
        [
         "SUBID1073",
         "Virender",
         "Maurrya",
         "Chakrabarti",
         "1936-10-27",
         "Male",
         "+91 7734026802",
         "India",
         "Bhusawal",
         374302,
         "S104",
         "N",
         "1956-10-27",
         "1961-04-27"
        ],
        [
         "SUBID10074",
         null,
         "Singh",
         "Kalla Path",
         "1963-11-21",
         "Male",
         "+91 7881749363",
         "India",
         "Bokaro",
         866319,
         "S105",
         "Y",
         "1983-11-21",
         "1985-09-29"
        ],
        [
         "SUBID10075",
         null,
         "Singh",
         "Iyengar Nagar",
         "1956-01-29",
         "Male",
         "+91 6891482136",
         "India",
         "Navi Mumbai",
         836175,
         "S107",
         "N",
         "1976-01-29",
         "1979-05-25"
        ],
        [
         "SUBID10076",
         "Mamta",
         "Tiwari",
         "Batra",
         "1964-12-21",
         "Female",
         "+91 5559521919",
         "India",
         "Secunderabad",
         123181,
         "S104",
         "N",
         "1984-12-21",
         "1987-01-08"
        ],
        [
         "SUBID10077",
         "Girija",
         "Maurrya",
         "Iyengar Road",
         "1933-04-25",
         "Male",
         "+91 1811765039",
         "India",
         "Jaipur",
         204379,
         "S105",
         "N",
         "1953-04-25",
         "1963-04-18"
        ],
        [
         "SUBID10078",
         "Aaraadhana",
         "Rao",
         "Raval Nagar",
         "1980-02-07",
         "Male",
         "+91 2432610572",
         "India",
         "Jhansi",
         429941,
         "S108",
         "N",
         "2000-02-07",
         "2005-02-06"
        ],
        [
         "SUBID10079",
         "Shahnawaz",
         "Mishra",
         "Agate Path",
         "1971-06-24",
         "Female",
         "+91 4117017589",
         "India",
         "Rampur",
         528893,
         "S102",
         "Y",
         "1991-06-24",
         "2000-09-13"
        ],
        [
         "SUBID10080",
         "Tej",
         "Sonkar",
         "Sarraf Chowk",
         "1942-06-11",
         "Male",
         "+91 3450311029",
         "India",
         "Haridwar",
         506221,
         "S105",
         "Y",
         "1962-06-11",
         "1964-10-14"
        ],
        [
         "SUBID10081",
         "Mansi",
         "Divedi",
         "Bhattacharyya Road",
         "1947-03-20",
         "Female",
         "+91 1135113927",
         "India",
         "Hosur",
         995152,
         "S105",
         "Y",
         "1967-03-20",
         "1971-07-25"
        ],
        [
         "SUBID10082",
         "Girika",
         "Thakur",
         "Sinha Zila",
         "1968-11-03",
         "Female",
         "+91 5601148700",
         "India",
         "Hospet",
         683614,
         "S102",
         "N",
         "1988-11-03",
         "1992-01-21"
        ],
        [
         "SUBID10083",
         "Bhilangana",
         "Pandit",
         "Ramachandran Path",
         "1995-01-04",
         "Female",
         "+91 6653069630",
         "India",
         "Fatehpur",
         359466,
         "S109",
         "Y",
         "2015-01-04",
         "2017-10-05"
        ],
        [
         "SUBID10084",
         null,
         "Thakur",
         "Raval Zila",
         "1924-06-07",
         "Female",
         "+91 7367059254",
         "India",
         "Bhavnagar",
         464111,
         "S107",
         "Y",
         "1944-06-07",
         "1952-05-22"
        ],
        [
         "SUBID10085",
         "Sukanya",
         "Sonkar",
         "Sangha Street",
         "1942-01-16",
         "Female",
         "+91 5689645499",
         "India",
         "Vijayanagaram",
         226215,
         "S101",
         "N",
         "1962-01-16",
         "1967-04-10"
        ],
        [
         "SUBID1086",
         "Banita",
         "Rao",
         "Thakur",
         "1979-01-28",
         "Male",
         "+91 4743834161",
         "India",
         "Ghaziabad",
         907613,
         "S109",
         "N",
         "1999-01-28",
         "2000-09-05"
        ],
        [
         "SUBID1087",
         null,
         "Pandit",
         "Srivastava Path",
         "1924-12-10",
         "Female",
         "+91 9158965227",
         "India",
         "Sambhal",
         279219,
         "S103",
         "N",
         "1944-12-10",
         "1951-07-16"
        ],
        [
         "SUBID10088",
         null,
         "Rajput",
         "Dua Zila",
         "1922-07-30",
         "Female",
         "+91 9523946101",
         "India",
         "Tadipatri",
         743449,
         "S110",
         "N",
         "1942-07-30",
         "1949-06-07"
        ],
        [
         "SUBID10089",
         "Dhuha",
         "Tiwari",
         "Aggarwal Street",
         "1952-08-21",
         "Male",
         "+91 3188519840",
         "India",
         "Rampur",
         492137,
         "S104",
         null,
         "1972-08-21",
         "1981-05-13"
        ],
        [
         "SUBID10090",
         null,
         "Mishra",
         "Chandran Nagar",
         "1938-06-07",
         "Female",
         "+91 6869721169",
         "India",
         "Sikar",
         564747,
         "S101",
         "Y",
         "1958-06-07",
         "1967-08-23"
        ],
        [
         "SUBID1091",
         null,
         "Thakur",
         "Bala",
         "1930-12-31",
         "Male",
         "+91 9664169480",
         "India",
         "Kamarhati",
         682652,
         "S110",
         "Y",
         "1950-12-31",
         "1958-06-21"
        ],
        [
         "SUBID10092",
         null,
         "Rai",
         "Karan Street",
         "1940-08-22",
         "Others",
         "+91 7498206646",
         "India",
         "Ghaziabad",
         79586,
         "S108",
         "N",
         "1960-08-22",
         "1966-10-06"
        ],
        [
         "SUBID10093",
         "Chandavarman",
         "Singh",
         "Sarkar Circle",
         "1997-05-10",
         "Others",
         "+91 6559031791",
         "India",
         "Navi Mumbai",
         83240,
         "S110",
         "N",
         "2017-05-10",
         "2022-08-27"
        ],
        [
         "SUBID10094",
         "Charanpal",
         "Yadav",
         "Sehgal Circle",
         "1986-10-12",
         "Male",
         "+91 2196055115",
         "India",
         "Gurgaon",
         640326,
         "S109",
         "Y",
         "2006-10-12",
         "2016-05-13"
        ],
        [
         "SUBID10095",
         "Ekaaksh",
         "Rai",
         "Bansal Ganj",
         "1933-12-02",
         "Others",
         null,
         "India",
         "Pimpri-Chinchwad",
         158186,
         "S107",
         "N",
         "1953-12-02",
         "1960-07-29"
        ],
        [
         "SUBID10096",
         "Chanak",
         "Sonkar",
         "Kaur",
         "1959-04-07",
         "Others",
         "+91 7284540687",
         "India",
         "Raurkela Industrial Township",
         899590,
         "S101",
         "Y",
         "1979-04-07",
         "1986-03-07"
        ],
        [
         "SUBID10097",
         null,
         "Sonkar",
         "Rana Ganj",
         "1940-02-04",
         "Others",
         "+91 8908240160",
         "India",
         "Mira-Bhayandar",
         896586,
         "S107",
         "Y",
         "1960-02-04",
         "1965-01-12"
        ],
        [
         "SUBID1098",
         "Pushkar",
         "Kumar",
         "Sodhi Zila",
         "1934-10-05",
         "Others",
         "+91 8956368286",
         "India",
         "Korba",
         910732,
         "S107",
         "Y",
         "1954-10-05",
         "1961-04-05"
        ],
        [
         "SUBID10099",
         "Shikha",
         "Srivastav",
         "Ahuja Road",
         "1970-09-06",
         "Others",
         "+91 3042509956",
         "India",
         "Nanded",
         101500,
         "S109",
         "Y",
         "1990-09-06",
         "1997-11-27"
        ]
       ],
       "datasetInfos": [],
       "dbfsResultPath": null,
       "isJsonSchema": true,
       "metadata": {},
       "overflow": false,
       "plotOptions": {
        "customPlotOptions": {},
        "displayType": "table",
        "pivotAggregation": null,
        "pivotColumns": null,
        "xColumns": null,
        "yColumns": null
       },
       "removedWidgets": [],
       "schema": [
        {
         "metadata": "{}",
         "name": "sub_id",
         "type": "\"string\""
        },
        {
         "metadata": "{}",
         "name": "first_name",
         "type": "\"string\""
        },
        {
         "metadata": "{}",
         "name": "last_name",
         "type": "\"string\""
        },
        {
         "metadata": "{}",
         "name": "Street",
         "type": "\"string\""
        },
        {
         "metadata": "{\"__detected_date_formats\":\"d-M-yyyy\"}",
         "name": "Birth_date",
         "type": "\"date\""
        },
        {
         "metadata": "{}",
         "name": "Gender",
         "type": "\"string\""
        },
        {
         "metadata": "{}",
         "name": "Phone",
         "type": "\"string\""
        },
        {
         "metadata": "{}",
         "name": "Country",
         "type": "\"string\""
        },
        {
         "metadata": "{}",
         "name": "City",
         "type": "\"string\""
        },
        {
         "metadata": "{}",
         "name": "Zip Code",
         "type": "\"integer\""
        },
        {
         "metadata": "{}",
         "name": "Subgrp_id",
         "type": "\"string\""
        },
        {
         "metadata": "{}",
         "name": "Elig_ind",
         "type": "\"string\""
        },
        {
         "metadata": "{\"__detected_date_formats\":\"d-M-yyyy\"}",
         "name": "eff_date",
         "type": "\"date\""
        },
        {
         "metadata": "{\"__detected_date_formats\":\"d-M-yyyy\"}",
         "name": "term_date",
         "type": "\"date\""
        }
       ],
       "type": "table"
      }
     },
     "output_type": "display_data"
    }
   ],
   "source": [
    "display(susci_df)"
   ]
  },
  {
   "cell_type": "code",
   "execution_count": 0,
   "metadata": {
    "application/vnd.databricks.v1+cell": {
     "cellMetadata": {
      "byteLimit": 2048000,
      "rowLimit": 10000
     },
     "inputWidgets": {},
     "nuid": "a8e71b9b-03ab-4e90-8013-3a9b1ebfee12",
     "showTitle": false,
     "tableResultSettingsMap": {},
     "title": ""
    }
   },
   "outputs": [
    {
     "output_type": "stream",
     "name": "stdout",
     "output_type": "stream",
     "text": [
      "+------+----------+---------+------+----------+------+-----+-------+----+--------+---------+--------+--------+---------+\n|sub_id|first_name|last_name|Street|Birth_date|Gender|Phone|Country|City|Zip Code|Subgrp_id|Elig_ind|eff_date|term_date|\n+------+----------+---------+------+----------+------+-----+-------+----+--------+---------+--------+--------+---------+\n|     0|        27|        0|     0|         0|     0|    3|      0|   0|       0|        2|       4|       0|        0|\n+------+----------+---------+------+----------+------+-----+-------+----+--------+---------+--------+--------+---------+\n\n"
     ]
    }
   ],
   "source": [
    "missingvaluescheck(susci_df)"
   ]
  },
  {
   "cell_type": "code",
   "execution_count": 0,
   "metadata": {
    "application/vnd.databricks.v1+cell": {
     "cellMetadata": {
      "byteLimit": 2048000,
      "rowLimit": 10000
     },
     "inputWidgets": {},
     "nuid": "7dfece5e-1c84-44ee-8130-3304b26ff16b",
     "showTitle": false,
     "tableResultSettingsMap": {},
     "title": ""
    }
   },
   "outputs": [],
   "source": [
    "susci_df = susci_df.fillna({'first_name':'visitor', 'Elig_ind':'N'}) #filling null values with visitor and N"
   ]
  },
  {
   "cell_type": "code",
   "execution_count": 0,
   "metadata": {
    "application/vnd.databricks.v1+cell": {
     "cellMetadata": {
      "byteLimit": 2048000,
      "rowLimit": 10000
     },
     "inputWidgets": {},
     "nuid": "c46fc175-a236-48c8-805e-8cdaa96aea70",
     "showTitle": false,
     "tableResultSettingsMap": {},
     "title": ""
    }
   },
   "outputs": [
    {
     "output_type": "display_data",
     "data": {
      "text/html": [
       "<style scoped>\n",
       "  .table-result-container {\n",
       "    max-height: 300px;\n",
       "    overflow: auto;\n",
       "  }\n",
       "  table, th, td {\n",
       "    border: 1px solid black;\n",
       "    border-collapse: collapse;\n",
       "  }\n",
       "  th, td {\n",
       "    padding: 5px;\n",
       "  }\n",
       "  th {\n",
       "    text-align: left;\n",
       "  }\n",
       "</style><div class='table-result-container'><table class='table-result'><thead style='background-color: white'><tr><th>sub_id</th><th>first_name</th><th>last_name</th><th>Street</th><th>Birth_date</th><th>Gender</th><th>Phone</th><th>Country</th><th>City</th><th>Zip Code</th><th>Subgrp_id</th><th>Elig_ind</th><th>eff_date</th><th>term_date</th></tr></thead><tbody><tr><td>SUBID10000</td><td>Harbir</td><td>Vishwakarma</td><td>Baria Marg</td><td>1924-06-30</td><td>Female</td><td>+91 0112009318</td><td>India</td><td>Rourkela</td><td>767058</td><td>S107</td><td>Y</td><td>1944-06-30</td><td>1954-01-14</td></tr><tr><td>SUBID10001</td><td>Brahmdev</td><td>Sonkar</td><td>Lala Marg</td><td>1948-12-20</td><td>Female</td><td>+91 1727749552</td><td>India</td><td>Tiruvottiyur</td><td>34639</td><td>S105</td><td>Y</td><td>1968-12-20</td><td>1970-05-16</td></tr><tr><td>SUBID10002</td><td>Ujjawal</td><td>Devi</td><td>Mammen Zila</td><td>1980-04-16</td><td>Male</td><td>+91 8547451606</td><td>India</td><td>Berhampur</td><td>914455</td><td>S106</td><td>N</td><td>2000-04-16</td><td>2008-05-04</td></tr><tr><td>SUBID10003</td><td>Ballari</td><td>Mishra</td><td>Sahni Zila</td><td>1969-09-25</td><td>Female</td><td>+91 0106026841</td><td>India</td><td>Bihar Sharif</td><td>91481</td><td>S104</td><td>N</td><td>1989-09-25</td><td>1995-06-05</td></tr><tr><td>SUBID10004</td><td>Devnath</td><td>Srivastav</td><td>Magar Zila</td><td>1946-05-01</td><td>Female</td><td>+91 1868774631</td><td>India</td><td>Bidhannagar</td><td>531742</td><td>S110</td><td>N</td><td>1966-05-01</td><td>1970-12-09</td></tr><tr><td>SUBID10005</td><td>Atasi</td><td>Seth</td><td>Khatri Nagar</td><td>1967-10-02</td><td>Male</td><td>+91 9747336855</td><td>India</td><td>Amravati</td><td>229062</td><td>S104</td><td>Y</td><td>1987-10-02</td><td>1995-02-13</td></tr><tr><td>SUBID1006</td><td>Manish</td><td>Maurya</td><td>Swaminathan Chowk</td><td>1967-06-06</td><td>Male</td><td>+91 4354294043</td><td>India</td><td>Panvel</td><td>438733</td><td>S109</td><td>N</td><td>1987-06-06</td><td>1995-03-21</td></tr><tr><td>SUBID10007</td><td>Aakar</td><td>Yadav</td><td>Swamy</td><td>1925-03-05</td><td>Female</td><td>+91 2777633911</td><td>India</td><td>Bihar Sharif</td><td>535907</td><td>S104</td><td>N</td><td>1945-03-05</td><td>1946-11-07</td></tr><tr><td>SUBID10008</td><td>Gurudas</td><td>Gupta</td><td>Sarin Nagar</td><td>1945-05-06</td><td>Male</td><td>+91 1232859381</td><td>India</td><td>Kamarhati</td><td>933226</td><td>S103</td><td>Y</td><td>1965-05-06</td><td>1970-09-16</td></tr><tr><td>SUBID10009</td><td>visitor</td><td>Gupta</td><td>Thakur Circle</td><td>1925-06-12</td><td>Male</td><td>+91 1780763280</td><td>India</td><td>Bangalore</td><td>957469</td><td>S105</td><td>Y</td><td>1945-06-12</td><td>1953-08-30</td></tr><tr><td>SUBID1010</td><td>visitor</td><td>Divedi</td><td>Dhillon</td><td>1976-02-03</td><td>Male</td><td>+91 5586075345</td><td>India</td><td>Rajkot</td><td>911319</td><td>S102</td><td>Y</td><td>1996-02-03</td><td>2002-01-27</td></tr><tr><td>SUBID10011</td><td>visitor</td><td>Vishwakarma</td><td>Rajagopalan</td><td>1955-01-22</td><td>Female</td><td>+91 4146391938</td><td>India</td><td>Ghaziabad</td><td>337042</td><td>S106</td><td>N</td><td>1975-01-22</td><td>1978-11-02</td></tr><tr><td>SUBID10012</td><td>Dharmadaas</td><td>Tiwari</td><td>Rama</td><td>1964-04-29</td><td>Male</td><td>+91 6345482027</td><td>India</td><td>Bhalswa Jahangir Pur</td><td>430793</td><td>S103</td><td>N</td><td>1984-04-29</td><td>1988-02-07</td></tr><tr><td>SUBID10013</td><td>Brahmvir</td><td>Rai</td><td>Shah Path</td><td>1991-11-11</td><td>Male</td><td>+91 7316972612</td><td>India</td><td>Ambala</td><td>249898</td><td>S106</td><td>N</td><td>2011-11-11</td><td>2020-05-23</td></tr><tr><td>SUBID10014</td><td>visitor</td><td>Srivastav</td><td>Chandra Path</td><td>1981-01-25</td><td>Female</td><td>+91 2960004518</td><td>India</td><td>Surendranagar Dudhrej</td><td>111966</td><td>S102</td><td>N</td><td>2001-01-25</td><td>2005-07-13</td></tr><tr><td>SUBID10015</td><td>Bhagvan</td><td>Srivastav</td><td>Edwin</td><td>1966-07-24</td><td>Female</td><td>+91 0297693485</td><td>India</td><td>Bhimavaram</td><td>436513</td><td>S105</td><td>Y</td><td>1986-07-24</td><td>1988-02-04</td></tr><tr><td>SUBID10016</td><td>Amritkala</td><td>Srivastav</td><td>Guha Path</td><td>1933-11-20</td><td>Female</td><td>+91 0537157280</td><td>India</td><td>Meerut</td><td>863467</td><td>S106</td><td>Y</td><td>1953-11-20</td><td>1955-07-29</td></tr><tr><td>SUBID10017</td><td>Bandhu</td><td>Seth</td><td>Varughese</td><td>1996-10-15</td><td>Male</td><td>+91 0695289163</td><td>India</td><td>Chinsurah</td><td>136713</td><td>S108</td><td>N</td><td>2016-10-15</td><td>2018-06-08</td></tr><tr><td>SUBID10018</td><td>Bhagavaana</td><td>Kumar</td><td>Kulkarni Zila</td><td>1935-09-16</td><td>Female</td><td>+91 6071745855</td><td>India</td><td>Shahjahanpur</td><td>597276</td><td>S101</td><td>N</td><td>1955-09-16</td><td>1958-05-31</td></tr><tr><td>SUBID10019</td><td>visitor</td><td>Maurya</td><td>Sharaf Nagar</td><td>1924-11-09</td><td>Female</td><td>+91 8906694405</td><td>India</td><td>Jabalpur</td><td>958538</td><td>S104</td><td>N</td><td>1944-11-09</td><td>1951-10-14</td></tr><tr><td>SUBID1020</td><td>Umang</td><td>Srivastav</td><td>Balay Chowk</td><td>1963-07-14</td><td>Female</td><td>+91 9485838770</td><td>India</td><td>Haridwar</td><td>181692</td><td>S109</td><td>Y</td><td>1983-07-14</td><td>1986-01-15</td></tr><tr><td>SUBID1021</td><td>Darsana</td><td>Yadav</td><td>Upadhyay Zila</td><td>1932-05-29</td><td>Male</td><td>+91 7676311811</td><td>India</td><td>Dibrugarh</td><td>187414</td><td>S109</td><td>Y</td><td>1952-05-29</td><td>1953-10-14</td></tr><tr><td>SUBID10022</td><td>Prakash</td><td>Rao</td><td>Sachar</td><td>1923-09-15</td><td>Female</td><td>+91 9268324471</td><td>India</td><td>Kottayam</td><td>180680</td><td>null</td><td>N</td><td>1943-09-15</td><td>1948-10-19</td></tr><tr><td>SUBID10023</td><td>Vaijayanti</td><td>Pratap</td><td>Khalsa Nagar</td><td>1920-11-13</td><td>Male</td><td>+91 9358851649</td><td>India</td><td>Mira-Bhayandar</td><td>419190</td><td>S102</td><td>Y</td><td>1940-11-13</td><td>1946-03-10</td></tr><tr><td>SUBID10024</td><td>Menakshi</td><td>Seth</td><td>Wable Street</td><td>1987-03-06</td><td>Male</td><td>+91 0531676556</td><td>India</td><td>Kamarhati</td><td>882577</td><td>S107</td><td>N</td><td>2007-03-06</td><td>2014-02-25</td></tr><tr><td>SUBID10025</td><td>visitor</td><td>Tiwari</td><td>Sha Chowk</td><td>1955-12-24</td><td>Male</td><td>+91 2416747182</td><td>India</td><td>Karimnagar</td><td>567762</td><td>S106</td><td>N</td><td>1975-12-24</td><td>1983-02-03</td></tr><tr><td>SUBID10026</td><td>Ekant</td><td>Sonkar</td><td>Walla Road</td><td>1943-08-13</td><td>Male</td><td>+91 7686951174</td><td>India</td><td>Berhampore</td><td>948589</td><td>S110</td><td>Y</td><td>1963-08-13</td><td>1967-05-29</td></tr><tr><td>SUBID10027</td><td>Chancharik</td><td>Pandey</td><td>Karan Ganj</td><td>1983-09-05</td><td>Male</td><td>+91 5309364825</td><td>India</td><td>Chapra</td><td>154667</td><td>S109</td><td>N</td><td>2003-09-05</td><td>2011-06-12</td></tr><tr><td>SUBID10028</td><td>Pushti</td><td>Pandit</td><td>Deol Path</td><td>1935-10-15</td><td>Female</td><td>+91 7093722203</td><td>India</td><td>Morbi</td><td>284168</td><td>S106</td><td>N</td><td>1955-10-15</td><td>1959-06-04</td></tr><tr><td>SUBID10029</td><td>Swati</td><td>Seth</td><td>Kant Marg</td><td>1987-12-11</td><td>Female</td><td>+91 1028477510</td><td>India</td><td>Amravati</td><td>932221</td><td>S102</td><td>N</td><td>2007-12-11</td><td>2011-10-17</td></tr><tr><td>SUBID1030</td><td>Upasana</td><td>Pandey</td><td>Seth Chowk</td><td>1956-06-01</td><td>Male</td><td>+91 0548234943</td><td>India</td><td>Hyderabad</td><td>234823</td><td>S102</td><td>N</td><td>1976-06-01</td><td>1981-02-14</td></tr><tr><td>SUBID10031</td><td>Kanhaiya</td><td>Lal</td><td>Savant Nagar</td><td>1954-10-19</td><td>Female</td><td>+91 0788738026</td><td>India</td><td>Mysore</td><td>638433</td><td>S104</td><td>Y</td><td>1974-10-19</td><td>1977-01-03</td></tr><tr><td>SUBID1032</td><td>visitor</td><td>Seth</td><td>Sandhu Chowk</td><td>1968-07-02</td><td>Female</td><td>+91 2599794460</td><td>India</td><td>Gwalior</td><td>611826</td><td>S110</td><td>N</td><td>1988-07-02</td><td>1991-03-14</td></tr><tr><td>SUBID10033</td><td>Gensho</td><td>Srivastav</td><td>Korpal Ganj</td><td>1992-06-06</td><td>Male</td><td>+91 4834040556</td><td>India</td><td>Ludhiana</td><td>835018</td><td>S101</td><td>N</td><td>2012-06-06</td><td>2022-01-09</td></tr><tr><td>SUBID1034</td><td>Gopal</td><td>Das</td><td>Saini</td><td>1986-05-14</td><td>Male</td><td>+91 1181471524</td><td>India</td><td>Raebareli</td><td>176221</td><td>S101</td><td>N</td><td>2006-05-14</td><td>2011-04-08</td></tr><tr><td>SUBID10035</td><td>Dheeman</td><td>Tiwari</td><td>Dube Marg</td><td>1945-05-04</td><td>Male</td><td>+91 8239321466</td><td>India</td><td>Mysore</td><td>811970</td><td>S101</td><td>Y</td><td>1965-05-04</td><td>1973-11-13</td></tr><tr><td>SUBID1036</td><td>Upasana</td><td>Thakur</td><td>Vasa Ganj</td><td>1927-10-03</td><td>Female</td><td>null</td><td>India</td><td>Ratlam</td><td>326733</td><td>S108</td><td>N</td><td>1947-10-03</td><td>1951-02-20</td></tr><tr><td>SUBID1037</td><td>visitor</td><td>Rajput</td><td>Shere Chowk</td><td>1948-11-10</td><td>Male</td><td>+91 8390195092</td><td>India</td><td>Vadodara</td><td>877443</td><td>S101</td><td>Y</td><td>1968-11-10</td><td>1973-12-25</td></tr><tr><td>SUBID1038</td><td>visitor</td><td>Thakur</td><td>Rastogi Street</td><td>1955-04-07</td><td>Female</td><td>+91 7434031446</td><td>India</td><td>Vijayawada</td><td>438940</td><td>S104</td><td>N</td><td>1975-04-07</td><td>1982-01-25</td></tr><tr><td>SUBID10039</td><td>Madhubala</td><td>Yadav</td><td>Sangha Marg</td><td>1937-01-11</td><td>Male</td><td>+91 8498685882</td><td>India</td><td>Jaunpur</td><td>624102</td><td>S104</td><td>Y</td><td>1957-01-11</td><td>1965-10-09</td></tr><tr><td>SUBID10040</td><td>Anjushree</td><td>Pandey</td><td>Vora Ganj</td><td>1976-07-04</td><td>Male</td><td>+91 5322869455</td><td>India</td><td>Ghaziabad</td><td>782221</td><td>S105</td><td>N</td><td>1996-07-04</td><td>1999-02-17</td></tr><tr><td>SUBID1041</td><td>visitor</td><td>Rajput</td><td>Sinha Path</td><td>1930-11-25</td><td>Female</td><td>null</td><td>India</td><td>Agartala</td><td>303503</td><td>S110</td><td>Y</td><td>1950-11-25</td><td>1957-09-14</td></tr><tr><td>SUBID10042</td><td>Chakrika</td><td>Sonkar</td><td>Bansal Circle</td><td>1964-08-05</td><td>Male</td><td>+91 8185162879</td><td>India</td><td>Ranchi</td><td>503290</td><td>S108</td><td>Y</td><td>1984-08-05</td><td>1992-09-09</td></tr><tr><td>SUBID1043</td><td>Saroj</td><td>Pandit</td><td>Sathe Zila</td><td>1942-08-26</td><td>Female</td><td>+91 5690408243</td><td>India</td><td>Muzaffarpur</td><td>130486</td><td>S103</td><td>Y</td><td>1962-08-26</td><td>1964-08-29</td></tr><tr><td>SUBID1044</td><td>Ayushmati</td><td>Vishwakarma</td><td>Balakrishnan Street</td><td>1932-09-20</td><td>Male</td><td>+91 3683223970</td><td>India</td><td>Satna</td><td>131247</td><td>S108</td><td>N</td><td>1952-09-20</td><td>1961-01-24</td></tr><tr><td>SUBID1045</td><td>Drashti</td><td>Divedi</td><td>Wadhwa</td><td>1926-07-03</td><td>Male</td><td>+91 9447269993</td><td>India</td><td>Saharsa</td><td>581568</td><td>S104</td><td>Y</td><td>1946-07-03</td><td>1952-11-27</td></tr><tr><td>SUBID10046</td><td>Aayushmaan</td><td>Maurya</td><td>Johal Nagar</td><td>1983-11-14</td><td>Female</td><td>+91 4464709769</td><td>India</td><td>Mehsana</td><td>987281</td><td>S104</td><td>Y</td><td>2003-11-14</td><td>2012-10-22</td></tr><tr><td>SUBID1047</td><td>visitor</td><td>Rai</td><td>Sagar Chowk</td><td>1931-02-04</td><td>Male</td><td>+91 2973105946</td><td>India</td><td>Shivpuri</td><td>794170</td><td>S109</td><td>Y</td><td>1951-02-04</td><td>1955-07-14</td></tr><tr><td>SUBID10048</td><td>Chitranjan</td><td>Mishra</td><td>Madan Nagar</td><td>1925-09-09</td><td>Female</td><td>+91 5176024720</td><td>India</td><td>Morbi</td><td>945697</td><td>S108</td><td>N</td><td>1945-09-09</td><td>1952-06-21</td></tr><tr><td>SUBID10049</td><td>Paridhi</td><td>Yadav</td><td>Sant Path</td><td>1959-03-27</td><td>Female</td><td>+91 2139280879</td><td>India</td><td>Jabalpur</td><td>883754</td><td>null</td><td>N</td><td>1979-03-27</td><td>1985-06-01</td></tr><tr><td>SUBID10050</td><td>Deependu</td><td>Gupta</td><td>Banik Ganj</td><td>1952-02-13</td><td>Female</td><td>+91 5674176644</td><td>India</td><td>Bareilly</td><td>417855</td><td>S102</td><td>Y</td><td>1972-02-13</td><td>1976-08-23</td></tr><tr><td>SUBID10051</td><td>visitor</td><td>Rajput</td><td>Chauhan Chowk</td><td>1946-10-17</td><td>Male</td><td>+91 9887324437</td><td>India</td><td>Baranagar</td><td>765234</td><td>S103</td><td>Y</td><td>1966-10-17</td><td>1969-06-26</td></tr><tr><td>SUBID10052</td><td>Laksman</td><td>Rao</td><td>Sood Marg</td><td>1939-05-26</td><td>Female</td><td>+91 4504120828</td><td>India</td><td>Ahmednagar</td><td>117923</td><td>S101</td><td>Y</td><td>1959-05-26</td><td>1960-11-07</td></tr><tr><td>SUBID10053</td><td>visitor</td><td>Sonkar</td><td>Shetty Marg</td><td>1988-06-27</td><td>Male</td><td>+91 6877897646</td><td>India</td><td>Pali</td><td>383290</td><td>S102</td><td>Y</td><td>2008-06-27</td><td>2016-10-30</td></tr><tr><td>SUBID10054</td><td>Shivakari</td><td>Pratap</td><td>Dugar Road</td><td>1944-11-02</td><td>Female</td><td>+91 3740484063</td><td>India</td><td>Hapur</td><td>28202</td><td>S104</td><td>N</td><td>1964-11-02</td><td>1967-06-15</td></tr><tr><td>SUBID10055</td><td>Madhu</td><td>Thakur</td><td>Sule Marg</td><td>1984-10-23</td><td>Male</td><td>+91 8367885507</td><td>India</td><td>Udaipur</td><td>565423</td><td>S107</td><td>N</td><td>2004-10-23</td><td>2008-07-10</td></tr><tr><td>SUBID10056</td><td>Chanak</td><td>Gupta</td><td>Shetty Nagar</td><td>1954-08-27</td><td>Male</td><td>+91 5093121123</td><td>India</td><td>Jalandhar</td><td>602989</td><td>S105</td><td>N</td><td>1974-08-27</td><td>1982-06-15</td></tr><tr><td>SUBID10057</td><td>Chittesh</td><td>Pandey</td><td>Mangal Chowk</td><td>1949-10-17</td><td>Male</td><td>+91 1378163498</td><td>India</td><td>Thoothukudi</td><td>666415</td><td>S109</td><td>Y</td><td>1969-10-17</td><td>1975-10-08</td></tr><tr><td>SUBID1058</td><td>Nawal</td><td>Rajput</td><td>Deol Nagar</td><td>1940-01-22</td><td>Male</td><td>+91 1885105576</td><td>India</td><td>Bhopal</td><td>791168</td><td>S106</td><td>N</td><td>1960-01-22</td><td>1969-04-18</td></tr><tr><td>SUBID10059</td><td>Gajabahu</td><td>Singh</td><td>Kara</td><td>1959-03-15</td><td>Male</td><td>+91 1207869436</td><td>India</td><td>Udupi</td><td>637221</td><td>S101</td><td>Y</td><td>1979-03-15</td><td>1986-07-05</td></tr><tr><td>SUBID10060</td><td>Jitesh</td><td>Vishwakarma</td><td>Gopal Path</td><td>1983-02-03</td><td>Male</td><td>+91 6515468035</td><td>India</td><td>Karimnagar</td><td>124564</td><td>S110</td><td>Y</td><td>2003-02-03</td><td>2008-04-30</td></tr><tr><td>SUBID10061</td><td>visitor</td><td>Rajput</td><td>Anand Path</td><td>1966-09-25</td><td>Female</td><td>+91 6477918745</td><td>India</td><td>Kharagpur</td><td>934938</td><td>S103</td><td>N</td><td>1986-09-25</td><td>1991-06-03</td></tr><tr><td>SUBID1062</td><td>Lalit</td><td>Mishra</td><td>Comar Street</td><td>1924-02-15</td><td>Female</td><td>+91 4647833992</td><td>India</td><td>Tinsukia</td><td>963770</td><td>S103</td><td>N</td><td>1944-02-15</td><td>1947-09-28</td></tr><tr><td>SUBID1063</td><td>Anshuk</td><td>Srivastav</td><td>Sridhar Path</td><td>1991-06-17</td><td>Male</td><td>+91 9764690642</td><td>India</td><td>Uluberia</td><td>270985</td><td>S105</td><td>N</td><td>2011-06-17</td><td>2014-07-11</td></tr><tr><td>SUBID10064</td><td>visitor</td><td>Pandey</td><td>Mangat Path</td><td>1994-01-13</td><td>Male</td><td>+91 8444537013</td><td>India</td><td>Panihati</td><td>643791</td><td>S110</td><td>N</td><td>2014-01-13</td><td>2019-02-24</td></tr><tr><td>SUBID1065</td><td>Dipesh</td><td>Mishra</td><td>Char Path</td><td>1949-04-01</td><td>Female</td><td>+91 5851958964</td><td>India</td><td>Kochi</td><td>31269</td><td>S103</td><td>Y</td><td>1969-04-01</td><td>1970-06-02</td></tr><tr><td>SUBID10066</td><td>visitor</td><td>Seth</td><td>Chaudhuri Marg</td><td>1930-09-01</td><td>Male</td><td>+91 7061843400</td><td>India</td><td>Kolhapur</td><td>597470</td><td>S102</td><td>N</td><td>1950-09-01</td><td>1957-12-01</td></tr><tr><td>SUBID1067</td><td>Kishan</td><td>Rao</td><td>Badal Nagar</td><td>1923-05-12</td><td>Male</td><td>+91 9067652693</td><td>India</td><td>Srikakulam</td><td>703899</td><td>S110</td><td>Y</td><td>1943-05-12</td><td>1946-09-20</td></tr><tr><td>SUBID10068</td><td>visitor</td><td>Mishra</td><td>Bath Nagar</td><td>1927-02-26</td><td>Female</td><td>+91 4984346995</td><td>India</td><td>Ambarnath</td><td>766224</td><td>S110</td><td>N</td><td>1947-02-26</td><td>1948-03-30</td></tr><tr><td>SUBID10069</td><td>Bhageeratha</td><td>Srivastav</td><td>Das Ganj</td><td>1973-03-21</td><td>Male</td><td>+91 0590662722</td><td>India</td><td>Sonipat</td><td>695316</td><td>S103</td><td>Y</td><td>1993-03-21</td><td>1997-08-01</td></tr><tr><td>SUBID10070</td><td>Balaaditya</td><td>Gupta</td><td>Varty Road</td><td>1923-11-02</td><td>Male</td><td>+91 3871269153</td><td>India</td><td>Hajipur</td><td>3526</td><td>S109</td><td>N</td><td>1943-11-02</td><td>1952-09-24</td></tr><tr><td>SUBID10071</td><td>visitor</td><td>Rai</td><td>Choudhury Chowk</td><td>1941-12-26</td><td>Female</td><td>+91 9287216619</td><td>India</td><td>Vellore</td><td>239532</td><td>S101</td><td>N</td><td>1961-12-26</td><td>1969-02-23</td></tr><tr><td>SUBID10072</td><td>Gopal</td><td>Srivastav</td><td>Desai Street</td><td>1936-03-11</td><td>Female</td><td>+91 3791210190</td><td>India</td><td>Bidhannagar</td><td>761800</td><td>S103</td><td>Y</td><td>1956-03-11</td><td>1964-07-28</td></tr><tr><td>SUBID1073</td><td>Virender</td><td>Maurrya</td><td>Chakrabarti</td><td>1936-10-27</td><td>Male</td><td>+91 7734026802</td><td>India</td><td>Bhusawal</td><td>374302</td><td>S104</td><td>N</td><td>1956-10-27</td><td>1961-04-27</td></tr><tr><td>SUBID10074</td><td>visitor</td><td>Singh</td><td>Kalla Path</td><td>1963-11-21</td><td>Male</td><td>+91 7881749363</td><td>India</td><td>Bokaro</td><td>866319</td><td>S105</td><td>Y</td><td>1983-11-21</td><td>1985-09-29</td></tr><tr><td>SUBID10075</td><td>visitor</td><td>Singh</td><td>Iyengar Nagar</td><td>1956-01-29</td><td>Male</td><td>+91 6891482136</td><td>India</td><td>Navi Mumbai</td><td>836175</td><td>S107</td><td>N</td><td>1976-01-29</td><td>1979-05-25</td></tr><tr><td>SUBID10076</td><td>Mamta</td><td>Tiwari</td><td>Batra</td><td>1964-12-21</td><td>Female</td><td>+91 5559521919</td><td>India</td><td>Secunderabad</td><td>123181</td><td>S104</td><td>N</td><td>1984-12-21</td><td>1987-01-08</td></tr><tr><td>SUBID10077</td><td>Girija</td><td>Maurrya</td><td>Iyengar Road</td><td>1933-04-25</td><td>Male</td><td>+91 1811765039</td><td>India</td><td>Jaipur</td><td>204379</td><td>S105</td><td>N</td><td>1953-04-25</td><td>1963-04-18</td></tr><tr><td>SUBID10078</td><td>Aaraadhana</td><td>Rao</td><td>Raval Nagar</td><td>1980-02-07</td><td>Male</td><td>+91 2432610572</td><td>India</td><td>Jhansi</td><td>429941</td><td>S108</td><td>N</td><td>2000-02-07</td><td>2005-02-06</td></tr><tr><td>SUBID10079</td><td>Shahnawaz</td><td>Mishra</td><td>Agate Path</td><td>1971-06-24</td><td>Female</td><td>+91 4117017589</td><td>India</td><td>Rampur</td><td>528893</td><td>S102</td><td>Y</td><td>1991-06-24</td><td>2000-09-13</td></tr><tr><td>SUBID10080</td><td>Tej</td><td>Sonkar</td><td>Sarraf Chowk</td><td>1942-06-11</td><td>Male</td><td>+91 3450311029</td><td>India</td><td>Haridwar</td><td>506221</td><td>S105</td><td>Y</td><td>1962-06-11</td><td>1964-10-14</td></tr><tr><td>SUBID10081</td><td>Mansi</td><td>Divedi</td><td>Bhattacharyya Road</td><td>1947-03-20</td><td>Female</td><td>+91 1135113927</td><td>India</td><td>Hosur</td><td>995152</td><td>S105</td><td>Y</td><td>1967-03-20</td><td>1971-07-25</td></tr><tr><td>SUBID10082</td><td>Girika</td><td>Thakur</td><td>Sinha Zila</td><td>1968-11-03</td><td>Female</td><td>+91 5601148700</td><td>India</td><td>Hospet</td><td>683614</td><td>S102</td><td>N</td><td>1988-11-03</td><td>1992-01-21</td></tr><tr><td>SUBID10083</td><td>Bhilangana</td><td>Pandit</td><td>Ramachandran Path</td><td>1995-01-04</td><td>Female</td><td>+91 6653069630</td><td>India</td><td>Fatehpur</td><td>359466</td><td>S109</td><td>Y</td><td>2015-01-04</td><td>2017-10-05</td></tr><tr><td>SUBID10084</td><td>visitor</td><td>Thakur</td><td>Raval Zila</td><td>1924-06-07</td><td>Female</td><td>+91 7367059254</td><td>India</td><td>Bhavnagar</td><td>464111</td><td>S107</td><td>Y</td><td>1944-06-07</td><td>1952-05-22</td></tr><tr><td>SUBID10085</td><td>Sukanya</td><td>Sonkar</td><td>Sangha Street</td><td>1942-01-16</td><td>Female</td><td>+91 5689645499</td><td>India</td><td>Vijayanagaram</td><td>226215</td><td>S101</td><td>N</td><td>1962-01-16</td><td>1967-04-10</td></tr><tr><td>SUBID1086</td><td>Banita</td><td>Rao</td><td>Thakur</td><td>1979-01-28</td><td>Male</td><td>+91 4743834161</td><td>India</td><td>Ghaziabad</td><td>907613</td><td>S109</td><td>N</td><td>1999-01-28</td><td>2000-09-05</td></tr><tr><td>SUBID1087</td><td>visitor</td><td>Pandit</td><td>Srivastava Path</td><td>1924-12-10</td><td>Female</td><td>+91 9158965227</td><td>India</td><td>Sambhal</td><td>279219</td><td>S103</td><td>N</td><td>1944-12-10</td><td>1951-07-16</td></tr><tr><td>SUBID10088</td><td>visitor</td><td>Rajput</td><td>Dua Zila</td><td>1922-07-30</td><td>Female</td><td>+91 9523946101</td><td>India</td><td>Tadipatri</td><td>743449</td><td>S110</td><td>N</td><td>1942-07-30</td><td>1949-06-07</td></tr><tr><td>SUBID10089</td><td>Dhuha</td><td>Tiwari</td><td>Aggarwal Street</td><td>1952-08-21</td><td>Male</td><td>+91 3188519840</td><td>India</td><td>Rampur</td><td>492137</td><td>S104</td><td>N</td><td>1972-08-21</td><td>1981-05-13</td></tr><tr><td>SUBID10090</td><td>visitor</td><td>Mishra</td><td>Chandran Nagar</td><td>1938-06-07</td><td>Female</td><td>+91 6869721169</td><td>India</td><td>Sikar</td><td>564747</td><td>S101</td><td>Y</td><td>1958-06-07</td><td>1967-08-23</td></tr><tr><td>SUBID1091</td><td>visitor</td><td>Thakur</td><td>Bala</td><td>1930-12-31</td><td>Male</td><td>+91 9664169480</td><td>India</td><td>Kamarhati</td><td>682652</td><td>S110</td><td>Y</td><td>1950-12-31</td><td>1958-06-21</td></tr><tr><td>SUBID10092</td><td>visitor</td><td>Rai</td><td>Karan Street</td><td>1940-08-22</td><td>Others</td><td>+91 7498206646</td><td>India</td><td>Ghaziabad</td><td>79586</td><td>S108</td><td>N</td><td>1960-08-22</td><td>1966-10-06</td></tr><tr><td>SUBID10093</td><td>Chandavarman</td><td>Singh</td><td>Sarkar Circle</td><td>1997-05-10</td><td>Others</td><td>+91 6559031791</td><td>India</td><td>Navi Mumbai</td><td>83240</td><td>S110</td><td>N</td><td>2017-05-10</td><td>2022-08-27</td></tr><tr><td>SUBID10094</td><td>Charanpal</td><td>Yadav</td><td>Sehgal Circle</td><td>1986-10-12</td><td>Male</td><td>+91 2196055115</td><td>India</td><td>Gurgaon</td><td>640326</td><td>S109</td><td>Y</td><td>2006-10-12</td><td>2016-05-13</td></tr><tr><td>SUBID10095</td><td>Ekaaksh</td><td>Rai</td><td>Bansal Ganj</td><td>1933-12-02</td><td>Others</td><td>null</td><td>India</td><td>Pimpri-Chinchwad</td><td>158186</td><td>S107</td><td>N</td><td>1953-12-02</td><td>1960-07-29</td></tr><tr><td>SUBID10096</td><td>Chanak</td><td>Sonkar</td><td>Kaur</td><td>1959-04-07</td><td>Others</td><td>+91 7284540687</td><td>India</td><td>Raurkela Industrial Township</td><td>899590</td><td>S101</td><td>Y</td><td>1979-04-07</td><td>1986-03-07</td></tr><tr><td>SUBID10097</td><td>visitor</td><td>Sonkar</td><td>Rana Ganj</td><td>1940-02-04</td><td>Others</td><td>+91 8908240160</td><td>India</td><td>Mira-Bhayandar</td><td>896586</td><td>S107</td><td>Y</td><td>1960-02-04</td><td>1965-01-12</td></tr><tr><td>SUBID1098</td><td>Pushkar</td><td>Kumar</td><td>Sodhi Zila</td><td>1934-10-05</td><td>Others</td><td>+91 8956368286</td><td>India</td><td>Korba</td><td>910732</td><td>S107</td><td>Y</td><td>1954-10-05</td><td>1961-04-05</td></tr><tr><td>SUBID10099</td><td>Shikha</td><td>Srivastav</td><td>Ahuja Road</td><td>1970-09-06</td><td>Others</td><td>+91 3042509956</td><td>India</td><td>Nanded</td><td>101500</td><td>S109</td><td>Y</td><td>1990-09-06</td><td>1997-11-27</td></tr></tbody></table></div>"
      ]
     },
     "metadata": {
      "application/vnd.databricks.v1+output": {
       "addedWidgets": {},
       "aggData": [],
       "aggError": "",
       "aggOverflow": false,
       "aggSchema": [],
       "aggSeriesLimitReached": false,
       "aggType": "",
       "arguments": {},
       "columnCustomDisplayInfos": {},
       "data": [
        [
         "SUBID10000",
         "Harbir",
         "Vishwakarma",
         "Baria Marg",
         "1924-06-30",
         "Female",
         "+91 0112009318",
         "India",
         "Rourkela",
         767058,
         "S107",
         "Y",
         "1944-06-30",
         "1954-01-14"
        ],
        [
         "SUBID10001",
         "Brahmdev",
         "Sonkar",
         "Lala Marg",
         "1948-12-20",
         "Female",
         "+91 1727749552",
         "India",
         "Tiruvottiyur",
         34639,
         "S105",
         "Y",
         "1968-12-20",
         "1970-05-16"
        ],
        [
         "SUBID10002",
         "Ujjawal",
         "Devi",
         "Mammen Zila",
         "1980-04-16",
         "Male",
         "+91 8547451606",
         "India",
         "Berhampur",
         914455,
         "S106",
         "N",
         "2000-04-16",
         "2008-05-04"
        ],
        [
         "SUBID10003",
         "Ballari",
         "Mishra",
         "Sahni Zila",
         "1969-09-25",
         "Female",
         "+91 0106026841",
         "India",
         "Bihar Sharif",
         91481,
         "S104",
         "N",
         "1989-09-25",
         "1995-06-05"
        ],
        [
         "SUBID10004",
         "Devnath",
         "Srivastav",
         "Magar Zila",
         "1946-05-01",
         "Female",
         "+91 1868774631",
         "India",
         "Bidhannagar",
         531742,
         "S110",
         "N",
         "1966-05-01",
         "1970-12-09"
        ],
        [
         "SUBID10005",
         "Atasi",
         "Seth",
         "Khatri Nagar",
         "1967-10-02",
         "Male",
         "+91 9747336855",
         "India",
         "Amravati",
         229062,
         "S104",
         "Y",
         "1987-10-02",
         "1995-02-13"
        ],
        [
         "SUBID1006",
         "Manish",
         "Maurya",
         "Swaminathan Chowk",
         "1967-06-06",
         "Male",
         "+91 4354294043",
         "India",
         "Panvel",
         438733,
         "S109",
         "N",
         "1987-06-06",
         "1995-03-21"
        ],
        [
         "SUBID10007",
         "Aakar",
         "Yadav",
         "Swamy",
         "1925-03-05",
         "Female",
         "+91 2777633911",
         "India",
         "Bihar Sharif",
         535907,
         "S104",
         "N",
         "1945-03-05",
         "1946-11-07"
        ],
        [
         "SUBID10008",
         "Gurudas",
         "Gupta",
         "Sarin Nagar",
         "1945-05-06",
         "Male",
         "+91 1232859381",
         "India",
         "Kamarhati",
         933226,
         "S103",
         "Y",
         "1965-05-06",
         "1970-09-16"
        ],
        [
         "SUBID10009",
         "visitor",
         "Gupta",
         "Thakur Circle",
         "1925-06-12",
         "Male",
         "+91 1780763280",
         "India",
         "Bangalore",
         957469,
         "S105",
         "Y",
         "1945-06-12",
         "1953-08-30"
        ],
        [
         "SUBID1010",
         "visitor",
         "Divedi",
         "Dhillon",
         "1976-02-03",
         "Male",
         "+91 5586075345",
         "India",
         "Rajkot",
         911319,
         "S102",
         "Y",
         "1996-02-03",
         "2002-01-27"
        ],
        [
         "SUBID10011",
         "visitor",
         "Vishwakarma",
         "Rajagopalan",
         "1955-01-22",
         "Female",
         "+91 4146391938",
         "India",
         "Ghaziabad",
         337042,
         "S106",
         "N",
         "1975-01-22",
         "1978-11-02"
        ],
        [
         "SUBID10012",
         "Dharmadaas",
         "Tiwari",
         "Rama",
         "1964-04-29",
         "Male",
         "+91 6345482027",
         "India",
         "Bhalswa Jahangir Pur",
         430793,
         "S103",
         "N",
         "1984-04-29",
         "1988-02-07"
        ],
        [
         "SUBID10013",
         "Brahmvir",
         "Rai",
         "Shah Path",
         "1991-11-11",
         "Male",
         "+91 7316972612",
         "India",
         "Ambala",
         249898,
         "S106",
         "N",
         "2011-11-11",
         "2020-05-23"
        ],
        [
         "SUBID10014",
         "visitor",
         "Srivastav",
         "Chandra Path",
         "1981-01-25",
         "Female",
         "+91 2960004518",
         "India",
         "Surendranagar Dudhrej",
         111966,
         "S102",
         "N",
         "2001-01-25",
         "2005-07-13"
        ],
        [
         "SUBID10015",
         "Bhagvan",
         "Srivastav",
         "Edwin",
         "1966-07-24",
         "Female",
         "+91 0297693485",
         "India",
         "Bhimavaram",
         436513,
         "S105",
         "Y",
         "1986-07-24",
         "1988-02-04"
        ],
        [
         "SUBID10016",
         "Amritkala",
         "Srivastav",
         "Guha Path",
         "1933-11-20",
         "Female",
         "+91 0537157280",
         "India",
         "Meerut",
         863467,
         "S106",
         "Y",
         "1953-11-20",
         "1955-07-29"
        ],
        [
         "SUBID10017",
         "Bandhu",
         "Seth",
         "Varughese",
         "1996-10-15",
         "Male",
         "+91 0695289163",
         "India",
         "Chinsurah",
         136713,
         "S108",
         "N",
         "2016-10-15",
         "2018-06-08"
        ],
        [
         "SUBID10018",
         "Bhagavaana",
         "Kumar",
         "Kulkarni Zila",
         "1935-09-16",
         "Female",
         "+91 6071745855",
         "India",
         "Shahjahanpur",
         597276,
         "S101",
         "N",
         "1955-09-16",
         "1958-05-31"
        ],
        [
         "SUBID10019",
         "visitor",
         "Maurya",
         "Sharaf Nagar",
         "1924-11-09",
         "Female",
         "+91 8906694405",
         "India",
         "Jabalpur",
         958538,
         "S104",
         "N",
         "1944-11-09",
         "1951-10-14"
        ],
        [
         "SUBID1020",
         "Umang",
         "Srivastav",
         "Balay Chowk",
         "1963-07-14",
         "Female",
         "+91 9485838770",
         "India",
         "Haridwar",
         181692,
         "S109",
         "Y",
         "1983-07-14",
         "1986-01-15"
        ],
        [
         "SUBID1021",
         "Darsana",
         "Yadav",
         "Upadhyay Zila",
         "1932-05-29",
         "Male",
         "+91 7676311811",
         "India",
         "Dibrugarh",
         187414,
         "S109",
         "Y",
         "1952-05-29",
         "1953-10-14"
        ],
        [
         "SUBID10022",
         "Prakash",
         "Rao",
         "Sachar",
         "1923-09-15",
         "Female",
         "+91 9268324471",
         "India",
         "Kottayam",
         180680,
         null,
         "N",
         "1943-09-15",
         "1948-10-19"
        ],
        [
         "SUBID10023",
         "Vaijayanti",
         "Pratap",
         "Khalsa Nagar",
         "1920-11-13",
         "Male",
         "+91 9358851649",
         "India",
         "Mira-Bhayandar",
         419190,
         "S102",
         "Y",
         "1940-11-13",
         "1946-03-10"
        ],
        [
         "SUBID10024",
         "Menakshi",
         "Seth",
         "Wable Street",
         "1987-03-06",
         "Male",
         "+91 0531676556",
         "India",
         "Kamarhati",
         882577,
         "S107",
         "N",
         "2007-03-06",
         "2014-02-25"
        ],
        [
         "SUBID10025",
         "visitor",
         "Tiwari",
         "Sha Chowk",
         "1955-12-24",
         "Male",
         "+91 2416747182",
         "India",
         "Karimnagar",
         567762,
         "S106",
         "N",
         "1975-12-24",
         "1983-02-03"
        ],
        [
         "SUBID10026",
         "Ekant",
         "Sonkar",
         "Walla Road",
         "1943-08-13",
         "Male",
         "+91 7686951174",
         "India",
         "Berhampore",
         948589,
         "S110",
         "Y",
         "1963-08-13",
         "1967-05-29"
        ],
        [
         "SUBID10027",
         "Chancharik",
         "Pandey",
         "Karan Ganj",
         "1983-09-05",
         "Male",
         "+91 5309364825",
         "India",
         "Chapra",
         154667,
         "S109",
         "N",
         "2003-09-05",
         "2011-06-12"
        ],
        [
         "SUBID10028",
         "Pushti",
         "Pandit",
         "Deol Path",
         "1935-10-15",
         "Female",
         "+91 7093722203",
         "India",
         "Morbi",
         284168,
         "S106",
         "N",
         "1955-10-15",
         "1959-06-04"
        ],
        [
         "SUBID10029",
         "Swati",
         "Seth",
         "Kant Marg",
         "1987-12-11",
         "Female",
         "+91 1028477510",
         "India",
         "Amravati",
         932221,
         "S102",
         "N",
         "2007-12-11",
         "2011-10-17"
        ],
        [
         "SUBID1030",
         "Upasana",
         "Pandey",
         "Seth Chowk",
         "1956-06-01",
         "Male",
         "+91 0548234943",
         "India",
         "Hyderabad",
         234823,
         "S102",
         "N",
         "1976-06-01",
         "1981-02-14"
        ],
        [
         "SUBID10031",
         "Kanhaiya",
         "Lal",
         "Savant Nagar",
         "1954-10-19",
         "Female",
         "+91 0788738026",
         "India",
         "Mysore",
         638433,
         "S104",
         "Y",
         "1974-10-19",
         "1977-01-03"
        ],
        [
         "SUBID1032",
         "visitor",
         "Seth",
         "Sandhu Chowk",
         "1968-07-02",
         "Female",
         "+91 2599794460",
         "India",
         "Gwalior",
         611826,
         "S110",
         "N",
         "1988-07-02",
         "1991-03-14"
        ],
        [
         "SUBID10033",
         "Gensho",
         "Srivastav",
         "Korpal Ganj",
         "1992-06-06",
         "Male",
         "+91 4834040556",
         "India",
         "Ludhiana",
         835018,
         "S101",
         "N",
         "2012-06-06",
         "2022-01-09"
        ],
        [
         "SUBID1034",
         "Gopal",
         "Das",
         "Saini",
         "1986-05-14",
         "Male",
         "+91 1181471524",
         "India",
         "Raebareli",
         176221,
         "S101",
         "N",
         "2006-05-14",
         "2011-04-08"
        ],
        [
         "SUBID10035",
         "Dheeman",
         "Tiwari",
         "Dube Marg",
         "1945-05-04",
         "Male",
         "+91 8239321466",
         "India",
         "Mysore",
         811970,
         "S101",
         "Y",
         "1965-05-04",
         "1973-11-13"
        ],
        [
         "SUBID1036",
         "Upasana",
         "Thakur",
         "Vasa Ganj",
         "1927-10-03",
         "Female",
         null,
         "India",
         "Ratlam",
         326733,
         "S108",
         "N",
         "1947-10-03",
         "1951-02-20"
        ],
        [
         "SUBID1037",
         "visitor",
         "Rajput",
         "Shere Chowk",
         "1948-11-10",
         "Male",
         "+91 8390195092",
         "India",
         "Vadodara",
         877443,
         "S101",
         "Y",
         "1968-11-10",
         "1973-12-25"
        ],
        [
         "SUBID1038",
         "visitor",
         "Thakur",
         "Rastogi Street",
         "1955-04-07",
         "Female",
         "+91 7434031446",
         "India",
         "Vijayawada",
         438940,
         "S104",
         "N",
         "1975-04-07",
         "1982-01-25"
        ],
        [
         "SUBID10039",
         "Madhubala",
         "Yadav",
         "Sangha Marg",
         "1937-01-11",
         "Male",
         "+91 8498685882",
         "India",
         "Jaunpur",
         624102,
         "S104",
         "Y",
         "1957-01-11",
         "1965-10-09"
        ],
        [
         "SUBID10040",
         "Anjushree",
         "Pandey",
         "Vora Ganj",
         "1976-07-04",
         "Male",
         "+91 5322869455",
         "India",
         "Ghaziabad",
         782221,
         "S105",
         "N",
         "1996-07-04",
         "1999-02-17"
        ],
        [
         "SUBID1041",
         "visitor",
         "Rajput",
         "Sinha Path",
         "1930-11-25",
         "Female",
         null,
         "India",
         "Agartala",
         303503,
         "S110",
         "Y",
         "1950-11-25",
         "1957-09-14"
        ],
        [
         "SUBID10042",
         "Chakrika",
         "Sonkar",
         "Bansal Circle",
         "1964-08-05",
         "Male",
         "+91 8185162879",
         "India",
         "Ranchi",
         503290,
         "S108",
         "Y",
         "1984-08-05",
         "1992-09-09"
        ],
        [
         "SUBID1043",
         "Saroj",
         "Pandit",
         "Sathe Zila",
         "1942-08-26",
         "Female",
         "+91 5690408243",
         "India",
         "Muzaffarpur",
         130486,
         "S103",
         "Y",
         "1962-08-26",
         "1964-08-29"
        ],
        [
         "SUBID1044",
         "Ayushmati",
         "Vishwakarma",
         "Balakrishnan Street",
         "1932-09-20",
         "Male",
         "+91 3683223970",
         "India",
         "Satna",
         131247,
         "S108",
         "N",
         "1952-09-20",
         "1961-01-24"
        ],
        [
         "SUBID1045",
         "Drashti",
         "Divedi",
         "Wadhwa",
         "1926-07-03",
         "Male",
         "+91 9447269993",
         "India",
         "Saharsa",
         581568,
         "S104",
         "Y",
         "1946-07-03",
         "1952-11-27"
        ],
        [
         "SUBID10046",
         "Aayushmaan",
         "Maurya",
         "Johal Nagar",
         "1983-11-14",
         "Female",
         "+91 4464709769",
         "India",
         "Mehsana",
         987281,
         "S104",
         "Y",
         "2003-11-14",
         "2012-10-22"
        ],
        [
         "SUBID1047",
         "visitor",
         "Rai",
         "Sagar Chowk",
         "1931-02-04",
         "Male",
         "+91 2973105946",
         "India",
         "Shivpuri",
         794170,
         "S109",
         "Y",
         "1951-02-04",
         "1955-07-14"
        ],
        [
         "SUBID10048",
         "Chitranjan",
         "Mishra",
         "Madan Nagar",
         "1925-09-09",
         "Female",
         "+91 5176024720",
         "India",
         "Morbi",
         945697,
         "S108",
         "N",
         "1945-09-09",
         "1952-06-21"
        ],
        [
         "SUBID10049",
         "Paridhi",
         "Yadav",
         "Sant Path",
         "1959-03-27",
         "Female",
         "+91 2139280879",
         "India",
         "Jabalpur",
         883754,
         null,
         "N",
         "1979-03-27",
         "1985-06-01"
        ],
        [
         "SUBID10050",
         "Deependu",
         "Gupta",
         "Banik Ganj",
         "1952-02-13",
         "Female",
         "+91 5674176644",
         "India",
         "Bareilly",
         417855,
         "S102",
         "Y",
         "1972-02-13",
         "1976-08-23"
        ],
        [
         "SUBID10051",
         "visitor",
         "Rajput",
         "Chauhan Chowk",
         "1946-10-17",
         "Male",
         "+91 9887324437",
         "India",
         "Baranagar",
         765234,
         "S103",
         "Y",
         "1966-10-17",
         "1969-06-26"
        ],
        [
         "SUBID10052",
         "Laksman",
         "Rao",
         "Sood Marg",
         "1939-05-26",
         "Female",
         "+91 4504120828",
         "India",
         "Ahmednagar",
         117923,
         "S101",
         "Y",
         "1959-05-26",
         "1960-11-07"
        ],
        [
         "SUBID10053",
         "visitor",
         "Sonkar",
         "Shetty Marg",
         "1988-06-27",
         "Male",
         "+91 6877897646",
         "India",
         "Pali",
         383290,
         "S102",
         "Y",
         "2008-06-27",
         "2016-10-30"
        ],
        [
         "SUBID10054",
         "Shivakari",
         "Pratap",
         "Dugar Road",
         "1944-11-02",
         "Female",
         "+91 3740484063",
         "India",
         "Hapur",
         28202,
         "S104",
         "N",
         "1964-11-02",
         "1967-06-15"
        ],
        [
         "SUBID10055",
         "Madhu",
         "Thakur",
         "Sule Marg",
         "1984-10-23",
         "Male",
         "+91 8367885507",
         "India",
         "Udaipur",
         565423,
         "S107",
         "N",
         "2004-10-23",
         "2008-07-10"
        ],
        [
         "SUBID10056",
         "Chanak",
         "Gupta",
         "Shetty Nagar",
         "1954-08-27",
         "Male",
         "+91 5093121123",
         "India",
         "Jalandhar",
         602989,
         "S105",
         "N",
         "1974-08-27",
         "1982-06-15"
        ],
        [
         "SUBID10057",
         "Chittesh",
         "Pandey",
         "Mangal Chowk",
         "1949-10-17",
         "Male",
         "+91 1378163498",
         "India",
         "Thoothukudi",
         666415,
         "S109",
         "Y",
         "1969-10-17",
         "1975-10-08"
        ],
        [
         "SUBID1058",
         "Nawal",
         "Rajput",
         "Deol Nagar",
         "1940-01-22",
         "Male",
         "+91 1885105576",
         "India",
         "Bhopal",
         791168,
         "S106",
         "N",
         "1960-01-22",
         "1969-04-18"
        ],
        [
         "SUBID10059",
         "Gajabahu",
         "Singh",
         "Kara",
         "1959-03-15",
         "Male",
         "+91 1207869436",
         "India",
         "Udupi",
         637221,
         "S101",
         "Y",
         "1979-03-15",
         "1986-07-05"
        ],
        [
         "SUBID10060",
         "Jitesh",
         "Vishwakarma",
         "Gopal Path",
         "1983-02-03",
         "Male",
         "+91 6515468035",
         "India",
         "Karimnagar",
         124564,
         "S110",
         "Y",
         "2003-02-03",
         "2008-04-30"
        ],
        [
         "SUBID10061",
         "visitor",
         "Rajput",
         "Anand Path",
         "1966-09-25",
         "Female",
         "+91 6477918745",
         "India",
         "Kharagpur",
         934938,
         "S103",
         "N",
         "1986-09-25",
         "1991-06-03"
        ],
        [
         "SUBID1062",
         "Lalit",
         "Mishra",
         "Comar Street",
         "1924-02-15",
         "Female",
         "+91 4647833992",
         "India",
         "Tinsukia",
         963770,
         "S103",
         "N",
         "1944-02-15",
         "1947-09-28"
        ],
        [
         "SUBID1063",
         "Anshuk",
         "Srivastav",
         "Sridhar Path",
         "1991-06-17",
         "Male",
         "+91 9764690642",
         "India",
         "Uluberia",
         270985,
         "S105",
         "N",
         "2011-06-17",
         "2014-07-11"
        ],
        [
         "SUBID10064",
         "visitor",
         "Pandey",
         "Mangat Path",
         "1994-01-13",
         "Male",
         "+91 8444537013",
         "India",
         "Panihati",
         643791,
         "S110",
         "N",
         "2014-01-13",
         "2019-02-24"
        ],
        [
         "SUBID1065",
         "Dipesh",
         "Mishra",
         "Char Path",
         "1949-04-01",
         "Female",
         "+91 5851958964",
         "India",
         "Kochi",
         31269,
         "S103",
         "Y",
         "1969-04-01",
         "1970-06-02"
        ],
        [
         "SUBID10066",
         "visitor",
         "Seth",
         "Chaudhuri Marg",
         "1930-09-01",
         "Male",
         "+91 7061843400",
         "India",
         "Kolhapur",
         597470,
         "S102",
         "N",
         "1950-09-01",
         "1957-12-01"
        ],
        [
         "SUBID1067",
         "Kishan",
         "Rao",
         "Badal Nagar",
         "1923-05-12",
         "Male",
         "+91 9067652693",
         "India",
         "Srikakulam",
         703899,
         "S110",
         "Y",
         "1943-05-12",
         "1946-09-20"
        ],
        [
         "SUBID10068",
         "visitor",
         "Mishra",
         "Bath Nagar",
         "1927-02-26",
         "Female",
         "+91 4984346995",
         "India",
         "Ambarnath",
         766224,
         "S110",
         "N",
         "1947-02-26",
         "1948-03-30"
        ],
        [
         "SUBID10069",
         "Bhageeratha",
         "Srivastav",
         "Das Ganj",
         "1973-03-21",
         "Male",
         "+91 0590662722",
         "India",
         "Sonipat",
         695316,
         "S103",
         "Y",
         "1993-03-21",
         "1997-08-01"
        ],
        [
         "SUBID10070",
         "Balaaditya",
         "Gupta",
         "Varty Road",
         "1923-11-02",
         "Male",
         "+91 3871269153",
         "India",
         "Hajipur",
         3526,
         "S109",
         "N",
         "1943-11-02",
         "1952-09-24"
        ],
        [
         "SUBID10071",
         "visitor",
         "Rai",
         "Choudhury Chowk",
         "1941-12-26",
         "Female",
         "+91 9287216619",
         "India",
         "Vellore",
         239532,
         "S101",
         "N",
         "1961-12-26",
         "1969-02-23"
        ],
        [
         "SUBID10072",
         "Gopal",
         "Srivastav",
         "Desai Street",
         "1936-03-11",
         "Female",
         "+91 3791210190",
         "India",
         "Bidhannagar",
         761800,
         "S103",
         "Y",
         "1956-03-11",
         "1964-07-28"
        ],
        [
         "SUBID1073",
         "Virender",
         "Maurrya",
         "Chakrabarti",
         "1936-10-27",
         "Male",
         "+91 7734026802",
         "India",
         "Bhusawal",
         374302,
         "S104",
         "N",
         "1956-10-27",
         "1961-04-27"
        ],
        [
         "SUBID10074",
         "visitor",
         "Singh",
         "Kalla Path",
         "1963-11-21",
         "Male",
         "+91 7881749363",
         "India",
         "Bokaro",
         866319,
         "S105",
         "Y",
         "1983-11-21",
         "1985-09-29"
        ],
        [
         "SUBID10075",
         "visitor",
         "Singh",
         "Iyengar Nagar",
         "1956-01-29",
         "Male",
         "+91 6891482136",
         "India",
         "Navi Mumbai",
         836175,
         "S107",
         "N",
         "1976-01-29",
         "1979-05-25"
        ],
        [
         "SUBID10076",
         "Mamta",
         "Tiwari",
         "Batra",
         "1964-12-21",
         "Female",
         "+91 5559521919",
         "India",
         "Secunderabad",
         123181,
         "S104",
         "N",
         "1984-12-21",
         "1987-01-08"
        ],
        [
         "SUBID10077",
         "Girija",
         "Maurrya",
         "Iyengar Road",
         "1933-04-25",
         "Male",
         "+91 1811765039",
         "India",
         "Jaipur",
         204379,
         "S105",
         "N",
         "1953-04-25",
         "1963-04-18"
        ],
        [
         "SUBID10078",
         "Aaraadhana",
         "Rao",
         "Raval Nagar",
         "1980-02-07",
         "Male",
         "+91 2432610572",
         "India",
         "Jhansi",
         429941,
         "S108",
         "N",
         "2000-02-07",
         "2005-02-06"
        ],
        [
         "SUBID10079",
         "Shahnawaz",
         "Mishra",
         "Agate Path",
         "1971-06-24",
         "Female",
         "+91 4117017589",
         "India",
         "Rampur",
         528893,
         "S102",
         "Y",
         "1991-06-24",
         "2000-09-13"
        ],
        [
         "SUBID10080",
         "Tej",
         "Sonkar",
         "Sarraf Chowk",
         "1942-06-11",
         "Male",
         "+91 3450311029",
         "India",
         "Haridwar",
         506221,
         "S105",
         "Y",
         "1962-06-11",
         "1964-10-14"
        ],
        [
         "SUBID10081",
         "Mansi",
         "Divedi",
         "Bhattacharyya Road",
         "1947-03-20",
         "Female",
         "+91 1135113927",
         "India",
         "Hosur",
         995152,
         "S105",
         "Y",
         "1967-03-20",
         "1971-07-25"
        ],
        [
         "SUBID10082",
         "Girika",
         "Thakur",
         "Sinha Zila",
         "1968-11-03",
         "Female",
         "+91 5601148700",
         "India",
         "Hospet",
         683614,
         "S102",
         "N",
         "1988-11-03",
         "1992-01-21"
        ],
        [
         "SUBID10083",
         "Bhilangana",
         "Pandit",
         "Ramachandran Path",
         "1995-01-04",
         "Female",
         "+91 6653069630",
         "India",
         "Fatehpur",
         359466,
         "S109",
         "Y",
         "2015-01-04",
         "2017-10-05"
        ],
        [
         "SUBID10084",
         "visitor",
         "Thakur",
         "Raval Zila",
         "1924-06-07",
         "Female",
         "+91 7367059254",
         "India",
         "Bhavnagar",
         464111,
         "S107",
         "Y",
         "1944-06-07",
         "1952-05-22"
        ],
        [
         "SUBID10085",
         "Sukanya",
         "Sonkar",
         "Sangha Street",
         "1942-01-16",
         "Female",
         "+91 5689645499",
         "India",
         "Vijayanagaram",
         226215,
         "S101",
         "N",
         "1962-01-16",
         "1967-04-10"
        ],
        [
         "SUBID1086",
         "Banita",
         "Rao",
         "Thakur",
         "1979-01-28",
         "Male",
         "+91 4743834161",
         "India",
         "Ghaziabad",
         907613,
         "S109",
         "N",
         "1999-01-28",
         "2000-09-05"
        ],
        [
         "SUBID1087",
         "visitor",
         "Pandit",
         "Srivastava Path",
         "1924-12-10",
         "Female",
         "+91 9158965227",
         "India",
         "Sambhal",
         279219,
         "S103",
         "N",
         "1944-12-10",
         "1951-07-16"
        ],
        [
         "SUBID10088",
         "visitor",
         "Rajput",
         "Dua Zila",
         "1922-07-30",
         "Female",
         "+91 9523946101",
         "India",
         "Tadipatri",
         743449,
         "S110",
         "N",
         "1942-07-30",
         "1949-06-07"
        ],
        [
         "SUBID10089",
         "Dhuha",
         "Tiwari",
         "Aggarwal Street",
         "1952-08-21",
         "Male",
         "+91 3188519840",
         "India",
         "Rampur",
         492137,
         "S104",
         "N",
         "1972-08-21",
         "1981-05-13"
        ],
        [
         "SUBID10090",
         "visitor",
         "Mishra",
         "Chandran Nagar",
         "1938-06-07",
         "Female",
         "+91 6869721169",
         "India",
         "Sikar",
         564747,
         "S101",
         "Y",
         "1958-06-07",
         "1967-08-23"
        ],
        [
         "SUBID1091",
         "visitor",
         "Thakur",
         "Bala",
         "1930-12-31",
         "Male",
         "+91 9664169480",
         "India",
         "Kamarhati",
         682652,
         "S110",
         "Y",
         "1950-12-31",
         "1958-06-21"
        ],
        [
         "SUBID10092",
         "visitor",
         "Rai",
         "Karan Street",
         "1940-08-22",
         "Others",
         "+91 7498206646",
         "India",
         "Ghaziabad",
         79586,
         "S108",
         "N",
         "1960-08-22",
         "1966-10-06"
        ],
        [
         "SUBID10093",
         "Chandavarman",
         "Singh",
         "Sarkar Circle",
         "1997-05-10",
         "Others",
         "+91 6559031791",
         "India",
         "Navi Mumbai",
         83240,
         "S110",
         "N",
         "2017-05-10",
         "2022-08-27"
        ],
        [
         "SUBID10094",
         "Charanpal",
         "Yadav",
         "Sehgal Circle",
         "1986-10-12",
         "Male",
         "+91 2196055115",
         "India",
         "Gurgaon",
         640326,
         "S109",
         "Y",
         "2006-10-12",
         "2016-05-13"
        ],
        [
         "SUBID10095",
         "Ekaaksh",
         "Rai",
         "Bansal Ganj",
         "1933-12-02",
         "Others",
         null,
         "India",
         "Pimpri-Chinchwad",
         158186,
         "S107",
         "N",
         "1953-12-02",
         "1960-07-29"
        ],
        [
         "SUBID10096",
         "Chanak",
         "Sonkar",
         "Kaur",
         "1959-04-07",
         "Others",
         "+91 7284540687",
         "India",
         "Raurkela Industrial Township",
         899590,
         "S101",
         "Y",
         "1979-04-07",
         "1986-03-07"
        ],
        [
         "SUBID10097",
         "visitor",
         "Sonkar",
         "Rana Ganj",
         "1940-02-04",
         "Others",
         "+91 8908240160",
         "India",
         "Mira-Bhayandar",
         896586,
         "S107",
         "Y",
         "1960-02-04",
         "1965-01-12"
        ],
        [
         "SUBID1098",
         "Pushkar",
         "Kumar",
         "Sodhi Zila",
         "1934-10-05",
         "Others",
         "+91 8956368286",
         "India",
         "Korba",
         910732,
         "S107",
         "Y",
         "1954-10-05",
         "1961-04-05"
        ],
        [
         "SUBID10099",
         "Shikha",
         "Srivastav",
         "Ahuja Road",
         "1970-09-06",
         "Others",
         "+91 3042509956",
         "India",
         "Nanded",
         101500,
         "S109",
         "Y",
         "1990-09-06",
         "1997-11-27"
        ]
       ],
       "datasetInfos": [],
       "dbfsResultPath": null,
       "isJsonSchema": true,
       "metadata": {},
       "overflow": false,
       "plotOptions": {
        "customPlotOptions": {},
        "displayType": "table",
        "pivotAggregation": null,
        "pivotColumns": null,
        "xColumns": null,
        "yColumns": null
       },
       "removedWidgets": [],
       "schema": [
        {
         "metadata": "{}",
         "name": "sub_id",
         "type": "\"string\""
        },
        {
         "metadata": "{}",
         "name": "first_name",
         "type": "\"string\""
        },
        {
         "metadata": "{}",
         "name": "last_name",
         "type": "\"string\""
        },
        {
         "metadata": "{}",
         "name": "Street",
         "type": "\"string\""
        },
        {
         "metadata": "{\"__detected_date_formats\":\"d-M-yyyy\"}",
         "name": "Birth_date",
         "type": "\"date\""
        },
        {
         "metadata": "{}",
         "name": "Gender",
         "type": "\"string\""
        },
        {
         "metadata": "{}",
         "name": "Phone",
         "type": "\"string\""
        },
        {
         "metadata": "{}",
         "name": "Country",
         "type": "\"string\""
        },
        {
         "metadata": "{}",
         "name": "City",
         "type": "\"string\""
        },
        {
         "metadata": "{}",
         "name": "Zip Code",
         "type": "\"integer\""
        },
        {
         "metadata": "{}",
         "name": "Subgrp_id",
         "type": "\"string\""
        },
        {
         "metadata": "{}",
         "name": "Elig_ind",
         "type": "\"string\""
        },
        {
         "metadata": "{\"__detected_date_formats\":\"d-M-yyyy\"}",
         "name": "eff_date",
         "type": "\"date\""
        },
        {
         "metadata": "{\"__detected_date_formats\":\"d-M-yyyy\"}",
         "name": "term_date",
         "type": "\"date\""
        }
       ],
       "type": "table"
      }
     },
     "output_type": "display_data"
    }
   ],
   "source": [
    "display(susci_df)"
   ]
  },
  {
   "cell_type": "code",
   "execution_count": 0,
   "metadata": {
    "application/vnd.databricks.v1+cell": {
     "cellMetadata": {
      "byteLimit": 2048000,
      "rowLimit": 10000
     },
     "inputWidgets": {},
     "nuid": "9da72ff6-618b-4222-8386-95ba23c485af",
     "showTitle": false,
     "tableResultSettingsMap": {},
     "title": ""
    }
   },
   "outputs": [
    {
     "output_type": "stream",
     "name": "stdout",
     "output_type": "stream",
     "text": [
      "+------+----------+---------+------+----------+------+-----+-------+----+--------+---------+--------+--------+---------+\n|sub_id|first_name|last_name|Street|Birth_date|Gender|Phone|Country|City|Zip Code|Subgrp_id|Elig_ind|eff_date|term_date|\n+------+----------+---------+------+----------+------+-----+-------+----+--------+---------+--------+--------+---------+\n|     0|         0|        0|     0|         0|     0|    3|      0|   0|       0|        2|       0|       0|        0|\n+------+----------+---------+------+----------+------+-----+-------+----+--------+---------+--------+--------+---------+\n\n"
     ]
    }
   ],
   "source": [
    "missingvaluescheck(susci_df)"
   ]
  },
  {
   "cell_type": "code",
   "execution_count": 0,
   "metadata": {
    "application/vnd.databricks.v1+cell": {
     "cellMetadata": {
      "byteLimit": 2048000,
      "rowLimit": 10000
     },
     "inputWidgets": {},
     "nuid": "61d60245-7a77-4306-b80e-69a5c9fba3b9",
     "showTitle": false,
     "tableResultSettingsMap": {},
     "title": ""
    }
   },
   "outputs": [],
   "source": [
    "susci_df = susci_df.drop('Phone') #dropping ph number column"
   ]
  },
  {
   "cell_type": "code",
   "execution_count": 0,
   "metadata": {
    "application/vnd.databricks.v1+cell": {
     "cellMetadata": {
      "byteLimit": 2048000,
      "rowLimit": 10000
     },
     "inputWidgets": {},
     "nuid": "f3b0ea27-2156-4e75-84cc-9625437d5704",
     "showTitle": false,
     "tableResultSettingsMap": {},
     "title": ""
    }
   },
   "outputs": [
    {
     "output_type": "stream",
     "name": "stdout",
     "output_type": "stream",
     "text": [
      "+------+----------+---------+------+----------+------+-------+----+--------+---------+--------+--------+---------+\n|sub_id|first_name|last_name|Street|Birth_date|Gender|Country|City|Zip Code|Subgrp_id|Elig_ind|eff_date|term_date|\n+------+----------+---------+------+----------+------+-------+----+--------+---------+--------+--------+---------+\n|     0|         0|        0|     0|         0|     0|      0|   0|       0|        2|       0|       0|        0|\n+------+----------+---------+------+----------+------+-------+----+--------+---------+--------+--------+---------+\n\n"
     ]
    }
   ],
   "source": [
    "missingvaluescheck(susci_df)"
   ]
  },
  {
   "cell_type": "code",
   "execution_count": 0,
   "metadata": {
    "application/vnd.databricks.v1+cell": {
     "cellMetadata": {
      "byteLimit": 2048000,
      "rowLimit": 10000
     },
     "inputWidgets": {},
     "nuid": "aac09534-f2fd-479f-a664-f4eec6f756ff",
     "showTitle": false,
     "tableResultSettingsMap": {},
     "title": ""
    }
   },
   "outputs": [],
   "source": [
    "susci_df = susci_df.withColumn(\"age\",round(months_between(current_date(),susci_df.Birth_date)/12,0).cast('integer'))"
   ]
  },
  {
   "cell_type": "code",
   "execution_count": 0,
   "metadata": {
    "application/vnd.databricks.v1+cell": {
     "cellMetadata": {
      "byteLimit": 2048000,
      "rowLimit": 10000
     },
     "inputWidgets": {},
     "nuid": "fb0aed88-194e-48da-b4f7-2d67c5ba58ed",
     "showTitle": false,
     "tableResultSettingsMap": {},
     "title": ""
    }
   },
   "outputs": [
    {
     "output_type": "display_data",
     "data": {
      "text/html": [
       "<style scoped>\n",
       "  .table-result-container {\n",
       "    max-height: 300px;\n",
       "    overflow: auto;\n",
       "  }\n",
       "  table, th, td {\n",
       "    border: 1px solid black;\n",
       "    border-collapse: collapse;\n",
       "  }\n",
       "  th, td {\n",
       "    padding: 5px;\n",
       "  }\n",
       "  th {\n",
       "    text-align: left;\n",
       "  }\n",
       "</style><div class='table-result-container'><table class='table-result'><thead style='background-color: white'><tr><th>sub_id</th><th>first_name</th><th>last_name</th><th>Street</th><th>Birth_date</th><th>Gender</th><th>Country</th><th>City</th><th>Zip Code</th><th>Subgrp_id</th><th>Elig_ind</th><th>eff_date</th><th>term_date</th><th>age</th></tr></thead><tbody><tr><td>SUBID10000</td><td>Harbir</td><td>Vishwakarma</td><td>Baria Marg</td><td>1924-06-30</td><td>Female</td><td>India</td><td>Rourkela</td><td>767058</td><td>S107</td><td>Y</td><td>1944-06-30</td><td>1954-01-14</td><td>101</td></tr><tr><td>SUBID10001</td><td>Brahmdev</td><td>Sonkar</td><td>Lala Marg</td><td>1948-12-20</td><td>Female</td><td>India</td><td>Tiruvottiyur</td><td>34639</td><td>S105</td><td>Y</td><td>1968-12-20</td><td>1970-05-16</td><td>76</td></tr><tr><td>SUBID10002</td><td>Ujjawal</td><td>Devi</td><td>Mammen Zila</td><td>1980-04-16</td><td>Male</td><td>India</td><td>Berhampur</td><td>914455</td><td>S106</td><td>N</td><td>2000-04-16</td><td>2008-05-04</td><td>45</td></tr><tr><td>SUBID10003</td><td>Ballari</td><td>Mishra</td><td>Sahni Zila</td><td>1969-09-25</td><td>Female</td><td>India</td><td>Bihar Sharif</td><td>91481</td><td>S104</td><td>N</td><td>1989-09-25</td><td>1995-06-05</td><td>56</td></tr><tr><td>SUBID10004</td><td>Devnath</td><td>Srivastav</td><td>Magar Zila</td><td>1946-05-01</td><td>Female</td><td>India</td><td>Bidhannagar</td><td>531742</td><td>S110</td><td>N</td><td>1966-05-01</td><td>1970-12-09</td><td>79</td></tr><tr><td>SUBID10005</td><td>Atasi</td><td>Seth</td><td>Khatri Nagar</td><td>1967-10-02</td><td>Male</td><td>India</td><td>Amravati</td><td>229062</td><td>S104</td><td>Y</td><td>1987-10-02</td><td>1995-02-13</td><td>57</td></tr><tr><td>SUBID1006</td><td>Manish</td><td>Maurya</td><td>Swaminathan Chowk</td><td>1967-06-06</td><td>Male</td><td>India</td><td>Panvel</td><td>438733</td><td>S109</td><td>N</td><td>1987-06-06</td><td>1995-03-21</td><td>58</td></tr><tr><td>SUBID10007</td><td>Aakar</td><td>Yadav</td><td>Swamy</td><td>1925-03-05</td><td>Female</td><td>India</td><td>Bihar Sharif</td><td>535907</td><td>S104</td><td>N</td><td>1945-03-05</td><td>1946-11-07</td><td>100</td></tr><tr><td>SUBID10008</td><td>Gurudas</td><td>Gupta</td><td>Sarin Nagar</td><td>1945-05-06</td><td>Male</td><td>India</td><td>Kamarhati</td><td>933226</td><td>S103</td><td>Y</td><td>1965-05-06</td><td>1970-09-16</td><td>80</td></tr><tr><td>SUBID10009</td><td>visitor</td><td>Gupta</td><td>Thakur Circle</td><td>1925-06-12</td><td>Male</td><td>India</td><td>Bangalore</td><td>957469</td><td>S105</td><td>Y</td><td>1945-06-12</td><td>1953-08-30</td><td>100</td></tr><tr><td>SUBID1010</td><td>visitor</td><td>Divedi</td><td>Dhillon</td><td>1976-02-03</td><td>Male</td><td>India</td><td>Rajkot</td><td>911319</td><td>S102</td><td>Y</td><td>1996-02-03</td><td>2002-01-27</td><td>49</td></tr><tr><td>SUBID10011</td><td>visitor</td><td>Vishwakarma</td><td>Rajagopalan</td><td>1955-01-22</td><td>Female</td><td>India</td><td>Ghaziabad</td><td>337042</td><td>S106</td><td>N</td><td>1975-01-22</td><td>1978-11-02</td><td>70</td></tr><tr><td>SUBID10012</td><td>Dharmadaas</td><td>Tiwari</td><td>Rama</td><td>1964-04-29</td><td>Male</td><td>India</td><td>Bhalswa Jahangir Pur</td><td>430793</td><td>S103</td><td>N</td><td>1984-04-29</td><td>1988-02-07</td><td>61</td></tr><tr><td>SUBID10013</td><td>Brahmvir</td><td>Rai</td><td>Shah Path</td><td>1991-11-11</td><td>Male</td><td>India</td><td>Ambala</td><td>249898</td><td>S106</td><td>N</td><td>2011-11-11</td><td>2020-05-23</td><td>33</td></tr><tr><td>SUBID10014</td><td>visitor</td><td>Srivastav</td><td>Chandra Path</td><td>1981-01-25</td><td>Female</td><td>India</td><td>Surendranagar Dudhrej</td><td>111966</td><td>S102</td><td>N</td><td>2001-01-25</td><td>2005-07-13</td><td>44</td></tr><tr><td>SUBID10015</td><td>Bhagvan</td><td>Srivastav</td><td>Edwin</td><td>1966-07-24</td><td>Female</td><td>India</td><td>Bhimavaram</td><td>436513</td><td>S105</td><td>Y</td><td>1986-07-24</td><td>1988-02-04</td><td>59</td></tr><tr><td>SUBID10016</td><td>Amritkala</td><td>Srivastav</td><td>Guha Path</td><td>1933-11-20</td><td>Female</td><td>India</td><td>Meerut</td><td>863467</td><td>S106</td><td>Y</td><td>1953-11-20</td><td>1955-07-29</td><td>91</td></tr><tr><td>SUBID10017</td><td>Bandhu</td><td>Seth</td><td>Varughese</td><td>1996-10-15</td><td>Male</td><td>India</td><td>Chinsurah</td><td>136713</td><td>S108</td><td>N</td><td>2016-10-15</td><td>2018-06-08</td><td>28</td></tr><tr><td>SUBID10018</td><td>Bhagavaana</td><td>Kumar</td><td>Kulkarni Zila</td><td>1935-09-16</td><td>Female</td><td>India</td><td>Shahjahanpur</td><td>597276</td><td>S101</td><td>N</td><td>1955-09-16</td><td>1958-05-31</td><td>90</td></tr><tr><td>SUBID10019</td><td>visitor</td><td>Maurya</td><td>Sharaf Nagar</td><td>1924-11-09</td><td>Female</td><td>India</td><td>Jabalpur</td><td>958538</td><td>S104</td><td>N</td><td>1944-11-09</td><td>1951-10-14</td><td>100</td></tr><tr><td>SUBID1020</td><td>Umang</td><td>Srivastav</td><td>Balay Chowk</td><td>1963-07-14</td><td>Female</td><td>India</td><td>Haridwar</td><td>181692</td><td>S109</td><td>Y</td><td>1983-07-14</td><td>1986-01-15</td><td>62</td></tr><tr><td>SUBID1021</td><td>Darsana</td><td>Yadav</td><td>Upadhyay Zila</td><td>1932-05-29</td><td>Male</td><td>India</td><td>Dibrugarh</td><td>187414</td><td>S109</td><td>Y</td><td>1952-05-29</td><td>1953-10-14</td><td>93</td></tr><tr><td>SUBID10022</td><td>Prakash</td><td>Rao</td><td>Sachar</td><td>1923-09-15</td><td>Female</td><td>India</td><td>Kottayam</td><td>180680</td><td>null</td><td>N</td><td>1943-09-15</td><td>1948-10-19</td><td>102</td></tr><tr><td>SUBID10023</td><td>Vaijayanti</td><td>Pratap</td><td>Khalsa Nagar</td><td>1920-11-13</td><td>Male</td><td>India</td><td>Mira-Bhayandar</td><td>419190</td><td>S102</td><td>Y</td><td>1940-11-13</td><td>1946-03-10</td><td>104</td></tr><tr><td>SUBID10024</td><td>Menakshi</td><td>Seth</td><td>Wable Street</td><td>1987-03-06</td><td>Male</td><td>India</td><td>Kamarhati</td><td>882577</td><td>S107</td><td>N</td><td>2007-03-06</td><td>2014-02-25</td><td>38</td></tr><tr><td>SUBID10025</td><td>visitor</td><td>Tiwari</td><td>Sha Chowk</td><td>1955-12-24</td><td>Male</td><td>India</td><td>Karimnagar</td><td>567762</td><td>S106</td><td>N</td><td>1975-12-24</td><td>1983-02-03</td><td>69</td></tr><tr><td>SUBID10026</td><td>Ekant</td><td>Sonkar</td><td>Walla Road</td><td>1943-08-13</td><td>Male</td><td>India</td><td>Berhampore</td><td>948589</td><td>S110</td><td>Y</td><td>1963-08-13</td><td>1967-05-29</td><td>82</td></tr><tr><td>SUBID10027</td><td>Chancharik</td><td>Pandey</td><td>Karan Ganj</td><td>1983-09-05</td><td>Male</td><td>India</td><td>Chapra</td><td>154667</td><td>S109</td><td>N</td><td>2003-09-05</td><td>2011-06-12</td><td>42</td></tr><tr><td>SUBID10028</td><td>Pushti</td><td>Pandit</td><td>Deol Path</td><td>1935-10-15</td><td>Female</td><td>India</td><td>Morbi</td><td>284168</td><td>S106</td><td>N</td><td>1955-10-15</td><td>1959-06-04</td><td>89</td></tr><tr><td>SUBID10029</td><td>Swati</td><td>Seth</td><td>Kant Marg</td><td>1987-12-11</td><td>Female</td><td>India</td><td>Amravati</td><td>932221</td><td>S102</td><td>N</td><td>2007-12-11</td><td>2011-10-17</td><td>37</td></tr><tr><td>SUBID1030</td><td>Upasana</td><td>Pandey</td><td>Seth Chowk</td><td>1956-06-01</td><td>Male</td><td>India</td><td>Hyderabad</td><td>234823</td><td>S102</td><td>N</td><td>1976-06-01</td><td>1981-02-14</td><td>69</td></tr><tr><td>SUBID10031</td><td>Kanhaiya</td><td>Lal</td><td>Savant Nagar</td><td>1954-10-19</td><td>Female</td><td>India</td><td>Mysore</td><td>638433</td><td>S104</td><td>Y</td><td>1974-10-19</td><td>1977-01-03</td><td>70</td></tr><tr><td>SUBID1032</td><td>visitor</td><td>Seth</td><td>Sandhu Chowk</td><td>1968-07-02</td><td>Female</td><td>India</td><td>Gwalior</td><td>611826</td><td>S110</td><td>N</td><td>1988-07-02</td><td>1991-03-14</td><td>57</td></tr><tr><td>SUBID10033</td><td>Gensho</td><td>Srivastav</td><td>Korpal Ganj</td><td>1992-06-06</td><td>Male</td><td>India</td><td>Ludhiana</td><td>835018</td><td>S101</td><td>N</td><td>2012-06-06</td><td>2022-01-09</td><td>33</td></tr><tr><td>SUBID1034</td><td>Gopal</td><td>Das</td><td>Saini</td><td>1986-05-14</td><td>Male</td><td>India</td><td>Raebareli</td><td>176221</td><td>S101</td><td>N</td><td>2006-05-14</td><td>2011-04-08</td><td>39</td></tr><tr><td>SUBID10035</td><td>Dheeman</td><td>Tiwari</td><td>Dube Marg</td><td>1945-05-04</td><td>Male</td><td>India</td><td>Mysore</td><td>811970</td><td>S101</td><td>Y</td><td>1965-05-04</td><td>1973-11-13</td><td>80</td></tr><tr><td>SUBID1036</td><td>Upasana</td><td>Thakur</td><td>Vasa Ganj</td><td>1927-10-03</td><td>Female</td><td>India</td><td>Ratlam</td><td>326733</td><td>S108</td><td>N</td><td>1947-10-03</td><td>1951-02-20</td><td>97</td></tr><tr><td>SUBID1037</td><td>visitor</td><td>Rajput</td><td>Shere Chowk</td><td>1948-11-10</td><td>Male</td><td>India</td><td>Vadodara</td><td>877443</td><td>S101</td><td>Y</td><td>1968-11-10</td><td>1973-12-25</td><td>76</td></tr><tr><td>SUBID1038</td><td>visitor</td><td>Thakur</td><td>Rastogi Street</td><td>1955-04-07</td><td>Female</td><td>India</td><td>Vijayawada</td><td>438940</td><td>S104</td><td>N</td><td>1975-04-07</td><td>1982-01-25</td><td>70</td></tr><tr><td>SUBID10039</td><td>Madhubala</td><td>Yadav</td><td>Sangha Marg</td><td>1937-01-11</td><td>Male</td><td>India</td><td>Jaunpur</td><td>624102</td><td>S104</td><td>Y</td><td>1957-01-11</td><td>1965-10-09</td><td>88</td></tr><tr><td>SUBID10040</td><td>Anjushree</td><td>Pandey</td><td>Vora Ganj</td><td>1976-07-04</td><td>Male</td><td>India</td><td>Ghaziabad</td><td>782221</td><td>S105</td><td>N</td><td>1996-07-04</td><td>1999-02-17</td><td>49</td></tr><tr><td>SUBID1041</td><td>visitor</td><td>Rajput</td><td>Sinha Path</td><td>1930-11-25</td><td>Female</td><td>India</td><td>Agartala</td><td>303503</td><td>S110</td><td>Y</td><td>1950-11-25</td><td>1957-09-14</td><td>94</td></tr><tr><td>SUBID10042</td><td>Chakrika</td><td>Sonkar</td><td>Bansal Circle</td><td>1964-08-05</td><td>Male</td><td>India</td><td>Ranchi</td><td>503290</td><td>S108</td><td>Y</td><td>1984-08-05</td><td>1992-09-09</td><td>61</td></tr><tr><td>SUBID1043</td><td>Saroj</td><td>Pandit</td><td>Sathe Zila</td><td>1942-08-26</td><td>Female</td><td>India</td><td>Muzaffarpur</td><td>130486</td><td>S103</td><td>Y</td><td>1962-08-26</td><td>1964-08-29</td><td>83</td></tr><tr><td>SUBID1044</td><td>Ayushmati</td><td>Vishwakarma</td><td>Balakrishnan Street</td><td>1932-09-20</td><td>Male</td><td>India</td><td>Satna</td><td>131247</td><td>S108</td><td>N</td><td>1952-09-20</td><td>1961-01-24</td><td>93</td></tr><tr><td>SUBID1045</td><td>Drashti</td><td>Divedi</td><td>Wadhwa</td><td>1926-07-03</td><td>Male</td><td>India</td><td>Saharsa</td><td>581568</td><td>S104</td><td>Y</td><td>1946-07-03</td><td>1952-11-27</td><td>99</td></tr><tr><td>SUBID10046</td><td>Aayushmaan</td><td>Maurya</td><td>Johal Nagar</td><td>1983-11-14</td><td>Female</td><td>India</td><td>Mehsana</td><td>987281</td><td>S104</td><td>Y</td><td>2003-11-14</td><td>2012-10-22</td><td>41</td></tr><tr><td>SUBID1047</td><td>visitor</td><td>Rai</td><td>Sagar Chowk</td><td>1931-02-04</td><td>Male</td><td>India</td><td>Shivpuri</td><td>794170</td><td>S109</td><td>Y</td><td>1951-02-04</td><td>1955-07-14</td><td>94</td></tr><tr><td>SUBID10048</td><td>Chitranjan</td><td>Mishra</td><td>Madan Nagar</td><td>1925-09-09</td><td>Female</td><td>India</td><td>Morbi</td><td>945697</td><td>S108</td><td>N</td><td>1945-09-09</td><td>1952-06-21</td><td>100</td></tr><tr><td>SUBID10049</td><td>Paridhi</td><td>Yadav</td><td>Sant Path</td><td>1959-03-27</td><td>Female</td><td>India</td><td>Jabalpur</td><td>883754</td><td>null</td><td>N</td><td>1979-03-27</td><td>1985-06-01</td><td>66</td></tr><tr><td>SUBID10050</td><td>Deependu</td><td>Gupta</td><td>Banik Ganj</td><td>1952-02-13</td><td>Female</td><td>India</td><td>Bareilly</td><td>417855</td><td>S102</td><td>Y</td><td>1972-02-13</td><td>1976-08-23</td><td>73</td></tr><tr><td>SUBID10051</td><td>visitor</td><td>Rajput</td><td>Chauhan Chowk</td><td>1946-10-17</td><td>Male</td><td>India</td><td>Baranagar</td><td>765234</td><td>S103</td><td>Y</td><td>1966-10-17</td><td>1969-06-26</td><td>78</td></tr><tr><td>SUBID10052</td><td>Laksman</td><td>Rao</td><td>Sood Marg</td><td>1939-05-26</td><td>Female</td><td>India</td><td>Ahmednagar</td><td>117923</td><td>S101</td><td>Y</td><td>1959-05-26</td><td>1960-11-07</td><td>86</td></tr><tr><td>SUBID10053</td><td>visitor</td><td>Sonkar</td><td>Shetty Marg</td><td>1988-06-27</td><td>Male</td><td>India</td><td>Pali</td><td>383290</td><td>S102</td><td>Y</td><td>2008-06-27</td><td>2016-10-30</td><td>37</td></tr><tr><td>SUBID10054</td><td>Shivakari</td><td>Pratap</td><td>Dugar Road</td><td>1944-11-02</td><td>Female</td><td>India</td><td>Hapur</td><td>28202</td><td>S104</td><td>N</td><td>1964-11-02</td><td>1967-06-15</td><td>80</td></tr><tr><td>SUBID10055</td><td>Madhu</td><td>Thakur</td><td>Sule Marg</td><td>1984-10-23</td><td>Male</td><td>India</td><td>Udaipur</td><td>565423</td><td>S107</td><td>N</td><td>2004-10-23</td><td>2008-07-10</td><td>40</td></tr><tr><td>SUBID10056</td><td>Chanak</td><td>Gupta</td><td>Shetty Nagar</td><td>1954-08-27</td><td>Male</td><td>India</td><td>Jalandhar</td><td>602989</td><td>S105</td><td>N</td><td>1974-08-27</td><td>1982-06-15</td><td>71</td></tr><tr><td>SUBID10057</td><td>Chittesh</td><td>Pandey</td><td>Mangal Chowk</td><td>1949-10-17</td><td>Male</td><td>India</td><td>Thoothukudi</td><td>666415</td><td>S109</td><td>Y</td><td>1969-10-17</td><td>1975-10-08</td><td>75</td></tr><tr><td>SUBID1058</td><td>Nawal</td><td>Rajput</td><td>Deol Nagar</td><td>1940-01-22</td><td>Male</td><td>India</td><td>Bhopal</td><td>791168</td><td>S106</td><td>N</td><td>1960-01-22</td><td>1969-04-18</td><td>85</td></tr><tr><td>SUBID10059</td><td>Gajabahu</td><td>Singh</td><td>Kara</td><td>1959-03-15</td><td>Male</td><td>India</td><td>Udupi</td><td>637221</td><td>S101</td><td>Y</td><td>1979-03-15</td><td>1986-07-05</td><td>66</td></tr><tr><td>SUBID10060</td><td>Jitesh</td><td>Vishwakarma</td><td>Gopal Path</td><td>1983-02-03</td><td>Male</td><td>India</td><td>Karimnagar</td><td>124564</td><td>S110</td><td>Y</td><td>2003-02-03</td><td>2008-04-30</td><td>42</td></tr><tr><td>SUBID10061</td><td>visitor</td><td>Rajput</td><td>Anand Path</td><td>1966-09-25</td><td>Female</td><td>India</td><td>Kharagpur</td><td>934938</td><td>S103</td><td>N</td><td>1986-09-25</td><td>1991-06-03</td><td>59</td></tr><tr><td>SUBID1062</td><td>Lalit</td><td>Mishra</td><td>Comar Street</td><td>1924-02-15</td><td>Female</td><td>India</td><td>Tinsukia</td><td>963770</td><td>S103</td><td>N</td><td>1944-02-15</td><td>1947-09-28</td><td>101</td></tr><tr><td>SUBID1063</td><td>Anshuk</td><td>Srivastav</td><td>Sridhar Path</td><td>1991-06-17</td><td>Male</td><td>India</td><td>Uluberia</td><td>270985</td><td>S105</td><td>N</td><td>2011-06-17</td><td>2014-07-11</td><td>34</td></tr><tr><td>SUBID10064</td><td>visitor</td><td>Pandey</td><td>Mangat Path</td><td>1994-01-13</td><td>Male</td><td>India</td><td>Panihati</td><td>643791</td><td>S110</td><td>N</td><td>2014-01-13</td><td>2019-02-24</td><td>31</td></tr><tr><td>SUBID1065</td><td>Dipesh</td><td>Mishra</td><td>Char Path</td><td>1949-04-01</td><td>Female</td><td>India</td><td>Kochi</td><td>31269</td><td>S103</td><td>Y</td><td>1969-04-01</td><td>1970-06-02</td><td>76</td></tr><tr><td>SUBID10066</td><td>visitor</td><td>Seth</td><td>Chaudhuri Marg</td><td>1930-09-01</td><td>Male</td><td>India</td><td>Kolhapur</td><td>597470</td><td>S102</td><td>N</td><td>1950-09-01</td><td>1957-12-01</td><td>95</td></tr><tr><td>SUBID1067</td><td>Kishan</td><td>Rao</td><td>Badal Nagar</td><td>1923-05-12</td><td>Male</td><td>India</td><td>Srikakulam</td><td>703899</td><td>S110</td><td>Y</td><td>1943-05-12</td><td>1946-09-20</td><td>102</td></tr><tr><td>SUBID10068</td><td>visitor</td><td>Mishra</td><td>Bath Nagar</td><td>1927-02-26</td><td>Female</td><td>India</td><td>Ambarnath</td><td>766224</td><td>S110</td><td>N</td><td>1947-02-26</td><td>1948-03-30</td><td>98</td></tr><tr><td>SUBID10069</td><td>Bhageeratha</td><td>Srivastav</td><td>Das Ganj</td><td>1973-03-21</td><td>Male</td><td>India</td><td>Sonipat</td><td>695316</td><td>S103</td><td>Y</td><td>1993-03-21</td><td>1997-08-01</td><td>52</td></tr><tr><td>SUBID10070</td><td>Balaaditya</td><td>Gupta</td><td>Varty Road</td><td>1923-11-02</td><td>Male</td><td>India</td><td>Hajipur</td><td>3526</td><td>S109</td><td>N</td><td>1943-11-02</td><td>1952-09-24</td><td>101</td></tr><tr><td>SUBID10071</td><td>visitor</td><td>Rai</td><td>Choudhury Chowk</td><td>1941-12-26</td><td>Female</td><td>India</td><td>Vellore</td><td>239532</td><td>S101</td><td>N</td><td>1961-12-26</td><td>1969-02-23</td><td>83</td></tr><tr><td>SUBID10072</td><td>Gopal</td><td>Srivastav</td><td>Desai Street</td><td>1936-03-11</td><td>Female</td><td>India</td><td>Bidhannagar</td><td>761800</td><td>S103</td><td>Y</td><td>1956-03-11</td><td>1964-07-28</td><td>89</td></tr><tr><td>SUBID1073</td><td>Virender</td><td>Maurrya</td><td>Chakrabarti</td><td>1936-10-27</td><td>Male</td><td>India</td><td>Bhusawal</td><td>374302</td><td>S104</td><td>N</td><td>1956-10-27</td><td>1961-04-27</td><td>88</td></tr><tr><td>SUBID10074</td><td>visitor</td><td>Singh</td><td>Kalla Path</td><td>1963-11-21</td><td>Male</td><td>India</td><td>Bokaro</td><td>866319</td><td>S105</td><td>Y</td><td>1983-11-21</td><td>1985-09-29</td><td>61</td></tr><tr><td>SUBID10075</td><td>visitor</td><td>Singh</td><td>Iyengar Nagar</td><td>1956-01-29</td><td>Male</td><td>India</td><td>Navi Mumbai</td><td>836175</td><td>S107</td><td>N</td><td>1976-01-29</td><td>1979-05-25</td><td>69</td></tr><tr><td>SUBID10076</td><td>Mamta</td><td>Tiwari</td><td>Batra</td><td>1964-12-21</td><td>Female</td><td>India</td><td>Secunderabad</td><td>123181</td><td>S104</td><td>N</td><td>1984-12-21</td><td>1987-01-08</td><td>60</td></tr><tr><td>SUBID10077</td><td>Girija</td><td>Maurrya</td><td>Iyengar Road</td><td>1933-04-25</td><td>Male</td><td>India</td><td>Jaipur</td><td>204379</td><td>S105</td><td>N</td><td>1953-04-25</td><td>1963-04-18</td><td>92</td></tr><tr><td>SUBID10078</td><td>Aaraadhana</td><td>Rao</td><td>Raval Nagar</td><td>1980-02-07</td><td>Male</td><td>India</td><td>Jhansi</td><td>429941</td><td>S108</td><td>N</td><td>2000-02-07</td><td>2005-02-06</td><td>45</td></tr><tr><td>SUBID10079</td><td>Shahnawaz</td><td>Mishra</td><td>Agate Path</td><td>1971-06-24</td><td>Female</td><td>India</td><td>Rampur</td><td>528893</td><td>S102</td><td>Y</td><td>1991-06-24</td><td>2000-09-13</td><td>54</td></tr><tr><td>SUBID10080</td><td>Tej</td><td>Sonkar</td><td>Sarraf Chowk</td><td>1942-06-11</td><td>Male</td><td>India</td><td>Haridwar</td><td>506221</td><td>S105</td><td>Y</td><td>1962-06-11</td><td>1964-10-14</td><td>83</td></tr><tr><td>SUBID10081</td><td>Mansi</td><td>Divedi</td><td>Bhattacharyya Road</td><td>1947-03-20</td><td>Female</td><td>India</td><td>Hosur</td><td>995152</td><td>S105</td><td>Y</td><td>1967-03-20</td><td>1971-07-25</td><td>78</td></tr><tr><td>SUBID10082</td><td>Girika</td><td>Thakur</td><td>Sinha Zila</td><td>1968-11-03</td><td>Female</td><td>India</td><td>Hospet</td><td>683614</td><td>S102</td><td>N</td><td>1988-11-03</td><td>1992-01-21</td><td>56</td></tr><tr><td>SUBID10083</td><td>Bhilangana</td><td>Pandit</td><td>Ramachandran Path</td><td>1995-01-04</td><td>Female</td><td>India</td><td>Fatehpur</td><td>359466</td><td>S109</td><td>Y</td><td>2015-01-04</td><td>2017-10-05</td><td>30</td></tr><tr><td>SUBID10084</td><td>visitor</td><td>Thakur</td><td>Raval Zila</td><td>1924-06-07</td><td>Female</td><td>India</td><td>Bhavnagar</td><td>464111</td><td>S107</td><td>Y</td><td>1944-06-07</td><td>1952-05-22</td><td>101</td></tr><tr><td>SUBID10085</td><td>Sukanya</td><td>Sonkar</td><td>Sangha Street</td><td>1942-01-16</td><td>Female</td><td>India</td><td>Vijayanagaram</td><td>226215</td><td>S101</td><td>N</td><td>1962-01-16</td><td>1967-04-10</td><td>83</td></tr><tr><td>SUBID1086</td><td>Banita</td><td>Rao</td><td>Thakur</td><td>1979-01-28</td><td>Male</td><td>India</td><td>Ghaziabad</td><td>907613</td><td>S109</td><td>N</td><td>1999-01-28</td><td>2000-09-05</td><td>46</td></tr><tr><td>SUBID1087</td><td>visitor</td><td>Pandit</td><td>Srivastava Path</td><td>1924-12-10</td><td>Female</td><td>India</td><td>Sambhal</td><td>279219</td><td>S103</td><td>N</td><td>1944-12-10</td><td>1951-07-16</td><td>100</td></tr><tr><td>SUBID10088</td><td>visitor</td><td>Rajput</td><td>Dua Zila</td><td>1922-07-30</td><td>Female</td><td>India</td><td>Tadipatri</td><td>743449</td><td>S110</td><td>N</td><td>1942-07-30</td><td>1949-06-07</td><td>103</td></tr><tr><td>SUBID10089</td><td>Dhuha</td><td>Tiwari</td><td>Aggarwal Street</td><td>1952-08-21</td><td>Male</td><td>India</td><td>Rampur</td><td>492137</td><td>S104</td><td>N</td><td>1972-08-21</td><td>1981-05-13</td><td>73</td></tr><tr><td>SUBID10090</td><td>visitor</td><td>Mishra</td><td>Chandran Nagar</td><td>1938-06-07</td><td>Female</td><td>India</td><td>Sikar</td><td>564747</td><td>S101</td><td>Y</td><td>1958-06-07</td><td>1967-08-23</td><td>87</td></tr><tr><td>SUBID1091</td><td>visitor</td><td>Thakur</td><td>Bala</td><td>1930-12-31</td><td>Male</td><td>India</td><td>Kamarhati</td><td>682652</td><td>S110</td><td>Y</td><td>1950-12-31</td><td>1958-06-21</td><td>94</td></tr><tr><td>SUBID10092</td><td>visitor</td><td>Rai</td><td>Karan Street</td><td>1940-08-22</td><td>Others</td><td>India</td><td>Ghaziabad</td><td>79586</td><td>S108</td><td>N</td><td>1960-08-22</td><td>1966-10-06</td><td>85</td></tr><tr><td>SUBID10093</td><td>Chandavarman</td><td>Singh</td><td>Sarkar Circle</td><td>1997-05-10</td><td>Others</td><td>India</td><td>Navi Mumbai</td><td>83240</td><td>S110</td><td>N</td><td>2017-05-10</td><td>2022-08-27</td><td>28</td></tr><tr><td>SUBID10094</td><td>Charanpal</td><td>Yadav</td><td>Sehgal Circle</td><td>1986-10-12</td><td>Male</td><td>India</td><td>Gurgaon</td><td>640326</td><td>S109</td><td>Y</td><td>2006-10-12</td><td>2016-05-13</td><td>38</td></tr><tr><td>SUBID10095</td><td>Ekaaksh</td><td>Rai</td><td>Bansal Ganj</td><td>1933-12-02</td><td>Others</td><td>India</td><td>Pimpri-Chinchwad</td><td>158186</td><td>S107</td><td>N</td><td>1953-12-02</td><td>1960-07-29</td><td>91</td></tr><tr><td>SUBID10096</td><td>Chanak</td><td>Sonkar</td><td>Kaur</td><td>1959-04-07</td><td>Others</td><td>India</td><td>Raurkela Industrial Township</td><td>899590</td><td>S101</td><td>Y</td><td>1979-04-07</td><td>1986-03-07</td><td>66</td></tr><tr><td>SUBID10097</td><td>visitor</td><td>Sonkar</td><td>Rana Ganj</td><td>1940-02-04</td><td>Others</td><td>India</td><td>Mira-Bhayandar</td><td>896586</td><td>S107</td><td>Y</td><td>1960-02-04</td><td>1965-01-12</td><td>85</td></tr><tr><td>SUBID1098</td><td>Pushkar</td><td>Kumar</td><td>Sodhi Zila</td><td>1934-10-05</td><td>Others</td><td>India</td><td>Korba</td><td>910732</td><td>S107</td><td>Y</td><td>1954-10-05</td><td>1961-04-05</td><td>90</td></tr><tr><td>SUBID10099</td><td>Shikha</td><td>Srivastav</td><td>Ahuja Road</td><td>1970-09-06</td><td>Others</td><td>India</td><td>Nanded</td><td>101500</td><td>S109</td><td>Y</td><td>1990-09-06</td><td>1997-11-27</td><td>55</td></tr></tbody></table></div>"
      ]
     },
     "metadata": {
      "application/vnd.databricks.v1+output": {
       "addedWidgets": {},
       "aggData": [],
       "aggError": "",
       "aggOverflow": false,
       "aggSchema": [],
       "aggSeriesLimitReached": false,
       "aggType": "",
       "arguments": {},
       "columnCustomDisplayInfos": {},
       "data": [
        [
         "SUBID10000",
         "Harbir",
         "Vishwakarma",
         "Baria Marg",
         "1924-06-30",
         "Female",
         "India",
         "Rourkela",
         767058,
         "S107",
         "Y",
         "1944-06-30",
         "1954-01-14",
         101
        ],
        [
         "SUBID10001",
         "Brahmdev",
         "Sonkar",
         "Lala Marg",
         "1948-12-20",
         "Female",
         "India",
         "Tiruvottiyur",
         34639,
         "S105",
         "Y",
         "1968-12-20",
         "1970-05-16",
         76
        ],
        [
         "SUBID10002",
         "Ujjawal",
         "Devi",
         "Mammen Zila",
         "1980-04-16",
         "Male",
         "India",
         "Berhampur",
         914455,
         "S106",
         "N",
         "2000-04-16",
         "2008-05-04",
         45
        ],
        [
         "SUBID10003",
         "Ballari",
         "Mishra",
         "Sahni Zila",
         "1969-09-25",
         "Female",
         "India",
         "Bihar Sharif",
         91481,
         "S104",
         "N",
         "1989-09-25",
         "1995-06-05",
         56
        ],
        [
         "SUBID10004",
         "Devnath",
         "Srivastav",
         "Magar Zila",
         "1946-05-01",
         "Female",
         "India",
         "Bidhannagar",
         531742,
         "S110",
         "N",
         "1966-05-01",
         "1970-12-09",
         79
        ],
        [
         "SUBID10005",
         "Atasi",
         "Seth",
         "Khatri Nagar",
         "1967-10-02",
         "Male",
         "India",
         "Amravati",
         229062,
         "S104",
         "Y",
         "1987-10-02",
         "1995-02-13",
         57
        ],
        [
         "SUBID1006",
         "Manish",
         "Maurya",
         "Swaminathan Chowk",
         "1967-06-06",
         "Male",
         "India",
         "Panvel",
         438733,
         "S109",
         "N",
         "1987-06-06",
         "1995-03-21",
         58
        ],
        [
         "SUBID10007",
         "Aakar",
         "Yadav",
         "Swamy",
         "1925-03-05",
         "Female",
         "India",
         "Bihar Sharif",
         535907,
         "S104",
         "N",
         "1945-03-05",
         "1946-11-07",
         100
        ],
        [
         "SUBID10008",
         "Gurudas",
         "Gupta",
         "Sarin Nagar",
         "1945-05-06",
         "Male",
         "India",
         "Kamarhati",
         933226,
         "S103",
         "Y",
         "1965-05-06",
         "1970-09-16",
         80
        ],
        [
         "SUBID10009",
         "visitor",
         "Gupta",
         "Thakur Circle",
         "1925-06-12",
         "Male",
         "India",
         "Bangalore",
         957469,
         "S105",
         "Y",
         "1945-06-12",
         "1953-08-30",
         100
        ],
        [
         "SUBID1010",
         "visitor",
         "Divedi",
         "Dhillon",
         "1976-02-03",
         "Male",
         "India",
         "Rajkot",
         911319,
         "S102",
         "Y",
         "1996-02-03",
         "2002-01-27",
         49
        ],
        [
         "SUBID10011",
         "visitor",
         "Vishwakarma",
         "Rajagopalan",
         "1955-01-22",
         "Female",
         "India",
         "Ghaziabad",
         337042,
         "S106",
         "N",
         "1975-01-22",
         "1978-11-02",
         70
        ],
        [
         "SUBID10012",
         "Dharmadaas",
         "Tiwari",
         "Rama",
         "1964-04-29",
         "Male",
         "India",
         "Bhalswa Jahangir Pur",
         430793,
         "S103",
         "N",
         "1984-04-29",
         "1988-02-07",
         61
        ],
        [
         "SUBID10013",
         "Brahmvir",
         "Rai",
         "Shah Path",
         "1991-11-11",
         "Male",
         "India",
         "Ambala",
         249898,
         "S106",
         "N",
         "2011-11-11",
         "2020-05-23",
         33
        ],
        [
         "SUBID10014",
         "visitor",
         "Srivastav",
         "Chandra Path",
         "1981-01-25",
         "Female",
         "India",
         "Surendranagar Dudhrej",
         111966,
         "S102",
         "N",
         "2001-01-25",
         "2005-07-13",
         44
        ],
        [
         "SUBID10015",
         "Bhagvan",
         "Srivastav",
         "Edwin",
         "1966-07-24",
         "Female",
         "India",
         "Bhimavaram",
         436513,
         "S105",
         "Y",
         "1986-07-24",
         "1988-02-04",
         59
        ],
        [
         "SUBID10016",
         "Amritkala",
         "Srivastav",
         "Guha Path",
         "1933-11-20",
         "Female",
         "India",
         "Meerut",
         863467,
         "S106",
         "Y",
         "1953-11-20",
         "1955-07-29",
         91
        ],
        [
         "SUBID10017",
         "Bandhu",
         "Seth",
         "Varughese",
         "1996-10-15",
         "Male",
         "India",
         "Chinsurah",
         136713,
         "S108",
         "N",
         "2016-10-15",
         "2018-06-08",
         28
        ],
        [
         "SUBID10018",
         "Bhagavaana",
         "Kumar",
         "Kulkarni Zila",
         "1935-09-16",
         "Female",
         "India",
         "Shahjahanpur",
         597276,
         "S101",
         "N",
         "1955-09-16",
         "1958-05-31",
         90
        ],
        [
         "SUBID10019",
         "visitor",
         "Maurya",
         "Sharaf Nagar",
         "1924-11-09",
         "Female",
         "India",
         "Jabalpur",
         958538,
         "S104",
         "N",
         "1944-11-09",
         "1951-10-14",
         100
        ],
        [
         "SUBID1020",
         "Umang",
         "Srivastav",
         "Balay Chowk",
         "1963-07-14",
         "Female",
         "India",
         "Haridwar",
         181692,
         "S109",
         "Y",
         "1983-07-14",
         "1986-01-15",
         62
        ],
        [
         "SUBID1021",
         "Darsana",
         "Yadav",
         "Upadhyay Zila",
         "1932-05-29",
         "Male",
         "India",
         "Dibrugarh",
         187414,
         "S109",
         "Y",
         "1952-05-29",
         "1953-10-14",
         93
        ],
        [
         "SUBID10022",
         "Prakash",
         "Rao",
         "Sachar",
         "1923-09-15",
         "Female",
         "India",
         "Kottayam",
         180680,
         null,
         "N",
         "1943-09-15",
         "1948-10-19",
         102
        ],
        [
         "SUBID10023",
         "Vaijayanti",
         "Pratap",
         "Khalsa Nagar",
         "1920-11-13",
         "Male",
         "India",
         "Mira-Bhayandar",
         419190,
         "S102",
         "Y",
         "1940-11-13",
         "1946-03-10",
         104
        ],
        [
         "SUBID10024",
         "Menakshi",
         "Seth",
         "Wable Street",
         "1987-03-06",
         "Male",
         "India",
         "Kamarhati",
         882577,
         "S107",
         "N",
         "2007-03-06",
         "2014-02-25",
         38
        ],
        [
         "SUBID10025",
         "visitor",
         "Tiwari",
         "Sha Chowk",
         "1955-12-24",
         "Male",
         "India",
         "Karimnagar",
         567762,
         "S106",
         "N",
         "1975-12-24",
         "1983-02-03",
         69
        ],
        [
         "SUBID10026",
         "Ekant",
         "Sonkar",
         "Walla Road",
         "1943-08-13",
         "Male",
         "India",
         "Berhampore",
         948589,
         "S110",
         "Y",
         "1963-08-13",
         "1967-05-29",
         82
        ],
        [
         "SUBID10027",
         "Chancharik",
         "Pandey",
         "Karan Ganj",
         "1983-09-05",
         "Male",
         "India",
         "Chapra",
         154667,
         "S109",
         "N",
         "2003-09-05",
         "2011-06-12",
         42
        ],
        [
         "SUBID10028",
         "Pushti",
         "Pandit",
         "Deol Path",
         "1935-10-15",
         "Female",
         "India",
         "Morbi",
         284168,
         "S106",
         "N",
         "1955-10-15",
         "1959-06-04",
         89
        ],
        [
         "SUBID10029",
         "Swati",
         "Seth",
         "Kant Marg",
         "1987-12-11",
         "Female",
         "India",
         "Amravati",
         932221,
         "S102",
         "N",
         "2007-12-11",
         "2011-10-17",
         37
        ],
        [
         "SUBID1030",
         "Upasana",
         "Pandey",
         "Seth Chowk",
         "1956-06-01",
         "Male",
         "India",
         "Hyderabad",
         234823,
         "S102",
         "N",
         "1976-06-01",
         "1981-02-14",
         69
        ],
        [
         "SUBID10031",
         "Kanhaiya",
         "Lal",
         "Savant Nagar",
         "1954-10-19",
         "Female",
         "India",
         "Mysore",
         638433,
         "S104",
         "Y",
         "1974-10-19",
         "1977-01-03",
         70
        ],
        [
         "SUBID1032",
         "visitor",
         "Seth",
         "Sandhu Chowk",
         "1968-07-02",
         "Female",
         "India",
         "Gwalior",
         611826,
         "S110",
         "N",
         "1988-07-02",
         "1991-03-14",
         57
        ],
        [
         "SUBID10033",
         "Gensho",
         "Srivastav",
         "Korpal Ganj",
         "1992-06-06",
         "Male",
         "India",
         "Ludhiana",
         835018,
         "S101",
         "N",
         "2012-06-06",
         "2022-01-09",
         33
        ],
        [
         "SUBID1034",
         "Gopal",
         "Das",
         "Saini",
         "1986-05-14",
         "Male",
         "India",
         "Raebareli",
         176221,
         "S101",
         "N",
         "2006-05-14",
         "2011-04-08",
         39
        ],
        [
         "SUBID10035",
         "Dheeman",
         "Tiwari",
         "Dube Marg",
         "1945-05-04",
         "Male",
         "India",
         "Mysore",
         811970,
         "S101",
         "Y",
         "1965-05-04",
         "1973-11-13",
         80
        ],
        [
         "SUBID1036",
         "Upasana",
         "Thakur",
         "Vasa Ganj",
         "1927-10-03",
         "Female",
         "India",
         "Ratlam",
         326733,
         "S108",
         "N",
         "1947-10-03",
         "1951-02-20",
         97
        ],
        [
         "SUBID1037",
         "visitor",
         "Rajput",
         "Shere Chowk",
         "1948-11-10",
         "Male",
         "India",
         "Vadodara",
         877443,
         "S101",
         "Y",
         "1968-11-10",
         "1973-12-25",
         76
        ],
        [
         "SUBID1038",
         "visitor",
         "Thakur",
         "Rastogi Street",
         "1955-04-07",
         "Female",
         "India",
         "Vijayawada",
         438940,
         "S104",
         "N",
         "1975-04-07",
         "1982-01-25",
         70
        ],
        [
         "SUBID10039",
         "Madhubala",
         "Yadav",
         "Sangha Marg",
         "1937-01-11",
         "Male",
         "India",
         "Jaunpur",
         624102,
         "S104",
         "Y",
         "1957-01-11",
         "1965-10-09",
         88
        ],
        [
         "SUBID10040",
         "Anjushree",
         "Pandey",
         "Vora Ganj",
         "1976-07-04",
         "Male",
         "India",
         "Ghaziabad",
         782221,
         "S105",
         "N",
         "1996-07-04",
         "1999-02-17",
         49
        ],
        [
         "SUBID1041",
         "visitor",
         "Rajput",
         "Sinha Path",
         "1930-11-25",
         "Female",
         "India",
         "Agartala",
         303503,
         "S110",
         "Y",
         "1950-11-25",
         "1957-09-14",
         94
        ],
        [
         "SUBID10042",
         "Chakrika",
         "Sonkar",
         "Bansal Circle",
         "1964-08-05",
         "Male",
         "India",
         "Ranchi",
         503290,
         "S108",
         "Y",
         "1984-08-05",
         "1992-09-09",
         61
        ],
        [
         "SUBID1043",
         "Saroj",
         "Pandit",
         "Sathe Zila",
         "1942-08-26",
         "Female",
         "India",
         "Muzaffarpur",
         130486,
         "S103",
         "Y",
         "1962-08-26",
         "1964-08-29",
         83
        ],
        [
         "SUBID1044",
         "Ayushmati",
         "Vishwakarma",
         "Balakrishnan Street",
         "1932-09-20",
         "Male",
         "India",
         "Satna",
         131247,
         "S108",
         "N",
         "1952-09-20",
         "1961-01-24",
         93
        ],
        [
         "SUBID1045",
         "Drashti",
         "Divedi",
         "Wadhwa",
         "1926-07-03",
         "Male",
         "India",
         "Saharsa",
         581568,
         "S104",
         "Y",
         "1946-07-03",
         "1952-11-27",
         99
        ],
        [
         "SUBID10046",
         "Aayushmaan",
         "Maurya",
         "Johal Nagar",
         "1983-11-14",
         "Female",
         "India",
         "Mehsana",
         987281,
         "S104",
         "Y",
         "2003-11-14",
         "2012-10-22",
         41
        ],
        [
         "SUBID1047",
         "visitor",
         "Rai",
         "Sagar Chowk",
         "1931-02-04",
         "Male",
         "India",
         "Shivpuri",
         794170,
         "S109",
         "Y",
         "1951-02-04",
         "1955-07-14",
         94
        ],
        [
         "SUBID10048",
         "Chitranjan",
         "Mishra",
         "Madan Nagar",
         "1925-09-09",
         "Female",
         "India",
         "Morbi",
         945697,
         "S108",
         "N",
         "1945-09-09",
         "1952-06-21",
         100
        ],
        [
         "SUBID10049",
         "Paridhi",
         "Yadav",
         "Sant Path",
         "1959-03-27",
         "Female",
         "India",
         "Jabalpur",
         883754,
         null,
         "N",
         "1979-03-27",
         "1985-06-01",
         66
        ],
        [
         "SUBID10050",
         "Deependu",
         "Gupta",
         "Banik Ganj",
         "1952-02-13",
         "Female",
         "India",
         "Bareilly",
         417855,
         "S102",
         "Y",
         "1972-02-13",
         "1976-08-23",
         73
        ],
        [
         "SUBID10051",
         "visitor",
         "Rajput",
         "Chauhan Chowk",
         "1946-10-17",
         "Male",
         "India",
         "Baranagar",
         765234,
         "S103",
         "Y",
         "1966-10-17",
         "1969-06-26",
         78
        ],
        [
         "SUBID10052",
         "Laksman",
         "Rao",
         "Sood Marg",
         "1939-05-26",
         "Female",
         "India",
         "Ahmednagar",
         117923,
         "S101",
         "Y",
         "1959-05-26",
         "1960-11-07",
         86
        ],
        [
         "SUBID10053",
         "visitor",
         "Sonkar",
         "Shetty Marg",
         "1988-06-27",
         "Male",
         "India",
         "Pali",
         383290,
         "S102",
         "Y",
         "2008-06-27",
         "2016-10-30",
         37
        ],
        [
         "SUBID10054",
         "Shivakari",
         "Pratap",
         "Dugar Road",
         "1944-11-02",
         "Female",
         "India",
         "Hapur",
         28202,
         "S104",
         "N",
         "1964-11-02",
         "1967-06-15",
         80
        ],
        [
         "SUBID10055",
         "Madhu",
         "Thakur",
         "Sule Marg",
         "1984-10-23",
         "Male",
         "India",
         "Udaipur",
         565423,
         "S107",
         "N",
         "2004-10-23",
         "2008-07-10",
         40
        ],
        [
         "SUBID10056",
         "Chanak",
         "Gupta",
         "Shetty Nagar",
         "1954-08-27",
         "Male",
         "India",
         "Jalandhar",
         602989,
         "S105",
         "N",
         "1974-08-27",
         "1982-06-15",
         71
        ],
        [
         "SUBID10057",
         "Chittesh",
         "Pandey",
         "Mangal Chowk",
         "1949-10-17",
         "Male",
         "India",
         "Thoothukudi",
         666415,
         "S109",
         "Y",
         "1969-10-17",
         "1975-10-08",
         75
        ],
        [
         "SUBID1058",
         "Nawal",
         "Rajput",
         "Deol Nagar",
         "1940-01-22",
         "Male",
         "India",
         "Bhopal",
         791168,
         "S106",
         "N",
         "1960-01-22",
         "1969-04-18",
         85
        ],
        [
         "SUBID10059",
         "Gajabahu",
         "Singh",
         "Kara",
         "1959-03-15",
         "Male",
         "India",
         "Udupi",
         637221,
         "S101",
         "Y",
         "1979-03-15",
         "1986-07-05",
         66
        ],
        [
         "SUBID10060",
         "Jitesh",
         "Vishwakarma",
         "Gopal Path",
         "1983-02-03",
         "Male",
         "India",
         "Karimnagar",
         124564,
         "S110",
         "Y",
         "2003-02-03",
         "2008-04-30",
         42
        ],
        [
         "SUBID10061",
         "visitor",
         "Rajput",
         "Anand Path",
         "1966-09-25",
         "Female",
         "India",
         "Kharagpur",
         934938,
         "S103",
         "N",
         "1986-09-25",
         "1991-06-03",
         59
        ],
        [
         "SUBID1062",
         "Lalit",
         "Mishra",
         "Comar Street",
         "1924-02-15",
         "Female",
         "India",
         "Tinsukia",
         963770,
         "S103",
         "N",
         "1944-02-15",
         "1947-09-28",
         101
        ],
        [
         "SUBID1063",
         "Anshuk",
         "Srivastav",
         "Sridhar Path",
         "1991-06-17",
         "Male",
         "India",
         "Uluberia",
         270985,
         "S105",
         "N",
         "2011-06-17",
         "2014-07-11",
         34
        ],
        [
         "SUBID10064",
         "visitor",
         "Pandey",
         "Mangat Path",
         "1994-01-13",
         "Male",
         "India",
         "Panihati",
         643791,
         "S110",
         "N",
         "2014-01-13",
         "2019-02-24",
         31
        ],
        [
         "SUBID1065",
         "Dipesh",
         "Mishra",
         "Char Path",
         "1949-04-01",
         "Female",
         "India",
         "Kochi",
         31269,
         "S103",
         "Y",
         "1969-04-01",
         "1970-06-02",
         76
        ],
        [
         "SUBID10066",
         "visitor",
         "Seth",
         "Chaudhuri Marg",
         "1930-09-01",
         "Male",
         "India",
         "Kolhapur",
         597470,
         "S102",
         "N",
         "1950-09-01",
         "1957-12-01",
         95
        ],
        [
         "SUBID1067",
         "Kishan",
         "Rao",
         "Badal Nagar",
         "1923-05-12",
         "Male",
         "India",
         "Srikakulam",
         703899,
         "S110",
         "Y",
         "1943-05-12",
         "1946-09-20",
         102
        ],
        [
         "SUBID10068",
         "visitor",
         "Mishra",
         "Bath Nagar",
         "1927-02-26",
         "Female",
         "India",
         "Ambarnath",
         766224,
         "S110",
         "N",
         "1947-02-26",
         "1948-03-30",
         98
        ],
        [
         "SUBID10069",
         "Bhageeratha",
         "Srivastav",
         "Das Ganj",
         "1973-03-21",
         "Male",
         "India",
         "Sonipat",
         695316,
         "S103",
         "Y",
         "1993-03-21",
         "1997-08-01",
         52
        ],
        [
         "SUBID10070",
         "Balaaditya",
         "Gupta",
         "Varty Road",
         "1923-11-02",
         "Male",
         "India",
         "Hajipur",
         3526,
         "S109",
         "N",
         "1943-11-02",
         "1952-09-24",
         101
        ],
        [
         "SUBID10071",
         "visitor",
         "Rai",
         "Choudhury Chowk",
         "1941-12-26",
         "Female",
         "India",
         "Vellore",
         239532,
         "S101",
         "N",
         "1961-12-26",
         "1969-02-23",
         83
        ],
        [
         "SUBID10072",
         "Gopal",
         "Srivastav",
         "Desai Street",
         "1936-03-11",
         "Female",
         "India",
         "Bidhannagar",
         761800,
         "S103",
         "Y",
         "1956-03-11",
         "1964-07-28",
         89
        ],
        [
         "SUBID1073",
         "Virender",
         "Maurrya",
         "Chakrabarti",
         "1936-10-27",
         "Male",
         "India",
         "Bhusawal",
         374302,
         "S104",
         "N",
         "1956-10-27",
         "1961-04-27",
         88
        ],
        [
         "SUBID10074",
         "visitor",
         "Singh",
         "Kalla Path",
         "1963-11-21",
         "Male",
         "India",
         "Bokaro",
         866319,
         "S105",
         "Y",
         "1983-11-21",
         "1985-09-29",
         61
        ],
        [
         "SUBID10075",
         "visitor",
         "Singh",
         "Iyengar Nagar",
         "1956-01-29",
         "Male",
         "India",
         "Navi Mumbai",
         836175,
         "S107",
         "N",
         "1976-01-29",
         "1979-05-25",
         69
        ],
        [
         "SUBID10076",
         "Mamta",
         "Tiwari",
         "Batra",
         "1964-12-21",
         "Female",
         "India",
         "Secunderabad",
         123181,
         "S104",
         "N",
         "1984-12-21",
         "1987-01-08",
         60
        ],
        [
         "SUBID10077",
         "Girija",
         "Maurrya",
         "Iyengar Road",
         "1933-04-25",
         "Male",
         "India",
         "Jaipur",
         204379,
         "S105",
         "N",
         "1953-04-25",
         "1963-04-18",
         92
        ],
        [
         "SUBID10078",
         "Aaraadhana",
         "Rao",
         "Raval Nagar",
         "1980-02-07",
         "Male",
         "India",
         "Jhansi",
         429941,
         "S108",
         "N",
         "2000-02-07",
         "2005-02-06",
         45
        ],
        [
         "SUBID10079",
         "Shahnawaz",
         "Mishra",
         "Agate Path",
         "1971-06-24",
         "Female",
         "India",
         "Rampur",
         528893,
         "S102",
         "Y",
         "1991-06-24",
         "2000-09-13",
         54
        ],
        [
         "SUBID10080",
         "Tej",
         "Sonkar",
         "Sarraf Chowk",
         "1942-06-11",
         "Male",
         "India",
         "Haridwar",
         506221,
         "S105",
         "Y",
         "1962-06-11",
         "1964-10-14",
         83
        ],
        [
         "SUBID10081",
         "Mansi",
         "Divedi",
         "Bhattacharyya Road",
         "1947-03-20",
         "Female",
         "India",
         "Hosur",
         995152,
         "S105",
         "Y",
         "1967-03-20",
         "1971-07-25",
         78
        ],
        [
         "SUBID10082",
         "Girika",
         "Thakur",
         "Sinha Zila",
         "1968-11-03",
         "Female",
         "India",
         "Hospet",
         683614,
         "S102",
         "N",
         "1988-11-03",
         "1992-01-21",
         56
        ],
        [
         "SUBID10083",
         "Bhilangana",
         "Pandit",
         "Ramachandran Path",
         "1995-01-04",
         "Female",
         "India",
         "Fatehpur",
         359466,
         "S109",
         "Y",
         "2015-01-04",
         "2017-10-05",
         30
        ],
        [
         "SUBID10084",
         "visitor",
         "Thakur",
         "Raval Zila",
         "1924-06-07",
         "Female",
         "India",
         "Bhavnagar",
         464111,
         "S107",
         "Y",
         "1944-06-07",
         "1952-05-22",
         101
        ],
        [
         "SUBID10085",
         "Sukanya",
         "Sonkar",
         "Sangha Street",
         "1942-01-16",
         "Female",
         "India",
         "Vijayanagaram",
         226215,
         "S101",
         "N",
         "1962-01-16",
         "1967-04-10",
         83
        ],
        [
         "SUBID1086",
         "Banita",
         "Rao",
         "Thakur",
         "1979-01-28",
         "Male",
         "India",
         "Ghaziabad",
         907613,
         "S109",
         "N",
         "1999-01-28",
         "2000-09-05",
         46
        ],
        [
         "SUBID1087",
         "visitor",
         "Pandit",
         "Srivastava Path",
         "1924-12-10",
         "Female",
         "India",
         "Sambhal",
         279219,
         "S103",
         "N",
         "1944-12-10",
         "1951-07-16",
         100
        ],
        [
         "SUBID10088",
         "visitor",
         "Rajput",
         "Dua Zila",
         "1922-07-30",
         "Female",
         "India",
         "Tadipatri",
         743449,
         "S110",
         "N",
         "1942-07-30",
         "1949-06-07",
         103
        ],
        [
         "SUBID10089",
         "Dhuha",
         "Tiwari",
         "Aggarwal Street",
         "1952-08-21",
         "Male",
         "India",
         "Rampur",
         492137,
         "S104",
         "N",
         "1972-08-21",
         "1981-05-13",
         73
        ],
        [
         "SUBID10090",
         "visitor",
         "Mishra",
         "Chandran Nagar",
         "1938-06-07",
         "Female",
         "India",
         "Sikar",
         564747,
         "S101",
         "Y",
         "1958-06-07",
         "1967-08-23",
         87
        ],
        [
         "SUBID1091",
         "visitor",
         "Thakur",
         "Bala",
         "1930-12-31",
         "Male",
         "India",
         "Kamarhati",
         682652,
         "S110",
         "Y",
         "1950-12-31",
         "1958-06-21",
         94
        ],
        [
         "SUBID10092",
         "visitor",
         "Rai",
         "Karan Street",
         "1940-08-22",
         "Others",
         "India",
         "Ghaziabad",
         79586,
         "S108",
         "N",
         "1960-08-22",
         "1966-10-06",
         85
        ],
        [
         "SUBID10093",
         "Chandavarman",
         "Singh",
         "Sarkar Circle",
         "1997-05-10",
         "Others",
         "India",
         "Navi Mumbai",
         83240,
         "S110",
         "N",
         "2017-05-10",
         "2022-08-27",
         28
        ],
        [
         "SUBID10094",
         "Charanpal",
         "Yadav",
         "Sehgal Circle",
         "1986-10-12",
         "Male",
         "India",
         "Gurgaon",
         640326,
         "S109",
         "Y",
         "2006-10-12",
         "2016-05-13",
         38
        ],
        [
         "SUBID10095",
         "Ekaaksh",
         "Rai",
         "Bansal Ganj",
         "1933-12-02",
         "Others",
         "India",
         "Pimpri-Chinchwad",
         158186,
         "S107",
         "N",
         "1953-12-02",
         "1960-07-29",
         91
        ],
        [
         "SUBID10096",
         "Chanak",
         "Sonkar",
         "Kaur",
         "1959-04-07",
         "Others",
         "India",
         "Raurkela Industrial Township",
         899590,
         "S101",
         "Y",
         "1979-04-07",
         "1986-03-07",
         66
        ],
        [
         "SUBID10097",
         "visitor",
         "Sonkar",
         "Rana Ganj",
         "1940-02-04",
         "Others",
         "India",
         "Mira-Bhayandar",
         896586,
         "S107",
         "Y",
         "1960-02-04",
         "1965-01-12",
         85
        ],
        [
         "SUBID1098",
         "Pushkar",
         "Kumar",
         "Sodhi Zila",
         "1934-10-05",
         "Others",
         "India",
         "Korba",
         910732,
         "S107",
         "Y",
         "1954-10-05",
         "1961-04-05",
         90
        ],
        [
         "SUBID10099",
         "Shikha",
         "Srivastav",
         "Ahuja Road",
         "1970-09-06",
         "Others",
         "India",
         "Nanded",
         101500,
         "S109",
         "Y",
         "1990-09-06",
         "1997-11-27",
         55
        ]
       ],
       "datasetInfos": [],
       "dbfsResultPath": null,
       "isJsonSchema": true,
       "metadata": {},
       "overflow": false,
       "plotOptions": {
        "customPlotOptions": {},
        "displayType": "table",
        "pivotAggregation": null,
        "pivotColumns": null,
        "xColumns": null,
        "yColumns": null
       },
       "removedWidgets": [],
       "schema": [
        {
         "metadata": "{}",
         "name": "sub_id",
         "type": "\"string\""
        },
        {
         "metadata": "{}",
         "name": "first_name",
         "type": "\"string\""
        },
        {
         "metadata": "{}",
         "name": "last_name",
         "type": "\"string\""
        },
        {
         "metadata": "{}",
         "name": "Street",
         "type": "\"string\""
        },
        {
         "metadata": "{\"__detected_date_formats\":\"d-M-yyyy\"}",
         "name": "Birth_date",
         "type": "\"date\""
        },
        {
         "metadata": "{}",
         "name": "Gender",
         "type": "\"string\""
        },
        {
         "metadata": "{}",
         "name": "Country",
         "type": "\"string\""
        },
        {
         "metadata": "{}",
         "name": "City",
         "type": "\"string\""
        },
        {
         "metadata": "{}",
         "name": "Zip Code",
         "type": "\"integer\""
        },
        {
         "metadata": "{}",
         "name": "Subgrp_id",
         "type": "\"string\""
        },
        {
         "metadata": "{}",
         "name": "Elig_ind",
         "type": "\"string\""
        },
        {
         "metadata": "{\"__detected_date_formats\":\"d-M-yyyy\"}",
         "name": "eff_date",
         "type": "\"date\""
        },
        {
         "metadata": "{\"__detected_date_formats\":\"d-M-yyyy\"}",
         "name": "term_date",
         "type": "\"date\""
        },
        {
         "metadata": "{}",
         "name": "age",
         "type": "\"integer\""
        }
       ],
       "type": "table"
      }
     },
     "output_type": "display_data"
    }
   ],
   "source": [
    "display(susci_df)"
   ]
  },
  {
   "cell_type": "code",
   "execution_count": 0,
   "metadata": {
    "application/vnd.databricks.v1+cell": {
     "cellMetadata": {
      "byteLimit": 2048000,
      "rowLimit": 10000
     },
     "inputWidgets": {},
     "nuid": "c9896172-3e08-4e58-a5cb-c629df5cd0d2",
     "showTitle": false,
     "tableResultSettingsMap": {},
     "title": ""
    }
   },
   "outputs": [],
   "source": [
    "susci_df = susci_df.drop('Birth_date') #dropping birthdate columns"
   ]
  },
  {
   "cell_type": "code",
   "execution_count": 0,
   "metadata": {
    "application/vnd.databricks.v1+cell": {
     "cellMetadata": {
      "byteLimit": 2048000,
      "rowLimit": 10000
     },
     "inputWidgets": {},
     "nuid": "38a1501b-1414-4603-be84-2813bad5ff4f",
     "showTitle": false,
     "tableResultSettingsMap": {},
     "title": ""
    }
   },
   "outputs": [
    {
     "output_type": "stream",
     "name": "stdout",
     "output_type": "stream",
     "text": [
      "+----------+----------+---------+---------+------+-------+--------+--------+---------+--------+----------+----------+---+\n|    sub_id|first_name|last_name|   Street|Gender|Country|    City|Zip Code|Subgrp_id|Elig_ind|  eff_date| term_date|age|\n+----------+----------+---------+---------+------+-------+--------+--------+---------+--------+----------+----------+---+\n|SUBID10022|   Prakash|      Rao|   Sachar|Female|  India|Kottayam|  180680|     NULL|       N|1943-09-15|1948-10-19|102|\n|SUBID10049|   Paridhi|    Yadav|Sant Path|Female|  India|Jabalpur|  883754|     NULL|       N|1979-03-27|1985-06-01| 66|\n+----------+----------+---------+---------+------+-------+--------+--------+---------+--------+----------+----------+---+\n\n"
     ]
    }
   ],
   "source": [
    "susci_df.filter((col('Subgrp_id').isNull())).show()"
   ]
  },
  {
   "cell_type": "code",
   "execution_count": 0,
   "metadata": {
    "application/vnd.databricks.v1+cell": {
     "cellMetadata": {
      "byteLimit": 2048000,
      "rowLimit": 10000
     },
     "inputWidgets": {},
     "nuid": "b8dc795f-ac66-433d-809e-6965ecd16374",
     "showTitle": false,
     "tableResultSettingsMap": {},
     "title": ""
    }
   },
   "outputs": [
    {
     "output_type": "stream",
     "name": "stdout",
     "output_type": "stream",
     "text": [
      "+-----------------+----------+------------+----------+--------+---------------+--------------+----------+----------+\n|Claim_Or_Rejected|    SUB_ID|claim_amount|claim_date|claim_id|     claim_type|  disease_name|patient_id|patinet_id|\n+-----------------+----------+------------+----------+--------+---------------+--------------+----------+----------+\n|                Y|SUBID10022|       34771|1948-05-23|      22|claims of value|           Flu|    134184|    134184|\n|         Rejected|SUBID10049|      159815|1983-06-20|      49| claims of fact|Bladder cancer|    121783|    121783|\n+-----------------+----------+------------+----------+--------+---------------+--------------+----------+----------+\n\n"
     ]
    }
   ],
   "source": [
    "cl_df.filter(col('sub_id').isin(['SUBID10022','SUBID10049'])).show()"
   ]
  },
  {
   "cell_type": "code",
   "execution_count": 0,
   "metadata": {
    "application/vnd.databricks.v1+cell": {
     "cellMetadata": {
      "byteLimit": 2048000,
      "rowLimit": 10000
     },
     "inputWidgets": {},
     "nuid": "ea022a49-94cb-4153-8582-d728fb0ef760",
     "showTitle": false,
     "tableResultSettingsMap": {},
     "title": ""
    }
   },
   "outputs": [
    {
     "output_type": "stream",
     "name": "stdout",
     "output_type": "stream",
     "text": [
      "+----------+------------+--------------+------------------+--------------+--------+-----------+-----------+\n|Patient_id|Patient_name|patient_gender|patient_birth_date|  disease_name|    city|hospital_id|patient_age|\n+----------+------------+--------------+------------------+--------------+--------+-----------+-----------+\n|    134184|     Prakash|        Female|        1923-09-15|           Flu|Kottayam|      H1001|        102|\n|    121783|     Paridhi|        Female|        1959-03-27|Bladder cancer|Jabalpur|      H1013|         66|\n+----------+------------+--------------+------------------+--------------+--------+-----------+-----------+\n\n"
     ]
    }
   ],
   "source": [
    "pat_df.filter(col('Patient_id').isin(['134184','121783'])).show()"
   ]
  },
  {
   "cell_type": "code",
   "execution_count": 0,
   "metadata": {
    "application/vnd.databricks.v1+cell": {
     "cellMetadata": {},
     "inputWidgets": {},
     "nuid": "68c86b25-ddb7-4220-891b-63aace83f98d",
     "showTitle": false,
     "tableResultSettingsMap": {},
     "title": ""
    }
   },
   "outputs": [],
   "source": [
    "#to fill missing values in subscriber data \n",
    "# 134184 -- prakash -- S110\n",
    "#121783 -- Paridhi -- S107"
   ]
  },
  {
   "cell_type": "code",
   "execution_count": 0,
   "metadata": {
    "application/vnd.databricks.v1+cell": {
     "cellMetadata": {
      "byteLimit": 2048000,
      "rowLimit": 10000
     },
     "inputWidgets": {},
     "nuid": "20a5e434-cfbf-4a4b-a9f8-3063363aa3fb",
     "showTitle": false,
     "tableResultSettingsMap": {},
     "title": ""
    }
   },
   "outputs": [
    {
     "output_type": "display_data",
     "data": {
      "text/html": [
       "<style scoped>\n",
       "  .table-result-container {\n",
       "    max-height: 300px;\n",
       "    overflow: auto;\n",
       "  }\n",
       "  table, th, td {\n",
       "    border: 1px solid black;\n",
       "    border-collapse: collapse;\n",
       "  }\n",
       "  th, td {\n",
       "    padding: 5px;\n",
       "  }\n",
       "  th {\n",
       "    text-align: left;\n",
       "  }\n",
       "</style><div class='table-result-container'><table class='table-result'><thead style='background-color: white'><tr><th>sub_id</th><th>first_name</th><th>last_name</th><th>Street</th><th>Gender</th><th>Country</th><th>City</th><th>Zip Code</th><th>Subgrp_id</th><th>Elig_ind</th><th>eff_date</th><th>term_date</th><th>age</th></tr></thead><tbody><tr><td>SUBID10000</td><td>Harbir</td><td>Vishwakarma</td><td>Baria Marg</td><td>Female</td><td>India</td><td>Rourkela</td><td>767058</td><td>S107</td><td>Y</td><td>1944-06-30</td><td>1954-01-14</td><td>101</td></tr><tr><td>SUBID10001</td><td>Brahmdev</td><td>Sonkar</td><td>Lala Marg</td><td>Female</td><td>India</td><td>Tiruvottiyur</td><td>34639</td><td>S105</td><td>Y</td><td>1968-12-20</td><td>1970-05-16</td><td>76</td></tr><tr><td>SUBID10002</td><td>Ujjawal</td><td>Devi</td><td>Mammen Zila</td><td>Male</td><td>India</td><td>Berhampur</td><td>914455</td><td>S106</td><td>N</td><td>2000-04-16</td><td>2008-05-04</td><td>45</td></tr><tr><td>SUBID10003</td><td>Ballari</td><td>Mishra</td><td>Sahni Zila</td><td>Female</td><td>India</td><td>Bihar Sharif</td><td>91481</td><td>S104</td><td>N</td><td>1989-09-25</td><td>1995-06-05</td><td>56</td></tr><tr><td>SUBID10004</td><td>Devnath</td><td>Srivastav</td><td>Magar Zila</td><td>Female</td><td>India</td><td>Bidhannagar</td><td>531742</td><td>S110</td><td>N</td><td>1966-05-01</td><td>1970-12-09</td><td>79</td></tr><tr><td>SUBID10005</td><td>Atasi</td><td>Seth</td><td>Khatri Nagar</td><td>Male</td><td>India</td><td>Amravati</td><td>229062</td><td>S104</td><td>Y</td><td>1987-10-02</td><td>1995-02-13</td><td>57</td></tr><tr><td>SUBID1006</td><td>Manish</td><td>Maurya</td><td>Swaminathan Chowk</td><td>Male</td><td>India</td><td>Panvel</td><td>438733</td><td>S109</td><td>N</td><td>1987-06-06</td><td>1995-03-21</td><td>58</td></tr><tr><td>SUBID10007</td><td>Aakar</td><td>Yadav</td><td>Swamy</td><td>Female</td><td>India</td><td>Bihar Sharif</td><td>535907</td><td>S104</td><td>N</td><td>1945-03-05</td><td>1946-11-07</td><td>100</td></tr><tr><td>SUBID10008</td><td>Gurudas</td><td>Gupta</td><td>Sarin Nagar</td><td>Male</td><td>India</td><td>Kamarhati</td><td>933226</td><td>S103</td><td>Y</td><td>1965-05-06</td><td>1970-09-16</td><td>80</td></tr><tr><td>SUBID10009</td><td>visitor</td><td>Gupta</td><td>Thakur Circle</td><td>Male</td><td>India</td><td>Bangalore</td><td>957469</td><td>S105</td><td>Y</td><td>1945-06-12</td><td>1953-08-30</td><td>100</td></tr><tr><td>SUBID1010</td><td>visitor</td><td>Divedi</td><td>Dhillon</td><td>Male</td><td>India</td><td>Rajkot</td><td>911319</td><td>S102</td><td>Y</td><td>1996-02-03</td><td>2002-01-27</td><td>49</td></tr><tr><td>SUBID10011</td><td>visitor</td><td>Vishwakarma</td><td>Rajagopalan</td><td>Female</td><td>India</td><td>Ghaziabad</td><td>337042</td><td>S106</td><td>N</td><td>1975-01-22</td><td>1978-11-02</td><td>70</td></tr><tr><td>SUBID10012</td><td>Dharmadaas</td><td>Tiwari</td><td>Rama</td><td>Male</td><td>India</td><td>Bhalswa Jahangir Pur</td><td>430793</td><td>S103</td><td>N</td><td>1984-04-29</td><td>1988-02-07</td><td>61</td></tr><tr><td>SUBID10013</td><td>Brahmvir</td><td>Rai</td><td>Shah Path</td><td>Male</td><td>India</td><td>Ambala</td><td>249898</td><td>S106</td><td>N</td><td>2011-11-11</td><td>2020-05-23</td><td>33</td></tr><tr><td>SUBID10014</td><td>visitor</td><td>Srivastav</td><td>Chandra Path</td><td>Female</td><td>India</td><td>Surendranagar Dudhrej</td><td>111966</td><td>S102</td><td>N</td><td>2001-01-25</td><td>2005-07-13</td><td>44</td></tr><tr><td>SUBID10015</td><td>Bhagvan</td><td>Srivastav</td><td>Edwin</td><td>Female</td><td>India</td><td>Bhimavaram</td><td>436513</td><td>S105</td><td>Y</td><td>1986-07-24</td><td>1988-02-04</td><td>59</td></tr><tr><td>SUBID10016</td><td>Amritkala</td><td>Srivastav</td><td>Guha Path</td><td>Female</td><td>India</td><td>Meerut</td><td>863467</td><td>S106</td><td>Y</td><td>1953-11-20</td><td>1955-07-29</td><td>91</td></tr><tr><td>SUBID10017</td><td>Bandhu</td><td>Seth</td><td>Varughese</td><td>Male</td><td>India</td><td>Chinsurah</td><td>136713</td><td>S108</td><td>N</td><td>2016-10-15</td><td>2018-06-08</td><td>28</td></tr><tr><td>SUBID10018</td><td>Bhagavaana</td><td>Kumar</td><td>Kulkarni Zila</td><td>Female</td><td>India</td><td>Shahjahanpur</td><td>597276</td><td>S101</td><td>N</td><td>1955-09-16</td><td>1958-05-31</td><td>90</td></tr><tr><td>SUBID10019</td><td>visitor</td><td>Maurya</td><td>Sharaf Nagar</td><td>Female</td><td>India</td><td>Jabalpur</td><td>958538</td><td>S104</td><td>N</td><td>1944-11-09</td><td>1951-10-14</td><td>100</td></tr><tr><td>SUBID1020</td><td>Umang</td><td>Srivastav</td><td>Balay Chowk</td><td>Female</td><td>India</td><td>Haridwar</td><td>181692</td><td>S109</td><td>Y</td><td>1983-07-14</td><td>1986-01-15</td><td>62</td></tr><tr><td>SUBID1021</td><td>Darsana</td><td>Yadav</td><td>Upadhyay Zila</td><td>Male</td><td>India</td><td>Dibrugarh</td><td>187414</td><td>S109</td><td>Y</td><td>1952-05-29</td><td>1953-10-14</td><td>93</td></tr><tr><td>SUBID10022</td><td>Prakash</td><td>Rao</td><td>Sachar</td><td>Female</td><td>India</td><td>Kottayam</td><td>180680</td><td>null</td><td>N</td><td>1943-09-15</td><td>1948-10-19</td><td>102</td></tr><tr><td>SUBID10023</td><td>Vaijayanti</td><td>Pratap</td><td>Khalsa Nagar</td><td>Male</td><td>India</td><td>Mira-Bhayandar</td><td>419190</td><td>S102</td><td>Y</td><td>1940-11-13</td><td>1946-03-10</td><td>104</td></tr><tr><td>SUBID10024</td><td>Menakshi</td><td>Seth</td><td>Wable Street</td><td>Male</td><td>India</td><td>Kamarhati</td><td>882577</td><td>S107</td><td>N</td><td>2007-03-06</td><td>2014-02-25</td><td>38</td></tr><tr><td>SUBID10025</td><td>visitor</td><td>Tiwari</td><td>Sha Chowk</td><td>Male</td><td>India</td><td>Karimnagar</td><td>567762</td><td>S106</td><td>N</td><td>1975-12-24</td><td>1983-02-03</td><td>69</td></tr><tr><td>SUBID10026</td><td>Ekant</td><td>Sonkar</td><td>Walla Road</td><td>Male</td><td>India</td><td>Berhampore</td><td>948589</td><td>S110</td><td>Y</td><td>1963-08-13</td><td>1967-05-29</td><td>82</td></tr><tr><td>SUBID10027</td><td>Chancharik</td><td>Pandey</td><td>Karan Ganj</td><td>Male</td><td>India</td><td>Chapra</td><td>154667</td><td>S109</td><td>N</td><td>2003-09-05</td><td>2011-06-12</td><td>42</td></tr><tr><td>SUBID10028</td><td>Pushti</td><td>Pandit</td><td>Deol Path</td><td>Female</td><td>India</td><td>Morbi</td><td>284168</td><td>S106</td><td>N</td><td>1955-10-15</td><td>1959-06-04</td><td>89</td></tr><tr><td>SUBID10029</td><td>Swati</td><td>Seth</td><td>Kant Marg</td><td>Female</td><td>India</td><td>Amravati</td><td>932221</td><td>S102</td><td>N</td><td>2007-12-11</td><td>2011-10-17</td><td>37</td></tr><tr><td>SUBID1030</td><td>Upasana</td><td>Pandey</td><td>Seth Chowk</td><td>Male</td><td>India</td><td>Hyderabad</td><td>234823</td><td>S102</td><td>N</td><td>1976-06-01</td><td>1981-02-14</td><td>69</td></tr><tr><td>SUBID10031</td><td>Kanhaiya</td><td>Lal</td><td>Savant Nagar</td><td>Female</td><td>India</td><td>Mysore</td><td>638433</td><td>S104</td><td>Y</td><td>1974-10-19</td><td>1977-01-03</td><td>70</td></tr><tr><td>SUBID1032</td><td>visitor</td><td>Seth</td><td>Sandhu Chowk</td><td>Female</td><td>India</td><td>Gwalior</td><td>611826</td><td>S110</td><td>N</td><td>1988-07-02</td><td>1991-03-14</td><td>57</td></tr><tr><td>SUBID10033</td><td>Gensho</td><td>Srivastav</td><td>Korpal Ganj</td><td>Male</td><td>India</td><td>Ludhiana</td><td>835018</td><td>S101</td><td>N</td><td>2012-06-06</td><td>2022-01-09</td><td>33</td></tr><tr><td>SUBID1034</td><td>Gopal</td><td>Das</td><td>Saini</td><td>Male</td><td>India</td><td>Raebareli</td><td>176221</td><td>S101</td><td>N</td><td>2006-05-14</td><td>2011-04-08</td><td>39</td></tr><tr><td>SUBID10035</td><td>Dheeman</td><td>Tiwari</td><td>Dube Marg</td><td>Male</td><td>India</td><td>Mysore</td><td>811970</td><td>S101</td><td>Y</td><td>1965-05-04</td><td>1973-11-13</td><td>80</td></tr><tr><td>SUBID1036</td><td>Upasana</td><td>Thakur</td><td>Vasa Ganj</td><td>Female</td><td>India</td><td>Ratlam</td><td>326733</td><td>S108</td><td>N</td><td>1947-10-03</td><td>1951-02-20</td><td>97</td></tr><tr><td>SUBID1037</td><td>visitor</td><td>Rajput</td><td>Shere Chowk</td><td>Male</td><td>India</td><td>Vadodara</td><td>877443</td><td>S101</td><td>Y</td><td>1968-11-10</td><td>1973-12-25</td><td>76</td></tr><tr><td>SUBID1038</td><td>visitor</td><td>Thakur</td><td>Rastogi Street</td><td>Female</td><td>India</td><td>Vijayawada</td><td>438940</td><td>S104</td><td>N</td><td>1975-04-07</td><td>1982-01-25</td><td>70</td></tr><tr><td>SUBID10039</td><td>Madhubala</td><td>Yadav</td><td>Sangha Marg</td><td>Male</td><td>India</td><td>Jaunpur</td><td>624102</td><td>S104</td><td>Y</td><td>1957-01-11</td><td>1965-10-09</td><td>88</td></tr><tr><td>SUBID10040</td><td>Anjushree</td><td>Pandey</td><td>Vora Ganj</td><td>Male</td><td>India</td><td>Ghaziabad</td><td>782221</td><td>S105</td><td>N</td><td>1996-07-04</td><td>1999-02-17</td><td>49</td></tr><tr><td>SUBID1041</td><td>visitor</td><td>Rajput</td><td>Sinha Path</td><td>Female</td><td>India</td><td>Agartala</td><td>303503</td><td>S110</td><td>Y</td><td>1950-11-25</td><td>1957-09-14</td><td>94</td></tr><tr><td>SUBID10042</td><td>Chakrika</td><td>Sonkar</td><td>Bansal Circle</td><td>Male</td><td>India</td><td>Ranchi</td><td>503290</td><td>S108</td><td>Y</td><td>1984-08-05</td><td>1992-09-09</td><td>61</td></tr><tr><td>SUBID1043</td><td>Saroj</td><td>Pandit</td><td>Sathe Zila</td><td>Female</td><td>India</td><td>Muzaffarpur</td><td>130486</td><td>S103</td><td>Y</td><td>1962-08-26</td><td>1964-08-29</td><td>83</td></tr><tr><td>SUBID1044</td><td>Ayushmati</td><td>Vishwakarma</td><td>Balakrishnan Street</td><td>Male</td><td>India</td><td>Satna</td><td>131247</td><td>S108</td><td>N</td><td>1952-09-20</td><td>1961-01-24</td><td>93</td></tr><tr><td>SUBID1045</td><td>Drashti</td><td>Divedi</td><td>Wadhwa</td><td>Male</td><td>India</td><td>Saharsa</td><td>581568</td><td>S104</td><td>Y</td><td>1946-07-03</td><td>1952-11-27</td><td>99</td></tr><tr><td>SUBID10046</td><td>Aayushmaan</td><td>Maurya</td><td>Johal Nagar</td><td>Female</td><td>India</td><td>Mehsana</td><td>987281</td><td>S104</td><td>Y</td><td>2003-11-14</td><td>2012-10-22</td><td>41</td></tr><tr><td>SUBID1047</td><td>visitor</td><td>Rai</td><td>Sagar Chowk</td><td>Male</td><td>India</td><td>Shivpuri</td><td>794170</td><td>S109</td><td>Y</td><td>1951-02-04</td><td>1955-07-14</td><td>94</td></tr><tr><td>SUBID10048</td><td>Chitranjan</td><td>Mishra</td><td>Madan Nagar</td><td>Female</td><td>India</td><td>Morbi</td><td>945697</td><td>S108</td><td>N</td><td>1945-09-09</td><td>1952-06-21</td><td>100</td></tr><tr><td>SUBID10049</td><td>Paridhi</td><td>Yadav</td><td>Sant Path</td><td>Female</td><td>India</td><td>Jabalpur</td><td>883754</td><td>null</td><td>N</td><td>1979-03-27</td><td>1985-06-01</td><td>66</td></tr><tr><td>SUBID10050</td><td>Deependu</td><td>Gupta</td><td>Banik Ganj</td><td>Female</td><td>India</td><td>Bareilly</td><td>417855</td><td>S102</td><td>Y</td><td>1972-02-13</td><td>1976-08-23</td><td>73</td></tr><tr><td>SUBID10051</td><td>visitor</td><td>Rajput</td><td>Chauhan Chowk</td><td>Male</td><td>India</td><td>Baranagar</td><td>765234</td><td>S103</td><td>Y</td><td>1966-10-17</td><td>1969-06-26</td><td>78</td></tr><tr><td>SUBID10052</td><td>Laksman</td><td>Rao</td><td>Sood Marg</td><td>Female</td><td>India</td><td>Ahmednagar</td><td>117923</td><td>S101</td><td>Y</td><td>1959-05-26</td><td>1960-11-07</td><td>86</td></tr><tr><td>SUBID10053</td><td>visitor</td><td>Sonkar</td><td>Shetty Marg</td><td>Male</td><td>India</td><td>Pali</td><td>383290</td><td>S102</td><td>Y</td><td>2008-06-27</td><td>2016-10-30</td><td>37</td></tr><tr><td>SUBID10054</td><td>Shivakari</td><td>Pratap</td><td>Dugar Road</td><td>Female</td><td>India</td><td>Hapur</td><td>28202</td><td>S104</td><td>N</td><td>1964-11-02</td><td>1967-06-15</td><td>80</td></tr><tr><td>SUBID10055</td><td>Madhu</td><td>Thakur</td><td>Sule Marg</td><td>Male</td><td>India</td><td>Udaipur</td><td>565423</td><td>S107</td><td>N</td><td>2004-10-23</td><td>2008-07-10</td><td>40</td></tr><tr><td>SUBID10056</td><td>Chanak</td><td>Gupta</td><td>Shetty Nagar</td><td>Male</td><td>India</td><td>Jalandhar</td><td>602989</td><td>S105</td><td>N</td><td>1974-08-27</td><td>1982-06-15</td><td>71</td></tr><tr><td>SUBID10057</td><td>Chittesh</td><td>Pandey</td><td>Mangal Chowk</td><td>Male</td><td>India</td><td>Thoothukudi</td><td>666415</td><td>S109</td><td>Y</td><td>1969-10-17</td><td>1975-10-08</td><td>75</td></tr><tr><td>SUBID1058</td><td>Nawal</td><td>Rajput</td><td>Deol Nagar</td><td>Male</td><td>India</td><td>Bhopal</td><td>791168</td><td>S106</td><td>N</td><td>1960-01-22</td><td>1969-04-18</td><td>85</td></tr><tr><td>SUBID10059</td><td>Gajabahu</td><td>Singh</td><td>Kara</td><td>Male</td><td>India</td><td>Udupi</td><td>637221</td><td>S101</td><td>Y</td><td>1979-03-15</td><td>1986-07-05</td><td>66</td></tr><tr><td>SUBID10060</td><td>Jitesh</td><td>Vishwakarma</td><td>Gopal Path</td><td>Male</td><td>India</td><td>Karimnagar</td><td>124564</td><td>S110</td><td>Y</td><td>2003-02-03</td><td>2008-04-30</td><td>42</td></tr><tr><td>SUBID10061</td><td>visitor</td><td>Rajput</td><td>Anand Path</td><td>Female</td><td>India</td><td>Kharagpur</td><td>934938</td><td>S103</td><td>N</td><td>1986-09-25</td><td>1991-06-03</td><td>59</td></tr><tr><td>SUBID1062</td><td>Lalit</td><td>Mishra</td><td>Comar Street</td><td>Female</td><td>India</td><td>Tinsukia</td><td>963770</td><td>S103</td><td>N</td><td>1944-02-15</td><td>1947-09-28</td><td>101</td></tr><tr><td>SUBID1063</td><td>Anshuk</td><td>Srivastav</td><td>Sridhar Path</td><td>Male</td><td>India</td><td>Uluberia</td><td>270985</td><td>S105</td><td>N</td><td>2011-06-17</td><td>2014-07-11</td><td>34</td></tr><tr><td>SUBID10064</td><td>visitor</td><td>Pandey</td><td>Mangat Path</td><td>Male</td><td>India</td><td>Panihati</td><td>643791</td><td>S110</td><td>N</td><td>2014-01-13</td><td>2019-02-24</td><td>31</td></tr><tr><td>SUBID1065</td><td>Dipesh</td><td>Mishra</td><td>Char Path</td><td>Female</td><td>India</td><td>Kochi</td><td>31269</td><td>S103</td><td>Y</td><td>1969-04-01</td><td>1970-06-02</td><td>76</td></tr><tr><td>SUBID10066</td><td>visitor</td><td>Seth</td><td>Chaudhuri Marg</td><td>Male</td><td>India</td><td>Kolhapur</td><td>597470</td><td>S102</td><td>N</td><td>1950-09-01</td><td>1957-12-01</td><td>95</td></tr><tr><td>SUBID1067</td><td>Kishan</td><td>Rao</td><td>Badal Nagar</td><td>Male</td><td>India</td><td>Srikakulam</td><td>703899</td><td>S110</td><td>Y</td><td>1943-05-12</td><td>1946-09-20</td><td>102</td></tr><tr><td>SUBID10068</td><td>visitor</td><td>Mishra</td><td>Bath Nagar</td><td>Female</td><td>India</td><td>Ambarnath</td><td>766224</td><td>S110</td><td>N</td><td>1947-02-26</td><td>1948-03-30</td><td>98</td></tr><tr><td>SUBID10069</td><td>Bhageeratha</td><td>Srivastav</td><td>Das Ganj</td><td>Male</td><td>India</td><td>Sonipat</td><td>695316</td><td>S103</td><td>Y</td><td>1993-03-21</td><td>1997-08-01</td><td>52</td></tr><tr><td>SUBID10070</td><td>Balaaditya</td><td>Gupta</td><td>Varty Road</td><td>Male</td><td>India</td><td>Hajipur</td><td>3526</td><td>S109</td><td>N</td><td>1943-11-02</td><td>1952-09-24</td><td>101</td></tr><tr><td>SUBID10071</td><td>visitor</td><td>Rai</td><td>Choudhury Chowk</td><td>Female</td><td>India</td><td>Vellore</td><td>239532</td><td>S101</td><td>N</td><td>1961-12-26</td><td>1969-02-23</td><td>83</td></tr><tr><td>SUBID10072</td><td>Gopal</td><td>Srivastav</td><td>Desai Street</td><td>Female</td><td>India</td><td>Bidhannagar</td><td>761800</td><td>S103</td><td>Y</td><td>1956-03-11</td><td>1964-07-28</td><td>89</td></tr><tr><td>SUBID1073</td><td>Virender</td><td>Maurrya</td><td>Chakrabarti</td><td>Male</td><td>India</td><td>Bhusawal</td><td>374302</td><td>S104</td><td>N</td><td>1956-10-27</td><td>1961-04-27</td><td>88</td></tr><tr><td>SUBID10074</td><td>visitor</td><td>Singh</td><td>Kalla Path</td><td>Male</td><td>India</td><td>Bokaro</td><td>866319</td><td>S105</td><td>Y</td><td>1983-11-21</td><td>1985-09-29</td><td>61</td></tr><tr><td>SUBID10075</td><td>visitor</td><td>Singh</td><td>Iyengar Nagar</td><td>Male</td><td>India</td><td>Navi Mumbai</td><td>836175</td><td>S107</td><td>N</td><td>1976-01-29</td><td>1979-05-25</td><td>69</td></tr><tr><td>SUBID10076</td><td>Mamta</td><td>Tiwari</td><td>Batra</td><td>Female</td><td>India</td><td>Secunderabad</td><td>123181</td><td>S104</td><td>N</td><td>1984-12-21</td><td>1987-01-08</td><td>60</td></tr><tr><td>SUBID10077</td><td>Girija</td><td>Maurrya</td><td>Iyengar Road</td><td>Male</td><td>India</td><td>Jaipur</td><td>204379</td><td>S105</td><td>N</td><td>1953-04-25</td><td>1963-04-18</td><td>92</td></tr><tr><td>SUBID10078</td><td>Aaraadhana</td><td>Rao</td><td>Raval Nagar</td><td>Male</td><td>India</td><td>Jhansi</td><td>429941</td><td>S108</td><td>N</td><td>2000-02-07</td><td>2005-02-06</td><td>45</td></tr><tr><td>SUBID10079</td><td>Shahnawaz</td><td>Mishra</td><td>Agate Path</td><td>Female</td><td>India</td><td>Rampur</td><td>528893</td><td>S102</td><td>Y</td><td>1991-06-24</td><td>2000-09-13</td><td>54</td></tr><tr><td>SUBID10080</td><td>Tej</td><td>Sonkar</td><td>Sarraf Chowk</td><td>Male</td><td>India</td><td>Haridwar</td><td>506221</td><td>S105</td><td>Y</td><td>1962-06-11</td><td>1964-10-14</td><td>83</td></tr><tr><td>SUBID10081</td><td>Mansi</td><td>Divedi</td><td>Bhattacharyya Road</td><td>Female</td><td>India</td><td>Hosur</td><td>995152</td><td>S105</td><td>Y</td><td>1967-03-20</td><td>1971-07-25</td><td>78</td></tr><tr><td>SUBID10082</td><td>Girika</td><td>Thakur</td><td>Sinha Zila</td><td>Female</td><td>India</td><td>Hospet</td><td>683614</td><td>S102</td><td>N</td><td>1988-11-03</td><td>1992-01-21</td><td>56</td></tr><tr><td>SUBID10083</td><td>Bhilangana</td><td>Pandit</td><td>Ramachandran Path</td><td>Female</td><td>India</td><td>Fatehpur</td><td>359466</td><td>S109</td><td>Y</td><td>2015-01-04</td><td>2017-10-05</td><td>30</td></tr><tr><td>SUBID10084</td><td>visitor</td><td>Thakur</td><td>Raval Zila</td><td>Female</td><td>India</td><td>Bhavnagar</td><td>464111</td><td>S107</td><td>Y</td><td>1944-06-07</td><td>1952-05-22</td><td>101</td></tr><tr><td>SUBID10085</td><td>Sukanya</td><td>Sonkar</td><td>Sangha Street</td><td>Female</td><td>India</td><td>Vijayanagaram</td><td>226215</td><td>S101</td><td>N</td><td>1962-01-16</td><td>1967-04-10</td><td>83</td></tr><tr><td>SUBID1086</td><td>Banita</td><td>Rao</td><td>Thakur</td><td>Male</td><td>India</td><td>Ghaziabad</td><td>907613</td><td>S109</td><td>N</td><td>1999-01-28</td><td>2000-09-05</td><td>46</td></tr><tr><td>SUBID1087</td><td>visitor</td><td>Pandit</td><td>Srivastava Path</td><td>Female</td><td>India</td><td>Sambhal</td><td>279219</td><td>S103</td><td>N</td><td>1944-12-10</td><td>1951-07-16</td><td>100</td></tr><tr><td>SUBID10088</td><td>visitor</td><td>Rajput</td><td>Dua Zila</td><td>Female</td><td>India</td><td>Tadipatri</td><td>743449</td><td>S110</td><td>N</td><td>1942-07-30</td><td>1949-06-07</td><td>103</td></tr><tr><td>SUBID10089</td><td>Dhuha</td><td>Tiwari</td><td>Aggarwal Street</td><td>Male</td><td>India</td><td>Rampur</td><td>492137</td><td>S104</td><td>N</td><td>1972-08-21</td><td>1981-05-13</td><td>73</td></tr><tr><td>SUBID10090</td><td>visitor</td><td>Mishra</td><td>Chandran Nagar</td><td>Female</td><td>India</td><td>Sikar</td><td>564747</td><td>S101</td><td>Y</td><td>1958-06-07</td><td>1967-08-23</td><td>87</td></tr><tr><td>SUBID1091</td><td>visitor</td><td>Thakur</td><td>Bala</td><td>Male</td><td>India</td><td>Kamarhati</td><td>682652</td><td>S110</td><td>Y</td><td>1950-12-31</td><td>1958-06-21</td><td>94</td></tr><tr><td>SUBID10092</td><td>visitor</td><td>Rai</td><td>Karan Street</td><td>Others</td><td>India</td><td>Ghaziabad</td><td>79586</td><td>S108</td><td>N</td><td>1960-08-22</td><td>1966-10-06</td><td>85</td></tr><tr><td>SUBID10093</td><td>Chandavarman</td><td>Singh</td><td>Sarkar Circle</td><td>Others</td><td>India</td><td>Navi Mumbai</td><td>83240</td><td>S110</td><td>N</td><td>2017-05-10</td><td>2022-08-27</td><td>28</td></tr><tr><td>SUBID10094</td><td>Charanpal</td><td>Yadav</td><td>Sehgal Circle</td><td>Male</td><td>India</td><td>Gurgaon</td><td>640326</td><td>S109</td><td>Y</td><td>2006-10-12</td><td>2016-05-13</td><td>38</td></tr><tr><td>SUBID10095</td><td>Ekaaksh</td><td>Rai</td><td>Bansal Ganj</td><td>Others</td><td>India</td><td>Pimpri-Chinchwad</td><td>158186</td><td>S107</td><td>N</td><td>1953-12-02</td><td>1960-07-29</td><td>91</td></tr><tr><td>SUBID10096</td><td>Chanak</td><td>Sonkar</td><td>Kaur</td><td>Others</td><td>India</td><td>Raurkela Industrial Township</td><td>899590</td><td>S101</td><td>Y</td><td>1979-04-07</td><td>1986-03-07</td><td>66</td></tr><tr><td>SUBID10097</td><td>visitor</td><td>Sonkar</td><td>Rana Ganj</td><td>Others</td><td>India</td><td>Mira-Bhayandar</td><td>896586</td><td>S107</td><td>Y</td><td>1960-02-04</td><td>1965-01-12</td><td>85</td></tr><tr><td>SUBID1098</td><td>Pushkar</td><td>Kumar</td><td>Sodhi Zila</td><td>Others</td><td>India</td><td>Korba</td><td>910732</td><td>S107</td><td>Y</td><td>1954-10-05</td><td>1961-04-05</td><td>90</td></tr><tr><td>SUBID10099</td><td>Shikha</td><td>Srivastav</td><td>Ahuja Road</td><td>Others</td><td>India</td><td>Nanded</td><td>101500</td><td>S109</td><td>Y</td><td>1990-09-06</td><td>1997-11-27</td><td>55</td></tr></tbody></table></div>"
      ]
     },
     "metadata": {
      "application/vnd.databricks.v1+output": {
       "addedWidgets": {},
       "aggData": [],
       "aggError": "",
       "aggOverflow": false,
       "aggSchema": [],
       "aggSeriesLimitReached": false,
       "aggType": "",
       "arguments": {},
       "columnCustomDisplayInfos": {},
       "data": [
        [
         "SUBID10000",
         "Harbir",
         "Vishwakarma",
         "Baria Marg",
         "Female",
         "India",
         "Rourkela",
         767058,
         "S107",
         "Y",
         "1944-06-30",
         "1954-01-14",
         101
        ],
        [
         "SUBID10001",
         "Brahmdev",
         "Sonkar",
         "Lala Marg",
         "Female",
         "India",
         "Tiruvottiyur",
         34639,
         "S105",
         "Y",
         "1968-12-20",
         "1970-05-16",
         76
        ],
        [
         "SUBID10002",
         "Ujjawal",
         "Devi",
         "Mammen Zila",
         "Male",
         "India",
         "Berhampur",
         914455,
         "S106",
         "N",
         "2000-04-16",
         "2008-05-04",
         45
        ],
        [
         "SUBID10003",
         "Ballari",
         "Mishra",
         "Sahni Zila",
         "Female",
         "India",
         "Bihar Sharif",
         91481,
         "S104",
         "N",
         "1989-09-25",
         "1995-06-05",
         56
        ],
        [
         "SUBID10004",
         "Devnath",
         "Srivastav",
         "Magar Zila",
         "Female",
         "India",
         "Bidhannagar",
         531742,
         "S110",
         "N",
         "1966-05-01",
         "1970-12-09",
         79
        ],
        [
         "SUBID10005",
         "Atasi",
         "Seth",
         "Khatri Nagar",
         "Male",
         "India",
         "Amravati",
         229062,
         "S104",
         "Y",
         "1987-10-02",
         "1995-02-13",
         57
        ],
        [
         "SUBID1006",
         "Manish",
         "Maurya",
         "Swaminathan Chowk",
         "Male",
         "India",
         "Panvel",
         438733,
         "S109",
         "N",
         "1987-06-06",
         "1995-03-21",
         58
        ],
        [
         "SUBID10007",
         "Aakar",
         "Yadav",
         "Swamy",
         "Female",
         "India",
         "Bihar Sharif",
         535907,
         "S104",
         "N",
         "1945-03-05",
         "1946-11-07",
         100
        ],
        [
         "SUBID10008",
         "Gurudas",
         "Gupta",
         "Sarin Nagar",
         "Male",
         "India",
         "Kamarhati",
         933226,
         "S103",
         "Y",
         "1965-05-06",
         "1970-09-16",
         80
        ],
        [
         "SUBID10009",
         "visitor",
         "Gupta",
         "Thakur Circle",
         "Male",
         "India",
         "Bangalore",
         957469,
         "S105",
         "Y",
         "1945-06-12",
         "1953-08-30",
         100
        ],
        [
         "SUBID1010",
         "visitor",
         "Divedi",
         "Dhillon",
         "Male",
         "India",
         "Rajkot",
         911319,
         "S102",
         "Y",
         "1996-02-03",
         "2002-01-27",
         49
        ],
        [
         "SUBID10011",
         "visitor",
         "Vishwakarma",
         "Rajagopalan",
         "Female",
         "India",
         "Ghaziabad",
         337042,
         "S106",
         "N",
         "1975-01-22",
         "1978-11-02",
         70
        ],
        [
         "SUBID10012",
         "Dharmadaas",
         "Tiwari",
         "Rama",
         "Male",
         "India",
         "Bhalswa Jahangir Pur",
         430793,
         "S103",
         "N",
         "1984-04-29",
         "1988-02-07",
         61
        ],
        [
         "SUBID10013",
         "Brahmvir",
         "Rai",
         "Shah Path",
         "Male",
         "India",
         "Ambala",
         249898,
         "S106",
         "N",
         "2011-11-11",
         "2020-05-23",
         33
        ],
        [
         "SUBID10014",
         "visitor",
         "Srivastav",
         "Chandra Path",
         "Female",
         "India",
         "Surendranagar Dudhrej",
         111966,
         "S102",
         "N",
         "2001-01-25",
         "2005-07-13",
         44
        ],
        [
         "SUBID10015",
         "Bhagvan",
         "Srivastav",
         "Edwin",
         "Female",
         "India",
         "Bhimavaram",
         436513,
         "S105",
         "Y",
         "1986-07-24",
         "1988-02-04",
         59
        ],
        [
         "SUBID10016",
         "Amritkala",
         "Srivastav",
         "Guha Path",
         "Female",
         "India",
         "Meerut",
         863467,
         "S106",
         "Y",
         "1953-11-20",
         "1955-07-29",
         91
        ],
        [
         "SUBID10017",
         "Bandhu",
         "Seth",
         "Varughese",
         "Male",
         "India",
         "Chinsurah",
         136713,
         "S108",
         "N",
         "2016-10-15",
         "2018-06-08",
         28
        ],
        [
         "SUBID10018",
         "Bhagavaana",
         "Kumar",
         "Kulkarni Zila",
         "Female",
         "India",
         "Shahjahanpur",
         597276,
         "S101",
         "N",
         "1955-09-16",
         "1958-05-31",
         90
        ],
        [
         "SUBID10019",
         "visitor",
         "Maurya",
         "Sharaf Nagar",
         "Female",
         "India",
         "Jabalpur",
         958538,
         "S104",
         "N",
         "1944-11-09",
         "1951-10-14",
         100
        ],
        [
         "SUBID1020",
         "Umang",
         "Srivastav",
         "Balay Chowk",
         "Female",
         "India",
         "Haridwar",
         181692,
         "S109",
         "Y",
         "1983-07-14",
         "1986-01-15",
         62
        ],
        [
         "SUBID1021",
         "Darsana",
         "Yadav",
         "Upadhyay Zila",
         "Male",
         "India",
         "Dibrugarh",
         187414,
         "S109",
         "Y",
         "1952-05-29",
         "1953-10-14",
         93
        ],
        [
         "SUBID10022",
         "Prakash",
         "Rao",
         "Sachar",
         "Female",
         "India",
         "Kottayam",
         180680,
         null,
         "N",
         "1943-09-15",
         "1948-10-19",
         102
        ],
        [
         "SUBID10023",
         "Vaijayanti",
         "Pratap",
         "Khalsa Nagar",
         "Male",
         "India",
         "Mira-Bhayandar",
         419190,
         "S102",
         "Y",
         "1940-11-13",
         "1946-03-10",
         104
        ],
        [
         "SUBID10024",
         "Menakshi",
         "Seth",
         "Wable Street",
         "Male",
         "India",
         "Kamarhati",
         882577,
         "S107",
         "N",
         "2007-03-06",
         "2014-02-25",
         38
        ],
        [
         "SUBID10025",
         "visitor",
         "Tiwari",
         "Sha Chowk",
         "Male",
         "India",
         "Karimnagar",
         567762,
         "S106",
         "N",
         "1975-12-24",
         "1983-02-03",
         69
        ],
        [
         "SUBID10026",
         "Ekant",
         "Sonkar",
         "Walla Road",
         "Male",
         "India",
         "Berhampore",
         948589,
         "S110",
         "Y",
         "1963-08-13",
         "1967-05-29",
         82
        ],
        [
         "SUBID10027",
         "Chancharik",
         "Pandey",
         "Karan Ganj",
         "Male",
         "India",
         "Chapra",
         154667,
         "S109",
         "N",
         "2003-09-05",
         "2011-06-12",
         42
        ],
        [
         "SUBID10028",
         "Pushti",
         "Pandit",
         "Deol Path",
         "Female",
         "India",
         "Morbi",
         284168,
         "S106",
         "N",
         "1955-10-15",
         "1959-06-04",
         89
        ],
        [
         "SUBID10029",
         "Swati",
         "Seth",
         "Kant Marg",
         "Female",
         "India",
         "Amravati",
         932221,
         "S102",
         "N",
         "2007-12-11",
         "2011-10-17",
         37
        ],
        [
         "SUBID1030",
         "Upasana",
         "Pandey",
         "Seth Chowk",
         "Male",
         "India",
         "Hyderabad",
         234823,
         "S102",
         "N",
         "1976-06-01",
         "1981-02-14",
         69
        ],
        [
         "SUBID10031",
         "Kanhaiya",
         "Lal",
         "Savant Nagar",
         "Female",
         "India",
         "Mysore",
         638433,
         "S104",
         "Y",
         "1974-10-19",
         "1977-01-03",
         70
        ],
        [
         "SUBID1032",
         "visitor",
         "Seth",
         "Sandhu Chowk",
         "Female",
         "India",
         "Gwalior",
         611826,
         "S110",
         "N",
         "1988-07-02",
         "1991-03-14",
         57
        ],
        [
         "SUBID10033",
         "Gensho",
         "Srivastav",
         "Korpal Ganj",
         "Male",
         "India",
         "Ludhiana",
         835018,
         "S101",
         "N",
         "2012-06-06",
         "2022-01-09",
         33
        ],
        [
         "SUBID1034",
         "Gopal",
         "Das",
         "Saini",
         "Male",
         "India",
         "Raebareli",
         176221,
         "S101",
         "N",
         "2006-05-14",
         "2011-04-08",
         39
        ],
        [
         "SUBID10035",
         "Dheeman",
         "Tiwari",
         "Dube Marg",
         "Male",
         "India",
         "Mysore",
         811970,
         "S101",
         "Y",
         "1965-05-04",
         "1973-11-13",
         80
        ],
        [
         "SUBID1036",
         "Upasana",
         "Thakur",
         "Vasa Ganj",
         "Female",
         "India",
         "Ratlam",
         326733,
         "S108",
         "N",
         "1947-10-03",
         "1951-02-20",
         97
        ],
        [
         "SUBID1037",
         "visitor",
         "Rajput",
         "Shere Chowk",
         "Male",
         "India",
         "Vadodara",
         877443,
         "S101",
         "Y",
         "1968-11-10",
         "1973-12-25",
         76
        ],
        [
         "SUBID1038",
         "visitor",
         "Thakur",
         "Rastogi Street",
         "Female",
         "India",
         "Vijayawada",
         438940,
         "S104",
         "N",
         "1975-04-07",
         "1982-01-25",
         70
        ],
        [
         "SUBID10039",
         "Madhubala",
         "Yadav",
         "Sangha Marg",
         "Male",
         "India",
         "Jaunpur",
         624102,
         "S104",
         "Y",
         "1957-01-11",
         "1965-10-09",
         88
        ],
        [
         "SUBID10040",
         "Anjushree",
         "Pandey",
         "Vora Ganj",
         "Male",
         "India",
         "Ghaziabad",
         782221,
         "S105",
         "N",
         "1996-07-04",
         "1999-02-17",
         49
        ],
        [
         "SUBID1041",
         "visitor",
         "Rajput",
         "Sinha Path",
         "Female",
         "India",
         "Agartala",
         303503,
         "S110",
         "Y",
         "1950-11-25",
         "1957-09-14",
         94
        ],
        [
         "SUBID10042",
         "Chakrika",
         "Sonkar",
         "Bansal Circle",
         "Male",
         "India",
         "Ranchi",
         503290,
         "S108",
         "Y",
         "1984-08-05",
         "1992-09-09",
         61
        ],
        [
         "SUBID1043",
         "Saroj",
         "Pandit",
         "Sathe Zila",
         "Female",
         "India",
         "Muzaffarpur",
         130486,
         "S103",
         "Y",
         "1962-08-26",
         "1964-08-29",
         83
        ],
        [
         "SUBID1044",
         "Ayushmati",
         "Vishwakarma",
         "Balakrishnan Street",
         "Male",
         "India",
         "Satna",
         131247,
         "S108",
         "N",
         "1952-09-20",
         "1961-01-24",
         93
        ],
        [
         "SUBID1045",
         "Drashti",
         "Divedi",
         "Wadhwa",
         "Male",
         "India",
         "Saharsa",
         581568,
         "S104",
         "Y",
         "1946-07-03",
         "1952-11-27",
         99
        ],
        [
         "SUBID10046",
         "Aayushmaan",
         "Maurya",
         "Johal Nagar",
         "Female",
         "India",
         "Mehsana",
         987281,
         "S104",
         "Y",
         "2003-11-14",
         "2012-10-22",
         41
        ],
        [
         "SUBID1047",
         "visitor",
         "Rai",
         "Sagar Chowk",
         "Male",
         "India",
         "Shivpuri",
         794170,
         "S109",
         "Y",
         "1951-02-04",
         "1955-07-14",
         94
        ],
        [
         "SUBID10048",
         "Chitranjan",
         "Mishra",
         "Madan Nagar",
         "Female",
         "India",
         "Morbi",
         945697,
         "S108",
         "N",
         "1945-09-09",
         "1952-06-21",
         100
        ],
        [
         "SUBID10049",
         "Paridhi",
         "Yadav",
         "Sant Path",
         "Female",
         "India",
         "Jabalpur",
         883754,
         null,
         "N",
         "1979-03-27",
         "1985-06-01",
         66
        ],
        [
         "SUBID10050",
         "Deependu",
         "Gupta",
         "Banik Ganj",
         "Female",
         "India",
         "Bareilly",
         417855,
         "S102",
         "Y",
         "1972-02-13",
         "1976-08-23",
         73
        ],
        [
         "SUBID10051",
         "visitor",
         "Rajput",
         "Chauhan Chowk",
         "Male",
         "India",
         "Baranagar",
         765234,
         "S103",
         "Y",
         "1966-10-17",
         "1969-06-26",
         78
        ],
        [
         "SUBID10052",
         "Laksman",
         "Rao",
         "Sood Marg",
         "Female",
         "India",
         "Ahmednagar",
         117923,
         "S101",
         "Y",
         "1959-05-26",
         "1960-11-07",
         86
        ],
        [
         "SUBID10053",
         "visitor",
         "Sonkar",
         "Shetty Marg",
         "Male",
         "India",
         "Pali",
         383290,
         "S102",
         "Y",
         "2008-06-27",
         "2016-10-30",
         37
        ],
        [
         "SUBID10054",
         "Shivakari",
         "Pratap",
         "Dugar Road",
         "Female",
         "India",
         "Hapur",
         28202,
         "S104",
         "N",
         "1964-11-02",
         "1967-06-15",
         80
        ],
        [
         "SUBID10055",
         "Madhu",
         "Thakur",
         "Sule Marg",
         "Male",
         "India",
         "Udaipur",
         565423,
         "S107",
         "N",
         "2004-10-23",
         "2008-07-10",
         40
        ],
        [
         "SUBID10056",
         "Chanak",
         "Gupta",
         "Shetty Nagar",
         "Male",
         "India",
         "Jalandhar",
         602989,
         "S105",
         "N",
         "1974-08-27",
         "1982-06-15",
         71
        ],
        [
         "SUBID10057",
         "Chittesh",
         "Pandey",
         "Mangal Chowk",
         "Male",
         "India",
         "Thoothukudi",
         666415,
         "S109",
         "Y",
         "1969-10-17",
         "1975-10-08",
         75
        ],
        [
         "SUBID1058",
         "Nawal",
         "Rajput",
         "Deol Nagar",
         "Male",
         "India",
         "Bhopal",
         791168,
         "S106",
         "N",
         "1960-01-22",
         "1969-04-18",
         85
        ],
        [
         "SUBID10059",
         "Gajabahu",
         "Singh",
         "Kara",
         "Male",
         "India",
         "Udupi",
         637221,
         "S101",
         "Y",
         "1979-03-15",
         "1986-07-05",
         66
        ],
        [
         "SUBID10060",
         "Jitesh",
         "Vishwakarma",
         "Gopal Path",
         "Male",
         "India",
         "Karimnagar",
         124564,
         "S110",
         "Y",
         "2003-02-03",
         "2008-04-30",
         42
        ],
        [
         "SUBID10061",
         "visitor",
         "Rajput",
         "Anand Path",
         "Female",
         "India",
         "Kharagpur",
         934938,
         "S103",
         "N",
         "1986-09-25",
         "1991-06-03",
         59
        ],
        [
         "SUBID1062",
         "Lalit",
         "Mishra",
         "Comar Street",
         "Female",
         "India",
         "Tinsukia",
         963770,
         "S103",
         "N",
         "1944-02-15",
         "1947-09-28",
         101
        ],
        [
         "SUBID1063",
         "Anshuk",
         "Srivastav",
         "Sridhar Path",
         "Male",
         "India",
         "Uluberia",
         270985,
         "S105",
         "N",
         "2011-06-17",
         "2014-07-11",
         34
        ],
        [
         "SUBID10064",
         "visitor",
         "Pandey",
         "Mangat Path",
         "Male",
         "India",
         "Panihati",
         643791,
         "S110",
         "N",
         "2014-01-13",
         "2019-02-24",
         31
        ],
        [
         "SUBID1065",
         "Dipesh",
         "Mishra",
         "Char Path",
         "Female",
         "India",
         "Kochi",
         31269,
         "S103",
         "Y",
         "1969-04-01",
         "1970-06-02",
         76
        ],
        [
         "SUBID10066",
         "visitor",
         "Seth",
         "Chaudhuri Marg",
         "Male",
         "India",
         "Kolhapur",
         597470,
         "S102",
         "N",
         "1950-09-01",
         "1957-12-01",
         95
        ],
        [
         "SUBID1067",
         "Kishan",
         "Rao",
         "Badal Nagar",
         "Male",
         "India",
         "Srikakulam",
         703899,
         "S110",
         "Y",
         "1943-05-12",
         "1946-09-20",
         102
        ],
        [
         "SUBID10068",
         "visitor",
         "Mishra",
         "Bath Nagar",
         "Female",
         "India",
         "Ambarnath",
         766224,
         "S110",
         "N",
         "1947-02-26",
         "1948-03-30",
         98
        ],
        [
         "SUBID10069",
         "Bhageeratha",
         "Srivastav",
         "Das Ganj",
         "Male",
         "India",
         "Sonipat",
         695316,
         "S103",
         "Y",
         "1993-03-21",
         "1997-08-01",
         52
        ],
        [
         "SUBID10070",
         "Balaaditya",
         "Gupta",
         "Varty Road",
         "Male",
         "India",
         "Hajipur",
         3526,
         "S109",
         "N",
         "1943-11-02",
         "1952-09-24",
         101
        ],
        [
         "SUBID10071",
         "visitor",
         "Rai",
         "Choudhury Chowk",
         "Female",
         "India",
         "Vellore",
         239532,
         "S101",
         "N",
         "1961-12-26",
         "1969-02-23",
         83
        ],
        [
         "SUBID10072",
         "Gopal",
         "Srivastav",
         "Desai Street",
         "Female",
         "India",
         "Bidhannagar",
         761800,
         "S103",
         "Y",
         "1956-03-11",
         "1964-07-28",
         89
        ],
        [
         "SUBID1073",
         "Virender",
         "Maurrya",
         "Chakrabarti",
         "Male",
         "India",
         "Bhusawal",
         374302,
         "S104",
         "N",
         "1956-10-27",
         "1961-04-27",
         88
        ],
        [
         "SUBID10074",
         "visitor",
         "Singh",
         "Kalla Path",
         "Male",
         "India",
         "Bokaro",
         866319,
         "S105",
         "Y",
         "1983-11-21",
         "1985-09-29",
         61
        ],
        [
         "SUBID10075",
         "visitor",
         "Singh",
         "Iyengar Nagar",
         "Male",
         "India",
         "Navi Mumbai",
         836175,
         "S107",
         "N",
         "1976-01-29",
         "1979-05-25",
         69
        ],
        [
         "SUBID10076",
         "Mamta",
         "Tiwari",
         "Batra",
         "Female",
         "India",
         "Secunderabad",
         123181,
         "S104",
         "N",
         "1984-12-21",
         "1987-01-08",
         60
        ],
        [
         "SUBID10077",
         "Girija",
         "Maurrya",
         "Iyengar Road",
         "Male",
         "India",
         "Jaipur",
         204379,
         "S105",
         "N",
         "1953-04-25",
         "1963-04-18",
         92
        ],
        [
         "SUBID10078",
         "Aaraadhana",
         "Rao",
         "Raval Nagar",
         "Male",
         "India",
         "Jhansi",
         429941,
         "S108",
         "N",
         "2000-02-07",
         "2005-02-06",
         45
        ],
        [
         "SUBID10079",
         "Shahnawaz",
         "Mishra",
         "Agate Path",
         "Female",
         "India",
         "Rampur",
         528893,
         "S102",
         "Y",
         "1991-06-24",
         "2000-09-13",
         54
        ],
        [
         "SUBID10080",
         "Tej",
         "Sonkar",
         "Sarraf Chowk",
         "Male",
         "India",
         "Haridwar",
         506221,
         "S105",
         "Y",
         "1962-06-11",
         "1964-10-14",
         83
        ],
        [
         "SUBID10081",
         "Mansi",
         "Divedi",
         "Bhattacharyya Road",
         "Female",
         "India",
         "Hosur",
         995152,
         "S105",
         "Y",
         "1967-03-20",
         "1971-07-25",
         78
        ],
        [
         "SUBID10082",
         "Girika",
         "Thakur",
         "Sinha Zila",
         "Female",
         "India",
         "Hospet",
         683614,
         "S102",
         "N",
         "1988-11-03",
         "1992-01-21",
         56
        ],
        [
         "SUBID10083",
         "Bhilangana",
         "Pandit",
         "Ramachandran Path",
         "Female",
         "India",
         "Fatehpur",
         359466,
         "S109",
         "Y",
         "2015-01-04",
         "2017-10-05",
         30
        ],
        [
         "SUBID10084",
         "visitor",
         "Thakur",
         "Raval Zila",
         "Female",
         "India",
         "Bhavnagar",
         464111,
         "S107",
         "Y",
         "1944-06-07",
         "1952-05-22",
         101
        ],
        [
         "SUBID10085",
         "Sukanya",
         "Sonkar",
         "Sangha Street",
         "Female",
         "India",
         "Vijayanagaram",
         226215,
         "S101",
         "N",
         "1962-01-16",
         "1967-04-10",
         83
        ],
        [
         "SUBID1086",
         "Banita",
         "Rao",
         "Thakur",
         "Male",
         "India",
         "Ghaziabad",
         907613,
         "S109",
         "N",
         "1999-01-28",
         "2000-09-05",
         46
        ],
        [
         "SUBID1087",
         "visitor",
         "Pandit",
         "Srivastava Path",
         "Female",
         "India",
         "Sambhal",
         279219,
         "S103",
         "N",
         "1944-12-10",
         "1951-07-16",
         100
        ],
        [
         "SUBID10088",
         "visitor",
         "Rajput",
         "Dua Zila",
         "Female",
         "India",
         "Tadipatri",
         743449,
         "S110",
         "N",
         "1942-07-30",
         "1949-06-07",
         103
        ],
        [
         "SUBID10089",
         "Dhuha",
         "Tiwari",
         "Aggarwal Street",
         "Male",
         "India",
         "Rampur",
         492137,
         "S104",
         "N",
         "1972-08-21",
         "1981-05-13",
         73
        ],
        [
         "SUBID10090",
         "visitor",
         "Mishra",
         "Chandran Nagar",
         "Female",
         "India",
         "Sikar",
         564747,
         "S101",
         "Y",
         "1958-06-07",
         "1967-08-23",
         87
        ],
        [
         "SUBID1091",
         "visitor",
         "Thakur",
         "Bala",
         "Male",
         "India",
         "Kamarhati",
         682652,
         "S110",
         "Y",
         "1950-12-31",
         "1958-06-21",
         94
        ],
        [
         "SUBID10092",
         "visitor",
         "Rai",
         "Karan Street",
         "Others",
         "India",
         "Ghaziabad",
         79586,
         "S108",
         "N",
         "1960-08-22",
         "1966-10-06",
         85
        ],
        [
         "SUBID10093",
         "Chandavarman",
         "Singh",
         "Sarkar Circle",
         "Others",
         "India",
         "Navi Mumbai",
         83240,
         "S110",
         "N",
         "2017-05-10",
         "2022-08-27",
         28
        ],
        [
         "SUBID10094",
         "Charanpal",
         "Yadav",
         "Sehgal Circle",
         "Male",
         "India",
         "Gurgaon",
         640326,
         "S109",
         "Y",
         "2006-10-12",
         "2016-05-13",
         38
        ],
        [
         "SUBID10095",
         "Ekaaksh",
         "Rai",
         "Bansal Ganj",
         "Others",
         "India",
         "Pimpri-Chinchwad",
         158186,
         "S107",
         "N",
         "1953-12-02",
         "1960-07-29",
         91
        ],
        [
         "SUBID10096",
         "Chanak",
         "Sonkar",
         "Kaur",
         "Others",
         "India",
         "Raurkela Industrial Township",
         899590,
         "S101",
         "Y",
         "1979-04-07",
         "1986-03-07",
         66
        ],
        [
         "SUBID10097",
         "visitor",
         "Sonkar",
         "Rana Ganj",
         "Others",
         "India",
         "Mira-Bhayandar",
         896586,
         "S107",
         "Y",
         "1960-02-04",
         "1965-01-12",
         85
        ],
        [
         "SUBID1098",
         "Pushkar",
         "Kumar",
         "Sodhi Zila",
         "Others",
         "India",
         "Korba",
         910732,
         "S107",
         "Y",
         "1954-10-05",
         "1961-04-05",
         90
        ],
        [
         "SUBID10099",
         "Shikha",
         "Srivastav",
         "Ahuja Road",
         "Others",
         "India",
         "Nanded",
         101500,
         "S109",
         "Y",
         "1990-09-06",
         "1997-11-27",
         55
        ]
       ],
       "datasetInfos": [],
       "dbfsResultPath": null,
       "isJsonSchema": true,
       "metadata": {},
       "overflow": false,
       "plotOptions": {
        "customPlotOptions": {},
        "displayType": "table",
        "pivotAggregation": null,
        "pivotColumns": null,
        "xColumns": null,
        "yColumns": null
       },
       "removedWidgets": [],
       "schema": [
        {
         "metadata": "{}",
         "name": "sub_id",
         "type": "\"string\""
        },
        {
         "metadata": "{}",
         "name": "first_name",
         "type": "\"string\""
        },
        {
         "metadata": "{}",
         "name": "last_name",
         "type": "\"string\""
        },
        {
         "metadata": "{}",
         "name": "Street",
         "type": "\"string\""
        },
        {
         "metadata": "{}",
         "name": "Gender",
         "type": "\"string\""
        },
        {
         "metadata": "{}",
         "name": "Country",
         "type": "\"string\""
        },
        {
         "metadata": "{}",
         "name": "City",
         "type": "\"string\""
        },
        {
         "metadata": "{}",
         "name": "Zip Code",
         "type": "\"integer\""
        },
        {
         "metadata": "{}",
         "name": "Subgrp_id",
         "type": "\"string\""
        },
        {
         "metadata": "{}",
         "name": "Elig_ind",
         "type": "\"string\""
        },
        {
         "metadata": "{\"__detected_date_formats\":\"d-M-yyyy\"}",
         "name": "eff_date",
         "type": "\"date\""
        },
        {
         "metadata": "{\"__detected_date_formats\":\"d-M-yyyy\"}",
         "name": "term_date",
         "type": "\"date\""
        },
        {
         "metadata": "{}",
         "name": "age",
         "type": "\"integer\""
        }
       ],
       "type": "table"
      }
     },
     "output_type": "display_data"
    }
   ],
   "source": [
    "display(susci_df)"
   ]
  },
  {
   "cell_type": "code",
   "execution_count": 0,
   "metadata": {
    "application/vnd.databricks.v1+cell": {
     "cellMetadata": {
      "byteLimit": 2048000,
      "rowLimit": 10000
     },
     "inputWidgets": {},
     "nuid": "b20b8f58-a93e-44eb-9d0f-7efd0f4f3a0b",
     "showTitle": false,
     "tableResultSettingsMap": {},
     "title": ""
    }
   },
   "outputs": [],
   "source": [
    "susci_df = susci_df.withColumn(\"Subgrp_id\",when(col(\"Subgrp_id\").isNull() & (col('sub_id') == 'SUBID10022'),'S110').\n",
    "                               when(col(\"Subgrp_id\").isNull() & (col('sub_id') == 'SUBID10049'),'S107').otherwise(col(\"Subgrp_id\")))"
   ]
  },
  {
   "cell_type": "code",
   "execution_count": 0,
   "metadata": {
    "application/vnd.databricks.v1+cell": {
     "cellMetadata": {
      "byteLimit": 2048000,
      "rowLimit": 10000
     },
     "inputWidgets": {},
     "nuid": "8adab7e6-119f-4f7d-98ea-c6e6a9a0ceac",
     "showTitle": false,
     "tableResultSettingsMap": {},
     "title": ""
    }
   },
   "outputs": [
    {
     "output_type": "stream",
     "name": "stdout",
     "output_type": "stream",
     "text": [
      "+------+----------+---------+------+------+-------+----+--------+---------+--------+--------+---------+---+\n|sub_id|first_name|last_name|Street|Gender|Country|City|Zip Code|Subgrp_id|Elig_ind|eff_date|term_date|age|\n+------+----------+---------+------+------+-------+----+--------+---------+--------+--------+---------+---+\n|     0|         0|        0|     0|     0|      0|   0|       0|        0|       0|       0|        0|  0|\n+------+----------+---------+------+------+-------+----+--------+---------+--------+--------+---------+---+\n\n"
     ]
    }
   ],
   "source": [
    "missingvaluescheck(susci_df)"
   ]
  },
  {
   "cell_type": "code",
   "execution_count": 0,
   "metadata": {
    "application/vnd.databricks.v1+cell": {
     "cellMetadata": {},
     "inputWidgets": {},
     "nuid": "bcdc092b-101d-49f6-85ee-e1e7e7ed83f3",
     "showTitle": false,
     "tableResultSettingsMap": {},
     "title": ""
    }
   },
   "outputs": [],
   "source": [
    "#Silvertogold"
   ]
  },
  {
   "cell_type": "code",
   "execution_count": 0,
   "metadata": {
    "application/vnd.databricks.v1+cell": {
     "cellMetadata": {
      "byteLimit": 2048000,
      "rowLimit": 10000
     },
     "inputWidgets": {},
     "nuid": "c05d4162-2986-4c2d-b718-d907a39d14d5",
     "showTitle": false,
     "tableResultSettingsMap": {},
     "title": ""
    }
   },
   "outputs": [
    {
     "output_type": "display_data",
     "data": {
      "text/plain": [
       "\u001B[0;31m---------------------------------------------------------------------------\u001B[0m\n",
       "\u001B[0;31mPy4JJavaError\u001B[0m                             Traceback (most recent call last)\n",
       "File \u001B[0;32m<command-4473617882005753>, line 4\u001B[0m\n",
       "\u001B[1;32m      2\u001B[0m pat_df\n",
       "\u001B[1;32m      3\u001B[0m pat_hosp_df \u001B[38;5;241m=\u001B[39m pat_df\u001B[38;5;241m.\u001B[39mjoin(hosp_df,[\u001B[38;5;124m'\u001B[39m\u001B[38;5;124mhospital_id\u001B[39m\u001B[38;5;124m'\u001B[39m],\u001B[38;5;124m'\u001B[39m\u001B[38;5;124mleft\u001B[39m\u001B[38;5;124m'\u001B[39m)\n",
       "\u001B[0;32m----> 4\u001B[0m pat_hosp_df\u001B[38;5;241m.\u001B[39mshow()\n",
       "\n",
       "File \u001B[0;32m/databricks/spark/python/pyspark/instrumentation_utils.py:47\u001B[0m, in \u001B[0;36m_wrap_function.<locals>.wrapper\u001B[0;34m(*args, **kwargs)\u001B[0m\n",
       "\u001B[1;32m     45\u001B[0m start \u001B[38;5;241m=\u001B[39m time\u001B[38;5;241m.\u001B[39mperf_counter()\n",
       "\u001B[1;32m     46\u001B[0m \u001B[38;5;28;01mtry\u001B[39;00m:\n",
       "\u001B[0;32m---> 47\u001B[0m     res \u001B[38;5;241m=\u001B[39m func(\u001B[38;5;241m*\u001B[39margs, \u001B[38;5;241m*\u001B[39m\u001B[38;5;241m*\u001B[39mkwargs)\n",
       "\u001B[1;32m     48\u001B[0m     logger\u001B[38;5;241m.\u001B[39mlog_success(\n",
       "\u001B[1;32m     49\u001B[0m         module_name, class_name, function_name, time\u001B[38;5;241m.\u001B[39mperf_counter() \u001B[38;5;241m-\u001B[39m start, signature\n",
       "\u001B[1;32m     50\u001B[0m     )\n",
       "\u001B[1;32m     51\u001B[0m     \u001B[38;5;28;01mreturn\u001B[39;00m res\n",
       "\n",
       "File \u001B[0;32m/databricks/spark/python/pyspark/sql/dataframe.py:1063\u001B[0m, in \u001B[0;36mDataFrame.show\u001B[0;34m(self, n, truncate, vertical)\u001B[0m\n",
       "\u001B[1;32m    974\u001B[0m \u001B[38;5;28;01mdef\u001B[39;00m \u001B[38;5;21mshow\u001B[39m(\u001B[38;5;28mself\u001B[39m, n: \u001B[38;5;28mint\u001B[39m \u001B[38;5;241m=\u001B[39m \u001B[38;5;241m20\u001B[39m, truncate: Union[\u001B[38;5;28mbool\u001B[39m, \u001B[38;5;28mint\u001B[39m] \u001B[38;5;241m=\u001B[39m \u001B[38;5;28;01mTrue\u001B[39;00m, vertical: \u001B[38;5;28mbool\u001B[39m \u001B[38;5;241m=\u001B[39m \u001B[38;5;28;01mFalse\u001B[39;00m) \u001B[38;5;241m-\u001B[39m\u001B[38;5;241m>\u001B[39m \u001B[38;5;28;01mNone\u001B[39;00m:\n",
       "\u001B[1;32m    975\u001B[0m \u001B[38;5;250m    \u001B[39m\u001B[38;5;124;03m\"\"\"\u001B[39;00m\n",
       "\u001B[1;32m    976\u001B[0m \u001B[38;5;124;03m    Prints the first ``n`` rows of the DataFrame to the console.\u001B[39;00m\n",
       "\u001B[1;32m    977\u001B[0m \n",
       "\u001B[0;32m   (...)\u001B[0m\n",
       "\u001B[1;32m   1061\u001B[0m \u001B[38;5;124;03m    name | This is a super l...\u001B[39;00m\n",
       "\u001B[1;32m   1062\u001B[0m \u001B[38;5;124;03m    \"\"\"\u001B[39;00m\n",
       "\u001B[0;32m-> 1063\u001B[0m     \u001B[38;5;28mprint\u001B[39m(\u001B[38;5;28mself\u001B[39m\u001B[38;5;241m.\u001B[39m_show_string(n, truncate, vertical))\n",
       "\n",
       "File \u001B[0;32m/databricks/spark/python/pyspark/sql/dataframe.py:1081\u001B[0m, in \u001B[0;36mDataFrame._show_string\u001B[0;34m(self, n, truncate, vertical)\u001B[0m\n",
       "\u001B[1;32m   1075\u001B[0m     \u001B[38;5;28;01mraise\u001B[39;00m PySparkTypeError(\n",
       "\u001B[1;32m   1076\u001B[0m         errorClass\u001B[38;5;241m=\u001B[39m\u001B[38;5;124m\"\u001B[39m\u001B[38;5;124mNOT_BOOL\u001B[39m\u001B[38;5;124m\"\u001B[39m,\n",
       "\u001B[1;32m   1077\u001B[0m         messageParameters\u001B[38;5;241m=\u001B[39m{\u001B[38;5;124m\"\u001B[39m\u001B[38;5;124marg_name\u001B[39m\u001B[38;5;124m\"\u001B[39m: \u001B[38;5;124m\"\u001B[39m\u001B[38;5;124mvertical\u001B[39m\u001B[38;5;124m\"\u001B[39m, \u001B[38;5;124m\"\u001B[39m\u001B[38;5;124marg_type\u001B[39m\u001B[38;5;124m\"\u001B[39m: \u001B[38;5;28mtype\u001B[39m(vertical)\u001B[38;5;241m.\u001B[39m\u001B[38;5;18m__name__\u001B[39m},\n",
       "\u001B[1;32m   1078\u001B[0m     )\n",
       "\u001B[1;32m   1080\u001B[0m \u001B[38;5;28;01mif\u001B[39;00m \u001B[38;5;28misinstance\u001B[39m(truncate, \u001B[38;5;28mbool\u001B[39m) \u001B[38;5;129;01mand\u001B[39;00m truncate:\n",
       "\u001B[0;32m-> 1081\u001B[0m     \u001B[38;5;28;01mreturn\u001B[39;00m \u001B[38;5;28mself\u001B[39m\u001B[38;5;241m.\u001B[39m_jdf\u001B[38;5;241m.\u001B[39mshowString(n, \u001B[38;5;241m20\u001B[39m, vertical)\n",
       "\u001B[1;32m   1082\u001B[0m \u001B[38;5;28;01melse\u001B[39;00m:\n",
       "\u001B[1;32m   1083\u001B[0m     \u001B[38;5;28;01mtry\u001B[39;00m:\n",
       "\n",
       "File \u001B[0;32m/databricks/spark/python/lib/py4j-0.10.9.7-src.zip/py4j/java_gateway.py:1355\u001B[0m, in \u001B[0;36mJavaMember.__call__\u001B[0;34m(self, *args)\u001B[0m\n",
       "\u001B[1;32m   1349\u001B[0m command \u001B[38;5;241m=\u001B[39m proto\u001B[38;5;241m.\u001B[39mCALL_COMMAND_NAME \u001B[38;5;241m+\u001B[39m\\\n",
       "\u001B[1;32m   1350\u001B[0m     \u001B[38;5;28mself\u001B[39m\u001B[38;5;241m.\u001B[39mcommand_header \u001B[38;5;241m+\u001B[39m\\\n",
       "\u001B[1;32m   1351\u001B[0m     args_command \u001B[38;5;241m+\u001B[39m\\\n",
       "\u001B[1;32m   1352\u001B[0m     proto\u001B[38;5;241m.\u001B[39mEND_COMMAND_PART\n",
       "\u001B[1;32m   1354\u001B[0m answer \u001B[38;5;241m=\u001B[39m \u001B[38;5;28mself\u001B[39m\u001B[38;5;241m.\u001B[39mgateway_client\u001B[38;5;241m.\u001B[39msend_command(command)\n",
       "\u001B[0;32m-> 1355\u001B[0m return_value \u001B[38;5;241m=\u001B[39m get_return_value(\n",
       "\u001B[1;32m   1356\u001B[0m     answer, \u001B[38;5;28mself\u001B[39m\u001B[38;5;241m.\u001B[39mgateway_client, \u001B[38;5;28mself\u001B[39m\u001B[38;5;241m.\u001B[39mtarget_id, \u001B[38;5;28mself\u001B[39m\u001B[38;5;241m.\u001B[39mname)\n",
       "\u001B[1;32m   1358\u001B[0m \u001B[38;5;28;01mfor\u001B[39;00m temp_arg \u001B[38;5;129;01min\u001B[39;00m temp_args:\n",
       "\u001B[1;32m   1359\u001B[0m     \u001B[38;5;28;01mif\u001B[39;00m \u001B[38;5;28mhasattr\u001B[39m(temp_arg, \u001B[38;5;124m\"\u001B[39m\u001B[38;5;124m_detach\u001B[39m\u001B[38;5;124m\"\u001B[39m):\n",
       "\n",
       "File \u001B[0;32m/databricks/spark/python/pyspark/errors/exceptions/captured.py:263\u001B[0m, in \u001B[0;36mcapture_sql_exception.<locals>.deco\u001B[0;34m(*a, **kw)\u001B[0m\n",
       "\u001B[1;32m    260\u001B[0m \u001B[38;5;28;01mfrom\u001B[39;00m \u001B[38;5;21;01mpy4j\u001B[39;00m\u001B[38;5;21;01m.\u001B[39;00m\u001B[38;5;21;01mprotocol\u001B[39;00m \u001B[38;5;28;01mimport\u001B[39;00m Py4JJavaError\n",
       "\u001B[1;32m    262\u001B[0m \u001B[38;5;28;01mtry\u001B[39;00m:\n",
       "\u001B[0;32m--> 263\u001B[0m     \u001B[38;5;28;01mreturn\u001B[39;00m f(\u001B[38;5;241m*\u001B[39ma, \u001B[38;5;241m*\u001B[39m\u001B[38;5;241m*\u001B[39mkw)\n",
       "\u001B[1;32m    264\u001B[0m \u001B[38;5;28;01mexcept\u001B[39;00m Py4JJavaError \u001B[38;5;28;01mas\u001B[39;00m e:\n",
       "\u001B[1;32m    265\u001B[0m     converted \u001B[38;5;241m=\u001B[39m convert_exception(e\u001B[38;5;241m.\u001B[39mjava_exception)\n",
       "\n",
       "File \u001B[0;32m/databricks/spark/python/lib/py4j-0.10.9.7-src.zip/py4j/protocol.py:326\u001B[0m, in \u001B[0;36mget_return_value\u001B[0;34m(answer, gateway_client, target_id, name)\u001B[0m\n",
       "\u001B[1;32m    324\u001B[0m value \u001B[38;5;241m=\u001B[39m OUTPUT_CONVERTER[\u001B[38;5;28mtype\u001B[39m](answer[\u001B[38;5;241m2\u001B[39m:], gateway_client)\n",
       "\u001B[1;32m    325\u001B[0m \u001B[38;5;28;01mif\u001B[39;00m answer[\u001B[38;5;241m1\u001B[39m] \u001B[38;5;241m==\u001B[39m REFERENCE_TYPE:\n",
       "\u001B[0;32m--> 326\u001B[0m     \u001B[38;5;28;01mraise\u001B[39;00m Py4JJavaError(\n",
       "\u001B[1;32m    327\u001B[0m         \u001B[38;5;124m\"\u001B[39m\u001B[38;5;124mAn error occurred while calling \u001B[39m\u001B[38;5;132;01m{0}\u001B[39;00m\u001B[38;5;132;01m{1}\u001B[39;00m\u001B[38;5;132;01m{2}\u001B[39;00m\u001B[38;5;124m.\u001B[39m\u001B[38;5;130;01m\\n\u001B[39;00m\u001B[38;5;124m\"\u001B[39m\u001B[38;5;241m.\u001B[39m\n",
       "\u001B[1;32m    328\u001B[0m         \u001B[38;5;28mformat\u001B[39m(target_id, \u001B[38;5;124m\"\u001B[39m\u001B[38;5;124m.\u001B[39m\u001B[38;5;124m\"\u001B[39m, name), value)\n",
       "\u001B[1;32m    329\u001B[0m \u001B[38;5;28;01melse\u001B[39;00m:\n",
       "\u001B[1;32m    330\u001B[0m     \u001B[38;5;28;01mraise\u001B[39;00m Py4JError(\n",
       "\u001B[1;32m    331\u001B[0m         \u001B[38;5;124m\"\u001B[39m\u001B[38;5;124mAn error occurred while calling \u001B[39m\u001B[38;5;132;01m{0}\u001B[39;00m\u001B[38;5;132;01m{1}\u001B[39;00m\u001B[38;5;132;01m{2}\u001B[39;00m\u001B[38;5;124m. Trace:\u001B[39m\u001B[38;5;130;01m\\n\u001B[39;00m\u001B[38;5;132;01m{3}\u001B[39;00m\u001B[38;5;130;01m\\n\u001B[39;00m\u001B[38;5;124m\"\u001B[39m\u001B[38;5;241m.\u001B[39m\n",
       "\u001B[1;32m    332\u001B[0m         \u001B[38;5;28mformat\u001B[39m(target_id, \u001B[38;5;124m\"\u001B[39m\u001B[38;5;124m.\u001B[39m\u001B[38;5;124m\"\u001B[39m, name, value))\n",
       "\n",
       "\u001B[0;31mPy4JJavaError\u001B[0m: An error occurred while calling o3426.showString.\n",
       ": org.apache.spark.SparkException: [FAILED_READ_FILE.NO_HINT] Error while reading file abfss:REDACTED_LOCAL_PART@tenonadls.dfs.core.windows.net/bronze/Patient_records.csv.  SQLSTATE: KD001\n",
       "\tat org.apache.spark.sql.errors.QueryExecutionErrors$.cannotReadFilesError(QueryExecutionErrors.scala:1134)\n",
       "\tat org.apache.spark.sql.execution.datasources.FileScanRDD$$anon$1$$anon$2.logErrorFileNameAndThrow(FileScanRDD.scala:861)\n",
       "\tat org.apache.spark.sql.execution.datasources.FileScanRDD$$anon$1$$anon$2.getNext(FileScanRDD.scala:816)\n",
       "\tat org.apache.spark.util.NextIterator.hasNext(NextIterator.scala:73)\n",
       "\tat org.apache.spark.sql.execution.datasources.FileScanRDD$$anon$1.nextIterator(FileScanRDD.scala:978)\n",
       "\tat org.apache.spark.sql.execution.datasources.FileScanRDD$$anon$1.$anonfun$hasNext$1(FileScanRDD.scala:638)\n",
       "\tat scala.runtime.java8.JFunction0$mcZ$sp.apply(JFunction0$mcZ$sp.java:23)\n",
       "\tat com.databricks.spark.util.ExecutorFrameProfiler$.record(ExecutorFrameProfiler.scala:110)\n",
       "\tat org.apache.spark.sql.execution.datasources.FileScanRDD$$anon$1.hasNext(FileScanRDD.scala:628)\n",
       "\tat scala.collection.Iterator$$anon$10.hasNext(Iterator.scala:460)\n",
       "\tat org.apache.spark.sql.catalyst.expressions.GeneratedClass$GeneratedIteratorForCodegenStage2.processNext(Unknown Source)\n",
       "\tat org.apache.spark.sql.execution.BufferedRowIterator.hasNext(BufferedRowIterator.java:43)\n",
       "\tat org.apache.spark.sql.execution.WholeStageCodegenEvaluatorFactory$WholeStageCodegenPartitionEvaluator$$anon$1.hasNext(WholeStageCodegenEvaluatorFactory.scala:50)\n",
       "\tat org.apache.spark.sql.execution.collect.UnsafeRowBatchUtils$.$anonfun$encodeUnsafeRows$5(UnsafeRowBatchUtils.scala:88)\n",
       "\tat scala.runtime.java8.JFunction0$mcV$sp.apply(JFunction0$mcV$sp.java:23)\n",
       "\tat com.databricks.spark.util.ExecutorFrameProfiler$.record(ExecutorFrameProfiler.scala:110)\n",
       "\tat org.apache.spark.sql.execution.collect.UnsafeRowBatchUtils$.$anonfun$encodeUnsafeRows$3(UnsafeRowBatchUtils.scala:88)\n",
       "\tat scala.runtime.java8.JFunction0$mcV$sp.apply(JFunction0$mcV$sp.java:23)\n",
       "\tat com.databricks.spark.util.ExecutorFrameProfiler$.record(ExecutorFrameProfiler.scala:110)\n",
       "\tat org.apache.spark.sql.execution.collect.UnsafeRowBatchUtils$.$anonfun$encodeUnsafeRows$1(UnsafeRowBatchUtils.scala:68)\n",
       "\tat com.databricks.spark.util.ExecutorFrameProfiler$.record(ExecutorFrameProfiler.scala:110)\n",
       "\tat org.apache.spark.sql.execution.collect.UnsafeRowBatchUtils$.encodeUnsafeRows(UnsafeRowBatchUtils.scala:62)\n",
       "\tat org.apache.spark.sql.execution.collect.Collector.$anonfun$processFunc$2(Collector.scala:207)\n",
       "\tat org.apache.spark.scheduler.ResultTask.$anonfun$runTask$2(ResultTask.scala:76)\n",
       "\tat com.databricks.spark.util.ExecutorFrameProfiler$.record(ExecutorFrameProfiler.scala:110)\n",
       "\tat org.apache.spark.scheduler.ResultTask.$anonfun$runTask$1(ResultTask.scala:76)\n",
       "\tat com.databricks.spark.util.ExecutorFrameProfiler$.record(ExecutorFrameProfiler.scala:110)\n",
       "\tat org.apache.spark.scheduler.ResultTask.runTask(ResultTask.scala:62)\n",
       "\tat org.apache.spark.TaskContext.runTaskWithListeners(TaskContext.scala:227)\n",
       "\tat org.apache.spark.scheduler.Task.doRunTask(Task.scala:204)\n",
       "\tat org.apache.spark.scheduler.Task.$anonfun$run$5(Task.scala:166)\n",
       "\tat com.databricks.unity.UCSEphemeralState$Handle.runWith(UCSEphemeralState.scala:51)\n",
       "\tat com.databricks.unity.HandleImpl.runWith(UCSHandle.scala:104)\n",
       "\tat com.databricks.unity.HandleImpl.$anonfun$runWithAndClose$1(UCSHandle.scala:109)\n",
       "\tat scala.util.Using$.resource(Using.scala:269)\n",
       "\tat com.databricks.unity.HandleImpl.runWithAndClose(UCSHandle.scala:108)\n",
       "\tat org.apache.spark.scheduler.Task.$anonfun$run$1(Task.scala:160)\n",
       "\tat com.databricks.spark.util.ExecutorFrameProfiler$.record(ExecutorFrameProfiler.scala:110)\n",
       "\tat org.apache.spark.scheduler.Task.run(Task.scala:105)\n",
       "\tat org.apache.spark.executor.Executor$TaskRunner.$anonfun$run$12(Executor.scala:1224)\n",
       "\tat org.apache.spark.util.SparkErrorUtils.tryWithSafeFinally(SparkErrorUtils.scala:80)\n",
       "\tat org.apache.spark.util.SparkErrorUtils.tryWithSafeFinally$(SparkErrorUtils.scala:77)\n",
       "\tat org.apache.spark.util.Utils$.tryWithSafeFinally(Utils.scala:111)\n",
       "\tat org.apache.spark.executor.Executor$TaskRunner.$anonfun$run$3(Executor.scala:1228)\n",
       "\tat scala.runtime.java8.JFunction0$mcV$sp.apply(JFunction0$mcV$sp.java:23)\n",
       "\tat com.databricks.spark.util.ExecutorFrameProfiler$.record(ExecutorFrameProfiler.scala:110)\n",
       "\tat org.apache.spark.executor.Executor$TaskRunner.run(Executor.scala:1076)\n",
       "\tat java.base/java.util.concurrent.ThreadPoolExecutor.runWorker(ThreadPoolExecutor.java:1136)\n",
       "\tat java.base/java.util.concurrent.ThreadPoolExecutor$Worker.run(ThreadPoolExecutor.java:635)\n",
       "\tat java.base/java.lang.Thread.run(Thread.java:840)\n",
       "\tat org.apache.spark.scheduler.DAGScheduler.$anonfun$runJob$1(DAGScheduler.scala:1486)\n",
       "\tat scala.runtime.java8.JFunction0$mcV$sp.apply(JFunction0$mcV$sp.java:23)\n",
       "\tat com.databricks.spark.util.FrameProfiler$.record(FrameProfiler.scala:94)\n",
       "\tat org.apache.spark.scheduler.DAGScheduler.runJob(DAGScheduler.scala:1472)\n",
       "\tat org.apache.spark.SparkContext.runJobInternal(SparkContext.scala:3218)\n",
       "\tat org.apache.spark.sql.execution.collect.Collector.$anonfun$runSparkJobs$1(Collector.scala:348)\n",
       "\tat scala.runtime.java8.JFunction0$mcV$sp.apply(JFunction0$mcV$sp.java:23)\n",
       "\tat com.databricks.spark.util.FrameProfiler$.record(FrameProfiler.scala:94)\n",
       "\tat org.apache.spark.sql.execution.collect.Collector.runSparkJobs(Collector.scala:292)\n",
       "\tat org.apache.spark.sql.execution.collect.Collector.$anonfun$collect$1(Collector.scala:377)\n",
       "\tat com.databricks.spark.util.FrameProfiler$.record(FrameProfiler.scala:94)\n",
       "\tat org.apache.spark.sql.execution.collect.Collector.collect(Collector.scala:374)\n",
       "\tat org.apache.spark.sql.execution.collect.Collector$.collect(Collector.scala:116)\n",
       "\tat org.apache.spark.sql.execution.collect.Collector$.collect(Collector.scala:124)\n",
       "\tat org.apache.spark.sql.execution.qrc.InternalRowFormat$.collect(cachedSparkResults.scala:94)\n",
       "\tat org.apache.spark.sql.execution.qrc.InternalRowFormat$.collect(cachedSparkResults.scala:90)\n",
       "\tat org.apache.spark.sql.execution.qrc.InternalRowFormat$.collect(cachedSparkResults.scala:78)\n",
       "\tat org.apache.spark.sql.execution.qrc.ResultCacheManager.$anonfun$computeResult$1(ResultCacheManager.scala:585)\n",
       "\tat com.databricks.spark.util.FrameProfiler$.record(FrameProfiler.scala:94)\n",
       "\tat org.apache.spark.sql.execution.qrc.ResultCacheManager.collectResult$1(ResultCacheManager.scala:579)\n",
       "\tat org.apache.spark.sql.execution.qrc.ResultCacheManager.$anonfun$computeResult$2(ResultCacheManager.scala:594)\n",
       "\tat org.apache.spark.sql.execution.adaptive.ResultQueryStageExec.$anonfun$doMaterialize$1(QueryStageExec.scala:677)\n",
       "\tat org.apache.spark.sql.SparkSession.withActive(SparkSession.scala:1426)\n",
       "\tat org.apache.spark.sql.execution.SQLExecution$.$anonfun$withThreadLocalCaptured$7(SQLExecution.scala:835)\n",
       "\tat com.databricks.util.LexicalThreadLocal$Handle.runWith(LexicalThreadLocal.scala:63)\n",
       "\tat org.apache.spark.sql.execution.SQLExecution$.$anonfun$withThreadLocalCaptured$6(SQLExecution.scala:835)\n",
       "\tat com.databricks.util.LexicalThreadLocal$Handle.runWith(LexicalThreadLocal.scala:63)\n",
       "\tat org.apache.spark.sql.execution.SQLExecution$.$anonfun$withThreadLocalCaptured$5(SQLExecution.scala:835)\n",
       "\tat scala.util.DynamicVariable.withValue(DynamicVariable.scala:62)\n",
       "\tat org.apache.spark.sql.execution.SQLExecution$.$anonfun$withThreadLocalCaptured$4(SQLExecution.scala:834)\n",
       "\tat scala.util.DynamicVariable.withValue(DynamicVariable.scala:62)\n",
       "\tat org.apache.spark.sql.execution.SQLExecution$.$anonfun$withThreadLocalCaptured$3(SQLExecution.scala:833)\n",
       "\tat com.databricks.sql.transaction.tahoe.ConcurrencyHelpers$.withOptimisticTransaction(ConcurrencyHelpers.scala:57)\n",
       "\tat org.apache.spark.sql.execution.SQLExecution$.$anonfun$withThreadLocalCaptured$2(SQLExecution.scala:832)\n",
       "\tat org.apache.spark.JobArtifactSet$.withActiveJobArtifactState(JobArtifactSet.scala:97)\n",
       "\tat org.apache.spark.sql.execution.SQLExecution$.$anonfun$withThreadLocalCaptured$1(SQLExecution.scala:816)\n",
       "\tat java.base/java.util.concurrent.CompletableFuture$AsyncSupply.run(CompletableFuture.java:1768)\n",
       "\tat org.apache.spark.util.threads.SparkThreadLocalCapturingRunnable.$anonfun$run$1(SparkThreadLocalForwardingThreadPoolExecutor.scala:157)\n",
       "\tat scala.runtime.java8.JFunction0$mcV$sp.apply(JFunction0$mcV$sp.java:23)\n",
       "\tat com.databricks.spark.util.IdentityClaim$.withClaim(IdentityClaim.scala:48)\n",
       "\tat org.apache.spark.util.threads.SparkThreadLocalCapturingHelper.$anonfun$runWithCaptured$4(SparkThreadLocalForwardingThreadPoolExecutor.scala:113)\n",
       "\tat com.databricks.unity.UCSEphemeralState$Handle.runWith(UCSEphemeralState.scala:51)\n",
       "\tat org.apache.spark.util.threads.SparkThreadLocalCapturingHelper.runWithCaptured(SparkThreadLocalForwardingThreadPoolExecutor.scala:112)\n",
       "\tat org.apache.spark.util.threads.SparkThreadLocalCapturingHelper.runWithCaptured$(SparkThreadLocalForwardingThreadPoolExecutor.scala:89)\n",
       "\tat org.apache.spark.util.threads.SparkThreadLocalCapturingRunnable.runWithCaptured(SparkThreadLocalForwardingThreadPoolExecutor.scala:154)\n",
       "\tat org.apache.spark.util.threads.SparkThreadLocalCapturingRunnable.run(SparkThreadLocalForwardingThreadPoolExecutor.scala:157)\n",
       "\tat java.base/java.util.concurrent.ThreadPoolExecutor.runWorker(ThreadPoolExecutor.java:1136)\n",
       "\tat java.base/java.util.concurrent.ThreadPoolExecutor$Worker.run(ThreadPoolExecutor.java:635)\n",
       "\tat java.base/java.lang.Thread.run(Thread.java:840)\n",
       "Caused by: com.databricks.common.filesystem.InconsistentReadException: The file might have been updated during query execution. Ensure that no pipeline updates existing files during query execution and try again.\n",
       "\tat com.databricks.common.filesystem.LokiAbfsInputStream.withExceptionRewrites(LokiABFS.scala:217)\n",
       "\tat com.databricks.common.filesystem.LokiAbfsInputStream.read(LokiABFS.scala:224)\n",
       "\tat java.base/java.io.DataInputStream.read(DataInputStream.java:151)\n",
       "\tat com.databricks.spark.metrics.FSInputStreamWithMetrics.$anonfun$read$3(FileSystemWithMetrics.scala:90)\n",
       "\tat com.databricks.spark.metrics.FSInputStreamWithMetrics.withTimeAndBytesReadMetric(FileSystemWithMetrics.scala:67)\n",
       "\tat com.databricks.spark.metrics.FSInputStreamWithMetrics.read(FileSystemWithMetrics.scala:90)\n",
       "\tat java.base/java.io.DataInputStream.read(DataInputStream.java:151)\n",
       "\tat org.apache.hadoop.mapreduce.lib.input.UncompressedSplitLineReader.fillBuffer(UncompressedSplitLineReader.java:62)\n",
       "\tat org.apache.hadoop.util.LineReader.readDefaultLine(LineReader.java:227)\n",
       "\tat org.apache.hadoop.util.LineReader.readLine(LineReader.java:185)\n",
       "\tat org.apache.hadoop.mapreduce.lib.input.UncompressedSplitLineReader.readLine(UncompressedSplitLineReader.java:94)\n",
       "\tat org.apache.hadoop.mapreduce.lib.input.LineRecordReader.skipUtfByteOrderMark(LineRecordReader.java:166)\n",
       "\tat org.apache.hadoop.mapreduce.lib.input.LineRecordReader.nextKeyValue(LineRecordReader.java:206)\n",
       "\tat org.apache.spark.sql.execution.datasources.RecordReaderIterator.hasNext(RecordReaderIterator.scala:41)\n",
       "\tat org.apache.spark.sql.execution.datasources.HadoopFileLinesReader.hasNext(HadoopFileLinesReader.scala:71)\n",
       "\tat scala.collection.Iterator$$anon$10.hasNext(Iterator.scala:460)\n",
       "\tat scala.collection.Iterator$$anon$17.hasNext(Iterator.scala:814)\n",
       "\tat org.apache.spark.sql.catalyst.csv.CSVExprUtils$.extractHeader(CSVExprUtils.scala:56)\n",
       "\tat org.apache.spark.sql.catalyst.csv.CSVHeaderChecker.checkHeaderColumnNames(CSVHeaderChecker.scala:160)\n",
       "\tat org.apache.spark.sql.catalyst.csv.UnivocityParser$.parseIterator(UnivocityParser.scala:525)\n",
       "\tat org.apache.spark.sql.execution.datasources.csv.TextInputCSVDataSource.readFile(CSVDataSource.scala:142)\n",
       "\tat org.apache.spark.sql.execution.datasources.csv.CSVFileFormat.$anonfun$buildReader$4(CSVFileFormat.scala:207)\n",
       "\tat org.apache.spark.sql.execution.datasources.FileFormat$$anon$1.apply(FileFormat.scala:182)\n",
       "\tat org.apache.spark.sql.execution.datasources.FileFormat$$anon$1.apply(FileFormat.scala:160)\n",
       "\tat org.apache.spark.sql.execution.datasources.FileScanRDD$$anon$1$$anon$2.getNext(FileScanRDD.scala:732)\n",
       "\tat org.apache.spark.util.NextIterator.hasNext(NextIterator.scala:73)\n",
       "\tat org.apache.spark.sql.execution.datasources.FileScanRDD$$anon$1.nextIterator(FileScanRDD.scala:978)\n",
       "\tat org.apache.spark.sql.execution.datasources.FileScanRDD$$anon$1.$anonfun$hasNext$1(FileScanRDD.scala:638)\n",
       "\tat scala.runtime.java8.JFunction0$mcZ$sp.apply(JFunction0$mcZ$sp.java:23)\n",
       "\tat com.databricks.spark.util.ExecutorFrameProfiler$.record(ExecutorFrameProfiler.scala:110)\n",
       "\tat org.apache.spark.sql.execution.datasources.FileScanRDD$$anon$1.hasNext(FileScanRDD.scala:628)\n",
       "\tat scala.collection.Iterator$$anon$10.hasNext(Iterator.scala:460)\n",
       "\tat org.apache.spark.sql.catalyst.expressions.GeneratedClass$GeneratedIteratorForCodegenStage2.processNext(Unknown Source)\n",
       "\tat org.apache.spark.sql.execution.BufferedRowIterator.hasNext(BufferedRowIterator.java:43)\n",
       "\tat org.apache.spark.sql.execution.WholeStageCodegenEvaluatorFactory$WholeStageCodegenPartitionEvaluator$$anon$1.hasNext(WholeStageCodegenEvaluatorFactory.scala:50)\n",
       "\tat org.apache.spark.sql.execution.collect.UnsafeRowBatchUtils$.$anonfun$encodeUnsafeRows$5(UnsafeRowBatchUtils.scala:88)\n",
       "\tat scala.runtime.java8.JFunction0$mcV$sp.apply(JFunction0$mcV$sp.java:23)\n",
       "\tat com.databricks.spark.util.ExecutorFrameProfiler$.record(ExecutorFrameProfiler.scala:110)\n",
       "\tat org.apache.spark.sql.execution.collect.UnsafeRowBatchUtils$.$anonfun$encodeUnsafeRows$3(UnsafeRowBatchUtils.scala:88)\n",
       "\tat scala.runtime.java8.JFunction0$mcV$sp.apply(JFunction0$mcV$sp.java:23)\n",
       "\tat com.databricks.spark.util.ExecutorFrameProfiler$.record(ExecutorFrameProfiler.scala:110)\n",
       "\tat org.apache.spark.sql.execution.collect.UnsafeRowBatchUtils$.$anonfun$encodeUnsafeRows$1(UnsafeRowBatchUtils.scala:68)\n",
       "\tat com.databricks.spark.util.ExecutorFrameProfiler$.record(ExecutorFrameProfiler.scala:110)\n",
       "\tat org.apache.spark.sql.execution.collect.UnsafeRowBatchUtils$.encodeUnsafeRows(UnsafeRowBatchUtils.scala:62)\n",
       "\tat org.apache.spark.sql.execution.collect.Collector.$anonfun$processFunc$2(Collector.scala:207)\n",
       "\tat org.apache.spark.scheduler.ResultTask.$anonfun$runTask$2(ResultTask.scala:76)\n",
       "\tat com.databricks.spark.util.ExecutorFrameProfiler$.record(ExecutorFrameProfiler.scala:110)\n",
       "\tat org.apache.spark.scheduler.ResultTask.$anonfun$runTask$1(ResultTask.scala:76)\n",
       "\tat com.databricks.spark.util.ExecutorFrameProfiler$.record(ExecutorFrameProfiler.scala:110)\n",
       "\tat org.apache.spark.scheduler.ResultTask.runTask(ResultTask.scala:62)\n",
       "\tat org.apache.spark.TaskContext.runTaskWithListeners(TaskContext.scala:227)\n",
       "\tat org.apache.spark.scheduler.Task.doRunTask(Task.scala:204)\n",
       "\tat org.apache.spark.scheduler.Task.$anonfun$run$5(Task.scala:166)\n",
       "\tat com.databricks.unity.UCSEphemeralState$Handle.runWith(UCSEphemeralState.scala:51)\n",
       "\tat com.databricks.unity.HandleImpl.runWith(UCSHandle.scala:104)\n",
       "\tat com.databricks.unity.HandleImpl.$anonfun$runWithAndClose$1(UCSHandle.scala:109)\n",
       "\tat scala.util.Using$.resource(Using.scala:269)\n",
       "\tat com.databricks.unity.HandleImpl.runWithAndClose(UCSHandle.scala:108)\n",
       "\tat org.apache.spark.scheduler.Task.$anonfun$run$1(Task.scala:160)\n",
       "\tat com.databricks.spark.util.ExecutorFrameProfiler$.record(ExecutorFrameProfiler.scala:110)\n",
       "\tat org.apache.spark.scheduler.Task.run(Task.scala:105)\n",
       "\tat org.apache.spark.executor.Executor$TaskRunner.$anonfun$run$12(Executor.scala:1224)\n",
       "\tat org.apache.spark.util.SparkErrorUtils.tryWithSafeFinally(SparkErrorUtils.scala:80)\n",
       "\tat org.apache.spark.util.SparkErrorUtils.tryWithSafeFinally$(SparkErrorUtils.scala:77)\n",
       "\tat org.apache.spark.util.Utils$.tryWithSafeFinally(Utils.scala:111)\n",
       "\tat org.apache.spark.executor.Executor$TaskRunner.$anonfun$run$3(Executor.scala:1228)\n",
       "\tat scala.runtime.java8.JFunction0$mcV$sp.apply(JFunction0$mcV$sp.java:23)\n",
       "\tat com.databricks.spark.util.ExecutorFrameProfiler$.record(ExecutorFrameProfiler.scala:110)\n",
       "\tat org.apache.spark.executor.Executor$TaskRunner.run(Executor.scala:1076)\n",
       "\t... 3 more\n",
       "Caused by: java.io.IOException: Operation failed: \"The condition specified using HTTP conditional header(s) is not met.\", 412, GET, https://tenonadls.dfs.core.windows.net/tenon/bronze/Patient_records.csv?timeout=90, ConditionNotMet, , \"The condition specified using HTTP conditional header(s) is not met. RequestId:bc5cbaec-301f-002e-6c91-a01910000000 Time:2025-03-29T10:04:38.3092433Z\"\n",
       "\tat shaded.databricks.azurebfs.org.apache.hadoop.fs.azurebfs.services.AbfsInputStream.readRemote(AbfsInputStream.java:687)\n",
       "\tat shaded.databricks.azurebfs.org.apache.hadoop.fs.azurebfs.services.AbfsInputStream.readInternal(AbfsInputStream.java:633)\n",
       "\tat shaded.databricks.azurebfs.org.apache.hadoop.fs.azurebfs.services.AbfsInputStream.readOneBlock(AbfsInputStream.java:423)\n",
       "\tat shaded.databricks.azurebfs.org.apache.hadoop.fs.azurebfs.services.AbfsInputStream.read(AbfsInputStream.java:360)\n",
       "\tat java.base/java.io.DataInputStream.read(DataInputStream.java:151)\n",
       "\tat com.databricks.common.filesystem.LokiAbfsInputStream.$anonfun$read$3(LokiABFS.scala:224)\n",
       "\tat scala.runtime.java8.JFunction0$mcI$sp.apply(JFunction0$mcI$sp.java:23)\n",
       "\tat com.databricks.common.filesystem.LokiAbfsInputStream.withExceptionRewrites(LokiABFS.scala:214)\n",
       "\t... 71 more\n",
       "Caused by: Operation failed: \"The condition specified using HTTP conditional header(s) is not met.\", 412, GET, https://tenonadls.dfs.core.windows.net/tenon/bronze/Patient_records.csv?timeout=90, ConditionNotMet, , \"The condition specified using HTTP conditional header(s) is not met. RequestId:bc5cbaec-301f-002e-6c91-a01910000000 Time:2025-03-29T10:04:38.3092433Z\"\n",
       "\tat shaded.databricks.azurebfs.org.apache.hadoop.fs.azurebfs.services.AbfsRestOperation.completeExecute(AbfsRestOperation.java:324)\n",
       "\tat shaded.databricks.azurebfs.org.apache.hadoop.fs.azurebfs.services.AbfsRestOperation.lambda$execute$0(AbfsRestOperation.java:270)\n",
       "\tat org.apache.hadoop.fs.statistics.impl.IOStatisticsBinding.measureDurationOfInvocation(IOStatisticsBinding.java:494)\n",
       "\tat org.apache.hadoop.fs.statistics.impl.IOStatisticsBinding.trackDurationOfInvocation(IOStatisticsBinding.java:465)\n",
       "\tat shaded.databricks.azurebfs.org.apache.hadoop.fs.azurebfs.services.AbfsRestOperation.execute(AbfsRestOperation.java:268)\n",
       "\tat shaded.databricks.azurebfs.org.apache.hadoop.fs.azurebfs.services.AbfsClient.read(AbfsClient.java:1174)\n",
       "\tat shaded.databricks.azurebfs.org.apache.hadoop.fs.azurebfs.services.AbfsInputStream.readRemote(AbfsInputStream.java:670)\n",
       "\t... 78 more\n"
      ]
     },
     "metadata": {
      "application/vnd.databricks.v1+output": {
       "addedWidgets": {},
       "arguments": {},
       "datasetInfos": [],
       "jupyterProps": {
        "ename": "Py4JJavaError",
        "evalue": "An error occurred while calling o3426.showString.\n: org.apache.spark.SparkException: [FAILED_READ_FILE.NO_HINT] Error while reading file abfss:REDACTED_LOCAL_PART@tenonadls.dfs.core.windows.net/bronze/Patient_records.csv.  SQLSTATE: KD001\n\tat org.apache.spark.sql.errors.QueryExecutionErrors$.cannotReadFilesError(QueryExecutionErrors.scala:1134)\n\tat org.apache.spark.sql.execution.datasources.FileScanRDD$$anon$1$$anon$2.logErrorFileNameAndThrow(FileScanRDD.scala:861)\n\tat org.apache.spark.sql.execution.datasources.FileScanRDD$$anon$1$$anon$2.getNext(FileScanRDD.scala:816)\n\tat org.apache.spark.util.NextIterator.hasNext(NextIterator.scala:73)\n\tat org.apache.spark.sql.execution.datasources.FileScanRDD$$anon$1.nextIterator(FileScanRDD.scala:978)\n\tat org.apache.spark.sql.execution.datasources.FileScanRDD$$anon$1.$anonfun$hasNext$1(FileScanRDD.scala:638)\n\tat scala.runtime.java8.JFunction0$mcZ$sp.apply(JFunction0$mcZ$sp.java:23)\n\tat com.databricks.spark.util.ExecutorFrameProfiler$.record(ExecutorFrameProfiler.scala:110)\n\tat org.apache.spark.sql.execution.datasources.FileScanRDD$$anon$1.hasNext(FileScanRDD.scala:628)\n\tat scala.collection.Iterator$$anon$10.hasNext(Iterator.scala:460)\n\tat org.apache.spark.sql.catalyst.expressions.GeneratedClass$GeneratedIteratorForCodegenStage2.processNext(Unknown Source)\n\tat org.apache.spark.sql.execution.BufferedRowIterator.hasNext(BufferedRowIterator.java:43)\n\tat org.apache.spark.sql.execution.WholeStageCodegenEvaluatorFactory$WholeStageCodegenPartitionEvaluator$$anon$1.hasNext(WholeStageCodegenEvaluatorFactory.scala:50)\n\tat org.apache.spark.sql.execution.collect.UnsafeRowBatchUtils$.$anonfun$encodeUnsafeRows$5(UnsafeRowBatchUtils.scala:88)\n\tat scala.runtime.java8.JFunction0$mcV$sp.apply(JFunction0$mcV$sp.java:23)\n\tat com.databricks.spark.util.ExecutorFrameProfiler$.record(ExecutorFrameProfiler.scala:110)\n\tat org.apache.spark.sql.execution.collect.UnsafeRowBatchUtils$.$anonfun$encodeUnsafeRows$3(UnsafeRowBatchUtils.scala:88)\n\tat scala.runtime.java8.JFunction0$mcV$sp.apply(JFunction0$mcV$sp.java:23)\n\tat com.databricks.spark.util.ExecutorFrameProfiler$.record(ExecutorFrameProfiler.scala:110)\n\tat org.apache.spark.sql.execution.collect.UnsafeRowBatchUtils$.$anonfun$encodeUnsafeRows$1(UnsafeRowBatchUtils.scala:68)\n\tat com.databricks.spark.util.ExecutorFrameProfiler$.record(ExecutorFrameProfiler.scala:110)\n\tat org.apache.spark.sql.execution.collect.UnsafeRowBatchUtils$.encodeUnsafeRows(UnsafeRowBatchUtils.scala:62)\n\tat org.apache.spark.sql.execution.collect.Collector.$anonfun$processFunc$2(Collector.scala:207)\n\tat org.apache.spark.scheduler.ResultTask.$anonfun$runTask$2(ResultTask.scala:76)\n\tat com.databricks.spark.util.ExecutorFrameProfiler$.record(ExecutorFrameProfiler.scala:110)\n\tat org.apache.spark.scheduler.ResultTask.$anonfun$runTask$1(ResultTask.scala:76)\n\tat com.databricks.spark.util.ExecutorFrameProfiler$.record(ExecutorFrameProfiler.scala:110)\n\tat org.apache.spark.scheduler.ResultTask.runTask(ResultTask.scala:62)\n\tat org.apache.spark.TaskContext.runTaskWithListeners(TaskContext.scala:227)\n\tat org.apache.spark.scheduler.Task.doRunTask(Task.scala:204)\n\tat org.apache.spark.scheduler.Task.$anonfun$run$5(Task.scala:166)\n\tat com.databricks.unity.UCSEphemeralState$Handle.runWith(UCSEphemeralState.scala:51)\n\tat com.databricks.unity.HandleImpl.runWith(UCSHandle.scala:104)\n\tat com.databricks.unity.HandleImpl.$anonfun$runWithAndClose$1(UCSHandle.scala:109)\n\tat scala.util.Using$.resource(Using.scala:269)\n\tat com.databricks.unity.HandleImpl.runWithAndClose(UCSHandle.scala:108)\n\tat org.apache.spark.scheduler.Task.$anonfun$run$1(Task.scala:160)\n\tat com.databricks.spark.util.ExecutorFrameProfiler$.record(ExecutorFrameProfiler.scala:110)\n\tat org.apache.spark.scheduler.Task.run(Task.scala:105)\n\tat org.apache.spark.executor.Executor$TaskRunner.$anonfun$run$12(Executor.scala:1224)\n\tat org.apache.spark.util.SparkErrorUtils.tryWithSafeFinally(SparkErrorUtils.scala:80)\n\tat org.apache.spark.util.SparkErrorUtils.tryWithSafeFinally$(SparkErrorUtils.scala:77)\n\tat org.apache.spark.util.Utils$.tryWithSafeFinally(Utils.scala:111)\n\tat org.apache.spark.executor.Executor$TaskRunner.$anonfun$run$3(Executor.scala:1228)\n\tat scala.runtime.java8.JFunction0$mcV$sp.apply(JFunction0$mcV$sp.java:23)\n\tat com.databricks.spark.util.ExecutorFrameProfiler$.record(ExecutorFrameProfiler.scala:110)\n\tat org.apache.spark.executor.Executor$TaskRunner.run(Executor.scala:1076)\n\tat java.base/java.util.concurrent.ThreadPoolExecutor.runWorker(ThreadPoolExecutor.java:1136)\n\tat java.base/java.util.concurrent.ThreadPoolExecutor$Worker.run(ThreadPoolExecutor.java:635)\n\tat java.base/java.lang.Thread.run(Thread.java:840)\n\tat org.apache.spark.scheduler.DAGScheduler.$anonfun$runJob$1(DAGScheduler.scala:1486)\n\tat scala.runtime.java8.JFunction0$mcV$sp.apply(JFunction0$mcV$sp.java:23)\n\tat com.databricks.spark.util.FrameProfiler$.record(FrameProfiler.scala:94)\n\tat org.apache.spark.scheduler.DAGScheduler.runJob(DAGScheduler.scala:1472)\n\tat org.apache.spark.SparkContext.runJobInternal(SparkContext.scala:3218)\n\tat org.apache.spark.sql.execution.collect.Collector.$anonfun$runSparkJobs$1(Collector.scala:348)\n\tat scala.runtime.java8.JFunction0$mcV$sp.apply(JFunction0$mcV$sp.java:23)\n\tat com.databricks.spark.util.FrameProfiler$.record(FrameProfiler.scala:94)\n\tat org.apache.spark.sql.execution.collect.Collector.runSparkJobs(Collector.scala:292)\n\tat org.apache.spark.sql.execution.collect.Collector.$anonfun$collect$1(Collector.scala:377)\n\tat com.databricks.spark.util.FrameProfiler$.record(FrameProfiler.scala:94)\n\tat org.apache.spark.sql.execution.collect.Collector.collect(Collector.scala:374)\n\tat org.apache.spark.sql.execution.collect.Collector$.collect(Collector.scala:116)\n\tat org.apache.spark.sql.execution.collect.Collector$.collect(Collector.scala:124)\n\tat org.apache.spark.sql.execution.qrc.InternalRowFormat$.collect(cachedSparkResults.scala:94)\n\tat org.apache.spark.sql.execution.qrc.InternalRowFormat$.collect(cachedSparkResults.scala:90)\n\tat org.apache.spark.sql.execution.qrc.InternalRowFormat$.collect(cachedSparkResults.scala:78)\n\tat org.apache.spark.sql.execution.qrc.ResultCacheManager.$anonfun$computeResult$1(ResultCacheManager.scala:585)\n\tat com.databricks.spark.util.FrameProfiler$.record(FrameProfiler.scala:94)\n\tat org.apache.spark.sql.execution.qrc.ResultCacheManager.collectResult$1(ResultCacheManager.scala:579)\n\tat org.apache.spark.sql.execution.qrc.ResultCacheManager.$anonfun$computeResult$2(ResultCacheManager.scala:594)\n\tat org.apache.spark.sql.execution.adaptive.ResultQueryStageExec.$anonfun$doMaterialize$1(QueryStageExec.scala:677)\n\tat org.apache.spark.sql.SparkSession.withActive(SparkSession.scala:1426)\n\tat org.apache.spark.sql.execution.SQLExecution$.$anonfun$withThreadLocalCaptured$7(SQLExecution.scala:835)\n\tat com.databricks.util.LexicalThreadLocal$Handle.runWith(LexicalThreadLocal.scala:63)\n\tat org.apache.spark.sql.execution.SQLExecution$.$anonfun$withThreadLocalCaptured$6(SQLExecution.scala:835)\n\tat com.databricks.util.LexicalThreadLocal$Handle.runWith(LexicalThreadLocal.scala:63)\n\tat org.apache.spark.sql.execution.SQLExecution$.$anonfun$withThreadLocalCaptured$5(SQLExecution.scala:835)\n\tat scala.util.DynamicVariable.withValue(DynamicVariable.scala:62)\n\tat org.apache.spark.sql.execution.SQLExecution$.$anonfun$withThreadLocalCaptured$4(SQLExecution.scala:834)\n\tat scala.util.DynamicVariable.withValue(DynamicVariable.scala:62)\n\tat org.apache.spark.sql.execution.SQLExecution$.$anonfun$withThreadLocalCaptured$3(SQLExecution.scala:833)\n\tat com.databricks.sql.transaction.tahoe.ConcurrencyHelpers$.withOptimisticTransaction(ConcurrencyHelpers.scala:57)\n\tat org.apache.spark.sql.execution.SQLExecution$.$anonfun$withThreadLocalCaptured$2(SQLExecution.scala:832)\n\tat org.apache.spark.JobArtifactSet$.withActiveJobArtifactState(JobArtifactSet.scala:97)\n\tat org.apache.spark.sql.execution.SQLExecution$.$anonfun$withThreadLocalCaptured$1(SQLExecution.scala:816)\n\tat java.base/java.util.concurrent.CompletableFuture$AsyncSupply.run(CompletableFuture.java:1768)\n\tat org.apache.spark.util.threads.SparkThreadLocalCapturingRunnable.$anonfun$run$1(SparkThreadLocalForwardingThreadPoolExecutor.scala:157)\n\tat scala.runtime.java8.JFunction0$mcV$sp.apply(JFunction0$mcV$sp.java:23)\n\tat com.databricks.spark.util.IdentityClaim$.withClaim(IdentityClaim.scala:48)\n\tat org.apache.spark.util.threads.SparkThreadLocalCapturingHelper.$anonfun$runWithCaptured$4(SparkThreadLocalForwardingThreadPoolExecutor.scala:113)\n\tat com.databricks.unity.UCSEphemeralState$Handle.runWith(UCSEphemeralState.scala:51)\n\tat org.apache.spark.util.threads.SparkThreadLocalCapturingHelper.runWithCaptured(SparkThreadLocalForwardingThreadPoolExecutor.scala:112)\n\tat org.apache.spark.util.threads.SparkThreadLocalCapturingHelper.runWithCaptured$(SparkThreadLocalForwardingThreadPoolExecutor.scala:89)\n\tat org.apache.spark.util.threads.SparkThreadLocalCapturingRunnable.runWithCaptured(SparkThreadLocalForwardingThreadPoolExecutor.scala:154)\n\tat org.apache.spark.util.threads.SparkThreadLocalCapturingRunnable.run(SparkThreadLocalForwardingThreadPoolExecutor.scala:157)\n\tat java.base/java.util.concurrent.ThreadPoolExecutor.runWorker(ThreadPoolExecutor.java:1136)\n\tat java.base/java.util.concurrent.ThreadPoolExecutor$Worker.run(ThreadPoolExecutor.java:635)\n\tat java.base/java.lang.Thread.run(Thread.java:840)\nCaused by: com.databricks.common.filesystem.InconsistentReadException: The file might have been updated during query execution. Ensure that no pipeline updates existing files during query execution and try again.\n\tat com.databricks.common.filesystem.LokiAbfsInputStream.withExceptionRewrites(LokiABFS.scala:217)\n\tat com.databricks.common.filesystem.LokiAbfsInputStream.read(LokiABFS.scala:224)\n\tat java.base/java.io.DataInputStream.read(DataInputStream.java:151)\n\tat com.databricks.spark.metrics.FSInputStreamWithMetrics.$anonfun$read$3(FileSystemWithMetrics.scala:90)\n\tat com.databricks.spark.metrics.FSInputStreamWithMetrics.withTimeAndBytesReadMetric(FileSystemWithMetrics.scala:67)\n\tat com.databricks.spark.metrics.FSInputStreamWithMetrics.read(FileSystemWithMetrics.scala:90)\n\tat java.base/java.io.DataInputStream.read(DataInputStream.java:151)\n\tat org.apache.hadoop.mapreduce.lib.input.UncompressedSplitLineReader.fillBuffer(UncompressedSplitLineReader.java:62)\n\tat org.apache.hadoop.util.LineReader.readDefaultLine(LineReader.java:227)\n\tat org.apache.hadoop.util.LineReader.readLine(LineReader.java:185)\n\tat org.apache.hadoop.mapreduce.lib.input.UncompressedSplitLineReader.readLine(UncompressedSplitLineReader.java:94)\n\tat org.apache.hadoop.mapreduce.lib.input.LineRecordReader.skipUtfByteOrderMark(LineRecordReader.java:166)\n\tat org.apache.hadoop.mapreduce.lib.input.LineRecordReader.nextKeyValue(LineRecordReader.java:206)\n\tat org.apache.spark.sql.execution.datasources.RecordReaderIterator.hasNext(RecordReaderIterator.scala:41)\n\tat org.apache.spark.sql.execution.datasources.HadoopFileLinesReader.hasNext(HadoopFileLinesReader.scala:71)\n\tat scala.collection.Iterator$$anon$10.hasNext(Iterator.scala:460)\n\tat scala.collection.Iterator$$anon$17.hasNext(Iterator.scala:814)\n\tat org.apache.spark.sql.catalyst.csv.CSVExprUtils$.extractHeader(CSVExprUtils.scala:56)\n\tat org.apache.spark.sql.catalyst.csv.CSVHeaderChecker.checkHeaderColumnNames(CSVHeaderChecker.scala:160)\n\tat org.apache.spark.sql.catalyst.csv.UnivocityParser$.parseIterator(UnivocityParser.scala:525)\n\tat org.apache.spark.sql.execution.datasources.csv.TextInputCSVDataSource.readFile(CSVDataSource.scala:142)\n\tat org.apache.spark.sql.execution.datasources.csv.CSVFileFormat.$anonfun$buildReader$4(CSVFileFormat.scala:207)\n\tat org.apache.spark.sql.execution.datasources.FileFormat$$anon$1.apply(FileFormat.scala:182)\n\tat org.apache.spark.sql.execution.datasources.FileFormat$$anon$1.apply(FileFormat.scala:160)\n\tat org.apache.spark.sql.execution.datasources.FileScanRDD$$anon$1$$anon$2.getNext(FileScanRDD.scala:732)\n\tat org.apache.spark.util.NextIterator.hasNext(NextIterator.scala:73)\n\tat org.apache.spark.sql.execution.datasources.FileScanRDD$$anon$1.nextIterator(FileScanRDD.scala:978)\n\tat org.apache.spark.sql.execution.datasources.FileScanRDD$$anon$1.$anonfun$hasNext$1(FileScanRDD.scala:638)\n\tat scala.runtime.java8.JFunction0$mcZ$sp.apply(JFunction0$mcZ$sp.java:23)\n\tat com.databricks.spark.util.ExecutorFrameProfiler$.record(ExecutorFrameProfiler.scala:110)\n\tat org.apache.spark.sql.execution.datasources.FileScanRDD$$anon$1.hasNext(FileScanRDD.scala:628)\n\tat scala.collection.Iterator$$anon$10.hasNext(Iterator.scala:460)\n\tat org.apache.spark.sql.catalyst.expressions.GeneratedClass$GeneratedIteratorForCodegenStage2.processNext(Unknown Source)\n\tat org.apache.spark.sql.execution.BufferedRowIterator.hasNext(BufferedRowIterator.java:43)\n\tat org.apache.spark.sql.execution.WholeStageCodegenEvaluatorFactory$WholeStageCodegenPartitionEvaluator$$anon$1.hasNext(WholeStageCodegenEvaluatorFactory.scala:50)\n\tat org.apache.spark.sql.execution.collect.UnsafeRowBatchUtils$.$anonfun$encodeUnsafeRows$5(UnsafeRowBatchUtils.scala:88)\n\tat scala.runtime.java8.JFunction0$mcV$sp.apply(JFunction0$mcV$sp.java:23)\n\tat com.databricks.spark.util.ExecutorFrameProfiler$.record(ExecutorFrameProfiler.scala:110)\n\tat org.apache.spark.sql.execution.collect.UnsafeRowBatchUtils$.$anonfun$encodeUnsafeRows$3(UnsafeRowBatchUtils.scala:88)\n\tat scala.runtime.java8.JFunction0$mcV$sp.apply(JFunction0$mcV$sp.java:23)\n\tat com.databricks.spark.util.ExecutorFrameProfiler$.record(ExecutorFrameProfiler.scala:110)\n\tat org.apache.spark.sql.execution.collect.UnsafeRowBatchUtils$.$anonfun$encodeUnsafeRows$1(UnsafeRowBatchUtils.scala:68)\n\tat com.databricks.spark.util.ExecutorFrameProfiler$.record(ExecutorFrameProfiler.scala:110)\n\tat org.apache.spark.sql.execution.collect.UnsafeRowBatchUtils$.encodeUnsafeRows(UnsafeRowBatchUtils.scala:62)\n\tat org.apache.spark.sql.execution.collect.Collector.$anonfun$processFunc$2(Collector.scala:207)\n\tat org.apache.spark.scheduler.ResultTask.$anonfun$runTask$2(ResultTask.scala:76)\n\tat com.databricks.spark.util.ExecutorFrameProfiler$.record(ExecutorFrameProfiler.scala:110)\n\tat org.apache.spark.scheduler.ResultTask.$anonfun$runTask$1(ResultTask.scala:76)\n\tat com.databricks.spark.util.ExecutorFrameProfiler$.record(ExecutorFrameProfiler.scala:110)\n\tat org.apache.spark.scheduler.ResultTask.runTask(ResultTask.scala:62)\n\tat org.apache.spark.TaskContext.runTaskWithListeners(TaskContext.scala:227)\n\tat org.apache.spark.scheduler.Task.doRunTask(Task.scala:204)\n\tat org.apache.spark.scheduler.Task.$anonfun$run$5(Task.scala:166)\n\tat com.databricks.unity.UCSEphemeralState$Handle.runWith(UCSEphemeralState.scala:51)\n\tat com.databricks.unity.HandleImpl.runWith(UCSHandle.scala:104)\n\tat com.databricks.unity.HandleImpl.$anonfun$runWithAndClose$1(UCSHandle.scala:109)\n\tat scala.util.Using$.resource(Using.scala:269)\n\tat com.databricks.unity.HandleImpl.runWithAndClose(UCSHandle.scala:108)\n\tat org.apache.spark.scheduler.Task.$anonfun$run$1(Task.scala:160)\n\tat com.databricks.spark.util.ExecutorFrameProfiler$.record(ExecutorFrameProfiler.scala:110)\n\tat org.apache.spark.scheduler.Task.run(Task.scala:105)\n\tat org.apache.spark.executor.Executor$TaskRunner.$anonfun$run$12(Executor.scala:1224)\n\tat org.apache.spark.util.SparkErrorUtils.tryWithSafeFinally(SparkErrorUtils.scala:80)\n\tat org.apache.spark.util.SparkErrorUtils.tryWithSafeFinally$(SparkErrorUtils.scala:77)\n\tat org.apache.spark.util.Utils$.tryWithSafeFinally(Utils.scala:111)\n\tat org.apache.spark.executor.Executor$TaskRunner.$anonfun$run$3(Executor.scala:1228)\n\tat scala.runtime.java8.JFunction0$mcV$sp.apply(JFunction0$mcV$sp.java:23)\n\tat com.databricks.spark.util.ExecutorFrameProfiler$.record(ExecutorFrameProfiler.scala:110)\n\tat org.apache.spark.executor.Executor$TaskRunner.run(Executor.scala:1076)\n\t... 3 more\nCaused by: java.io.IOException: Operation failed: \"The condition specified using HTTP conditional header(s) is not met.\", 412, GET, https://tenonadls.dfs.core.windows.net/tenon/bronze/Patient_records.csv?timeout=90, ConditionNotMet, , \"The condition specified using HTTP conditional header(s) is not met. RequestId:bc5cbaec-301f-002e-6c91-a01910000000 Time:2025-03-29T10:04:38.3092433Z\"\n\tat shaded.databricks.azurebfs.org.apache.hadoop.fs.azurebfs.services.AbfsInputStream.readRemote(AbfsInputStream.java:687)\n\tat shaded.databricks.azurebfs.org.apache.hadoop.fs.azurebfs.services.AbfsInputStream.readInternal(AbfsInputStream.java:633)\n\tat shaded.databricks.azurebfs.org.apache.hadoop.fs.azurebfs.services.AbfsInputStream.readOneBlock(AbfsInputStream.java:423)\n\tat shaded.databricks.azurebfs.org.apache.hadoop.fs.azurebfs.services.AbfsInputStream.read(AbfsInputStream.java:360)\n\tat java.base/java.io.DataInputStream.read(DataInputStream.java:151)\n\tat com.databricks.common.filesystem.LokiAbfsInputStream.$anonfun$read$3(LokiABFS.scala:224)\n\tat scala.runtime.java8.JFunction0$mcI$sp.apply(JFunction0$mcI$sp.java:23)\n\tat com.databricks.common.filesystem.LokiAbfsInputStream.withExceptionRewrites(LokiABFS.scala:214)\n\t... 71 more\nCaused by: Operation failed: \"The condition specified using HTTP conditional header(s) is not met.\", 412, GET, https://tenonadls.dfs.core.windows.net/tenon/bronze/Patient_records.csv?timeout=90, ConditionNotMet, , \"The condition specified using HTTP conditional header(s) is not met. RequestId:bc5cbaec-301f-002e-6c91-a01910000000 Time:2025-03-29T10:04:38.3092433Z\"\n\tat shaded.databricks.azurebfs.org.apache.hadoop.fs.azurebfs.services.AbfsRestOperation.completeExecute(AbfsRestOperation.java:324)\n\tat shaded.databricks.azurebfs.org.apache.hadoop.fs.azurebfs.services.AbfsRestOperation.lambda$execute$0(AbfsRestOperation.java:270)\n\tat org.apache.hadoop.fs.statistics.impl.IOStatisticsBinding.measureDurationOfInvocation(IOStatisticsBinding.java:494)\n\tat org.apache.hadoop.fs.statistics.impl.IOStatisticsBinding.trackDurationOfInvocation(IOStatisticsBinding.java:465)\n\tat shaded.databricks.azurebfs.org.apache.hadoop.fs.azurebfs.services.AbfsRestOperation.execute(AbfsRestOperation.java:268)\n\tat shaded.databricks.azurebfs.org.apache.hadoop.fs.azurebfs.services.AbfsClient.read(AbfsClient.java:1174)\n\tat shaded.databricks.azurebfs.org.apache.hadoop.fs.azurebfs.services.AbfsInputStream.readRemote(AbfsInputStream.java:670)\n\t... 78 more\n"
       },
       "metadata": {
        "errorSummary": "<span class='ansi-red-fg'>Py4JJavaError</span>: An error occurred while calling o3426.showString.\n: org.apache.spark.SparkException: [FAILED_READ_FILE.NO_HINT] Error while reading file abfss:REDACTED_LOCAL_PART@tenonadls.dfs.core.windows.net/bronze/Patient_records.csv.  SQLSTATE: KD001\n\tat org.apache.spark.sql.errors.QueryExecutionErrors$.cannotReadFilesError(QueryExecutionErrors.scala:1134)\n\tat org.apache.spark.sql.execution.datasources.FileScanRDD$$anon$1$$anon$2.logErrorFileNameAndThrow(FileScanRDD.scala:861)\n\tat org.apache.spark.sql.execution.datasources.FileScanRDD$$anon$1$$anon$2.getNext(FileScanRDD.scala:816)\n\tat org.apache.spark.util.NextIterator.hasNext(NextIterator.scala:73)\n\tat org.apache.spark.sql.execution.datasources.FileScanRDD$$anon$1.nextIterator(FileScanRDD.scala:978)\n\tat org.apache.spark.sql.execution.datasources.FileScanRDD$$anon$1.$anonfun$hasNext$1(FileScanRDD.scala:638)\n\tat scala.runtime.java8.JFunction0$mcZ$sp.apply(JFunction0$mcZ$sp.java:23)\n\tat com.databricks.spark.util.ExecutorFrameProfiler$.record(ExecutorFrameProfiler.scala:110)\n\tat org.apache.spark.sql.execution.datasources.FileScanRDD$$anon$1.hasNext(FileScanRDD.scala:628)\n\tat scala.collection.Iterator$$anon$10.hasNext(Iterator.scala:460)\n\tat org.apache.spark.sql.catalyst.expressions.GeneratedClass$GeneratedIteratorForCodegenStage2.processNext(Unknown Source)\n\tat org.apache.spark.sql.execution.BufferedRowIterator.hasNext(BufferedRowIterator.java:43)\n\tat org.apache.spark.sql.execution.WholeStageCodegenEvaluatorFactory$WholeStageCodegenPartitionEvaluator$$anon$1.hasNext(WholeStageCodegenEvaluatorFactory.scala:50)\n\tat org.apache.spark.sql.execution.collect.UnsafeRowBatchUtils$.$anonfun$encodeUnsafeRows$5(UnsafeRowBatchUtils.scala:88)\n\tat scala.runtime.java8.JFunction0$mcV$sp.apply(JFunction0$mcV$sp.java:23)\n\tat com.databricks.spark.util.ExecutorFrameProfiler$.record(ExecutorFrameProfiler.scala:110)\n\tat org.apache.spark.sql.execution.collect.UnsafeRowBatchUtils$.$anonfun$encodeUnsafeRows$3(UnsafeRowBatchUtils.scala:88)\n\tat scala.runtime.java8.JFunction0$mcV$sp.apply(JFunction0$mcV$sp.java:23)\n\tat com.databricks.spark.util.ExecutorFrameProfiler$.record(ExecutorFrameProfiler.scala:110)\n\tat org.apache.spark.sql.execution.collect.UnsafeRowBatchUtils$.$anonfun$encodeUnsafeRows$1(UnsafeRowBatchUtils.scala:68)\n\tat com.databricks.spark.util.ExecutorFrameProfiler$.record(ExecutorFrameProfiler.scala:110)\n\tat org.apache.spark.sql.execution.collect.UnsafeRowBatchUtils$.encodeUnsafeRows(UnsafeRowBatchUtils.scala:62)\n\tat org.apache.spark.sql.execution.collect.Collector.$anonfun$processFunc$2(Collector.scala:207)\n\tat org.apache.spark.scheduler.ResultTask.$anonfun$runTask$2(ResultTask.scala:76)\n\tat com.databricks.spark.util.ExecutorFrameProfiler$.record(ExecutorFrameProfiler.scala:110)\n\tat org.apache.spark.scheduler.ResultTask.$anonfun$runTask$1(ResultTask.scala:76)\n\tat com.databricks.spark.util.ExecutorFrameProfiler$.record(ExecutorFrameProfiler.scala:110)\n\tat org.apache.spark.scheduler.ResultTask.runTask(ResultTask.scala:62)\n\tat org.apache.spark.TaskContext.runTaskWithListeners(TaskContext.scala:227)\n\tat org.apache.spark.scheduler.Task.doRunTask(Task.scala:204)\n\tat org.apache.spark.scheduler.Task.$anonfun$run$5(Task.scala:166)\n\tat com.databricks.unity.UCSEphemeralState$Handle.runWith(UCSEphemeralState.scala:51)\n\tat com.databricks.unity.HandleImpl.runWith(UCSHandle.scala:104)\n\tat com.databricks.unity.HandleImpl.$anonfun$runWithAndClose$1(UCSHandle.scala:109)\n\tat scala.util.Using$.resource(Using.scala:269)\n\tat com.databricks.unity.HandleImpl.runWithAndClose(UCSHandle.scala:108)\n\tat org.apache.spark.scheduler.Task.$anonfun$run$1(Task.scala:160)\n\tat com.databricks.spark.util.ExecutorFrameProfiler$.record(ExecutorFrameProfiler.scala:110)\n\tat org.apache.spark.scheduler.Task.run(Task.scala:105)\n\tat org.apache.spark.executor.Executor$TaskRunner.$anonfun$run$12(Executor.scala:1224)\n\tat org.apache.spark.util.SparkErrorUtils.tryWithSafeFinally(SparkErrorUtils.scala:80)\n\tat org.apache.spark.util.SparkErrorUtils.tryWithSafeFinally$(SparkErrorUtils.scala:77)\n\tat org.apache.spark.util.Utils$.tryWithSafeFinally(Utils.scala:111)\n\tat org.apache.spark.executor.Executor$TaskRunner.$anonfun$run$3(Executor.scala:1228)\n\tat scala.runtime.java8.JFunction0$mcV$sp.apply(JFunction0$mcV$sp.java:23)\n\tat com.databricks.spark.util.ExecutorFrameProfiler$.record(ExecutorFrameProfiler.scala:110)\n\tat org.apache.spark.executor.Executor$TaskRunner.run(Executor.scala:1076)\n\tat java.base/java.util.concurrent.ThreadPoolExecutor.runWorker(ThreadPoolExecutor.java:1136)\n\tat java.base/java.util.concurrent.ThreadPoolExecutor$Worker.run(ThreadPoolExecutor.java:635)\n\tat java.base/java.lang.Thread.run(Thread.java:840)\n\tat org.apache.spark.scheduler.DAGScheduler.$anonfun$runJob$1(DAGScheduler.scala:1486)\n\tat scala.runtime.java8.JFunction0$mcV$sp.apply(JFunction0$mcV$sp.java:23)\n\tat com.databricks.spark.util.FrameProfiler$.record(FrameProfiler.scala:94)\n\tat org.apache.spark.scheduler.DAGScheduler.runJob(DAGScheduler.scala:1472)\n\tat org.apache.spark.SparkContext.runJobInternal(SparkContext.scala:3218)\n\tat org.apache.spark.sql.execution.collect.Collector.$anonfun$runSparkJobs$1(Collector.scala:348)\n\tat scala.runtime.java8.JFunction0$mcV$sp.apply(JFunction0$mcV$sp.java:23)\n\tat com.databricks.spark.util.FrameProfiler$.record(FrameProfiler.scala:94)\n\tat org.apache.spark.sql.execution.collect.Collector.runSparkJobs(Collector.scala:292)\n\tat org.apache.spark.sql.execution.collect.Collector.$anonfun$collect$1(Collector.scala:377)\n\tat com.databricks.spark.util.FrameProfiler$.record(FrameProfiler.scala:94)\n\tat org.apache.spark.sql.execution.collect.Collector.collect(Collector.scala:374)\n\tat org.apache.spark.sql.execution.collect.Collector$.collect(Collector.scala:116)\n\tat org.apache.spark.sql.execution.collect.Collector$.collect(Collector.scala:124)\n\tat org.apache.spark.sql.execution.qrc.InternalRowFormat$.collect(cachedSparkResults.scala:94)\n\tat org.apache.spark.sql.execution.qrc.InternalRowFormat$.collect(cachedSparkResults.scala:90)\n\tat org.apache.spark.sql.execution.qrc.InternalRowFormat$.collect(cachedSparkResults.scala:78)\n\tat org.apache.spark.sql.execution.qrc.ResultCacheManager.$anonfun$computeResult$1(ResultCacheManager.scala:585)\n\tat com.databricks.spark.util.FrameProfiler$.record(FrameProfiler.scala:94)\n\tat org.apache.spark.sql.execution.qrc.ResultCacheManager.collectResult$1(ResultCacheManager.scala:579)\n\tat org.apache.spark.sql.execution.qrc.ResultCacheManager.$anonfun$computeResult$2(ResultCacheManager.scala:594)\n\tat org.apache.spark.sql.execution.adaptive.ResultQueryStageExec.$anonfun$doMaterialize$1(QueryStageExec.scala:677)\n\tat org.apache.spark.sql.SparkSession.withActive(SparkSession.scala:1426)\n\tat org.apache.spark.sql.execution.SQLExecution$.$anonfun$withThreadLocalCaptured$7(SQLExecution.scala:835)\n\tat com.databricks.util.LexicalThreadLocal$Handle.runWith(LexicalThreadLocal.scala:63)\n\tat org.apache.spark.sql.execution.SQLExecution$.$anonfun$withThreadLocalCaptured$6(SQLExecution.scala:835)\n\tat com.databricks.util.LexicalThreadLocal$Handle.runWith(LexicalThreadLocal.scala:63)\n\tat org.apache.spark.sql.execution.SQLExecution$.$anonfun$withThreadLocalCaptured$5(SQLExecution.scala:835)\n\tat scala.util.DynamicVariable.withValue(DynamicVariable.scala:62)\n\tat org.apache.spark.sql.execution.SQLExecution$.$anonfun$withThreadLocalCaptured$4(SQLExecution.scala:834)\n\tat scala.util.DynamicVariable.withValue(DynamicVariable.scala:62)\n\tat org.apache.spark.sql.execution.SQLExecution$.$anonfun$withThreadLocalCaptured$3(SQLExecution.scala:833)\n\tat com.databricks.sql.transaction.tahoe.ConcurrencyHelpers$.withOptimisticTransaction(ConcurrencyHelpers.scala:57)\n\tat org.apache.spark.sql.execution.SQLExecution$.$anonfun$withThreadLocalCaptured$2(SQLExecution.scala:832)\n\tat org.apache.spark.JobArtifactSet$.withActiveJobArtifactState(JobArtifactSet.scala:97)\n\tat org.apache.spark.sql.execution.SQLExecution$.$anonfun$withThreadLocalCaptured$1(SQLExecution.scala:816)\n\tat java.base/java.util.concurrent.CompletableFuture$AsyncSupply.run(CompletableFuture.java:1768)\n\tat org.apache.spark.util.threads.SparkThreadLocalCapturingRunnable.$anonfun$run$1(SparkThreadLocalForwardingThreadPoolExecutor.scala:157)\n\tat scala.runtime.java8.JFunction0$mcV$sp.apply(JFunction0$mcV$sp.java:23)\n\tat com.databricks.spark.util.IdentityClaim$.withClaim(IdentityClaim.scala:48)\n\tat org.apache.spark.util.threads.SparkThreadLocalCapturingHelper.$anonfun$runWithCaptured$4(SparkThreadLocalForwardingThreadPoolExecutor.scala:113)\n\tat com.databricks.unity.UCSEphemeralState$Handle.runWith(UCSEphemeralState.scala:51)\n\tat org.apache.spark.util.threads.SparkThreadLocalCapturingHelper.runWithCaptured(SparkThreadLocalForwardingThreadPoolExecutor.scala:112)\n\tat org.apache.spark.util.threads.SparkThreadLocalCapturingHelper.runWithCaptured$(SparkThreadLocalForwardingThreadPoolExecutor.scala:89)\n\tat org.apache.spark.util.threads.SparkThreadLocalCapturingRunnable.runWithCaptured(SparkThreadLocalForwardingThreadPoolExecutor.scala:154)\n\tat org.apache.spark.util.threads.SparkThreadLocalCapturingRunnable.run(SparkThreadLocalForwardingThreadPoolExecutor.scala:157)\n\tat java.base/java.util.concurrent.ThreadPoolExecutor.runWorker(ThreadPoolExecutor.java:1136)\n\tat java.base/java.util.concurrent.ThreadPoolExecutor$Worker.run(ThreadPoolExecutor.java:635)\n\tat java.base/java.lang.Thread.run(Thread.java:840)\nCaused by: com.databricks.common.filesystem.InconsistentReadException: The file might have been updated during query execution. Ensure that no pipeline updates existing files during query execution and try again.\n\tat com.databricks.common.filesystem.LokiAbfsInputStream.withExceptionRewrites(LokiABFS.scala:217)\n\tat com.databricks.common.filesystem.LokiAbfsInputStream.read(LokiABFS.scala:224)\n\tat java.base/java.io.DataInputStream.read(DataInputStream.java:151)\n\tat com.databricks.spark.metrics.FSInputStreamWithMetrics.$anonfun$read$3(FileSystemWithMetrics.scala:90)\n\tat com.databricks.spark.metrics.FSInputStreamWithMetrics.withTimeAndBytesReadMetric(FileSystemWithMetrics.scala:67)\n\tat com.databricks.spark.metrics.FSInputStreamWithMetrics.read(FileSystemWithMetrics.scala:90)\n\tat java.base/java.io.DataInputStream.read(DataInputStream.java:151)\n\tat org.apache.hadoop.mapreduce.lib.input.UncompressedSplitLineReader.fillBuffer(UncompressedSplitLineReader.java:62)\n\tat org.apache.hadoop.util.LineReader.readDefaultLine(LineReader.java:227)\n\tat org.apache.hadoop.util.LineReader.readLine(LineReader.java:185)\n\tat org.apache.hadoop.mapreduce.lib.input.UncompressedSplitLineReader.readLine(UncompressedSplitLineReader.java:94)\n\tat org.apache.hadoop.mapreduce.lib.input.LineRecordReader.skipUtfByteOrderMark(LineRecordReader.java:166)\n\tat org.apache.hadoop.mapreduce.lib.input.LineRecordReader.nextKeyValue(LineRecordReader.java:206)\n\tat org.apache.spark.sql.execution.datasources.RecordReaderIterator.hasNext(RecordReaderIterator.scala:41)\n\tat org.apache.spark.sql.execution.datasources.HadoopFileLinesReader.hasNext(HadoopFileLinesReader.scala:71)\n\tat scala.collection.Iterator$$anon$10.hasNext(Iterator.scala:460)\n\tat scala.collection.Iterator$$anon$17.hasNext(Iterator.scala:814)\n\tat org.apache.spark.sql.catalyst.csv.CSVExprUtils$.extractHeader(CSVExprUtils.scala:56)\n\tat org.apache.spark.sql.catalyst.csv.CSVHeaderChecker.checkHeaderColumnNames(CSVHeaderChecker.scala:160)\n\tat org.apache.spark.sql.catalyst.csv.UnivocityParser$.parseIterator(UnivocityParser.scala:525)\n\tat org.apache.spark.sql.execution.datasources.csv.TextInputCSVDataSource.readFile(CSVDataSource.scala:142)\n\tat org.apache.spark.sql.execution.datasources.csv.CSVFileFormat.$anonfun$buildReader$4(CSVFileFormat.scala:207)\n\tat org.apache.spark.sql.execution.datasources.FileFormat$$anon$1.apply(FileFormat.scala:182)\n\tat org.apache.spark.sql.execution.datasources.FileFormat$$anon$1.apply(FileFormat.scala:160)\n\tat org.apache.spark.sql.execution.datasources.FileScanRDD$$anon$1$$anon$2.getNext(FileScanRDD.scala:732)\n\tat org.apache.spark.util.NextIterator.hasNext(NextIterator.scala:73)\n\tat org.apache.spark.sql.execution.datasources.FileScanRDD$$anon$1.nextIterator(FileScanRDD.scala:978)\n\tat org.apache.spark.sql.execution.datasources.FileScanRDD$$anon$1.$anonfun$hasNext$1(FileScanRDD.scala:638)\n\tat scala.runtime.java8.JFunction0$mcZ$sp.apply(JFunction0$mcZ$sp.java:23)\n\tat com.databricks.spark.util.ExecutorFrameProfiler$.record(ExecutorFrameProfiler.scala:110)\n\tat org.apache.spark.sql.execution.datasources.FileScanRDD$$anon$1.hasNext(FileScanRDD.scala:628)\n\tat scala.collection.Iterator$$anon$10.hasNext(Iterator.scala:460)\n\tat org.apache.spark.sql.catalyst.expressions.GeneratedClass$GeneratedIteratorForCodegenStage2.processNext(Unknown Source)\n\tat org.apache.spark.sql.execution.BufferedRowIterator.hasNext(BufferedRowIterator.java:43)\n\tat org.apache.spark.sql.execution.WholeStageCodegenEvaluatorFactory$WholeStageCodegenPartitionEvaluator$$anon$1.hasNext(WholeStageCodegenEvaluatorFactory.scala:50)\n\tat org.apache.spark.sql.execution.collect.UnsafeRowBatchUtils$.$anonfun$encodeUnsafeRows$5(UnsafeRowBatchUtils.scala:88)\n\tat scala.runtime.java8.JFunction0$mcV$sp.apply(JFunction0$mcV$sp.java:23)\n\tat com.databricks.spark.util.ExecutorFrameProfiler$.record(ExecutorFrameProfiler.scala:110)\n\tat org.apache.spark.sql.execution.collect.UnsafeRowBatchUtils$.$anonfun$encodeUnsafeRows$3(UnsafeRowBatchUtils.scala:88)\n\tat scala.runtime.java8.JFunction0$mcV$sp.apply(JFunction0$mcV$sp.java:23)\n\tat com.databricks.spark.util.ExecutorFrameProfiler$.record(ExecutorFrameProfiler.scala:110)\n\tat org.apache.spark.sql.execution.collect.UnsafeRowBatchUtils$.$anonfun$encodeUnsafeRows$1(UnsafeRowBatchUtils.scala:68)\n\tat com.databricks.spark.util.ExecutorFrameProfiler$.record(ExecutorFrameProfiler.scala:110)\n\tat org.apache.spark.sql.execution.collect.UnsafeRowBatchUtils$.encodeUnsafeRows(UnsafeRowBatchUtils.scala:62)\n\tat org.apache.spark.sql.execution.collect.Collector.$anonfun$processFunc$2(Collector.scala:207)\n\tat org.apache.spark.scheduler.ResultTask.$anonfun$runTask$2(ResultTask.scala:76)\n\tat com.databricks.spark.util.ExecutorFrameProfiler$.record(ExecutorFrameProfiler.scala:110)\n\tat org.apache.spark.scheduler.ResultTask.$anonfun$runTask$1(ResultTask.scala:76)\n\tat com.databricks.spark.util.ExecutorFrameProfiler$.record(ExecutorFrameProfiler.scala:110)\n\tat org.apache.spark.scheduler.ResultTask.runTask(ResultTask.scala:62)\n\tat org.apache.spark.TaskContext.runTaskWithListeners(TaskContext.scala:227)\n\tat org.apache.spark.scheduler.Task.doRunTask(Task.scala:204)\n\tat org.apache.spark.scheduler.Task.$anonfun$run$5(Task.scala:166)\n\tat com.databricks.unity.UCSEphemeralState$Handle.runWith(UCSEphemeralState.scala:51)\n\tat com.databricks.unity.HandleImpl.runWith(UCSHandle.scala:104)\n\tat com.databricks.unity.HandleImpl.$anonfun$runWithAndClose$1(UCSHandle.scala:109)\n\tat scala.util.Using$.resource(Using.scala:269)\n\tat com.databricks.unity.HandleImpl.runWithAndClose(UCSHandle.scala:108)\n\tat org.apache.spark.scheduler.Task.$anonfun$run$1(Task.scala:160)\n\tat com.databricks.spark.util.ExecutorFrameProfiler$.record(ExecutorFrameProfiler.scala:110)\n\tat org.apache.spark.scheduler.Task.run(Task.scala:105)\n\tat org.apache.spark.executor.Executor$TaskRunner.$anonfun$run$12(Executor.scala:1224)\n\tat org.apache.spark.util.SparkErrorUtils.tryWithSafeFinally(SparkErrorUtils.scala:80)\n\tat org.apache.spark.util.SparkErrorUtils.tryWithSafeFinally$(SparkErrorUtils.scala:77)\n\tat org.apache.spark.util.Utils$.tryWithSafeFinally(Utils.scala:111)\n\tat org.apache.spark.executor.Executor$TaskRunner.$anonfun$run$3(Executor.scala:1228)\n\tat scala.runtime.java8.JFunction0$mcV$sp.apply(JFunction0$mcV$sp.java:23)\n\tat com.databricks.spark.util.ExecutorFrameProfiler$.record(ExecutorFrameProfiler.scala:110)\n\tat org.apache.spark.executor.Executor$TaskRunner.run(Executor.scala:1076)\n\t... 3 more\nCaused by: java.io.IOException: Operation failed: \"The condition specified using HTTP conditional header(s) is not met.\", 412, GET, https://tenonadls.dfs.core.windows.net/tenon/bronze/Patient_records.csv?timeout=90, ConditionNotMet, , \"The condition specified using HTTP conditional header(s) is not met. RequestId:bc5cbaec-301f-002e-6c91-a01910000000 Time:2025-03-29T10:04:38.3092433Z\"\n\tat shaded.databricks.azurebfs.org.apache.hadoop.fs.azurebfs.services.AbfsInputStream.readRemote(AbfsInputStream.java:687)\n\tat shaded.databricks.azurebfs.org.apache.hadoop.fs.azurebfs.services.AbfsInputStream.readInternal(AbfsInputStream.java:633)\n\tat shaded.databricks.azurebfs.org.apache.hadoop.fs.azurebfs.services.AbfsInputStream.readOneBlock(AbfsInputStream.java:423)\n\tat shaded.databricks.azurebfs.org.apache.hadoop.fs.azurebfs.services.AbfsInputStream.read(AbfsInputStream.java:360)\n\tat java.base/java.io.DataInputStream.read(DataInputStream.java:151)\n\tat com.databricks.common.filesystem.LokiAbfsInputStream.$anonfun$read$3(LokiABFS.scala:224)\n\tat scala.runtime.java8.JFunction0$mcI$sp.apply(JFunction0$mcI$sp.java:23)\n\tat com.databricks.common.filesystem.LokiAbfsInputStream.withExceptionRewrites(LokiABFS.scala:214)\n\t... 71 more\nCaused by: Operation failed: \"The condition specified using HTTP conditional header(s) is not met.\", 412, GET, https://tenonadls.dfs.core.windows.net/tenon/bronze/Patient_records.csv?timeout=90, ConditionNotMet, , \"The condition specified using HTTP conditional header(s) is not met. RequestId:bc5cbaec-301f-002e-6c91-a01910000000 Time:2025-03-29T10:04:38.3092433Z\"\n\tat shaded.databricks.azurebfs.org.apache.hadoop.fs.azurebfs.services.AbfsRestOperation.completeExecute(AbfsRestOperation.java:324)\n\tat shaded.databricks.azurebfs.org.apache.hadoop.fs.azurebfs.services.AbfsRestOperation.lambda$execute$0(AbfsRestOperation.java:270)\n\tat org.apache.hadoop.fs.statistics.impl.IOStatisticsBinding.measureDurationOfInvocation(IOStatisticsBinding.java:494)\n\tat org.apache.hadoop.fs.statistics.impl.IOStatisticsBinding.trackDurationOfInvocation(IOStatisticsBinding.java:465)\n\tat shaded.databricks.azurebfs.org.apache.hadoop.fs.azurebfs.services.AbfsRestOperation.execute(AbfsRestOperation.java:268)\n\tat shaded.databricks.azurebfs.org.apache.hadoop.fs.azurebfs.services.AbfsClient.read(AbfsClient.java:1174)\n\tat shaded.databricks.azurebfs.org.apache.hadoop.fs.azurebfs.services.AbfsInputStream.readRemote(AbfsInputStream.java:670)\n\t... 78 more\n"
       },
       "removedWidgets": [],
       "sqlProps": null,
       "stackFrames": [
        "\u001B[0;31m---------------------------------------------------------------------------\u001B[0m",
        "\u001B[0;31mPy4JJavaError\u001B[0m                             Traceback (most recent call last)",
        "File \u001B[0;32m<command-4473617882005753>, line 4\u001B[0m\n\u001B[1;32m      2\u001B[0m pat_df\n\u001B[1;32m      3\u001B[0m pat_hosp_df \u001B[38;5;241m=\u001B[39m pat_df\u001B[38;5;241m.\u001B[39mjoin(hosp_df,[\u001B[38;5;124m'\u001B[39m\u001B[38;5;124mhospital_id\u001B[39m\u001B[38;5;124m'\u001B[39m],\u001B[38;5;124m'\u001B[39m\u001B[38;5;124mleft\u001B[39m\u001B[38;5;124m'\u001B[39m)\n\u001B[0;32m----> 4\u001B[0m pat_hosp_df\u001B[38;5;241m.\u001B[39mshow()\n",
        "File \u001B[0;32m/databricks/spark/python/pyspark/instrumentation_utils.py:47\u001B[0m, in \u001B[0;36m_wrap_function.<locals>.wrapper\u001B[0;34m(*args, **kwargs)\u001B[0m\n\u001B[1;32m     45\u001B[0m start \u001B[38;5;241m=\u001B[39m time\u001B[38;5;241m.\u001B[39mperf_counter()\n\u001B[1;32m     46\u001B[0m \u001B[38;5;28;01mtry\u001B[39;00m:\n\u001B[0;32m---> 47\u001B[0m     res \u001B[38;5;241m=\u001B[39m func(\u001B[38;5;241m*\u001B[39margs, \u001B[38;5;241m*\u001B[39m\u001B[38;5;241m*\u001B[39mkwargs)\n\u001B[1;32m     48\u001B[0m     logger\u001B[38;5;241m.\u001B[39mlog_success(\n\u001B[1;32m     49\u001B[0m         module_name, class_name, function_name, time\u001B[38;5;241m.\u001B[39mperf_counter() \u001B[38;5;241m-\u001B[39m start, signature\n\u001B[1;32m     50\u001B[0m     )\n\u001B[1;32m     51\u001B[0m     \u001B[38;5;28;01mreturn\u001B[39;00m res\n",
        "File \u001B[0;32m/databricks/spark/python/pyspark/sql/dataframe.py:1063\u001B[0m, in \u001B[0;36mDataFrame.show\u001B[0;34m(self, n, truncate, vertical)\u001B[0m\n\u001B[1;32m    974\u001B[0m \u001B[38;5;28;01mdef\u001B[39;00m \u001B[38;5;21mshow\u001B[39m(\u001B[38;5;28mself\u001B[39m, n: \u001B[38;5;28mint\u001B[39m \u001B[38;5;241m=\u001B[39m \u001B[38;5;241m20\u001B[39m, truncate: Union[\u001B[38;5;28mbool\u001B[39m, \u001B[38;5;28mint\u001B[39m] \u001B[38;5;241m=\u001B[39m \u001B[38;5;28;01mTrue\u001B[39;00m, vertical: \u001B[38;5;28mbool\u001B[39m \u001B[38;5;241m=\u001B[39m \u001B[38;5;28;01mFalse\u001B[39;00m) \u001B[38;5;241m-\u001B[39m\u001B[38;5;241m>\u001B[39m \u001B[38;5;28;01mNone\u001B[39;00m:\n\u001B[1;32m    975\u001B[0m \u001B[38;5;250m    \u001B[39m\u001B[38;5;124;03m\"\"\"\u001B[39;00m\n\u001B[1;32m    976\u001B[0m \u001B[38;5;124;03m    Prints the first ``n`` rows of the DataFrame to the console.\u001B[39;00m\n\u001B[1;32m    977\u001B[0m \n\u001B[0;32m   (...)\u001B[0m\n\u001B[1;32m   1061\u001B[0m \u001B[38;5;124;03m    name | This is a super l...\u001B[39;00m\n\u001B[1;32m   1062\u001B[0m \u001B[38;5;124;03m    \"\"\"\u001B[39;00m\n\u001B[0;32m-> 1063\u001B[0m     \u001B[38;5;28mprint\u001B[39m(\u001B[38;5;28mself\u001B[39m\u001B[38;5;241m.\u001B[39m_show_string(n, truncate, vertical))\n",
        "File \u001B[0;32m/databricks/spark/python/pyspark/sql/dataframe.py:1081\u001B[0m, in \u001B[0;36mDataFrame._show_string\u001B[0;34m(self, n, truncate, vertical)\u001B[0m\n\u001B[1;32m   1075\u001B[0m     \u001B[38;5;28;01mraise\u001B[39;00m PySparkTypeError(\n\u001B[1;32m   1076\u001B[0m         errorClass\u001B[38;5;241m=\u001B[39m\u001B[38;5;124m\"\u001B[39m\u001B[38;5;124mNOT_BOOL\u001B[39m\u001B[38;5;124m\"\u001B[39m,\n\u001B[1;32m   1077\u001B[0m         messageParameters\u001B[38;5;241m=\u001B[39m{\u001B[38;5;124m\"\u001B[39m\u001B[38;5;124marg_name\u001B[39m\u001B[38;5;124m\"\u001B[39m: \u001B[38;5;124m\"\u001B[39m\u001B[38;5;124mvertical\u001B[39m\u001B[38;5;124m\"\u001B[39m, \u001B[38;5;124m\"\u001B[39m\u001B[38;5;124marg_type\u001B[39m\u001B[38;5;124m\"\u001B[39m: \u001B[38;5;28mtype\u001B[39m(vertical)\u001B[38;5;241m.\u001B[39m\u001B[38;5;18m__name__\u001B[39m},\n\u001B[1;32m   1078\u001B[0m     )\n\u001B[1;32m   1080\u001B[0m \u001B[38;5;28;01mif\u001B[39;00m \u001B[38;5;28misinstance\u001B[39m(truncate, \u001B[38;5;28mbool\u001B[39m) \u001B[38;5;129;01mand\u001B[39;00m truncate:\n\u001B[0;32m-> 1081\u001B[0m     \u001B[38;5;28;01mreturn\u001B[39;00m \u001B[38;5;28mself\u001B[39m\u001B[38;5;241m.\u001B[39m_jdf\u001B[38;5;241m.\u001B[39mshowString(n, \u001B[38;5;241m20\u001B[39m, vertical)\n\u001B[1;32m   1082\u001B[0m \u001B[38;5;28;01melse\u001B[39;00m:\n\u001B[1;32m   1083\u001B[0m     \u001B[38;5;28;01mtry\u001B[39;00m:\n",
        "File \u001B[0;32m/databricks/spark/python/lib/py4j-0.10.9.7-src.zip/py4j/java_gateway.py:1355\u001B[0m, in \u001B[0;36mJavaMember.__call__\u001B[0;34m(self, *args)\u001B[0m\n\u001B[1;32m   1349\u001B[0m command \u001B[38;5;241m=\u001B[39m proto\u001B[38;5;241m.\u001B[39mCALL_COMMAND_NAME \u001B[38;5;241m+\u001B[39m\\\n\u001B[1;32m   1350\u001B[0m     \u001B[38;5;28mself\u001B[39m\u001B[38;5;241m.\u001B[39mcommand_header \u001B[38;5;241m+\u001B[39m\\\n\u001B[1;32m   1351\u001B[0m     args_command \u001B[38;5;241m+\u001B[39m\\\n\u001B[1;32m   1352\u001B[0m     proto\u001B[38;5;241m.\u001B[39mEND_COMMAND_PART\n\u001B[1;32m   1354\u001B[0m answer \u001B[38;5;241m=\u001B[39m \u001B[38;5;28mself\u001B[39m\u001B[38;5;241m.\u001B[39mgateway_client\u001B[38;5;241m.\u001B[39msend_command(command)\n\u001B[0;32m-> 1355\u001B[0m return_value \u001B[38;5;241m=\u001B[39m get_return_value(\n\u001B[1;32m   1356\u001B[0m     answer, \u001B[38;5;28mself\u001B[39m\u001B[38;5;241m.\u001B[39mgateway_client, \u001B[38;5;28mself\u001B[39m\u001B[38;5;241m.\u001B[39mtarget_id, \u001B[38;5;28mself\u001B[39m\u001B[38;5;241m.\u001B[39mname)\n\u001B[1;32m   1358\u001B[0m \u001B[38;5;28;01mfor\u001B[39;00m temp_arg \u001B[38;5;129;01min\u001B[39;00m temp_args:\n\u001B[1;32m   1359\u001B[0m     \u001B[38;5;28;01mif\u001B[39;00m \u001B[38;5;28mhasattr\u001B[39m(temp_arg, \u001B[38;5;124m\"\u001B[39m\u001B[38;5;124m_detach\u001B[39m\u001B[38;5;124m\"\u001B[39m):\n",
        "File \u001B[0;32m/databricks/spark/python/pyspark/errors/exceptions/captured.py:263\u001B[0m, in \u001B[0;36mcapture_sql_exception.<locals>.deco\u001B[0;34m(*a, **kw)\u001B[0m\n\u001B[1;32m    260\u001B[0m \u001B[38;5;28;01mfrom\u001B[39;00m \u001B[38;5;21;01mpy4j\u001B[39;00m\u001B[38;5;21;01m.\u001B[39;00m\u001B[38;5;21;01mprotocol\u001B[39;00m \u001B[38;5;28;01mimport\u001B[39;00m Py4JJavaError\n\u001B[1;32m    262\u001B[0m \u001B[38;5;28;01mtry\u001B[39;00m:\n\u001B[0;32m--> 263\u001B[0m     \u001B[38;5;28;01mreturn\u001B[39;00m f(\u001B[38;5;241m*\u001B[39ma, \u001B[38;5;241m*\u001B[39m\u001B[38;5;241m*\u001B[39mkw)\n\u001B[1;32m    264\u001B[0m \u001B[38;5;28;01mexcept\u001B[39;00m Py4JJavaError \u001B[38;5;28;01mas\u001B[39;00m e:\n\u001B[1;32m    265\u001B[0m     converted \u001B[38;5;241m=\u001B[39m convert_exception(e\u001B[38;5;241m.\u001B[39mjava_exception)\n",
        "File \u001B[0;32m/databricks/spark/python/lib/py4j-0.10.9.7-src.zip/py4j/protocol.py:326\u001B[0m, in \u001B[0;36mget_return_value\u001B[0;34m(answer, gateway_client, target_id, name)\u001B[0m\n\u001B[1;32m    324\u001B[0m value \u001B[38;5;241m=\u001B[39m OUTPUT_CONVERTER[\u001B[38;5;28mtype\u001B[39m](answer[\u001B[38;5;241m2\u001B[39m:], gateway_client)\n\u001B[1;32m    325\u001B[0m \u001B[38;5;28;01mif\u001B[39;00m answer[\u001B[38;5;241m1\u001B[39m] \u001B[38;5;241m==\u001B[39m REFERENCE_TYPE:\n\u001B[0;32m--> 326\u001B[0m     \u001B[38;5;28;01mraise\u001B[39;00m Py4JJavaError(\n\u001B[1;32m    327\u001B[0m         \u001B[38;5;124m\"\u001B[39m\u001B[38;5;124mAn error occurred while calling \u001B[39m\u001B[38;5;132;01m{0}\u001B[39;00m\u001B[38;5;132;01m{1}\u001B[39;00m\u001B[38;5;132;01m{2}\u001B[39;00m\u001B[38;5;124m.\u001B[39m\u001B[38;5;130;01m\\n\u001B[39;00m\u001B[38;5;124m\"\u001B[39m\u001B[38;5;241m.\u001B[39m\n\u001B[1;32m    328\u001B[0m         \u001B[38;5;28mformat\u001B[39m(target_id, \u001B[38;5;124m\"\u001B[39m\u001B[38;5;124m.\u001B[39m\u001B[38;5;124m\"\u001B[39m, name), value)\n\u001B[1;32m    329\u001B[0m \u001B[38;5;28;01melse\u001B[39;00m:\n\u001B[1;32m    330\u001B[0m     \u001B[38;5;28;01mraise\u001B[39;00m Py4JError(\n\u001B[1;32m    331\u001B[0m         \u001B[38;5;124m\"\u001B[39m\u001B[38;5;124mAn error occurred while calling \u001B[39m\u001B[38;5;132;01m{0}\u001B[39;00m\u001B[38;5;132;01m{1}\u001B[39;00m\u001B[38;5;132;01m{2}\u001B[39;00m\u001B[38;5;124m. Trace:\u001B[39m\u001B[38;5;130;01m\\n\u001B[39;00m\u001B[38;5;132;01m{3}\u001B[39;00m\u001B[38;5;130;01m\\n\u001B[39;00m\u001B[38;5;124m\"\u001B[39m\u001B[38;5;241m.\u001B[39m\n\u001B[1;32m    332\u001B[0m         \u001B[38;5;28mformat\u001B[39m(target_id, \u001B[38;5;124m\"\u001B[39m\u001B[38;5;124m.\u001B[39m\u001B[38;5;124m\"\u001B[39m, name, value))\n",
        "\u001B[0;31mPy4JJavaError\u001B[0m: An error occurred while calling o3426.showString.\n: org.apache.spark.SparkException: [FAILED_READ_FILE.NO_HINT] Error while reading file abfss:REDACTED_LOCAL_PART@tenonadls.dfs.core.windows.net/bronze/Patient_records.csv.  SQLSTATE: KD001\n\tat org.apache.spark.sql.errors.QueryExecutionErrors$.cannotReadFilesError(QueryExecutionErrors.scala:1134)\n\tat org.apache.spark.sql.execution.datasources.FileScanRDD$$anon$1$$anon$2.logErrorFileNameAndThrow(FileScanRDD.scala:861)\n\tat org.apache.spark.sql.execution.datasources.FileScanRDD$$anon$1$$anon$2.getNext(FileScanRDD.scala:816)\n\tat org.apache.spark.util.NextIterator.hasNext(NextIterator.scala:73)\n\tat org.apache.spark.sql.execution.datasources.FileScanRDD$$anon$1.nextIterator(FileScanRDD.scala:978)\n\tat org.apache.spark.sql.execution.datasources.FileScanRDD$$anon$1.$anonfun$hasNext$1(FileScanRDD.scala:638)\n\tat scala.runtime.java8.JFunction0$mcZ$sp.apply(JFunction0$mcZ$sp.java:23)\n\tat com.databricks.spark.util.ExecutorFrameProfiler$.record(ExecutorFrameProfiler.scala:110)\n\tat org.apache.spark.sql.execution.datasources.FileScanRDD$$anon$1.hasNext(FileScanRDD.scala:628)\n\tat scala.collection.Iterator$$anon$10.hasNext(Iterator.scala:460)\n\tat org.apache.spark.sql.catalyst.expressions.GeneratedClass$GeneratedIteratorForCodegenStage2.processNext(Unknown Source)\n\tat org.apache.spark.sql.execution.BufferedRowIterator.hasNext(BufferedRowIterator.java:43)\n\tat org.apache.spark.sql.execution.WholeStageCodegenEvaluatorFactory$WholeStageCodegenPartitionEvaluator$$anon$1.hasNext(WholeStageCodegenEvaluatorFactory.scala:50)\n\tat org.apache.spark.sql.execution.collect.UnsafeRowBatchUtils$.$anonfun$encodeUnsafeRows$5(UnsafeRowBatchUtils.scala:88)\n\tat scala.runtime.java8.JFunction0$mcV$sp.apply(JFunction0$mcV$sp.java:23)\n\tat com.databricks.spark.util.ExecutorFrameProfiler$.record(ExecutorFrameProfiler.scala:110)\n\tat org.apache.spark.sql.execution.collect.UnsafeRowBatchUtils$.$anonfun$encodeUnsafeRows$3(UnsafeRowBatchUtils.scala:88)\n\tat scala.runtime.java8.JFunction0$mcV$sp.apply(JFunction0$mcV$sp.java:23)\n\tat com.databricks.spark.util.ExecutorFrameProfiler$.record(ExecutorFrameProfiler.scala:110)\n\tat org.apache.spark.sql.execution.collect.UnsafeRowBatchUtils$.$anonfun$encodeUnsafeRows$1(UnsafeRowBatchUtils.scala:68)\n\tat com.databricks.spark.util.ExecutorFrameProfiler$.record(ExecutorFrameProfiler.scala:110)\n\tat org.apache.spark.sql.execution.collect.UnsafeRowBatchUtils$.encodeUnsafeRows(UnsafeRowBatchUtils.scala:62)\n\tat org.apache.spark.sql.execution.collect.Collector.$anonfun$processFunc$2(Collector.scala:207)\n\tat org.apache.spark.scheduler.ResultTask.$anonfun$runTask$2(ResultTask.scala:76)\n\tat com.databricks.spark.util.ExecutorFrameProfiler$.record(ExecutorFrameProfiler.scala:110)\n\tat org.apache.spark.scheduler.ResultTask.$anonfun$runTask$1(ResultTask.scala:76)\n\tat com.databricks.spark.util.ExecutorFrameProfiler$.record(ExecutorFrameProfiler.scala:110)\n\tat org.apache.spark.scheduler.ResultTask.runTask(ResultTask.scala:62)\n\tat org.apache.spark.TaskContext.runTaskWithListeners(TaskContext.scala:227)\n\tat org.apache.spark.scheduler.Task.doRunTask(Task.scala:204)\n\tat org.apache.spark.scheduler.Task.$anonfun$run$5(Task.scala:166)\n\tat com.databricks.unity.UCSEphemeralState$Handle.runWith(UCSEphemeralState.scala:51)\n\tat com.databricks.unity.HandleImpl.runWith(UCSHandle.scala:104)\n\tat com.databricks.unity.HandleImpl.$anonfun$runWithAndClose$1(UCSHandle.scala:109)\n\tat scala.util.Using$.resource(Using.scala:269)\n\tat com.databricks.unity.HandleImpl.runWithAndClose(UCSHandle.scala:108)\n\tat org.apache.spark.scheduler.Task.$anonfun$run$1(Task.scala:160)\n\tat com.databricks.spark.util.ExecutorFrameProfiler$.record(ExecutorFrameProfiler.scala:110)\n\tat org.apache.spark.scheduler.Task.run(Task.scala:105)\n\tat org.apache.spark.executor.Executor$TaskRunner.$anonfun$run$12(Executor.scala:1224)\n\tat org.apache.spark.util.SparkErrorUtils.tryWithSafeFinally(SparkErrorUtils.scala:80)\n\tat org.apache.spark.util.SparkErrorUtils.tryWithSafeFinally$(SparkErrorUtils.scala:77)\n\tat org.apache.spark.util.Utils$.tryWithSafeFinally(Utils.scala:111)\n\tat org.apache.spark.executor.Executor$TaskRunner.$anonfun$run$3(Executor.scala:1228)\n\tat scala.runtime.java8.JFunction0$mcV$sp.apply(JFunction0$mcV$sp.java:23)\n\tat com.databricks.spark.util.ExecutorFrameProfiler$.record(ExecutorFrameProfiler.scala:110)\n\tat org.apache.spark.executor.Executor$TaskRunner.run(Executor.scala:1076)\n\tat java.base/java.util.concurrent.ThreadPoolExecutor.runWorker(ThreadPoolExecutor.java:1136)\n\tat java.base/java.util.concurrent.ThreadPoolExecutor$Worker.run(ThreadPoolExecutor.java:635)\n\tat java.base/java.lang.Thread.run(Thread.java:840)\n\tat org.apache.spark.scheduler.DAGScheduler.$anonfun$runJob$1(DAGScheduler.scala:1486)\n\tat scala.runtime.java8.JFunction0$mcV$sp.apply(JFunction0$mcV$sp.java:23)\n\tat com.databricks.spark.util.FrameProfiler$.record(FrameProfiler.scala:94)\n\tat org.apache.spark.scheduler.DAGScheduler.runJob(DAGScheduler.scala:1472)\n\tat org.apache.spark.SparkContext.runJobInternal(SparkContext.scala:3218)\n\tat org.apache.spark.sql.execution.collect.Collector.$anonfun$runSparkJobs$1(Collector.scala:348)\n\tat scala.runtime.java8.JFunction0$mcV$sp.apply(JFunction0$mcV$sp.java:23)\n\tat com.databricks.spark.util.FrameProfiler$.record(FrameProfiler.scala:94)\n\tat org.apache.spark.sql.execution.collect.Collector.runSparkJobs(Collector.scala:292)\n\tat org.apache.spark.sql.execution.collect.Collector.$anonfun$collect$1(Collector.scala:377)\n\tat com.databricks.spark.util.FrameProfiler$.record(FrameProfiler.scala:94)\n\tat org.apache.spark.sql.execution.collect.Collector.collect(Collector.scala:374)\n\tat org.apache.spark.sql.execution.collect.Collector$.collect(Collector.scala:116)\n\tat org.apache.spark.sql.execution.collect.Collector$.collect(Collector.scala:124)\n\tat org.apache.spark.sql.execution.qrc.InternalRowFormat$.collect(cachedSparkResults.scala:94)\n\tat org.apache.spark.sql.execution.qrc.InternalRowFormat$.collect(cachedSparkResults.scala:90)\n\tat org.apache.spark.sql.execution.qrc.InternalRowFormat$.collect(cachedSparkResults.scala:78)\n\tat org.apache.spark.sql.execution.qrc.ResultCacheManager.$anonfun$computeResult$1(ResultCacheManager.scala:585)\n\tat com.databricks.spark.util.FrameProfiler$.record(FrameProfiler.scala:94)\n\tat org.apache.spark.sql.execution.qrc.ResultCacheManager.collectResult$1(ResultCacheManager.scala:579)\n\tat org.apache.spark.sql.execution.qrc.ResultCacheManager.$anonfun$computeResult$2(ResultCacheManager.scala:594)\n\tat org.apache.spark.sql.execution.adaptive.ResultQueryStageExec.$anonfun$doMaterialize$1(QueryStageExec.scala:677)\n\tat org.apache.spark.sql.SparkSession.withActive(SparkSession.scala:1426)\n\tat org.apache.spark.sql.execution.SQLExecution$.$anonfun$withThreadLocalCaptured$7(SQLExecution.scala:835)\n\tat com.databricks.util.LexicalThreadLocal$Handle.runWith(LexicalThreadLocal.scala:63)\n\tat org.apache.spark.sql.execution.SQLExecution$.$anonfun$withThreadLocalCaptured$6(SQLExecution.scala:835)\n\tat com.databricks.util.LexicalThreadLocal$Handle.runWith(LexicalThreadLocal.scala:63)\n\tat org.apache.spark.sql.execution.SQLExecution$.$anonfun$withThreadLocalCaptured$5(SQLExecution.scala:835)\n\tat scala.util.DynamicVariable.withValue(DynamicVariable.scala:62)\n\tat org.apache.spark.sql.execution.SQLExecution$.$anonfun$withThreadLocalCaptured$4(SQLExecution.scala:834)\n\tat scala.util.DynamicVariable.withValue(DynamicVariable.scala:62)\n\tat org.apache.spark.sql.execution.SQLExecution$.$anonfun$withThreadLocalCaptured$3(SQLExecution.scala:833)\n\tat com.databricks.sql.transaction.tahoe.ConcurrencyHelpers$.withOptimisticTransaction(ConcurrencyHelpers.scala:57)\n\tat org.apache.spark.sql.execution.SQLExecution$.$anonfun$withThreadLocalCaptured$2(SQLExecution.scala:832)\n\tat org.apache.spark.JobArtifactSet$.withActiveJobArtifactState(JobArtifactSet.scala:97)\n\tat org.apache.spark.sql.execution.SQLExecution$.$anonfun$withThreadLocalCaptured$1(SQLExecution.scala:816)\n\tat java.base/java.util.concurrent.CompletableFuture$AsyncSupply.run(CompletableFuture.java:1768)\n\tat org.apache.spark.util.threads.SparkThreadLocalCapturingRunnable.$anonfun$run$1(SparkThreadLocalForwardingThreadPoolExecutor.scala:157)\n\tat scala.runtime.java8.JFunction0$mcV$sp.apply(JFunction0$mcV$sp.java:23)\n\tat com.databricks.spark.util.IdentityClaim$.withClaim(IdentityClaim.scala:48)\n\tat org.apache.spark.util.threads.SparkThreadLocalCapturingHelper.$anonfun$runWithCaptured$4(SparkThreadLocalForwardingThreadPoolExecutor.scala:113)\n\tat com.databricks.unity.UCSEphemeralState$Handle.runWith(UCSEphemeralState.scala:51)\n\tat org.apache.spark.util.threads.SparkThreadLocalCapturingHelper.runWithCaptured(SparkThreadLocalForwardingThreadPoolExecutor.scala:112)\n\tat org.apache.spark.util.threads.SparkThreadLocalCapturingHelper.runWithCaptured$(SparkThreadLocalForwardingThreadPoolExecutor.scala:89)\n\tat org.apache.spark.util.threads.SparkThreadLocalCapturingRunnable.runWithCaptured(SparkThreadLocalForwardingThreadPoolExecutor.scala:154)\n\tat org.apache.spark.util.threads.SparkThreadLocalCapturingRunnable.run(SparkThreadLocalForwardingThreadPoolExecutor.scala:157)\n\tat java.base/java.util.concurrent.ThreadPoolExecutor.runWorker(ThreadPoolExecutor.java:1136)\n\tat java.base/java.util.concurrent.ThreadPoolExecutor$Worker.run(ThreadPoolExecutor.java:635)\n\tat java.base/java.lang.Thread.run(Thread.java:840)\nCaused by: com.databricks.common.filesystem.InconsistentReadException: The file might have been updated during query execution. Ensure that no pipeline updates existing files during query execution and try again.\n\tat com.databricks.common.filesystem.LokiAbfsInputStream.withExceptionRewrites(LokiABFS.scala:217)\n\tat com.databricks.common.filesystem.LokiAbfsInputStream.read(LokiABFS.scala:224)\n\tat java.base/java.io.DataInputStream.read(DataInputStream.java:151)\n\tat com.databricks.spark.metrics.FSInputStreamWithMetrics.$anonfun$read$3(FileSystemWithMetrics.scala:90)\n\tat com.databricks.spark.metrics.FSInputStreamWithMetrics.withTimeAndBytesReadMetric(FileSystemWithMetrics.scala:67)\n\tat com.databricks.spark.metrics.FSInputStreamWithMetrics.read(FileSystemWithMetrics.scala:90)\n\tat java.base/java.io.DataInputStream.read(DataInputStream.java:151)\n\tat org.apache.hadoop.mapreduce.lib.input.UncompressedSplitLineReader.fillBuffer(UncompressedSplitLineReader.java:62)\n\tat org.apache.hadoop.util.LineReader.readDefaultLine(LineReader.java:227)\n\tat org.apache.hadoop.util.LineReader.readLine(LineReader.java:185)\n\tat org.apache.hadoop.mapreduce.lib.input.UncompressedSplitLineReader.readLine(UncompressedSplitLineReader.java:94)\n\tat org.apache.hadoop.mapreduce.lib.input.LineRecordReader.skipUtfByteOrderMark(LineRecordReader.java:166)\n\tat org.apache.hadoop.mapreduce.lib.input.LineRecordReader.nextKeyValue(LineRecordReader.java:206)\n\tat org.apache.spark.sql.execution.datasources.RecordReaderIterator.hasNext(RecordReaderIterator.scala:41)\n\tat org.apache.spark.sql.execution.datasources.HadoopFileLinesReader.hasNext(HadoopFileLinesReader.scala:71)\n\tat scala.collection.Iterator$$anon$10.hasNext(Iterator.scala:460)\n\tat scala.collection.Iterator$$anon$17.hasNext(Iterator.scala:814)\n\tat org.apache.spark.sql.catalyst.csv.CSVExprUtils$.extractHeader(CSVExprUtils.scala:56)\n\tat org.apache.spark.sql.catalyst.csv.CSVHeaderChecker.checkHeaderColumnNames(CSVHeaderChecker.scala:160)\n\tat org.apache.spark.sql.catalyst.csv.UnivocityParser$.parseIterator(UnivocityParser.scala:525)\n\tat org.apache.spark.sql.execution.datasources.csv.TextInputCSVDataSource.readFile(CSVDataSource.scala:142)\n\tat org.apache.spark.sql.execution.datasources.csv.CSVFileFormat.$anonfun$buildReader$4(CSVFileFormat.scala:207)\n\tat org.apache.spark.sql.execution.datasources.FileFormat$$anon$1.apply(FileFormat.scala:182)\n\tat org.apache.spark.sql.execution.datasources.FileFormat$$anon$1.apply(FileFormat.scala:160)\n\tat org.apache.spark.sql.execution.datasources.FileScanRDD$$anon$1$$anon$2.getNext(FileScanRDD.scala:732)\n\tat org.apache.spark.util.NextIterator.hasNext(NextIterator.scala:73)\n\tat org.apache.spark.sql.execution.datasources.FileScanRDD$$anon$1.nextIterator(FileScanRDD.scala:978)\n\tat org.apache.spark.sql.execution.datasources.FileScanRDD$$anon$1.$anonfun$hasNext$1(FileScanRDD.scala:638)\n\tat scala.runtime.java8.JFunction0$mcZ$sp.apply(JFunction0$mcZ$sp.java:23)\n\tat com.databricks.spark.util.ExecutorFrameProfiler$.record(ExecutorFrameProfiler.scala:110)\n\tat org.apache.spark.sql.execution.datasources.FileScanRDD$$anon$1.hasNext(FileScanRDD.scala:628)\n\tat scala.collection.Iterator$$anon$10.hasNext(Iterator.scala:460)\n\tat org.apache.spark.sql.catalyst.expressions.GeneratedClass$GeneratedIteratorForCodegenStage2.processNext(Unknown Source)\n\tat org.apache.spark.sql.execution.BufferedRowIterator.hasNext(BufferedRowIterator.java:43)\n\tat org.apache.spark.sql.execution.WholeStageCodegenEvaluatorFactory$WholeStageCodegenPartitionEvaluator$$anon$1.hasNext(WholeStageCodegenEvaluatorFactory.scala:50)\n\tat org.apache.spark.sql.execution.collect.UnsafeRowBatchUtils$.$anonfun$encodeUnsafeRows$5(UnsafeRowBatchUtils.scala:88)\n\tat scala.runtime.java8.JFunction0$mcV$sp.apply(JFunction0$mcV$sp.java:23)\n\tat com.databricks.spark.util.ExecutorFrameProfiler$.record(ExecutorFrameProfiler.scala:110)\n\tat org.apache.spark.sql.execution.collect.UnsafeRowBatchUtils$.$anonfun$encodeUnsafeRows$3(UnsafeRowBatchUtils.scala:88)\n\tat scala.runtime.java8.JFunction0$mcV$sp.apply(JFunction0$mcV$sp.java:23)\n\tat com.databricks.spark.util.ExecutorFrameProfiler$.record(ExecutorFrameProfiler.scala:110)\n\tat org.apache.spark.sql.execution.collect.UnsafeRowBatchUtils$.$anonfun$encodeUnsafeRows$1(UnsafeRowBatchUtils.scala:68)\n\tat com.databricks.spark.util.ExecutorFrameProfiler$.record(ExecutorFrameProfiler.scala:110)\n\tat org.apache.spark.sql.execution.collect.UnsafeRowBatchUtils$.encodeUnsafeRows(UnsafeRowBatchUtils.scala:62)\n\tat org.apache.spark.sql.execution.collect.Collector.$anonfun$processFunc$2(Collector.scala:207)\n\tat org.apache.spark.scheduler.ResultTask.$anonfun$runTask$2(ResultTask.scala:76)\n\tat com.databricks.spark.util.ExecutorFrameProfiler$.record(ExecutorFrameProfiler.scala:110)\n\tat org.apache.spark.scheduler.ResultTask.$anonfun$runTask$1(ResultTask.scala:76)\n\tat com.databricks.spark.util.ExecutorFrameProfiler$.record(ExecutorFrameProfiler.scala:110)\n\tat org.apache.spark.scheduler.ResultTask.runTask(ResultTask.scala:62)\n\tat org.apache.spark.TaskContext.runTaskWithListeners(TaskContext.scala:227)\n\tat org.apache.spark.scheduler.Task.doRunTask(Task.scala:204)\n\tat org.apache.spark.scheduler.Task.$anonfun$run$5(Task.scala:166)\n\tat com.databricks.unity.UCSEphemeralState$Handle.runWith(UCSEphemeralState.scala:51)\n\tat com.databricks.unity.HandleImpl.runWith(UCSHandle.scala:104)\n\tat com.databricks.unity.HandleImpl.$anonfun$runWithAndClose$1(UCSHandle.scala:109)\n\tat scala.util.Using$.resource(Using.scala:269)\n\tat com.databricks.unity.HandleImpl.runWithAndClose(UCSHandle.scala:108)\n\tat org.apache.spark.scheduler.Task.$anonfun$run$1(Task.scala:160)\n\tat com.databricks.spark.util.ExecutorFrameProfiler$.record(ExecutorFrameProfiler.scala:110)\n\tat org.apache.spark.scheduler.Task.run(Task.scala:105)\n\tat org.apache.spark.executor.Executor$TaskRunner.$anonfun$run$12(Executor.scala:1224)\n\tat org.apache.spark.util.SparkErrorUtils.tryWithSafeFinally(SparkErrorUtils.scala:80)\n\tat org.apache.spark.util.SparkErrorUtils.tryWithSafeFinally$(SparkErrorUtils.scala:77)\n\tat org.apache.spark.util.Utils$.tryWithSafeFinally(Utils.scala:111)\n\tat org.apache.spark.executor.Executor$TaskRunner.$anonfun$run$3(Executor.scala:1228)\n\tat scala.runtime.java8.JFunction0$mcV$sp.apply(JFunction0$mcV$sp.java:23)\n\tat com.databricks.spark.util.ExecutorFrameProfiler$.record(ExecutorFrameProfiler.scala:110)\n\tat org.apache.spark.executor.Executor$TaskRunner.run(Executor.scala:1076)\n\t... 3 more\nCaused by: java.io.IOException: Operation failed: \"The condition specified using HTTP conditional header(s) is not met.\", 412, GET, https://tenonadls.dfs.core.windows.net/tenon/bronze/Patient_records.csv?timeout=90, ConditionNotMet, , \"The condition specified using HTTP conditional header(s) is not met. RequestId:bc5cbaec-301f-002e-6c91-a01910000000 Time:2025-03-29T10:04:38.3092433Z\"\n\tat shaded.databricks.azurebfs.org.apache.hadoop.fs.azurebfs.services.AbfsInputStream.readRemote(AbfsInputStream.java:687)\n\tat shaded.databricks.azurebfs.org.apache.hadoop.fs.azurebfs.services.AbfsInputStream.readInternal(AbfsInputStream.java:633)\n\tat shaded.databricks.azurebfs.org.apache.hadoop.fs.azurebfs.services.AbfsInputStream.readOneBlock(AbfsInputStream.java:423)\n\tat shaded.databricks.azurebfs.org.apache.hadoop.fs.azurebfs.services.AbfsInputStream.read(AbfsInputStream.java:360)\n\tat java.base/java.io.DataInputStream.read(DataInputStream.java:151)\n\tat com.databricks.common.filesystem.LokiAbfsInputStream.$anonfun$read$3(LokiABFS.scala:224)\n\tat scala.runtime.java8.JFunction0$mcI$sp.apply(JFunction0$mcI$sp.java:23)\n\tat com.databricks.common.filesystem.LokiAbfsInputStream.withExceptionRewrites(LokiABFS.scala:214)\n\t... 71 more\nCaused by: Operation failed: \"The condition specified using HTTP conditional header(s) is not met.\", 412, GET, https://tenonadls.dfs.core.windows.net/tenon/bronze/Patient_records.csv?timeout=90, ConditionNotMet, , \"The condition specified using HTTP conditional header(s) is not met. RequestId:bc5cbaec-301f-002e-6c91-a01910000000 Time:2025-03-29T10:04:38.3092433Z\"\n\tat shaded.databricks.azurebfs.org.apache.hadoop.fs.azurebfs.services.AbfsRestOperation.completeExecute(AbfsRestOperation.java:324)\n\tat shaded.databricks.azurebfs.org.apache.hadoop.fs.azurebfs.services.AbfsRestOperation.lambda$execute$0(AbfsRestOperation.java:270)\n\tat org.apache.hadoop.fs.statistics.impl.IOStatisticsBinding.measureDurationOfInvocation(IOStatisticsBinding.java:494)\n\tat org.apache.hadoop.fs.statistics.impl.IOStatisticsBinding.trackDurationOfInvocation(IOStatisticsBinding.java:465)\n\tat shaded.databricks.azurebfs.org.apache.hadoop.fs.azurebfs.services.AbfsRestOperation.execute(AbfsRestOperation.java:268)\n\tat shaded.databricks.azurebfs.org.apache.hadoop.fs.azurebfs.services.AbfsClient.read(AbfsClient.java:1174)\n\tat shaded.databricks.azurebfs.org.apache.hadoop.fs.azurebfs.services.AbfsInputStream.readRemote(AbfsInputStream.java:670)\n\t... 78 more\n"
       ],
       "type": "baseError"
      }
     },
     "output_type": "display_data"
    }
   ],
   "source": [
    "hosp_df\n",
    "pat_df\n",
    "pat_hosp_df = pat_df.join(hosp_df,['hospital_id'],'left')\n",
    "pat_hosp_df.show()"
   ]
  },
  {
   "cell_type": "code",
   "execution_count": 0,
   "metadata": {
    "application/vnd.databricks.v1+cell": {
     "cellMetadata": {},
     "inputWidgets": {},
     "nuid": "c78764b2-93b7-4d41-b3f5-16715d97a6e0",
     "showTitle": false,
     "tableResultSettingsMap": {},
     "title": ""
    }
   },
   "outputs": [],
   "source": []
  }
 ],
 "metadata": {
  "application/vnd.databricks.v1+notebook": {
   "computePreferences": null,
   "dashboards": [],
   "environmentMetadata": {
    "base_environment": "",
    "environment_version": "2"
   },
   "inputWidgetPreferences": null,
   "language": "python",
   "notebookMetadata": {
    "pythonIndentUnit": 4
   },
   "notebookName": "tenon-spb-workspace-bronze",
   "widgets": {}
  },
  "language_info": {
   "name": "python"
  }
 },
 "nbformat": 4,
 "nbformat_minor": 0
}